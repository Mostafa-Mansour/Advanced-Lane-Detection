{
 "cells": [
  {
   "cell_type": "code",
   "execution_count": 20,
   "metadata": {
    "collapsed": true
   },
   "outputs": [],
   "source": [
    "import numpy as np\n",
    "import cv2\n",
    "import matplotlib.pyplot as plt\n",
    "\n"
   ]
  },
  {
   "cell_type": "code",
   "execution_count": 21,
   "metadata": {
    "collapsed": true
   },
   "outputs": [],
   "source": [
    "#1. Camera Calibration \n",
    "def calibrateMyCamera(filePath,cornersNum,imgSize):\n",
    "    import glob\n",
    "    calibrationList=[]\n",
    "    objPoints=[]\n",
    "    imgPoints=[]\n",
    "    objp=np.zeros((cornersNum[1]*cornersNum[0],3),np.float32)\n",
    "    objp[:,:2]=np.mgrid[0:cornersNum[0],0:cornersNum[1]].T.reshape(-1,2)\n",
    "    filePath=filePath+'*'\n",
    "    images=glob.glob(filePath)\n",
    "    for item in images:\n",
    "        img=cv2.imread(item)\n",
    "        gray=cv2.cvtColor(img,cv2.COLOR_BGR2GRAY)\n",
    "        \n",
    "        ret, corners=cv2.findChessboardCorners(gray,cornersNum,None)\n",
    "        \n",
    "        if ret==True:\n",
    "            objPoints.append(objp)\n",
    "            imgPoints.append(corners)\n",
    "    global mtx\n",
    "    global dist\n",
    "    ret, mtx, dist, rvecs, tvecs=cv2.calibrateCamera(objPoints,imgPoints,imgSize,None,None)\n",
    "    calibrationList.append(ret)\n",
    "    calibrationList.append(mtx)\n",
    "    calibrationList.append(dist)\n",
    "    calibrationList.append(rvecs)\n",
    "    calibrationList.append(tvecs)\n",
    "    \n",
    "    return calibrationList"
   ]
  },
  {
   "cell_type": "code",
   "execution_count": 22,
   "metadata": {
    "collapsed": true
   },
   "outputs": [],
   "source": [
    "#2. Image undistortion\n",
    "def undistortMyImage(img,mtx,dist):\n",
    "    return cv2.undistort(img,mtx,dist,None,mtx)"
   ]
  },
  {
   "cell_type": "code",
   "execution_count": 23,
   "metadata": {
    "collapsed": true
   },
   "outputs": [],
   "source": [
    "#3. Color Transform and gradient to make a threshold binary image\n",
    "def abs_sobel_thresh(gray_img,orient='x',sobel_kernel=3,thresh=(0,255)):\n",
    "    if orient=='x':\n",
    "        sobel=cv2.Sobel(gray_img,cv2.CV_64F,1,0,ksize=sobel_kernel)\n",
    "    elif orient=='y':\n",
    "        sobel=cv2.Sobel(gray_img,cv2.CV_64F,0,1,ksize=sobel_kernel)\n",
    "    else:\n",
    "        print(\"ERROR\")\n",
    "        return\n",
    "    sobel=abs(sobel)\n",
    "    scale_factor=np.max(sobel)/255\n",
    "    scaled_sobel=np.uint8(sobel/scale_factor)\n",
    "    binary_img=np.zeros_like(scaled_sobel)\n",
    "    binary_img[(scaled_sobel>thresh[0])&(scaled_sobel<thresh[1])]=1\n",
    "    return binary_img\n",
    "\n",
    "def hls_select(img, thresh=(0, 255)):\n",
    "    # 1) Convert to HLS color space\n",
    "    imgHLS=cv2.cvtColor(img,cv2.COLOR_BGR2HLS)\n",
    "    # 2) Apply a threshold to the S channel\n",
    "    gray=imgHLS[:,:,2]\n",
    "    binary_output=np.zeros_like(gray)\n",
    "    # 3) Return a binary image of threshold result\n",
    "    binary_output[(gray>thresh[0]) & (gray<=thresh[1])]=1\n",
    "    #binary_output = np.copy(img) # placeholder line\n",
    "    return binary_output\n",
    "\n",
    "def getBinaryImage(img,g_thresh=(0,255),s_thresh=(0,255)):\n",
    "    gray=cv2.cvtColor(img,cv2.COLOR_BGR2GRAY)\n",
    "    sobel_x=abs_sobel_thresh(gray,orient='x',sobel_kernel=3,thresh=g_thresh)\n",
    "    s_channel=hls_select(img,s_thresh)\n",
    "    #color_combined=np.dstack(np.zeros_like(gray),gray,s_channel)\n",
    "    #plt.imshow(color_combined)\n",
    "    binary=np.zeros_like(gray)\n",
    "    binary[(sobel_x==1)|(s_channel==1)]=1\n",
    "    return binary"
   ]
  },
  {
   "cell_type": "code",
   "execution_count": 5,
   "metadata": {},
   "outputs": [
    {
     "ename": "error",
     "evalue": "/home/travis/miniconda/conda-bld/conda_1486587071158/work/opencv-3.1.0/modules/imgproc/src/color.cpp:7456: error: (-215) scn == 3 || scn == 4 in function ipp_cvtColor\n",
     "output_type": "error",
     "traceback": [
      "\u001b[0;31m---------------------------------------------------------------------------\u001b[0m",
      "\u001b[0;31merror\u001b[0m                                     Traceback (most recent call last)",
      "\u001b[0;32m<ipython-input-5-3ccbed4fc1de>\u001b[0m in \u001b[0;36m<module>\u001b[0;34m()\u001b[0m\n\u001b[1;32m      1\u001b[0m \u001b[0;31m#Gray, s_channel ans binary test\u001b[0m\u001b[0;34m\u001b[0m\u001b[0;34m\u001b[0m\u001b[0m\n\u001b[1;32m      2\u001b[0m \u001b[0mimg\u001b[0m\u001b[0;34m=\u001b[0m\u001b[0mcv2\u001b[0m\u001b[0;34m.\u001b[0m\u001b[0mimread\u001b[0m\u001b[0;34m(\u001b[0m\u001b[0;34m'test4.jpg'\u001b[0m\u001b[0;34m)\u001b[0m\u001b[0;34m\u001b[0m\u001b[0m\n\u001b[0;32m----> 3\u001b[0;31m \u001b[0mgray_img\u001b[0m\u001b[0;34m=\u001b[0m\u001b[0mcv2\u001b[0m\u001b[0;34m.\u001b[0m\u001b[0mcvtColor\u001b[0m\u001b[0;34m(\u001b[0m\u001b[0mimg\u001b[0m\u001b[0;34m,\u001b[0m\u001b[0mcv2\u001b[0m\u001b[0;34m.\u001b[0m\u001b[0mCOLOR_BGR2GRAY\u001b[0m\u001b[0;34m)\u001b[0m\u001b[0;34m\u001b[0m\u001b[0m\n\u001b[0m\u001b[1;32m      4\u001b[0m \u001b[0msobel_x\u001b[0m\u001b[0;34m=\u001b[0m\u001b[0mabs_sobel_thresh\u001b[0m\u001b[0;34m(\u001b[0m\u001b[0mgray_img\u001b[0m\u001b[0;34m,\u001b[0m\u001b[0morient\u001b[0m\u001b[0;34m=\u001b[0m\u001b[0;34m'x'\u001b[0m\u001b[0;34m,\u001b[0m\u001b[0msobel_kernel\u001b[0m\u001b[0;34m=\u001b[0m\u001b[0;36m3\u001b[0m\u001b[0;34m,\u001b[0m\u001b[0mthresh\u001b[0m\u001b[0;34m=\u001b[0m\u001b[0;34m(\u001b[0m\u001b[0;36m50\u001b[0m\u001b[0;34m,\u001b[0m\u001b[0;36m100\u001b[0m\u001b[0;34m)\u001b[0m\u001b[0;34m)\u001b[0m\u001b[0;34m\u001b[0m\u001b[0m\n\u001b[1;32m      5\u001b[0m \u001b[0mplt\u001b[0m\u001b[0;34m.\u001b[0m\u001b[0mimsave\u001b[0m\u001b[0;34m(\u001b[0m\u001b[0;34m'./test_images/soble_x'\u001b[0m\u001b[0;34m,\u001b[0m\u001b[0msobel_x\u001b[0m\u001b[0;34m,\u001b[0m\u001b[0mcmap\u001b[0m\u001b[0;34m=\u001b[0m\u001b[0;34m'gray'\u001b[0m\u001b[0;34m)\u001b[0m\u001b[0;34m\u001b[0m\u001b[0m\n",
      "\u001b[0;31merror\u001b[0m: /home/travis/miniconda/conda-bld/conda_1486587071158/work/opencv-3.1.0/modules/imgproc/src/color.cpp:7456: error: (-215) scn == 3 || scn == 4 in function ipp_cvtColor\n"
     ]
    }
   ],
   "source": [
    "#Gray, s_channel ans binary test\n",
    "img=cv2.imread('test4.jpg')\n",
    "gray_img=cv2.cvtColor(img,cv2.COLOR_BGR2GRAY)\n",
    "sobel_x=abs_sobel_thresh(gray_img,orient='x',sobel_kernel=3,thresh=(50,100))\n",
    "plt.imsave('./test_images/soble_x',sobel_x,cmap='gray')\n",
    "%matplotlib inline\n",
    "plt.imshow(sobel_x,cmap='gray')\n",
    "s_image=hls_select(img,thresh=(100,255))\n",
    "plt.imsave('./test_images/s_image',s_image,cmap='gray')\n",
    "plt.imshow(s_image,cmap='gray')\n",
    "binary=getBinaryImage(img,g_thresh=(50,100),s_thresh=(100,255))\n",
    "plt.imsave('./test_images/binary_image',binary,cmap='gray')\n",
    "plt.imshow(binary,cmap='gray')\n"
   ]
  },
  {
   "cell_type": "code",
   "execution_count": 6,
   "metadata": {
    "collapsed": true
   },
   "outputs": [],
   "source": [
    "#4. Prespective Transform\n",
    "def getBirdEye(img,src,dst):\n",
    "    imgSize=(img.shape[1],img.shape[0])\n",
    "    global M\n",
    "    global Minv\n",
    "    M=cv2.getPerspectiveTransform(src,dst)\n",
    "    Minv=cv2.getPerspectiveTransform(dst,src)\n",
    "    \n",
    "    warped=cv2.warpPerspective(img,M,imgSize,flags=cv2.INTER_LINEAR)\n",
    "    \n",
    "    return warped"
   ]
  },
  {
   "cell_type": "code",
   "execution_count": 60,
   "metadata": {},
   "outputs": [
    {
     "data": {
      "image/png": "[encoded data removed]",
      "text/plain": [
       "<matplotlib.figure.Figure at 0x7f4e89224b70>"
      ]
     },
     "metadata": {},
     "output_type": "display_data"
    }
   ],
   "source": [
    "h,w=binary.shape[:2]\n",
    "src=np.float32([[w,h-10],\n",
    "                [0,h-10],\n",
    "                [546,460],\n",
    "                [732,460]])\n",
    "dst=np.float32([[w,h],\n",
    "                    [0,h],\n",
    "                    [0,0],\n",
    "                    [w,0]])\n",
    "bird_img=getBirdEye(binary,src,dst)\n",
    "plt.imshow(bird_img,cmap='gray')\n",
    "plt.imsave('./test_images/bird_eye.png',bird_img,cmap='gray')"
   ]
  },
  {
   "cell_type": "code",
   "execution_count": 7,
   "metadata": {
    "collapsed": true
   },
   "outputs": [],
   "source": [
    "#5. Find lane lines and fit polynomial\n",
    "def poly_fit(birdEyeImg):\n",
    "    #1. Determine the left base and the right base of the lane lines\n",
    "    #1.1. Take the histogram of the bottom half of the img to determine where are your peaks\n",
    "    histogram=np.sum(birdEyeImg[birdEyeImg.shape[0]//2:,:],axis=0)\n",
    "    #plt.plot(histogram)\n",
    "    #1.2 Determine the midpoint of the img x axis img.shape[1]/2\n",
    "    midpoint=np.int(birdEyeImg.shape[1]/2)\n",
    "    #1.3 Determine the left and the right base of the lane lines\n",
    "    left_base=np.argmax(histogram[:midpoint])\n",
    "    right_base=np.argmax(histogram[midpoint:])+midpoint\n",
    "    #print(\"left_base is {}\".format(left_base))\n",
    "    #print(\"right_base is {}\".format(right_base))\n",
    "    \n",
    "    #2. Make an output img to put all the results in it\n",
    "    out=np.dstack((birdEyeImg,birdEyeImg,birdEyeImg))*255\n",
    "    \n",
    "    #3.Parameters for the sliding windows\n",
    "    #3.1. number of windows\n",
    "    nwindows=9\n",
    "    #3.2. hight of each window = (hight of the imag/number of windows)\n",
    "    window_hight=np.int(birdEyeImg.shape[0]/nwindows)\n",
    "    #3.3. the width of each window (margin) +/- \n",
    "    margin=100\n",
    "    #3.4. Minimum number of pixel to accept it as a window\n",
    "    minpix=50\n",
    "    \n",
    "    #4. get the coordinates of all non zero pixels in the image\n",
    "    #4.1. get the non zeros points as a list of two lists [y_coordinates,x_coordinates]\n",
    "    global nonzero\n",
    "    nonzero=birdEyeImg.nonzero()\n",
    "    #4.2. get the y coordinates of these points\n",
    "    global nonzero_y\n",
    "    nonzero_y=np.array(nonzero[0])\n",
    "    global nonzero_x\n",
    "    nonzero_x=np.array(nonzero[1])\n",
    "    \n",
    "    #5. make the current base equal to the previous base\n",
    "    left_current=left_base\n",
    "    right_current=right_base\n",
    "    \n",
    "    \n",
    "    \n",
    "    #6. empty lists to get the indices of the lanes\n",
    "    global left_lane_inds\n",
    "    left_lane_inds=[]\n",
    "    global right_lane_inds\n",
    "    right_lane_inds=[]\n",
    "    \n",
    "    #7.step through the windows one by one\n",
    "\n",
    "    \n",
    "    for window in range(nwindows):\n",
    "        \n",
    "        #7.1. identify the window boundaries by using the window's upper left point and lowe right point\n",
    "        # each time we need to drow two windows around the two lanes, these two windows have the same\n",
    "        # two y values (for lower and upper points) and four different x points \n",
    "        win_y_low=birdEyeImg.shape[0]-(window+1)*window_hight #low because the index is y decreased\n",
    "        win_y_high=birdEyeImg.shape[0]- window*window_hight\n",
    "        win_x_left_low=left_current-margin\n",
    "        win_x_left_high=left_current+margin\n",
    "        win_x_right_low=right_current-margin\n",
    "        win_x_right_high=right_current+margin\n",
    "        \n",
    "        #7.2. Using the above parameters of the four points (2 for each line), we drow a rectangular window\n",
    "        cv2.rectangle(out,(win_x_left_low,win_y_low),(win_x_left_high,win_y_high),(0,0,255),2)\n",
    "        cv2.rectangle(out,(win_x_right_low,win_y_low),(win_x_right_high,win_y_high),(0,0,255),2)\n",
    "        \n",
    "        #7.3. Determine the indices of the nonzero pixels inside each window\n",
    "        good_left_inds=((nonzero_y>=win_y_low)&(nonzero_y<win_y_high)&(nonzero_x>=win_x_left_low)&(nonzero_x<win_x_left_high)).nonzero()[0]\n",
    "        good_right_inds=((nonzero_y>=win_y_low)&(nonzero_y<win_y_high)&(nonzero_x>=win_x_right_low)&(nonzero_x<win_x_right_high)).nonzero()[0]\n",
    "        \n",
    "        #7.4. Append the indices in indices' lists\n",
    "        left_lane_inds.append(good_left_inds)\n",
    "        right_lane_inds.append(good_right_inds)\n",
    "        \n",
    "        #7.5. Check if the number of nonzero pixels more than the minimum number, if yes, so we recenter the window to be around their mean\n",
    "        if len(good_left_inds)>minpix:\n",
    "            left_current=np.int(np.mean(nonzero_x[good_left_inds]))\n",
    "        if len(good_right_inds)>minpix:\n",
    "            right_current=np.int(np.mean(nonzero_x[good_right_inds]))\n",
    "            \n",
    "    #7.6. Concatenate the arrays of the indices\n",
    "    left_lane_inds=np.concatenate(left_lane_inds)\n",
    "    right_lane_inds=np.concatenate(right_lane_inds)\n",
    "\n",
    "    #7.7. Extract left and right pixels (points) to fit a polynomial\n",
    "    left_x=nonzero_x[left_lane_inds]\n",
    "    left_y=nonzero_y[left_lane_inds]\n",
    "    right_x=nonzero_x[right_lane_inds]\n",
    "    right_y=nonzero_y[right_lane_inds]\n",
    "\n",
    "    #7.8. fit the polynomial for the two lines\n",
    "    ym_per_pix = 30/720 # meters per pixel in y dimension\n",
    "    xm_per_pix = 3.7/700 # meters per pixel in x dimension\n",
    "    left_fit_m=np.polyfit(left_y*ym_per_pix,left_x*xm_per_pix,2)\n",
    "    right_fit_m=np.polyfit(right_y*ym_per_pix,right_x*xm_per_pix,2)\n",
    "    left_fit=np.polyfit(left_y,left_x,2)\n",
    "    right_fit=np.polyfit(right_y,right_x,2)\n",
    "    #global left_fit_list\n",
    "    left_fit_list=[left_fit,left_fit_m]\n",
    "    #global right_fit_list\n",
    "    right_fit_list=[right_fit,right_fit_m]\n",
    "    \n",
    "    #return out,left_fit,right_fit,nonzero_y,nonzero_x,left_lane_inds,right_lane_inds\n",
    "    return out,left_fit_list,right_fit_list"
   ]
  },
  {
   "cell_type": "code",
   "execution_count": 61,
   "metadata": {
    "collapsed": true
   },
   "outputs": [],
   "source": [
    "out, left_fit_list,right_fit_list=poly_fit(bird_img)\n",
    "left_fit=left_fit_list[0]\n",
    "right_fit=right_fit_list[0]"
   ]
  },
  {
   "cell_type": "code",
   "execution_count": 62,
   "metadata": {},
   "outputs": [
    {
     "data": {
      "image/png": "[encoded data removed]",
      "text/plain": [
       "<matplotlib.figure.Figure at 0x7f4e8914a748>"
      ]
     },
     "metadata": {},
     "output_type": "display_data"
    }
   ],
   "source": [
    "# Generate x and y values for plotting\n",
    "ploty = np.linspace(0, bird_img.shape[0]-1, bird_img.shape[0] )\n",
    "left_fitx = left_fit[0]*ploty**2 + left_fit[1]*ploty + left_fit[2]\n",
    "right_fitx = right_fit[0]*ploty**2 + right_fit[1]*ploty + right_fit[2]\n",
    "\n",
    "out[nonzero_y[left_lane_inds], nonzero_x[left_lane_inds]] = [255, 0, 0]\n",
    "out[nonzero_y[right_lane_inds], nonzero_x[right_lane_inds]] = [0, 0, 255]\n",
    "plt.imshow(out)\n",
    "plt.plot(left_fitx, ploty, color='yellow')\n",
    "plt.plot(right_fitx, ploty, color='yellow')\n",
    "plt.xlim(0, 1280)\n",
    "plt.ylim(720, 0)\n",
    "plt.imsave('./test_images/poly_fit.png',cv2.cvtColor(out,cv2.COLOR_BGR2RGB))"
   ]
  },
  {
   "cell_type": "code",
   "execution_count": 8,
   "metadata": {
    "collapsed": true
   },
   "outputs": [],
   "source": [
    "#6. Curvature Radius\n",
    "def getCurvature(img,left_fit,right_fit):\n",
    "    y_eval = np.max(img.shape[0])/2\n",
    "    left_curverad = ((1 + (2*left_fit[0]*y_eval + left_fit[1])**2)**1.5) / np.absolute(2*left_fit[0])\n",
    "    right_curverad = ((1 + (2*right_fit[0]*y_eval + right_fit[1])**2)**1.5) / np.absolute(2*right_fit[0])\n",
    "    return left_curverad,right_curverad"
   ]
  },
  {
   "cell_type": "code",
   "execution_count": 9,
   "metadata": {
    "collapsed": true
   },
   "outputs": [],
   "source": [
    "#7. get two lane lines by polynomial fitting\n",
    "def getlane(out,left_fit,right_fit):\n",
    "    ploty = np.linspace(0, out.shape[0]-1, num=out.shape[0])\n",
    "    left_fitx = left_fit[0]*ploty**2 + left_fit[1]*ploty + left_fit[2]\n",
    "    #right_fit = np.polyfit(ploty, rightx, 2)\n",
    "    right_fitx = right_fit[0]*ploty**2 + right_fit[1]*ploty + right_fit[2]\n",
    "    out[nonzero_y[left_lane_inds], nonzero_x[left_lane_inds]] = [255, 0, 0]\n",
    "    out[nonzero_y[right_lane_inds], nonzero_x[right_lane_inds]] = [0, 0, 255]\n",
    "    \n",
    "    warp_zero = np.zeros_like(out[:,:,0]).astype(np.uint8)\n",
    "    color_warp = np.dstack((warp_zero, warp_zero, warp_zero))\n",
    "    \n",
    "    pts_left = np.array([np.transpose(np.vstack([left_fitx, ploty]))])\n",
    "    pts_right = np.array([np.flipud(np.transpose(np.vstack([right_fitx, ploty])))])\n",
    "    pts = np.hstack((pts_left, pts_right))\n",
    "\n",
    "    # Draw the lane onto the warped blank image\n",
    "    cv2.fillPoly(color_warp, np.int_([pts]), (0,255, 0))\n",
    "\n",
    "    # Warp the blank back to original image space using inverse perspective matrix (Minv)\n",
    "    newwarp = cv2.warpPerspective(color_warp, Minv, (img.shape[1], img.shape[0])) \n",
    "    # Combine the result with the original image\n",
    "    result = cv2.addWeighted(img, 1, newwarp, 0.3, 0)\n",
    "    \n",
    "    # offset calculation\n",
    "    line_width=pts_right[0,-1,0]-pts_left[0,-1,0]\n",
    "    from_borders=(img.shape[1]-line_width)/2\n",
    "    offset=(img.shape[1]-pts_right[0,-1,0])-from_borders\n",
    "    # from pixel to m\n",
    "    offset=offset*3.7/700\n",
    "    return result, offset #cv2.cvtColor(result,cv2.COLOR_BGR2RGB)\n",
    "    \n",
    "    "
   ]
  },
  {
   "cell_type": "code",
   "execution_count": 45,
   "metadata": {
    "collapsed": true
   },
   "outputs": [],
   "source": [
    "#calibrationList=calibrateMyCamera('./camera_cal/',(9,6),(1280,720))\n",
    "# Define a class to receive the characteristics of each line detection\n",
    "class Line():\n",
    "    def __init__(self):\n",
    "        # was the line detected in the last iteration?\n",
    "        self.detected = False  \n",
    "        # x values of the last n fits of the line\n",
    "        self.recent_xfitted = [] \n",
    "        #average x values of the fitted line over the last n iterations\n",
    "        self.bestx = None     \n",
    "        #polynomial coefficients averaged over the last n iterations\n",
    "        self.best_fit = None  \n",
    "        #polynomial coefficients for the most recent fit\n",
    "        self.current_fit = [np.array([False])]  \n",
    "        #radius of curvature of the line in some units\n",
    "        self.radius_of_curvature = None \n",
    "        #distance in meters of vehicle center from the line\n",
    "        self.line_base_pos = None \n",
    "        #difference in fit coefficients between last and new fits\n",
    "        self.diffs = np.array([0,0,0], dtype='float') \n",
    "        #x values for detected line pixels\n",
    "        self.allx = None  \n",
    "        #y values for detected line pixels\n",
    "        self.ally = None"
   ]
  },
  {
   "cell_type": "code",
   "execution_count": 16,
   "metadata": {},
   "outputs": [],
   "source": [
    "#line=Line()\n",
    "global check\n",
    "check=1\n",
    "\n",
    "def process(image):\n",
    "    global FIRST_FRAME\n",
    "\n",
    "    #check=FIRST_FRAME\n",
    "    global img\n",
    "    img=image\n",
    "    img=undistortMyImage(img,mtx,dist)\n",
    "    binary=getBinaryImage(img,g_thresh=(100,255),s_thresh=(70,255))\n",
    "    #plt.imshow(binary,cmap='gray')\n",
    "    #plt.show()\n",
    "    h,w=binary.shape[:2]\n",
    "    \n",
    "    src=np.float32([[w,h-10],\n",
    "                [0,h-10],\n",
    "                [546,460],\n",
    "                [732,460]])\n",
    "    dst=np.float32([[w,h],\n",
    "                    [0,h],\n",
    "                    [0,0],\n",
    "                    [w,0]])\n",
    "    warped_img=getBirdEye(binary,src,dst)\n",
    "    if check==1:\n",
    "        out,left_fit_list,right_fit_list=poly_fit(warped_img)\n",
    "        global left_fit_m,right_fit_m\n",
    "        left_fit_m=left_fit_list[1]\n",
    "        right_fit_m=right_fit_list[1]\n",
    "        global left_fit_x,right_fit_x\n",
    "        left_fit_x=left_fit_list[0]\n",
    "        right_fit_x=right_fit_list[0]\n",
    "        left_curv, right_curv=getCurvature(out,left_fit_m,right_fit_m)\n",
    "        left_curv=left_curv\n",
    "        right_curv=right_curv\n",
    "        global check\n",
    "        print (left_fit_x)\n",
    "        print (right_fit_x)\n",
    "        global left_fit_x_temp,right_fit_x_temp, left_fit_x_temp_m, right_fit_x_temp_m\n",
    "        left_fit_x_temp=left_fit_x\n",
    "        right_fit_x_temp=right_fit_x\n",
    "        left_fit_x_temp_m=left_fit_m\n",
    "        right_fit_x_temp_m=right_fit_m\n",
    "        check=0\n",
    "    else:\n",
    "        out,left_fit_list,right_fit_list=poly_fit(warped_img)\n",
    "\n",
    "        nonzero = warped_img.nonzero()\n",
    "        nonzeroy = np.array(nonzero[0])\n",
    "        nonzerox = np.array(nonzero[1])\n",
    "        margin = 100\n",
    "        left_lane_inds = ((nonzerox > (left_fit_x[0]*(nonzeroy**2) + left_fit_x[1]*nonzeroy + left_fit_x[2] - margin)) & (nonzerox < (left_fit_x[0]*(nonzeroy**2) + left_fit_x[1]*nonzeroy + left_fit_x[2] + margin))) \n",
    "        right_lane_inds = ((nonzerox > (right_fit_x[0]*(nonzeroy**2) + right_fit_x[1]*nonzeroy + right_fit_x[2] - margin)) & (nonzerox < (right_fit_x[0]*(nonzeroy**2) + right_fit_x[1]*nonzeroy + right_fit_x[2] + margin)))\n",
    "        # Again, extract left and right line pixel positions\n",
    "        leftx = nonzerox[left_lane_inds]\n",
    "        lefty = nonzeroy[left_lane_inds] \n",
    "        rightx = nonzerox[right_lane_inds]\n",
    "        righty = nonzeroy[right_lane_inds]\n",
    "        global left_fit_x,right_fit_x\n",
    "        left_fit_x = np.polyfit(lefty, leftx, 2)\n",
    "        right_fit_x = np.polyfit(righty, rightx, 2)\n",
    "        if (np.absolute(np.absolute(left_fit_x[0])-np.absolute(left_fit_x_temp[0]))>0.0001) | (np.absolute(np.absolute(right_fit_x[0])-np.absolute(right_fit_x_temp[0]))>0.0001):\n",
    "            global left_fit_x,right_fit_x,left_fit_m,right_fit_m\n",
    "            left_fit_x=left_fit_x_temp\n",
    "            right_fit_x=right_fit_x_temp\n",
    "            left_fit_m=left_fit_x_temp_m\n",
    "            right_fit_m=right_fit_x_temp_m\n",
    "            #ym_per_pix = 30/720 # meters per pixel in y dimension\n",
    "            #xm_per_pix = 3.7/700 # meters per pixel in x dimension\n",
    "            #global left_fit_m,right_fit_m\n",
    "            #left_fit_m=np.polyfit(lefty*ym_per_pix,leftx*xm_per_pix,2)\n",
    "            #right_fit_m=np.polyfit(righty*ym_per_pix,rightx*xm_per_pix,2)\n",
    "\n",
    "            \n",
    "        global left_fit_x_temp,right_fit_x_temp\n",
    "        left_fit_x_temp=left_fit_x\n",
    "        right_fit_x_temp=right_fit_x\n",
    "        ym_per_pix = 30/720 # meters per pixel in y dimension\n",
    "        xm_per_pix = 3.7/700 # meters per pixel in x dimension\n",
    "        global left_fit_m,right_fit_m,left_fit_x_temp_m,right_fit_x_temp_m\n",
    "        left_fit_m=np.polyfit(lefty*ym_per_pix,leftx*xm_per_pix,2)\n",
    "        right_fit_m=np.polyfit(righty*ym_per_pix,rightx*xm_per_pix,2)\n",
    "        left_fit_x_temp_m=left_fit_m\n",
    "        right_fit_x_temp_m=right_fit_m\n",
    "        left_curv, right_curv=getCurvature(warped_img,left_fit_m,right_fit_m)\n",
    "        left_curv=left_curv\n",
    "        right_curv=right_curv\n",
    "        print (left_fit_x)\n",
    "        print (right_fit_x)\n",
    "    \n",
    "    \n",
    "    result,offset=getlane(out,left_fit_x,right_fit_x)\n",
    "    #if np.absolute(left_curv)>2:\n",
    "        #cv2.putText(result,\"Curvature: left : straight line\",(10,50),cv2.FONT_ITALIC, 1,(0,0,255),2,bottomLeftOrigin=False)\n",
    "        #cv2.putText(result,\"Curvature: right: straight line\",(10,100),cv2.FONT_ITALIC, 1,(0,0,255),2,bottomLeftOrigin=False)\n",
    "        \n",
    "    cv2.putText(result,\"Curvature: left {} m\".format(left_curv),(10,50),cv2.FONT_ITALIC, 1,(0,0,255),2,bottomLeftOrigin=False)\n",
    "    cv2.putText(result,\"Curvature: right {} m\".format(right_curv),(10,100),cv2.FONT_ITALIC, 1,(0,0,255),2,bottomLeftOrigin=False)\n",
    "    cv2.putText(result,\"offset from lane center {} m\".format(offset),(10,150),cv2.FONT_ITALIC, 1,(0,0,255),2,bottomLeftOrigin=False)\n",
    "\n",
    "    return result\n",
    "    "
   ]
  },
  {
   "cell_type": "code",
   "execution_count": 11,
   "metadata": {
    "collapsed": true
   },
   "outputs": [],
   "source": [
    "calibrationList=calibrateMyCamera('./camera_cal/',(9,6),(720,1280))"
   ]
  },
  {
   "cell_type": "code",
   "execution_count": 12,
   "metadata": {
    "collapsed": true
   },
   "outputs": [],
   "source": [
    "# Import everything needed to edit/save/watch video clips\n",
    "from moviepy.editor import VideoFileClip\n",
    "from IPython.display import HTML"
   ]
  },
  {
   "cell_type": "code",
   "execution_count": 17,
   "metadata": {},
   "outputs": [
    {
     "name": "stdout",
     "output_type": "stream",
     "text": [
      "[ -2.92373947e-04   3.71330631e-01   1.78889176e+02]\n",
      "[ -2.43571011e-04   4.10548878e-01   1.01090074e+03]\n",
      "[MoviePy] >>>> Building video video.mp4\n",
      "[MoviePy] Writing video video.mp4\n"
     ]
    },
    {
     "name": "stderr",
     "output_type": "stream",
     "text": [
      "  0%|          | 1/1261 [00:00<02:57,  7.08it/s]"
     ]
    },
    {
     "name": "stdout",
     "output_type": "stream",
     "text": [
      "[ -2.92373947e-04   3.71330631e-01   1.78889176e+02]\n",
      "[ -2.43571011e-04   4.10548878e-01   1.01090074e+03]\n"
     ]
    },
    {
     "name": "stderr",
     "output_type": "stream",
     "text": [
      "\r",
      "  0%|          | 2/1261 [00:00<02:59,  7.03it/s]"
     ]
    },
    {
     "name": "stdout",
     "output_type": "stream",
     "text": [
      "[ -3.10536171e-04   3.89461225e-01   1.76077397e+02]\n",
      "[ -2.61084985e-04   4.34841919e-01   1.00028386e+03]\n"
     ]
    },
    {
     "name": "stderr",
     "output_type": "stream",
     "text": [
      "\r",
      "  0%|          | 3/1261 [00:00<02:55,  7.18it/s]"
     ]
    },
    {
     "name": "stdout",
     "output_type": "stream",
     "text": [
      "[ -3.22877141e-04   4.02302435e-01   1.73835151e+02]\n",
      "[ -2.66432924e-04   4.48325444e-01   9.93107528e+02]\n"
     ]
    },
    {
     "name": "stderr",
     "output_type": "stream",
     "text": [
      "\r",
      "  0%|          | 4/1261 [00:00<02:54,  7.21it/s]"
     ]
    },
    {
     "name": "stdout",
     "output_type": "stream",
     "text": [
      "[ -3.29375640e-04   4.11747891e-01   1.71638150e+02]\n",
      "[ -2.08236974e-04   4.04008559e-01   9.97261915e+02]\n"
     ]
    },
    {
     "name": "stderr",
     "output_type": "stream",
     "text": [
      "\r",
      "  0%|          | 5/1261 [00:00<02:53,  7.24it/s]"
     ]
    },
    {
     "name": "stdout",
     "output_type": "stream",
     "text": [
      "[ -3.46090290e-04   4.28309484e-01   1.68179922e+02]\n",
      "[ -2.77223977e-04   4.73724451e-01   9.81465917e+02]\n"
     ]
    },
    {
     "name": "stderr",
     "output_type": "stream",
     "text": [
      "\r",
      "  0%|          | 6/1261 [00:00<02:55,  7.15it/s]"
     ]
    },
    {
     "name": "stdout",
     "output_type": "stream",
     "text": [
      "[ -3.43718571e-04   4.32315944e-01   1.66815640e+02]\n",
      "[ -3.12271842e-04   5.18150802e-01   9.66396996e+02]\n"
     ]
    },
    {
     "name": "stderr",
     "output_type": "stream",
     "text": [
      "\r",
      "  1%|          | 7/1261 [00:00<02:53,  7.22it/s]"
     ]
    },
    {
     "name": "stdout",
     "output_type": "stream",
     "text": [
      "[ -3.28933290e-04   4.29864449e-01   1.62962016e+02]\n",
      "[ -2.92265528e-04   4.97414293e-01   9.71902302e+02]\n"
     ]
    },
    {
     "name": "stderr",
     "output_type": "stream",
     "text": [
      "\r",
      "  1%|          | 8/1261 [00:01<02:51,  7.29it/s]"
     ]
    },
    {
     "name": "stdout",
     "output_type": "stream",
     "text": [
      "[ -3.27047355e-04   4.35842865e-01   1.61112801e+02]\n",
      "[ -3.34237976e-04   5.47219520e-01   9.53356278e+02]\n"
     ]
    },
    {
     "name": "stderr",
     "output_type": "stream",
     "text": [
      "\r",
      "  1%|          | 9/1261 [00:01<02:52,  7.24it/s]"
     ]
    },
    {
     "name": "stdout",
     "output_type": "stream",
     "text": [
      "[ -3.16424837e-04   4.31727626e-01   1.58151907e+02]\n",
      "[ -3.28042023e-04   5.21531016e-01   9.65500228e+02]\n"
     ]
    },
    {
     "name": "stderr",
     "output_type": "stream",
     "text": [
      "\r",
      "  1%|          | 10/1261 [00:01<02:52,  7.25it/s]"
     ]
    },
    {
     "name": "stdout",
     "output_type": "stream",
     "text": [
      "[ -3.18128576e-04   4.37561176e-01   1.54216235e+02]\n",
      "[ -2.83682887e-04   4.96558251e-01   9.67717099e+02]\n"
     ]
    },
    {
     "name": "stderr",
     "output_type": "stream",
     "text": [
      "\r",
      "  1%|          | 11/1261 [00:01<02:51,  7.29it/s]"
     ]
    },
    {
     "name": "stdout",
     "output_type": "stream",
     "text": [
      "[ -3.00936844e-04   4.29353764e-01   1.53427247e+02]\n",
      "[ -2.77445665e-04   5.07074268e-01   9.57510586e+02]\n"
     ]
    },
    {
     "name": "stderr",
     "output_type": "stream",
     "text": [
      "\r",
      "  1%|          | 12/1261 [00:01<02:51,  7.28it/s]"
     ]
    },
    {
     "name": "stdout",
     "output_type": "stream",
     "text": [
      "[ -2.86661367e-04   4.29136553e-01   1.43735918e+02]\n",
      "[ -1.93631390e-04   4.11340443e-01   9.91108416e+02]\n"
     ]
    },
    {
     "name": "stderr",
     "output_type": "stream",
     "text": [
      "\r",
      "  1%|          | 13/1261 [00:01<02:53,  7.21it/s]"
     ]
    },
    {
     "name": "stdout",
     "output_type": "stream",
     "text": [
      "[ -2.86661367e-04   4.29136553e-01   1.43735918e+02]\n",
      "[ -1.93631390e-04   4.11340443e-01   9.91108416e+02]\n"
     ]
    },
    {
     "name": "stderr",
     "output_type": "stream",
     "text": [
      "\r",
      "  1%|          | 14/1261 [00:01<02:51,  7.28it/s]"
     ]
    },
    {
     "name": "stdout",
     "output_type": "stream",
     "text": [
      "[ -2.50418939e-04   4.05916723e-01   1.44902070e+02]\n",
      "[ -2.81524814e-04   5.05111625e-01   9.61488929e+02]\n"
     ]
    },
    {
     "name": "stderr",
     "output_type": "stream",
     "text": [
      "\r",
      "  1%|          | 15/1261 [00:02<02:50,  7.30it/s]"
     ]
    },
    {
     "name": "stdout",
     "output_type": "stream",
     "text": [
      "[ -2.50418939e-04   4.05916723e-01   1.44902070e+02]\n",
      "[ -2.81524814e-04   5.05111625e-01   9.61488929e+02]\n"
     ]
    },
    {
     "name": "stderr",
     "output_type": "stream",
     "text": [
      "\r",
      "  1%|▏         | 16/1261 [00:02<02:50,  7.30it/s]"
     ]
    },
    {
     "name": "stdout",
     "output_type": "stream",
     "text": [
      "[ -2.50418939e-04   4.05916723e-01   1.44902070e+02]\n",
      "[ -2.81524814e-04   5.05111625e-01   9.61488929e+02]\n"
     ]
    },
    {
     "name": "stderr",
     "output_type": "stream",
     "text": [
      "\r",
      "  1%|▏         | 17/1261 [00:02<02:48,  7.36it/s]"
     ]
    },
    {
     "name": "stdout",
     "output_type": "stream",
     "text": [
      "[ -2.27408183e-04   3.77539919e-01   1.53184597e+02]\n",
      "[ -1.91750251e-04   4.70773443e-01   9.33465177e+02]\n"
     ]
    },
    {
     "name": "stderr",
     "output_type": "stream",
     "text": [
      "\r",
      "  1%|▏         | 18/1261 [00:02<02:48,  7.40it/s]"
     ]
    },
    {
     "name": "stdout",
     "output_type": "stream",
     "text": [
      "[ -2.23465015e-04   3.74460094e-01   1.53154064e+02]\n",
      "[ -2.11804518e-04   4.95414153e-01   9.23277246e+02]\n"
     ]
    },
    {
     "name": "stderr",
     "output_type": "stream",
     "text": [
      "\r",
      "  2%|▏         | 19/1261 [00:02<02:46,  7.46it/s]"
     ]
    },
    {
     "name": "stdout",
     "output_type": "stream",
     "text": [
      "[ -2.13282276e-04   3.69854854e-01   1.49683934e+02]\n",
      "[ -2.25195691e-04   4.94949202e-01   9.30556099e+02]\n"
     ]
    },
    {
     "name": "stderr",
     "output_type": "stream",
     "text": [
      "\r",
      "  2%|▏         | 20/1261 [00:02<02:48,  7.36it/s]"
     ]
    },
    {
     "name": "stdout",
     "output_type": "stream",
     "text": [
      "[ -1.83991494e-04   3.48200913e-01   1.49646097e+02]\n",
      "[ -2.03630421e-04   4.60895334e-01   9.43331967e+02]\n"
     ]
    },
    {
     "name": "stderr",
     "output_type": "stream",
     "text": [
      "\r",
      "  2%|▏         | 21/1261 [00:02<02:47,  7.39it/s]"
     ]
    },
    {
     "name": "stdout",
     "output_type": "stream",
     "text": [
      "[ -1.81891368e-04   3.47743617e-01   1.46555475e+02]\n",
      "[ -2.80277776e-04   4.74573970e-01   9.56368638e+02]\n"
     ]
    },
    {
     "name": "stderr",
     "output_type": "stream",
     "text": [
      "\r",
      "  2%|▏         | 22/1261 [00:03<02:46,  7.42it/s]"
     ]
    },
    {
     "name": "stdout",
     "output_type": "stream",
     "text": [
      "[ -1.63259409e-04   3.34948112e-01   1.43896064e+02]\n",
      "[ -3.07415148e-04   4.77164071e-01   9.67434087e+02]\n"
     ]
    },
    {
     "name": "stderr",
     "output_type": "stream",
     "text": [
      "\r",
      "  2%|▏         | 23/1261 [00:03<02:46,  7.42it/s]"
     ]
    },
    {
     "name": "stdout",
     "output_type": "stream",
     "text": [
      "[ -1.76807630e-04   3.44239789e-01   1.39373453e+02]\n",
      "[ -2.47054725e-04   4.17607345e-01   9.86253254e+02]\n"
     ]
    },
    {
     "name": "stderr",
     "output_type": "stream",
     "text": [
      "\r",
      "  2%|▏         | 24/1261 [00:03<02:50,  7.24it/s]"
     ]
    },
    {
     "name": "stdout",
     "output_type": "stream",
     "text": [
      "[ -1.85555774e-04   3.41988619e-01   1.43185721e+02]\n",
      "[ -3.23020108e-04   4.93947958e-01   9.65351107e+02]\n"
     ]
    },
    {
     "name": "stderr",
     "output_type": "stream",
     "text": [
      "\r",
      "  2%|▏         | 25/1261 [00:03<02:54,  7.08it/s]"
     ]
    },
    {
     "name": "stdout",
     "output_type": "stream",
     "text": [
      "[ -2.03290961e-04   3.49842490e-01   1.44379358e+02]\n",
      "[ -2.66283517e-04   4.56108818e-01   9.68663393e+02]\n"
     ]
    },
    {
     "name": "stderr",
     "output_type": "stream",
     "text": [
      "\r",
      "  2%|▏         | 26/1261 [00:03<02:51,  7.22it/s]"
     ]
    },
    {
     "name": "stdout",
     "output_type": "stream",
     "text": [
      "[ -1.84872594e-04   3.35621015e-01   1.43216410e+02]\n",
      "[ -1.96571612e-04   3.93317078e-01   9.87134797e+02]\n"
     ]
    },
    {
     "name": "stderr",
     "output_type": "stream",
     "text": [
      "\r",
      "  2%|▏         | 27/1261 [00:03<02:47,  7.36it/s]"
     ]
    },
    {
     "name": "stdout",
     "output_type": "stream",
     "text": [
      "[ -2.10905634e-04   3.51415242e-01   1.41100290e+02]\n",
      "[ -1.69302153e-04   3.67129264e-01   9.94532927e+02]\n"
     ]
    },
    {
     "name": "stderr",
     "output_type": "stream",
     "text": [
      "\r",
      "  2%|▏         | 28/1261 [00:03<02:46,  7.42it/s]"
     ]
    },
    {
     "name": "stdout",
     "output_type": "stream",
     "text": [
      "[ -2.12441899e-04   3.51207154e-01   1.38416387e+02]\n",
      "[ -1.58536657e-04   3.41602305e-01   1.01039774e+03]\n"
     ]
    },
    {
     "name": "stderr",
     "output_type": "stream",
     "text": [
      "\r",
      "  2%|▏         | 29/1261 [00:03<02:46,  7.40it/s]"
     ]
    },
    {
     "name": "stdout",
     "output_type": "stream",
     "text": [
      "[ -2.12441899e-04   3.51207154e-01   1.38416387e+02]\n",
      "[ -1.58536657e-04   3.41602305e-01   1.01039774e+03]\n"
     ]
    },
    {
     "name": "stderr",
     "output_type": "stream",
     "text": [
      "\r",
      "  2%|▏         | 30/1261 [00:04<02:45,  7.46it/s]"
     ]
    },
    {
     "name": "stdout",
     "output_type": "stream",
     "text": [
      "[ -2.83186122e-04   3.89884255e-01   1.42057510e+02]\n",
      "[ -2.07903106e-04   4.03590490e-01   9.86665483e+02]\n"
     ]
    },
    {
     "name": "stderr",
     "output_type": "stream",
     "text": [
      "\r",
      "  2%|▏         | 31/1261 [00:04<02:43,  7.52it/s]"
     ]
    },
    {
     "name": "stdout",
     "output_type": "stream",
     "text": [
      "[ -2.88201263e-04   3.87707768e-01   1.47543877e+02]\n",
      "[ -2.04236403e-04   4.12721057e-01   9.78585338e+02]\n"
     ]
    },
    {
     "name": "stderr",
     "output_type": "stream",
     "text": [
      "\r",
      "  3%|▎         | 32/1261 [00:04<02:42,  7.57it/s]"
     ]
    },
    {
     "name": "stdout",
     "output_type": "stream",
     "text": [
      "[ -2.88201263e-04   3.87707768e-01   1.47543877e+02]\n",
      "[ -2.04236403e-04   4.12721057e-01   9.78585338e+02]\n"
     ]
    },
    {
     "name": "stderr",
     "output_type": "stream",
     "text": [
      "\r",
      "  3%|▎         | 33/1261 [00:04<02:45,  7.40it/s]"
     ]
    },
    {
     "name": "stdout",
     "output_type": "stream",
     "text": [
      "[ -2.88201263e-04   3.87707768e-01   1.47543877e+02]\n",
      "[ -2.04236403e-04   4.12721057e-01   9.78585338e+02]\n"
     ]
    },
    {
     "name": "stderr",
     "output_type": "stream",
     "text": [
      "\r",
      "  3%|▎         | 34/1261 [00:04<02:53,  7.06it/s]"
     ]
    },
    {
     "name": "stdout",
     "output_type": "stream",
     "text": [
      "[ -3.41961686e-04   4.27766788e-01   1.46920439e+02]\n",
      "[ -3.02931514e-04   5.18036031e-01   9.49202443e+02]\n"
     ]
    },
    {
     "name": "stderr",
     "output_type": "stream",
     "text": [
      "\r",
      "  3%|▎         | 35/1261 [00:04<02:58,  6.88it/s]"
     ]
    },
    {
     "name": "stdout",
     "output_type": "stream",
     "text": [
      "[ -3.64307578e-04   4.47793902e-01   1.44805779e+02]\n",
      "[ -3.63278399e-04   5.50911157e-01   9.46523330e+02]\n"
     ]
    },
    {
     "name": "stderr",
     "output_type": "stream",
     "text": [
      "\r",
      "  3%|▎         | 36/1261 [00:04<02:50,  7.19it/s]"
     ]
    },
    {
     "name": "stdout",
     "output_type": "stream",
     "text": [
      "[ -3.71427673e-04   4.59204444e-01   1.43852264e+02]\n",
      "[ -3.09817942e-04   5.31980583e-01   9.39933856e+02]\n"
     ]
    },
    {
     "name": "stderr",
     "output_type": "stream",
     "text": [
      "\r",
      "  3%|▎         | 37/1261 [00:05<02:47,  7.31it/s]"
     ]
    },
    {
     "name": "stdout",
     "output_type": "stream",
     "text": [
      "[ -3.97771520e-04   4.83528493e-01   1.40069772e+02]\n",
      "[ -3.13142683e-04   5.35097456e-01   9.37947142e+02]\n"
     ]
    },
    {
     "name": "stderr",
     "output_type": "stream",
     "text": [
      "\r",
      "  3%|▎         | 38/1261 [00:05<02:45,  7.40it/s]"
     ]
    },
    {
     "name": "stdout",
     "output_type": "stream",
     "text": [
      "[ -3.97771520e-04   4.83528493e-01   1.40069772e+02]\n",
      "[ -3.13142683e-04   5.35097456e-01   9.37947142e+02]\n"
     ]
    },
    {
     "name": "stderr",
     "output_type": "stream",
     "text": [
      "\r",
      "  3%|▎         | 39/1261 [00:05<02:46,  7.34it/s]"
     ]
    },
    {
     "name": "stdout",
     "output_type": "stream",
     "text": [
      "[ -3.97771520e-04   4.83528493e-01   1.40069772e+02]\n",
      "[ -3.13142683e-04   5.35097456e-01   9.37947142e+02]\n"
     ]
    },
    {
     "name": "stderr",
     "output_type": "stream",
     "text": [
      "\r",
      "  3%|▎         | 40/1261 [00:05<02:44,  7.43it/s]"
     ]
    },
    {
     "name": "stdout",
     "output_type": "stream",
     "text": [
      "[ -4.19151023e-04   5.10297030e-01   1.35605344e+02]\n",
      "[ -2.97853010e-04   5.48360758e-01   9.21573939e+02]\n"
     ]
    },
    {
     "name": "stderr",
     "output_type": "stream",
     "text": [
      "\r",
      "  3%|▎         | 41/1261 [00:05<02:47,  7.30it/s]"
     ]
    },
    {
     "name": "stdout",
     "output_type": "stream",
     "text": [
      "[ -4.05782060e-04   5.05302597e-01   1.34759388e+02]\n",
      "[ -2.54857628e-04   5.08815608e-01   9.30205202e+02]\n"
     ]
    },
    {
     "name": "stderr",
     "output_type": "stream",
     "text": [
      "\r",
      "  3%|▎         | 42/1261 [00:05<03:21,  6.04it/s]"
     ]
    },
    {
     "name": "stdout",
     "output_type": "stream",
     "text": [
      "[ -4.18094568e-04   5.22730913e-01   1.29999272e+02]\n",
      "[ -2.48660456e-04   5.07960556e-01   9.29029404e+02]\n"
     ]
    },
    {
     "name": "stderr",
     "output_type": "stream",
     "text": [
      "\r",
      "  3%|▎         | 43/1261 [00:06<03:30,  5.79it/s]"
     ]
    },
    {
     "name": "stdout",
     "output_type": "stream",
     "text": [
      "[ -4.27120260e-04   5.35248328e-01   1.25385500e+02]\n",
      "[ -2.81238163e-04   5.31391212e-01   9.29883982e+02]\n",
      "[ -4.11856252e-04   5.29657587e-01   1.21928257e+02]\n",
      "[ -3.11757995e-04   5.45454102e-01   9.35619887e+02]\n"
     ]
    },
    {
     "name": "stderr",
     "output_type": "stream",
     "text": [
      "  4%|▎         | 45/1261 [00:06<03:33,  5.71it/s]"
     ]
    },
    {
     "name": "stdout",
     "output_type": "stream",
     "text": [
      "[ -3.93846189e-04   5.22192823e-01   1.19922171e+02]\n",
      "[ -3.27361295e-04   5.56085722e-01   9.37641730e+02]\n",
      "[ -3.82131459e-04   5.15688815e-01   1.19085413e+02]"
     ]
    },
    {
     "name": "stderr",
     "output_type": "stream",
     "text": [
      "  4%|▎         | 47/1261 [00:06<03:28,  5.83it/s]"
     ]
    },
    {
     "name": "stdout",
     "output_type": "stream",
     "text": [
      "\n",
      "[ -3.72439237e-04   5.71991772e-01   9.37801736e+02]\n",
      "[ -3.68498900e-04   5.10393082e-01   1.16296895e+02]\n",
      "[ -3.48511971e-04   5.40885251e-01   9.47808367e+02]\n"
     ]
    },
    {
     "name": "stderr",
     "output_type": "stream",
     "text": [
      "  4%|▍         | 49/1261 [00:07<03:07,  6.47it/s]"
     ]
    },
    {
     "name": "stdout",
     "output_type": "stream",
     "text": [
      "[ -3.58376536e-04   5.05577945e-01   1.15997545e+02]\n",
      "[ -3.47926821e-04   5.59052468e-01   9.36816145e+02]\n",
      "[ -3.21009542e-04   4.83272328e-01   1.14016560e+02]\n",
      "[ -3.52516765e-04   5.49687374e-01   9.47407932e+02]\n"
     ]
    },
    {
     "name": "stderr",
     "output_type": "stream",
     "text": [
      "  4%|▍         | 51/1261 [00:07<02:53,  6.97it/s]"
     ]
    },
    {
     "name": "stdout",
     "output_type": "stream",
     "text": [
      "[ -2.95406999e-04   4.66343501e-01   1.15271773e+02]\n",
      "[ -3.57303354e-04   5.62986003e-01   9.41742263e+02]\n",
      "[ -2.72533265e-04   4.50862759e-01   1.15645398e+02]\n",
      "[ -4.10255201e-04   6.00865946e-01   9.36587754e+02]\n"
     ]
    },
    {
     "name": "stderr",
     "output_type": "stream",
     "text": [
      "  4%|▍         | 53/1261 [00:07<02:50,  7.10it/s]"
     ]
    },
    {
     "name": "stdout",
     "output_type": "stream",
     "text": [
      "[ -2.72533265e-04   4.50862759e-01   1.15645398e+02]\n",
      "[ -4.10255201e-04   6.00865946e-01   9.36587754e+02]\n",
      "[ -2.47710313e-04   4.27632666e-01   1.21299762e+02]\n",
      "[ -4.33240607e-04   6.69933093e-01   9.00871362e+02]\n"
     ]
    },
    {
     "name": "stderr",
     "output_type": "stream",
     "text": [
      "  4%|▍         | 55/1261 [00:07<02:49,  7.11it/s]"
     ]
    },
    {
     "name": "stdout",
     "output_type": "stream",
     "text": [
      "[ -2.47710313e-04   4.27632666e-01   1.21299762e+02]\n",
      "[ -4.33240607e-04   6.69933093e-01   9.00871362e+02]\n",
      "[ -2.47710313e-04   4.27632666e-01   1.21299762e+02]\n",
      "[ -4.33240607e-04   6.69933093e-01   9.00871362e+02]\n"
     ]
    },
    {
     "name": "stderr",
     "output_type": "stream",
     "text": [
      "  5%|▍         | 57/1261 [00:08<02:55,  6.87it/s]"
     ]
    },
    {
     "name": "stdout",
     "output_type": "stream",
     "text": [
      "[ -2.47710313e-04   4.27632666e-01   1.21299762e+02]\n",
      "[ -4.33240607e-04   6.69933093e-01   9.00871362e+02]\n",
      "[ -1.89377586e-04   3.75920395e-01   1.25745217e+02]\n",
      "[ -3.45451201e-04   6.06311559e-01   9.08342145e+02]\n"
     ]
    },
    {
     "name": "stderr",
     "output_type": "stream",
     "text": [
      "  5%|▍         | 59/1261 [00:08<02:50,  7.04it/s]"
     ]
    },
    {
     "name": "stdout",
     "output_type": "stream",
     "text": [
      "[ -1.88202876e-04   3.71745041e-01   1.26092296e+02]\n",
      "[ -3.15248313e-04   5.76103213e-01   9.14890312e+02]\n",
      "[ -2.15237040e-04   3.81003043e-01   1.31053442e+02]\n",
      "[ -2.99477380e-04   5.75774769e-01   9.02442963e+02]\n"
     ]
    },
    {
     "name": "stderr",
     "output_type": "stream",
     "text": [
      "  5%|▍         | 61/1261 [00:08<02:57,  6.74it/s]"
     ]
    },
    {
     "name": "stdout",
     "output_type": "stream",
     "text": [
      "[ -2.12122948e-04   3.69788913e-01   1.37100012e+02]\n",
      "[ -3.40586975e-04   6.28181737e-01   8.79266005e+02]\n",
      "[ -2.12122948e-04   3.69788913e-01   1.37100012e+02]\n",
      "[ -3.40586975e-04   6.28181737e-01   8.79266005e+02]\n"
     ]
    },
    {
     "name": "stderr",
     "output_type": "stream",
     "text": [
      "  5%|▍         | 63/1261 [00:09<02:49,  7.08it/s]"
     ]
    },
    {
     "name": "stdout",
     "output_type": "stream",
     "text": [
      "[ -2.42416062e-04   3.80009546e-01   1.41512088e+02]\n",
      "[ -2.44921056e-04   5.62906077e-01   8.80111970e+02]\n",
      "[ -2.39914063e-04   3.75187681e-01   1.41139363e+02]\n",
      "[ -2.70706331e-04   5.58728435e-01   8.90010304e+02]\n"
     ]
    },
    {
     "name": "stderr",
     "output_type": "stream",
     "text": [
      "  5%|▌         | 65/1261 [00:09<02:53,  6.88it/s]"
     ]
    },
    {
     "name": "stdout",
     "output_type": "stream",
     "text": [
      "[ -2.49304593e-04   3.73477287e-01   1.45239016e+02]\n",
      "[ -2.03766793e-04   5.11973055e-01   8.93212826e+02]\n",
      "[ -2.83705080e-04   4.00166585e-01   1.39026059e+02]\n",
      "[ -1.69578396e-04   4.64195782e-01   9.09903467e+02]\n"
     ]
    },
    {
     "name": "stderr",
     "output_type": "stream",
     "text": [
      "  5%|▌         | 67/1261 [00:09<02:47,  7.13it/s]"
     ]
    },
    {
     "name": "stdout",
     "output_type": "stream",
     "text": [
      "[ -2.83590854e-04   3.93210025e-01   1.43473707e+02]\n",
      "[ -1.60491007e-04   4.49811597e-01   9.12166633e+02]\n",
      "[ -2.62363412e-04   3.73473010e-01   1.46287438e+02]\n",
      "[ -1.75559419e-04   4.58019137e-01   9.11073575e+02]\n"
     ]
    },
    {
     "name": "stderr",
     "output_type": "stream",
     "text": [
      "  5%|▌         | 69/1261 [00:09<02:53,  6.86it/s]"
     ]
    },
    {
     "name": "stdout",
     "output_type": "stream",
     "text": [
      "[ -2.69988711e-04   3.74257227e-01   1.45632599e+02]\n",
      "[ -2.10356234e-04   4.78760317e-01   9.12089147e+02]\n",
      "[ -2.74416228e-04   3.76051597e-01   1.46956963e+02]\n",
      "[ -2.61994031e-04   5.38266104e-01   8.93161129e+02]\n"
     ]
    },
    {
     "name": "stderr",
     "output_type": "stream",
     "text": [
      "  6%|▌         | 71/1261 [00:10<02:50,  7.00it/s]"
     ]
    },
    {
     "name": "stdout",
     "output_type": "stream",
     "text": [
      "[ -2.63550688e-04   3.72387545e-01   1.42736106e+02]\n",
      "[ -2.59293030e-04   5.17225584e-01   9.06370635e+02]\n",
      "[ -2.67542250e-04   3.74793515e-01   1.43167067e+02]\n",
      "[ -3.19450117e-04   5.34349968e-01   9.07147478e+02]\n"
     ]
    },
    {
     "name": "stderr",
     "output_type": "stream",
     "text": [
      "  6%|▌         | 73/1261 [00:10<02:54,  6.79it/s]"
     ]
    },
    {
     "name": "stdout",
     "output_type": "stream",
     "text": [
      "[ -2.67542250e-04   3.74793515e-01   1.43167067e+02]\n",
      "[ -3.19450117e-04   5.34349968e-01   9.07147478e+02]\n",
      "[ -2.67542250e-04   3.74793515e-01   1.43167067e+02]\n",
      "[ -3.19450117e-04   5.34349968e-01   9.07147478e+02]\n"
     ]
    },
    {
     "name": "stderr",
     "output_type": "stream",
     "text": [
      "  6%|▌         | 75/1261 [00:10<02:49,  7.01it/s]"
     ]
    },
    {
     "name": "stdout",
     "output_type": "stream",
     "text": [
      "[ -2.67542250e-04   3.74793515e-01   1.43167067e+02]\n",
      "[ -3.19450117e-04   5.34349968e-01   9.07147478e+02]\n",
      "[ -2.67542250e-04   3.74793515e-01   1.43167067e+02]\n",
      "[ -3.19450117e-04   5.34349968e-01   9.07147478e+02]\n"
     ]
    },
    {
     "name": "stderr",
     "output_type": "stream",
     "text": [
      "  6%|▌         | 77/1261 [00:11<02:58,  6.62it/s]"
     ]
    },
    {
     "name": "stdout",
     "output_type": "stream",
     "text": [
      "[ -2.67542250e-04   3.74793515e-01   1.43167067e+02]\n",
      "[ -3.19450117e-04   5.34349968e-01   9.07147478e+02]\n",
      "[ -2.67542250e-04   3.74793515e-01   1.43167067e+02]\n",
      "[ -3.19450117e-04   5.34349968e-01   9.07147478e+02]\n"
     ]
    },
    {
     "name": "stderr",
     "output_type": "stream",
     "text": [
      "  6%|▋         | 79/1261 [00:11<02:54,  6.79it/s]"
     ]
    },
    {
     "name": "stdout",
     "output_type": "stream",
     "text": [
      "[ -2.67542250e-04   3.74793515e-01   1.43167067e+02]\n",
      "[ -3.19450117e-04   5.34349968e-01   9.07147478e+02]\n",
      "[ -2.67542250e-04   3.74793515e-01   1.43167067e+02]\n",
      "[ -3.19450117e-04   5.34349968e-01   9.07147478e+02]\n"
     ]
    },
    {
     "name": "stderr",
     "output_type": "stream",
     "text": [
      "  6%|▋         | 81/1261 [00:11<03:00,  6.53it/s]"
     ]
    },
    {
     "name": "stdout",
     "output_type": "stream",
     "text": [
      "[ -2.67542250e-04   3.74793515e-01   1.43167067e+02]\n",
      "[ -3.19450117e-04   5.34349968e-01   9.07147478e+02]\n",
      "[ -2.67542250e-04   3.74793515e-01   1.43167067e+02]\n",
      "[ -3.19450117e-04   5.34349968e-01   9.07147478e+02]\n"
     ]
    },
    {
     "name": "stderr",
     "output_type": "stream",
     "text": [
      "  7%|▋         | 83/1261 [00:11<02:54,  6.76it/s]"
     ]
    },
    {
     "name": "stdout",
     "output_type": "stream",
     "text": [
      "[ -2.67542250e-04   3.74793515e-01   1.43167067e+02]\n",
      "[ -3.19450117e-04   5.34349968e-01   9.07147478e+02]\n",
      "[ -2.67542250e-04   3.74793515e-01   1.43167067e+02]\n",
      "[ -3.19450117e-04   5.34349968e-01   9.07147478e+02]\n"
     ]
    },
    {
     "name": "stderr",
     "output_type": "stream",
     "text": [
      "  7%|▋         | 85/1261 [00:12<02:58,  6.61it/s]"
     ]
    },
    {
     "name": "stdout",
     "output_type": "stream",
     "text": [
      "[ -2.67542250e-04   3.74793515e-01   1.43167067e+02]\n",
      "[ -3.19450117e-04   5.34349968e-01   9.07147478e+02]\n",
      "[ -2.67542250e-04   3.74793515e-01   1.43167067e+02]\n",
      "[ -3.19450117e-04   5.34349968e-01   9.07147478e+02]\n"
     ]
    },
    {
     "name": "stderr",
     "output_type": "stream",
     "text": [
      "  7%|▋         | 87/1261 [00:12<02:49,  6.93it/s]"
     ]
    },
    {
     "name": "stdout",
     "output_type": "stream",
     "text": [
      "[ -2.67542250e-04   3.74793515e-01   1.43167067e+02]\n",
      "[ -3.19450117e-04   5.34349968e-01   9.07147478e+02]\n",
      "[ -2.03845537e-04   2.89009859e-01   1.45099224e+02]\n",
      "[ -2.97040683e-04   4.82370947e-01   9.40518153e+02]\n"
     ]
    },
    {
     "name": "stderr",
     "output_type": "stream",
     "text": [
      "  7%|▋         | 89/1261 [00:12<02:51,  6.82it/s]"
     ]
    },
    {
     "name": "stdout",
     "output_type": "stream",
     "text": [
      "[ -2.32776888e-04   3.00528862e-01   1.51282590e+02]\n",
      "[ -3.91394780e-04   5.78639836e-01   9.11143578e+02]\n",
      "[ -2.53780809e-04   3.10811885e-01   1.55083796e+02]\n",
      "[ -3.85076686e-04   5.74989623e-01   9.09338001e+02]\n"
     ]
    },
    {
     "name": "stderr",
     "output_type": "stream",
     "text": [
      "  7%|▋         | 91/1261 [00:13<02:42,  7.19it/s]"
     ]
    },
    {
     "name": "stdout",
     "output_type": "stream",
     "text": [
      "[ -2.53780809e-04   3.10811885e-01   1.55083796e+02]\n",
      "[ -3.85076686e-04   5.74989623e-01   9.09338001e+02]\n",
      "[ -2.53780809e-04   3.10811885e-01   1.55083796e+02]\n",
      "[ -3.85076686e-04   5.74989623e-01   9.09338001e+02]\n"
     ]
    },
    {
     "name": "stderr",
     "output_type": "stream",
     "text": [
      "  7%|▋         | 93/1261 [00:13<02:50,  6.83it/s]"
     ]
    },
    {
     "name": "stdout",
     "output_type": "stream",
     "text": [
      "[ -2.53780809e-04   3.10811885e-01   1.55083796e+02]\n",
      "[ -3.85076686e-04   5.74989623e-01   9.09338001e+02]\n",
      "[ -2.53780809e-04   3.10811885e-01   1.55083796e+02]\n",
      "[ -3.85076686e-04   5.74989623e-01   9.09338001e+02]\n"
     ]
    },
    {
     "name": "stderr",
     "output_type": "stream",
     "text": [
      "  8%|▊         | 95/1261 [00:13<02:44,  7.09it/s]"
     ]
    },
    {
     "name": "stdout",
     "output_type": "stream",
     "text": [
      "[ -2.53780809e-04   3.10811885e-01   1.55083796e+02]\n",
      "[ -3.85076686e-04   5.74989623e-01   9.09338001e+02]\n",
      "[ -2.53780809e-04   3.10811885e-01   1.55083796e+02]\n",
      "[ -3.85076686e-04   5.74989623e-01   9.09338001e+02]\n"
     ]
    },
    {
     "name": "stderr",
     "output_type": "stream",
     "text": [
      "  8%|▊         | 97/1261 [00:13<02:48,  6.93it/s]"
     ]
    },
    {
     "name": "stdout",
     "output_type": "stream",
     "text": [
      "[ -2.53780809e-04   3.10811885e-01   1.55083796e+02]\n",
      "[ -3.85076686e-04   5.74989623e-01   9.09338001e+02]\n",
      "[ -2.53780809e-04   3.10811885e-01   1.55083796e+02]\n",
      "[ -3.85076686e-04   5.74989623e-01   9.09338001e+02]\n"
     ]
    },
    {
     "name": "stderr",
     "output_type": "stream",
     "text": [
      "  8%|▊         | 99/1261 [00:14<02:45,  7.02it/s]"
     ]
    },
    {
     "name": "stdout",
     "output_type": "stream",
     "text": [
      "[ -2.53780809e-04   3.10811885e-01   1.55083796e+02]\n",
      "[ -3.85076686e-04   5.74989623e-01   9.09338001e+02]\n",
      "[ -2.53780809e-04   3.10811885e-01   1.55083796e+02]\n",
      "[ -3.85076686e-04   5.74989623e-01   9.09338001e+02]\n"
     ]
    },
    {
     "name": "stderr",
     "output_type": "stream",
     "text": [
      "  8%|▊         | 101/1261 [00:14<02:57,  6.55it/s]"
     ]
    },
    {
     "name": "stdout",
     "output_type": "stream",
     "text": [
      "[ -2.53780809e-04   3.10811885e-01   1.55083796e+02]\n",
      "[ -3.85076686e-04   5.74989623e-01   9.09338001e+02]\n",
      "[ -2.48782237e-04   3.21843277e-01   1.61223538e+02]\n",
      "[ -4.15560146e-04   5.71147827e-01   9.16615979e+02]\n"
     ]
    },
    {
     "name": "stderr",
     "output_type": "stream",
     "text": [
      "  8%|▊         | 103/1261 [00:14<02:44,  7.05it/s]"
     ]
    },
    {
     "name": "stdout",
     "output_type": "stream",
     "text": [
      "[ -2.57104620e-04   3.26111356e-01   1.63246891e+02]\n",
      "[ -4.22515562e-04   5.92113417e-01   9.06742935e+02]\n",
      "[ -2.72135014e-04   3.39833775e-01   1.61165318e+02]\n",
      "[ -3.95669093e-04   5.71639686e-01   9.13065018e+02]\n"
     ]
    },
    {
     "name": "stderr",
     "output_type": "stream",
     "text": [
      "  8%|▊         | 105/1261 [00:15<02:51,  6.74it/s]"
     ]
    },
    {
     "name": "stdout",
     "output_type": "stream",
     "text": [
      "[ -2.71246508e-04   3.39064024e-01   1.62838681e+02]\n",
      "[ -3.92937212e-04   5.73087565e-01   9.13585892e+02]\n",
      "[ -2.71246508e-04   3.39064024e-01   1.62838681e+02]\n",
      "[ -3.92937212e-04   5.73087565e-01   9.13585892e+02]\n"
     ]
    },
    {
     "name": "stderr",
     "output_type": "stream",
     "text": [
      "  8%|▊         | 107/1261 [00:15<02:46,  6.94it/s]"
     ]
    },
    {
     "name": "stdout",
     "output_type": "stream",
     "text": [
      "[ -2.49190320e-04   3.27745190e-01   1.59127514e+02]\n",
      "[ -3.86621463e-04   5.56526212e-01   9.32105738e+02]\n",
      "[ -2.52925422e-04   3.32682678e-01   1.57100951e+02]\n",
      "[ -4.76448230e-04   6.41258667e-01   9.20797267e+02]\n"
     ]
    },
    {
     "name": "stderr",
     "output_type": "stream",
     "text": [
      "  9%|▊         | 109/1261 [00:15<02:48,  6.82it/s]"
     ]
    },
    {
     "name": "stdout",
     "output_type": "stream",
     "text": [
      "[ -2.52925422e-04   3.32682678e-01   1.57100951e+02]\n",
      "[ -4.76448230e-04   6.41258667e-01   9.20797267e+02]\n",
      "[ -2.52925422e-04   3.32682678e-01   1.57100951e+02]\n",
      "[ -4.76448230e-04   6.41258667e-01   9.20797267e+02]\n"
     ]
    },
    {
     "name": "stderr",
     "output_type": "stream",
     "text": [
      "  9%|▉         | 111/1261 [00:16<02:42,  7.09it/s]"
     ]
    },
    {
     "name": "stdout",
     "output_type": "stream",
     "text": [
      "[ -2.52925422e-04   3.32682678e-01   1.57100951e+02]\n",
      "[ -4.76448230e-04   6.41258667e-01   9.20797267e+02]\n",
      "[ -2.52925422e-04   3.32682678e-01   1.57100951e+02]\n",
      "[ -4.76448230e-04   6.41258667e-01   9.20797267e+02]\n"
     ]
    },
    {
     "name": "stderr",
     "output_type": "stream",
     "text": [
      "  9%|▉         | 113/1261 [00:16<02:52,  6.66it/s]"
     ]
    },
    {
     "name": "stdout",
     "output_type": "stream",
     "text": [
      "[ -2.52925422e-04   3.32682678e-01   1.57100951e+02]\n",
      "[ -4.76448230e-04   6.41258667e-01   9.20797267e+02]\n",
      "[ -2.52925422e-04   3.32682678e-01   1.57100951e+02]\n",
      "[ -4.76448230e-04   6.41258667e-01   9.20797267e+02]\n"
     ]
    },
    {
     "name": "stderr",
     "output_type": "stream",
     "text": [
      "  9%|▉         | 115/1261 [00:16<02:43,  7.00it/s]"
     ]
    },
    {
     "name": "stdout",
     "output_type": "stream",
     "text": [
      "[ -2.52925422e-04   3.32682678e-01   1.57100951e+02]\n",
      "[ -4.76448230e-04   6.41258667e-01   9.20797267e+02]\n",
      "[ -2.52925422e-04   3.32682678e-01   1.57100951e+02]\n",
      "[ -4.76448230e-04   6.41258667e-01   9.20797267e+02]\n"
     ]
    },
    {
     "name": "stderr",
     "output_type": "stream",
     "text": [
      "  9%|▉         | 117/1261 [00:16<02:50,  6.71it/s]"
     ]
    },
    {
     "name": "stdout",
     "output_type": "stream",
     "text": [
      "[ -2.52925422e-04   3.32682678e-01   1.57100951e+02]\n",
      "[ -4.76448230e-04   6.41258667e-01   9.20797267e+02]\n",
      "[ -2.52925422e-04   3.32682678e-01   1.57100951e+02]\n",
      "[ -4.76448230e-04   6.41258667e-01   9.20797267e+02]\n"
     ]
    },
    {
     "name": "stderr",
     "output_type": "stream",
     "text": [
      "  9%|▉         | 119/1261 [00:17<02:43,  6.99it/s]"
     ]
    },
    {
     "name": "stdout",
     "output_type": "stream",
     "text": [
      "[ -2.52925422e-04   3.32682678e-01   1.57100951e+02]\n",
      "[ -4.76448230e-04   6.41258667e-01   9.20797267e+02]\n",
      "[ -3.47094113e-04   4.14373754e-01   1.58738917e+02]\n",
      "[ -4.13630248e-04   6.07062017e-01   9.22960765e+02]\n"
     ]
    },
    {
     "name": "stderr",
     "output_type": "stream",
     "text": [
      " 10%|▉         | 121/1261 [00:17<02:45,  6.90it/s]"
     ]
    },
    {
     "name": "stdout",
     "output_type": "stream",
     "text": [
      "[ -3.53578624e-04   4.20984474e-01   1.60414049e+02]\n",
      "[ -4.36487412e-04   6.52858890e-01   9.02855207e+02]\n",
      "[ -3.74389468e-04   4.42144755e-01   1.55891738e+02]\n",
      "[ -4.04349755e-04   6.19219128e-01   9.14786783e+02]\n"
     ]
    },
    {
     "name": "stderr",
     "output_type": "stream",
     "text": [
      " 10%|▉         | 123/1261 [00:17<02:42,  6.99it/s]"
     ]
    },
    {
     "name": "stdout",
     "output_type": "stream",
     "text": [
      "[ -3.65862417e-04   4.38924960e-01   1.56627573e+02]\n",
      "[ -3.08813516e-04   5.65790317e-01   9.18006404e+02]\n",
      "[ -3.92556769e-04   4.60853759e-01   1.55842308e+02]\n",
      "[ -3.14600050e-04   5.68258275e-01   9.13270300e+02]\n"
     ]
    },
    {
     "name": "stderr",
     "output_type": "stream",
     "text": [
      " 10%|▉         | 125/1261 [00:18<02:53,  6.55it/s]"
     ]
    },
    {
     "name": "stdout",
     "output_type": "stream",
     "text": [
      "[ -3.71952925e-04   4.48373272e-01   1.56994158e+02]\n",
      "[ -3.32157466e-04   5.80913397e-01   9.10320056e+02]\n",
      "[ -3.78855745e-04   4.57575242e-01   1.55559860e+02]\n",
      "[ -3.16454204e-04   5.75285774e-01   9.07880303e+02]\n"
     ]
    },
    {
     "name": "stderr",
     "output_type": "stream",
     "text": [
      " 10%|█         | 127/1261 [00:18<02:44,  6.88it/s]"
     ]
    },
    {
     "name": "stdout",
     "output_type": "stream",
     "text": [
      "[ -3.53864421e-04   4.45007531e-01   1.52696843e+02]\n",
      "[ -4.15196255e-04   6.12975681e-01   9.20590565e+02]\n",
      "[ -3.56760513e-04   4.50307734e-01   1.52069773e+02]\n",
      "[ -3.58587414e-04   5.90425690e-01   9.15815457e+02]\n"
     ]
    },
    {
     "name": "stderr",
     "output_type": "stream",
     "text": [
      " 10%|█         | 129/1261 [00:18<02:46,  6.80it/s]"
     ]
    },
    {
     "name": "stdout",
     "output_type": "stream",
     "text": [
      "[ -3.40433804e-04   4.42864211e-01   1.50619885e+02]\n",
      "[ -4.08249073e-04   6.28721982e-01   9.13166466e+02]\n",
      "[ -3.41082334e-04   4.43982693e-01   1.53880900e+02]\n",
      "[ -4.26343853e-04   6.75425297e-01   8.88736468e+02]\n"
     ]
    },
    {
     "name": "stderr",
     "output_type": "stream",
     "text": [
      " 10%|█         | 131/1261 [00:18<02:43,  6.92it/s]"
     ]
    },
    {
     "name": "stdout",
     "output_type": "stream",
     "text": [
      "[ -3.29849315e-04   4.34843928e-01   1.54117940e+02]\n",
      "[ -3.40110872e-04   5.86320859e-01   9.10535994e+02]\n",
      "[ -3.19229626e-04   4.25457193e-01   1.56447028e+02]\n",
      "[ -4.06795057e-04   6.64949478e-01   8.88982562e+02]\n"
     ]
    },
    {
     "name": "stderr",
     "output_type": "stream",
     "text": [
      " 11%|█         | 133/1261 [00:19<02:43,  6.90it/s]"
     ]
    },
    {
     "name": "stdout",
     "output_type": "stream",
     "text": [
      "[ -3.22202247e-04   4.27539925e-01   1.58601690e+02]\n",
      "[ -3.08427312e-04   5.72707833e-01   9.06037994e+02]\n",
      "[ -3.07057949e-04   4.17129581e-01   1.59617023e+02]\n",
      "[ -3.27439461e-04   5.85395721e-01   9.08970708e+02]\n"
     ]
    },
    {
     "name": "stderr",
     "output_type": "stream",
     "text": [
      " 11%|█         | 135/1261 [00:19<02:37,  7.13it/s]"
     ]
    },
    {
     "name": "stdout",
     "output_type": "stream",
     "text": [
      "[ -3.00713039e-04   4.12354391e-01   1.61546425e+02]\n",
      "[ -3.67695758e-04   6.13964012e-01   9.03606726e+02]\n",
      "[ -2.91603082e-04   4.06882676e-01   1.62305998e+02]\n",
      "[ -3.56058479e-04   5.93641226e-01   9.13376259e+02]\n"
     ]
    },
    {
     "name": "stderr",
     "output_type": "stream",
     "text": [
      " 11%|█         | 137/1261 [00:19<02:47,  6.69it/s]"
     ]
    },
    {
     "name": "stdout",
     "output_type": "stream",
     "text": [
      "[ -2.76910374e-04   3.95831023e-01   1.63625522e+02]\n",
      "[ -3.80197430e-04   6.07177062e-01   9.16413991e+02]\n",
      "[ -2.76910374e-04   3.95831023e-01   1.63625522e+02]\n",
      "[ -3.80197430e-04   6.07177062e-01   9.16413991e+02]\n"
     ]
    },
    {
     "name": "stderr",
     "output_type": "stream",
     "text": [
      " 11%|█         | 139/1261 [00:20<02:48,  6.67it/s]"
     ]
    },
    {
     "name": "stdout",
     "output_type": "stream",
     "text": [
      "[ -2.76910374e-04   3.95831023e-01   1.63625522e+02]\n",
      "[ -3.80197430e-04   6.07177062e-01   9.16413991e+02]\n",
      "[ -2.55516278e-04   3.78135537e-01   1.61461888e+02]\n",
      "[ -3.21645304e-04   5.12138277e-01   9.60161035e+02]\n"
     ]
    },
    {
     "name": "stderr",
     "output_type": "stream",
     "text": [
      " 11%|█         | 141/1261 [00:20<02:50,  6.56it/s]"
     ]
    },
    {
     "name": "stdout",
     "output_type": "stream",
     "text": [
      "[ -2.41476623e-04   3.67569509e-01   1.59515331e+02]\n",
      "[ -3.30015692e-04   5.09877488e-01   9.68929431e+02]\n",
      "[ -2.36995670e-04   3.60845738e-01   1.61558329e+02]\n",
      "[ -2.70060939e-04   4.70455464e-01   9.70996197e+02]\n"
     ]
    },
    {
     "name": "stderr",
     "output_type": "stream",
     "text": [
      " 11%|█▏        | 143/1261 [00:20<02:40,  6.96it/s]"
     ]
    },
    {
     "name": "stdout",
     "output_type": "stream",
     "text": [
      "[ -2.39734552e-04   3.59061078e-01   1.63172858e+02]\n",
      "[ -1.92774030e-04   4.07415504e-01   9.79305955e+02]\n",
      "[ -2.48655197e-04   3.58589011e-01   1.66866307e+02]\n",
      "[ -1.73212263e-04   4.03759358e-01   9.70126323e+02]\n"
     ]
    },
    {
     "name": "stderr",
     "output_type": "stream",
     "text": [
      " 11%|█▏        | 145/1261 [00:21<02:44,  6.78it/s]"
     ]
    },
    {
     "name": "stdout",
     "output_type": "stream",
     "text": [
      "[ -2.51695819e-04   3.58549932e-01   1.67158357e+02]\n",
      "[ -2.52781969e-04   4.77873760e-01   9.53667693e+02]\n",
      "[ -2.38492562e-04   3.48137731e-01   1.67971652e+02]\n",
      "[ -2.34422844e-04   4.63868784e-01   9.55919158e+02]\n"
     ]
    },
    {
     "name": "stderr",
     "output_type": "stream",
     "text": [
      " 12%|█▏        | 147/1261 [00:21<02:43,  6.83it/s]"
     ]
    },
    {
     "name": "stdout",
     "output_type": "stream",
     "text": [
      "[ -2.32906437e-04   3.37879577e-01   1.73104326e+02]\n",
      "[ -2.64936739e-04   4.96102262e-01   9.47137913e+02]\n",
      "[ -2.22748551e-04   3.30570784e-01   1.73775240e+02]\n",
      "[ -2.52865982e-04   4.99641258e-01   9.44733702e+02]\n"
     ]
    },
    {
     "name": "stderr",
     "output_type": "stream",
     "text": [
      " 12%|█▏        | 149/1261 [00:21<02:53,  6.41it/s]"
     ]
    },
    {
     "name": "stdout",
     "output_type": "stream",
     "text": [
      "[ -2.34161962e-04   3.31072853e-01   1.82040955e+02]\n",
      "[ -2.49338417e-04   5.17947120e-01   9.25847535e+02]\n",
      "[ -2.29399240e-04   3.23662796e-01   1.84598594e+02]\n",
      "[ -2.34099500e-04   5.06857470e-01   9.27178542e+02]\n"
     ]
    },
    {
     "name": "stderr",
     "output_type": "stream",
     "text": [
      " 12%|█▏        | 151/1261 [00:21<02:44,  6.77it/s]"
     ]
    },
    {
     "name": "stdout",
     "output_type": "stream",
     "text": [
      "[ -2.13222541e-04   3.16255693e-01   1.82453109e+02]\n",
      "[ -1.82014085e-04   4.44205394e-01   9.47551327e+02]\n",
      "[ -2.18287976e-04   3.23491715e-01   1.78642854e+02]\n",
      "[ -2.12855656e-04   4.48287564e-01   9.54122440e+02]\n"
     ]
    },
    {
     "name": "stderr",
     "output_type": "stream",
     "text": [
      " 12%|█▏        | 153/1261 [00:22<02:58,  6.19it/s]"
     ]
    },
    {
     "name": "stdout",
     "output_type": "stream",
     "text": [
      "[ -2.18287976e-04   3.23491715e-01   1.78642854e+02]\n",
      "[ -2.12855656e-04   4.48287564e-01   9.54122440e+02]\n",
      "[ -2.25990455e-04   3.30013523e-01   1.75872803e+02]\n",
      "[ -3.03573635e-04   5.31258070e-01   9.33468212e+02]\n"
     ]
    },
    {
     "name": "stderr",
     "output_type": "stream",
     "text": [
      " 12%|█▏        | 155/1261 [00:22<02:46,  6.62it/s]"
     ]
    },
    {
     "name": "stdout",
     "output_type": "stream",
     "text": [
      "[ -2.07837263e-04   3.19606251e-01   1.72299675e+02]\n",
      "[ -2.06494540e-04   4.23269951e-01   9.66613401e+02]\n",
      "[ -2.17403541e-04   3.28847576e-01   1.66960312e+02]\n",
      "[ -2.06425682e-04   4.14624402e-01   9.73632141e+02]\n"
     ]
    },
    {
     "name": "stderr",
     "output_type": "stream",
     "text": [
      " 12%|█▏        | 157/1261 [00:22<02:53,  6.37it/s]"
     ]
    },
    {
     "name": "stdout",
     "output_type": "stream",
     "text": [
      "[ -2.31383606e-04   3.40395548e-01   1.63809287e+02]\n",
      "[ -2.54184138e-04   4.66797950e-01   9.58383380e+02]\n",
      "[ -2.25613712e-04   3.36929648e-01   1.62220953e+02]\n",
      "[ -2.77570998e-04   4.86880647e-01   9.54020262e+02]\n"
     ]
    },
    {
     "name": "stderr",
     "output_type": "stream",
     "text": [
      " 13%|█▎        | 159/1261 [00:23<02:50,  6.46it/s]"
     ]
    },
    {
     "name": "stdout",
     "output_type": "stream",
     "text": [
      "[ -2.57485428e-04   3.56876692e-01   1.62398069e+02]\n",
      "[ -3.05832858e-04   5.31697062e-01   9.31959991e+02]\n",
      "[ -2.67648002e-04   3.68266867e-01   1.56480267e+02]\n",
      "[ -3.26402397e-04   5.16176860e-01   9.43602677e+02]\n"
     ]
    },
    {
     "name": "stderr",
     "output_type": "stream",
     "text": [
      "\r",
      " 13%|█▎        | 160/1261 [00:23<02:58,  6.18it/s]"
     ]
    },
    {
     "name": "stdout",
     "output_type": "stream",
     "text": [
      "[ -2.90228002e-04   3.87299984e-01   1.52435067e+02]\n",
      "[ -3.00379392e-04   5.27457598e-01   9.30568160e+02]\n",
      "[ -2.71931459e-04   3.80387681e-01   1.47723089e+02]\n",
      "[ -3.37834969e-04   5.51060582e-01   9.32008150e+02]\n"
     ]
    },
    {
     "name": "stderr",
     "output_type": "stream",
     "text": [
      " 13%|█▎        | 163/1261 [00:23<02:51,  6.39it/s]"
     ]
    },
    {
     "name": "stdout",
     "output_type": "stream",
     "text": [
      "[ -2.76388658e-04   3.86960253e-01   1.43669563e+02]\n",
      "[ -2.83477856e-04   5.19838454e-01   9.34632945e+02]\n",
      "[ -2.70841477e-04   3.87356719e-01   1.39312414e+02]\n",
      "[ -2.66471665e-04   4.74670443e-01   9.56574772e+02]\n"
     ]
    },
    {
     "name": "stderr",
     "output_type": "stream",
     "text": [
      " 13%|█▎        | 165/1261 [00:24<02:54,  6.29it/s]"
     ]
    },
    {
     "name": "stdout",
     "output_type": "stream",
     "text": [
      "[ -2.70841477e-04   3.87356719e-01   1.39312414e+02]\n",
      "[ -2.66471665e-04   4.74670443e-01   9.56574772e+02]\n",
      "[ -2.76148813e-04   3.88356419e-01   1.43254789e+02]\n",
      "[ -2.57388880e-04   5.01557327e-01   9.29250281e+02]\n"
     ]
    },
    {
     "name": "stderr",
     "output_type": "stream",
     "text": [
      " 13%|█▎        | 167/1261 [00:24<02:45,  6.60it/s]"
     ]
    },
    {
     "name": "stdout",
     "output_type": "stream",
     "text": [
      "[ -2.76729363e-04   3.93702336e-01   1.38641517e+02]\n",
      "[ -1.88145166e-04   4.41757194e-01   9.39430680e+02]\n",
      "[ -2.76729363e-04   3.93702336e-01   1.38641517e+02]\n",
      "[ -1.88145166e-04   4.41757194e-01   9.39430680e+02]\n"
     ]
    },
    {
     "name": "stderr",
     "output_type": "stream",
     "text": [
      " 13%|█▎        | 169/1261 [00:24<02:46,  6.58it/s]"
     ]
    },
    {
     "name": "stdout",
     "output_type": "stream",
     "text": [
      "[ -2.76729363e-04   3.93702336e-01   1.38641517e+02]\n",
      "[ -1.88145166e-04   4.41757194e-01   9.39430680e+02]\n",
      "[ -2.35414162e-04   3.68129057e-01   1.35035202e+02]\n",
      "[ -2.18317585e-04   4.51356553e-01   9.47465579e+02]\n"
     ]
    },
    {
     "name": "stderr",
     "output_type": "stream",
     "text": [
      " 14%|█▎        | 171/1261 [00:25<02:36,  6.97it/s]"
     ]
    },
    {
     "name": "stdout",
     "output_type": "stream",
     "text": [
      "[ -2.20267641e-04   3.62339204e-01   1.29349231e+02]\n",
      "[ -2.77942654e-04   4.98798119e-01   9.42962808e+02]\n",
      "[ -2.02577431e-04   3.48884467e-01   1.29418299e+02]\n",
      "[ -3.01310498e-04   4.86089427e-01   9.51320325e+02]\n"
     ]
    },
    {
     "name": "stderr",
     "output_type": "stream",
     "text": [
      " 14%|█▎        | 173/1261 [00:25<02:37,  6.92it/s]"
     ]
    },
    {
     "name": "stdout",
     "output_type": "stream",
     "text": [
      "[ -2.02577431e-04   3.48884467e-01   1.29418299e+02]\n",
      "[ -3.01310498e-04   4.86089427e-01   9.51320325e+02]\n",
      "[ -2.02577431e-04   3.48884467e-01   1.29418299e+02]\n",
      "[ -3.01310498e-04   4.86089427e-01   9.51320325e+02]\n"
     ]
    },
    {
     "name": "stderr",
     "output_type": "stream",
     "text": [
      " 14%|█▍        | 175/1261 [00:25<02:38,  6.86it/s]"
     ]
    },
    {
     "name": "stdout",
     "output_type": "stream",
     "text": [
      "[ -2.23143637e-04   3.58013079e-01   1.30561891e+02]\n",
      "[ -2.78960669e-04   5.01154518e-01   9.25654196e+02]\n",
      "[ -2.37613275e-04   3.67144169e-01   1.30459786e+02]\n",
      "[ -3.24473589e-04   5.66872407e-01   9.01083550e+02]\n"
     ]
    },
    {
     "name": "stderr",
     "output_type": "stream",
     "text": [
      " 14%|█▍        | 177/1261 [00:25<02:39,  6.81it/s]"
     ]
    },
    {
     "name": "stdout",
     "output_type": "stream",
     "text": [
      "[ -2.37613275e-04   3.67144169e-01   1.30459786e+02]\n",
      "[ -3.24473589e-04   5.66872407e-01   9.01083550e+02]\n",
      "[ -2.37613275e-04   3.67144169e-01   1.30459786e+02]\n",
      "[ -3.24473589e-04   5.66872407e-01   9.01083550e+02]\n"
     ]
    },
    {
     "name": "stderr",
     "output_type": "stream",
     "text": [
      " 14%|█▍        | 179/1261 [00:26<02:36,  6.90it/s]"
     ]
    },
    {
     "name": "stdout",
     "output_type": "stream",
     "text": [
      "[ -2.11898189e-04   3.48406907e-01   1.26560784e+02]\n",
      "[ -3.90925291e-04   5.94982738e-01   9.15121500e+02]\n",
      "[ -2.28048473e-04   3.59280057e-01   1.25423588e+02]\n",
      "[ -4.73188289e-04   6.69939175e-01   9.04453994e+02]\n"
     ]
    },
    {
     "name": "stderr",
     "output_type": "stream",
     "text": [
      " 14%|█▍        | 181/1261 [00:26<02:36,  6.91it/s]"
     ]
    },
    {
     "name": "stdout",
     "output_type": "stream",
     "text": [
      "[ -2.51549723e-04   3.71495296e-01   1.24479543e+02]\n",
      "[ -4.87251697e-04   6.84335231e-01   9.06691855e+02]\n",
      "[ -2.92146390e-04   3.93120245e-01   1.28078521e+02]\n",
      "[ -5.44484423e-04   7.62388365e-01   8.81448948e+02]\n"
     ]
    },
    {
     "name": "stderr",
     "output_type": "stream",
     "text": [
      " 15%|█▍        | 183/1261 [00:26<02:33,  7.02it/s]"
     ]
    },
    {
     "name": "stdout",
     "output_type": "stream",
     "text": [
      "[ -3.04709666e-04   4.01571096e-01   1.25194280e+02]\n",
      "[ -4.94096586e-04   7.02798416e-01   9.01726400e+02]\n",
      "[ -3.26873261e-04   4.10136225e-01   1.29717273e+02]\n",
      "[ -5.08902486e-04   7.42389880e-01   8.82695750e+02]\n"
     ]
    },
    {
     "name": "stderr",
     "output_type": "stream",
     "text": [
      " 15%|█▍        | 185/1261 [00:27<02:42,  6.62it/s]"
     ]
    },
    {
     "name": "stdout",
     "output_type": "stream",
     "text": [
      "[ -3.61580399e-04   4.32359652e-01   1.30542591e+02]\n",
      "[ -4.80329509e-04   7.52345674e-01   8.67112725e+02]\n",
      "[ -3.91287955e-04   4.50855786e-01   1.31847242e+02]\n",
      "[ -4.71341840e-04   7.62064963e-01   8.56768965e+02]\n"
     ]
    },
    {
     "name": "stderr",
     "output_type": "stream",
     "text": [
      " 15%|█▍        | 187/1261 [00:27<02:34,  6.95it/s]"
     ]
    },
    {
     "name": "stdout",
     "output_type": "stream",
     "text": [
      "[ -4.57999339e-04   5.00878956e-01   1.31651606e+02]\n",
      "[ -4.67350221e-04   7.89076515e-01   8.31583817e+02]\n",
      "[ -4.41920044e-04   4.88168932e-01   1.35079230e+02]\n",
      "[ -4.79730667e-04   8.06970832e-01   8.25096894e+02]\n"
     ]
    },
    {
     "name": "stderr",
     "output_type": "stream",
     "text": [
      " 15%|█▍        | 189/1261 [00:27<02:44,  6.52it/s]"
     ]
    },
    {
     "name": "stdout",
     "output_type": "stream",
     "text": [
      "[ -4.58975411e-04   5.05489845e-01   1.34708360e+02]\n",
      "[ -3.82135457e-04   7.21552078e-01   8.38329810e+02]\n",
      "[ -4.48497595e-04   5.02386698e-01   1.34817005e+02]\n",
      "[ -4.59198124e-04   7.83345075e-01   8.28118952e+02]\n"
     ]
    },
    {
     "name": "stderr",
     "output_type": "stream",
     "text": [
      " 15%|█▌        | 191/1261 [00:28<02:41,  6.64it/s]"
     ]
    },
    {
     "name": "stdout",
     "output_type": "stream",
     "text": [
      "[ -4.34748428e-04   4.97497831e-01   1.35572715e+02]\n",
      "[ -4.33607350e-04   7.73492607e-01   8.24787215e+02]\n",
      "[ -4.34748428e-04   4.97497831e-01   1.35572715e+02]\n",
      "[ -4.33607350e-04   7.73492607e-01   8.24787215e+02]\n"
     ]
    },
    {
     "name": "stderr",
     "output_type": "stream",
     "text": [
      " 15%|█▌        | 193/1261 [00:28<02:43,  6.53it/s]"
     ]
    },
    {
     "name": "stdout",
     "output_type": "stream",
     "text": [
      "[ -4.12607661e-04   4.90674660e-01   1.36298132e+02]\n",
      "[ -3.55832411e-04   6.96799858e-01   8.41083190e+02]\n",
      "[ -3.98728887e-04   4.84207624e-01   1.39101454e+02]\n",
      "[ -3.71513204e-04   7.23321363e-01   8.30008753e+02]\n"
     ]
    },
    {
     "name": "stderr",
     "output_type": "stream",
     "text": [
      " 15%|█▌        | 195/1261 [00:28<02:38,  6.74it/s]"
     ]
    },
    {
     "name": "stdout",
     "output_type": "stream",
     "text": [
      "[ -3.75532584e-04   4.70489051e-01   1.40245618e+02]\n",
      "[ -3.51282212e-04   6.90718619e-01   8.42272435e+02]\n",
      "[ -3.70052203e-04   4.67320216e-01   1.40674426e+02]\n",
      "[ -3.52496716e-04   6.92470442e-01   8.42402575e+02]\n"
     ]
    },
    {
     "name": "stderr",
     "output_type": "stream",
     "text": [
      " 16%|█▌        | 197/1261 [00:28<02:45,  6.41it/s]"
     ]
    },
    {
     "name": "stdout",
     "output_type": "stream",
     "text": [
      "[ -3.28162531e-04   4.43108530e-01   1.34331273e+02]\n",
      "[ -3.72475765e-04   6.36641291e-01   8.85026689e+02]\n",
      "[ -2.91903195e-04   4.24076428e-01   1.26922539e+02]\n",
      "[ -3.69483936e-04   5.87919492e-01   9.19463683e+02]\n"
     ]
    },
    {
     "name": "stderr",
     "output_type": "stream",
     "text": [
      " 16%|█▌        | 199/1261 [00:29<02:40,  6.60it/s]"
     ]
    },
    {
     "name": "stdout",
     "output_type": "stream",
     "text": [
      "[ -2.69347449e-04   4.16440692e-01   1.17644954e+02]\n",
      "[ -3.17239133e-04   5.08178418e-01   9.55322165e+02]\n",
      "[ -2.49012086e-04   4.09437983e-01   1.09192569e+02]\n",
      "[ -2.64497639e-04   4.40166320e-01   9.84414261e+02]\n"
     ]
    },
    {
     "name": "stderr",
     "output_type": "stream",
     "text": [
      " 16%|█▌        | 201/1261 [00:29<02:47,  6.32it/s]"
     ]
    },
    {
     "name": "stdout",
     "output_type": "stream",
     "text": [
      "[ -2.39914553e-04   3.99689663e-01   1.10866654e+02]\n",
      "[ -2.97339313e-04   4.88243299e-01   9.66032964e+02]\n",
      "[ -2.16846626e-04   3.82798128e-01   1.09323537e+02]\n",
      "[ -3.20492719e-04   4.94746676e-01   9.69825060e+02]\n"
     ]
    },
    {
     "name": "stderr",
     "output_type": "stream",
     "text": [
      " 16%|█▌        | 203/1261 [00:29<02:36,  6.78it/s]"
     ]
    },
    {
     "name": "stdout",
     "output_type": "stream",
     "text": [
      "[ -2.22157880e-04   3.79917221e-01   1.12907470e+02]\n",
      "[ -3.72093380e-04   5.71716190e-01   9.39188159e+02]\n",
      "[ -2.23952427e-04   3.73007584e-01   1.17544690e+02]\n",
      "[ -3.13984889e-04   5.38472251e-01   9.35279085e+02]\n"
     ]
    },
    {
     "name": "stderr",
     "output_type": "stream",
     "text": [
      " 16%|█▋        | 205/1261 [00:30<02:41,  6.53it/s]"
     ]
    },
    {
     "name": "stdout",
     "output_type": "stream",
     "text": [
      "[ -2.43347440e-04   3.84881222e-01   1.15195685e+02]\n",
      "[ -3.12559368e-04   5.46071253e-01   9.29922409e+02]\n",
      "[ -2.68224593e-04   3.98826886e-01   1.17949266e+02]\n",
      "[ -2.41062945e-04   4.86745965e-01   9.34237853e+02]\n"
     ]
    },
    {
     "name": "stderr",
     "output_type": "stream",
     "text": [
      " 16%|█▋        | 207/1261 [00:30<02:35,  6.79it/s]"
     ]
    },
    {
     "name": "stdout",
     "output_type": "stream",
     "text": [
      "[ -2.68224593e-04   3.98826886e-01   1.17949266e+02]\n",
      "[ -2.41062945e-04   4.86745965e-01   9.34237853e+02]\n",
      "[ -3.28981460e-04   4.37115140e-01   1.22735641e+02]\n",
      "[ -3.40555177e-04   6.23390194e-01   8.83114057e+02]\n"
     ]
    },
    {
     "name": "stderr",
     "output_type": "stream",
     "text": [
      " 17%|█▋        | 209/1261 [00:30<02:37,  6.70it/s]"
     ]
    },
    {
     "name": "stdout",
     "output_type": "stream",
     "text": [
      "[ -3.45677076e-04   4.46680055e-01   1.25114213e+02]\n",
      "[ -3.27184191e-04   6.28875939e-01   8.73213185e+02]\n",
      "[ -3.14994310e-04   4.28596458e-01   1.23942398e+02]\n",
      "[ -3.52939646e-04   6.30517783e-01   8.83014956e+02]\n"
     ]
    },
    {
     "name": "stderr",
     "output_type": "stream",
     "text": [
      " 17%|█▋        | 211/1261 [00:31<02:31,  6.92it/s]"
     ]
    },
    {
     "name": "stdout",
     "output_type": "stream",
     "text": [
      "[ -3.14994310e-04   4.28596458e-01   1.23942398e+02]\n",
      "[ -3.52939646e-04   6.30517783e-01   8.83014956e+02]\n",
      "[ -3.02252236e-04   4.28696990e-01   1.15234990e+02]\n",
      "[ -2.80145004e-04   5.32222807e-01   9.24674787e+02]\n"
     ]
    },
    {
     "name": "stderr",
     "output_type": "stream",
     "text": [
      " 17%|█▋        | 213/1261 [00:31<02:38,  6.61it/s]"
     ]
    },
    {
     "name": "stdout",
     "output_type": "stream",
     "text": [
      "[ -3.04568611e-04   4.29898363e-01   1.16377969e+02]\n",
      "[ -2.82620508e-04   5.39179832e-01   9.19371225e+02]\n",
      "[ -3.04568611e-04   4.29898363e-01   1.16377969e+02]\n",
      "[ -2.82620508e-04   5.39179832e-01   9.19371225e+02]\n"
     ]
    },
    {
     "name": "stderr",
     "output_type": "stream",
     "text": [
      " 17%|█▋        | 215/1261 [00:31<02:30,  6.95it/s]"
     ]
    },
    {
     "name": "stdout",
     "output_type": "stream",
     "text": [
      "[ -3.04568611e-04   4.29898363e-01   1.16377969e+02]\n",
      "[ -2.82620508e-04   5.39179832e-01   9.19371225e+02]\n",
      "[ -3.34224514e-04   4.56133670e-01   1.09730005e+02]\n",
      "[ -2.98083138e-04   5.68583671e-01   8.99661142e+02]\n"
     ]
    },
    {
     "name": "stderr",
     "output_type": "stream",
     "text": [
      " 17%|█▋        | 217/1261 [00:31<02:37,  6.64it/s]"
     ]
    },
    {
     "name": "stdout",
     "output_type": "stream",
     "text": [
      "[ -3.34723686e-04   4.60010768e-01   1.06456425e+02]\n",
      "[ -1.98969428e-04   4.76436854e-01   9.16230012e+02]\n",
      "[ -3.40872600e-04   4.66038601e-01   1.04470448e+02]\n",
      "[ -1.79065756e-04   4.62162394e-01   9.12706131e+02]\n"
     ]
    },
    {
     "name": "stderr",
     "output_type": "stream",
     "text": [
      " 17%|█▋        | 219/1261 [00:32<02:31,  6.90it/s]"
     ]
    },
    {
     "name": "stdout",
     "output_type": "stream",
     "text": [
      "[ -3.18981879e-04   4.55974974e-01   1.00182244e+02]\n",
      "[ -1.52554487e-04   4.14789582e-01   9.31416026e+02]\n",
      "[ -3.18981879e-04   4.55974974e-01   1.00182244e+02]\n",
      "[ -1.52554487e-04   4.14789582e-01   9.31416026e+02]\n"
     ]
    },
    {
     "name": "stderr",
     "output_type": "stream",
     "text": [
      " 18%|█▊        | 221/1261 [00:32<02:34,  6.74it/s]"
     ]
    },
    {
     "name": "stdout",
     "output_type": "stream",
     "text": [
      "[ -3.18981879e-04   4.55974974e-01   1.00182244e+02]\n",
      "[ -1.52554487e-04   4.14789582e-01   9.31416026e+02]\n",
      "[ -3.18981879e-04   4.55974974e-01   1.00182244e+02]\n",
      "[ -1.52554487e-04   4.14789582e-01   9.31416026e+02]\n"
     ]
    },
    {
     "name": "stderr",
     "output_type": "stream",
     "text": [
      " 18%|█▊        | 223/1261 [00:32<02:31,  6.87it/s]"
     ]
    },
    {
     "name": "stdout",
     "output_type": "stream",
     "text": [
      "[ -3.18981879e-04   4.55974974e-01   1.00182244e+02]\n",
      "[ -1.52554487e-04   4.14789582e-01   9.31416026e+02]\n",
      "[ -2.59154564e-04   4.23872628e-01   9.60144609e+01]\n",
      "[ -2.45280707e-04   4.99387407e-01   9.10715890e+02]\n"
     ]
    },
    {
     "name": "stderr",
     "output_type": "stream",
     "text": [
      " 18%|█▊        | 225/1261 [00:33<02:41,  6.40it/s]"
     ]
    },
    {
     "name": "stdout",
     "output_type": "stream",
     "text": [
      "[ -2.62864171e-04   4.22343309e-01   1.01013667e+02]\n",
      "[ -2.32106234e-04   5.12598874e-01   8.94038823e+02]\n",
      "[ -2.53156194e-04   4.17204611e-01   9.86693984e+01]\n",
      "[ -1.63050898e-04   4.37164440e-01   9.14605564e+02]\n"
     ]
    },
    {
     "name": "stderr",
     "output_type": "stream",
     "text": [
      " 18%|█▊        | 227/1261 [00:33<02:31,  6.84it/s]"
     ]
    },
    {
     "name": "stdout",
     "output_type": "stream",
     "text": [
      "[ -2.59124252e-04   4.14102389e-01   1.03018947e+02]\n",
      "[ -2.09567000e-04   4.90735935e-01   8.94120098e+02]\n",
      "[ -2.38868549e-04   4.00616472e-01   1.01717996e+02]\n",
      "[ -1.77450584e-04   4.49817728e-01   9.06300512e+02]\n"
     ]
    },
    {
     "name": "stderr",
     "output_type": "stream",
     "text": [
      " 18%|█▊        | 229/1261 [00:33<02:38,  6.52it/s]"
     ]
    },
    {
     "name": "stdout",
     "output_type": "stream",
     "text": [
      "[ -2.22086929e-04   3.89917635e-01   9.94693748e+01]\n",
      "[ -2.07750784e-04   4.66432139e-01   9.07088616e+02]\n",
      "[ -2.11648514e-04   3.75193338e-01   1.02138266e+02]\n",
      "[ -1.80670350e-04   4.31730475e-01   9.15650210e+02]\n"
     ]
    },
    {
     "name": "stderr",
     "output_type": "stream",
     "text": [
      " 18%|█▊        | 231/1261 [00:34<02:31,  6.79it/s]"
     ]
    },
    {
     "name": "stdout",
     "output_type": "stream",
     "text": [
      "[ -2.16200734e-04   3.82627014e-01   9.53525363e+01]\n",
      "[ -1.38129667e-04   3.72917924e-01   9.35052762e+02]\n",
      "[ -2.16200734e-04   3.82627014e-01   9.53525363e+01]\n",
      "[ -1.38129667e-04   3.72917924e-01   9.35052762e+02]\n"
     ]
    },
    {
     "name": "stderr",
     "output_type": "stream",
     "text": [
      " 18%|█▊        | 233/1261 [00:34<02:33,  6.71it/s]"
     ]
    },
    {
     "name": "stdout",
     "output_type": "stream",
     "text": [
      "[ -2.16200734e-04   3.82627014e-01   9.53525363e+01]\n",
      "[ -1.38129667e-04   3.72917924e-01   9.35052762e+02]\n",
      "[ -2.16200734e-04   3.82627014e-01   9.53525363e+01]\n",
      "[ -1.38129667e-04   3.72917924e-01   9.35052762e+02]\n"
     ]
    },
    {
     "name": "stderr",
     "output_type": "stream",
     "text": [
      " 19%|█▊        | 235/1261 [00:34<02:28,  6.91it/s]"
     ]
    },
    {
     "name": "stdout",
     "output_type": "stream",
     "text": [
      "[ -1.99840007e-04   3.71329297e-01   8.77641488e+01]\n",
      "[ -2.33114604e-04   4.70110351e-01   9.07702866e+02]\n",
      "[ -2.04070186e-04   3.70535503e-01   8.73526333e+01]\n",
      "[ -2.66256705e-04   4.98832905e-01   8.99820572e+02]\n"
     ]
    },
    {
     "name": "stderr",
     "output_type": "stream",
     "text": [
      " 19%|█▉        | 237/1261 [00:34<02:33,  6.66it/s]"
     ]
    },
    {
     "name": "stdout",
     "output_type": "stream",
     "text": [
      "[ -2.29683525e-04   3.83023226e-01   9.06054766e+01]\n",
      "[ -2.77785602e-04   5.37105789e-01   8.76265439e+02]\n",
      "[ -2.29683525e-04   3.83023226e-01   9.06054766e+01]\n",
      "[ -2.77785602e-04   5.37105789e-01   8.76265439e+02]\n"
     ]
    },
    {
     "name": "stderr",
     "output_type": "stream",
     "text": [
      " 19%|█▉        | 239/1261 [00:35<02:28,  6.89it/s]"
     ]
    },
    {
     "name": "stdout",
     "output_type": "stream",
     "text": [
      "[ -2.40701283e-04   3.83909421e-01   9.17834604e+01]\n",
      "[ -3.11172249e-04   5.64338795e-01   8.68837755e+02]\n",
      "[ -2.45265815e-04   3.80142010e-01   9.49805224e+01]\n",
      "[ -3.96901235e-04   6.47204411e-01   8.48675370e+02]\n"
     ]
    },
    {
     "name": "stderr",
     "output_type": "stream",
     "text": [
      " 19%|█▉        | 241/1261 [00:35<02:34,  6.60it/s]"
     ]
    },
    {
     "name": "stdout",
     "output_type": "stream",
     "text": [
      "[ -2.37840759e-04   3.72583466e-01   9.52041078e+01]\n",
      "[ -3.23385534e-04   5.79837934e-01   8.63989035e+02]\n",
      "[ -2.66552194e-04   3.94961862e-01   9.13352215e+01]\n",
      "[ -3.10384847e-04   5.62366726e-01   8.68836915e+02]\n"
     ]
    },
    {
     "name": "stderr",
     "output_type": "stream",
     "text": [
      " 19%|█▉        | 243/1261 [00:35<02:31,  6.74it/s]"
     ]
    },
    {
     "name": "stdout",
     "output_type": "stream",
     "text": [
      "[ -2.56380724e-04   3.88545200e-01   8.73727510e+01]\n",
      "[ -3.47485690e-04   5.89016988e-01   8.71566709e+02]\n",
      "[ -2.80919370e-04   4.00665752e-01   9.12793494e+01]\n",
      "[ -3.54701981e-04   6.17110581e-01   8.54078605e+02]\n"
     ]
    },
    {
     "name": "stderr",
     "output_type": "stream",
     "text": [
      " 19%|█▉        | 245/1261 [00:36<02:29,  6.78it/s]"
     ]
    },
    {
     "name": "stdout",
     "output_type": "stream",
     "text": [
      "[ -2.72071625e-04   3.91743223e-01   9.15323405e+01]\n",
      "[ -3.47314899e-04   5.97425681e-01   8.62792819e+02]\n",
      "[ -2.86078005e-04   3.98224043e-01   9.31758197e+01]\n",
      "[ -3.07644804e-04   6.21387631e-01   8.39273097e+02]\n"
     ]
    },
    {
     "name": "stderr",
     "output_type": "stream",
     "text": [
      " 20%|█▉        | 247/1261 [00:36<02:23,  7.07it/s]"
     ]
    },
    {
     "name": "stdout",
     "output_type": "stream",
     "text": [
      "[ -2.97562909e-04   4.03749521e-01   9.42506510e+01]\n",
      "[ -3.56672941e-04   6.59444030e-01   8.28516614e+02]\n",
      "[ -2.96806198e-04   4.02514015e-01   9.29807093e+01]\n",
      "[ -2.99027816e-04   5.85728924e-01   8.50569250e+02]\n"
     ]
    },
    {
     "name": "stderr",
     "output_type": "stream",
     "text": [
      " 20%|█▉        | 249/1261 [00:36<02:30,  6.72it/s]"
     ]
    },
    {
     "name": "stdout",
     "output_type": "stream",
     "text": [
      "[ -3.08991447e-04   4.07861024e-01   9.74057869e+01]\n",
      "[ -3.37470892e-04   6.33338021e-01   8.30775296e+02]\n",
      "[ -2.91031852e-04   3.95223875e-01   9.60383827e+01]\n",
      "[ -3.67788360e-04   6.27339127e-01   8.46195590e+02]\n"
     ]
    },
    {
     "name": "stderr",
     "output_type": "stream",
     "text": [
      " 20%|█▉        | 251/1261 [00:36<02:25,  6.92it/s]"
     ]
    },
    {
     "name": "stdout",
     "output_type": "stream",
     "text": [
      "[ -2.97636592e-04   3.97409940e-01   9.78728312e+01]\n",
      "[ -4.07721904e-04   6.69591128e-01   8.33817892e+02]\n",
      "[ -2.81309858e-04   3.85699739e-01   9.75003911e+01]\n",
      "[ -4.14103259e-04   6.64658992e-01   8.41416179e+02]\n"
     ]
    },
    {
     "name": "stderr",
     "output_type": "stream",
     "text": [
      "\r",
      " 20%|█▉        | 252/1261 [00:37<02:28,  6.81it/s]"
     ]
    },
    {
     "name": "stdout",
     "output_type": "stream",
     "text": [
      "[ -2.81309858e-04   3.85699739e-01   9.75003911e+01]\n",
      "[ -4.14103259e-04   6.64658992e-01   8.41416179e+02]\n",
      "[ -2.71825301e-04   3.73890076e-01   1.00388553e+02]\n",
      "[ -3.74376948e-04   6.20823390e-01   8.55276620e+02]\n"
     ]
    },
    {
     "name": "stderr",
     "output_type": "stream",
     "text": [
      " 20%|██        | 255/1261 [00:37<02:29,  6.71it/s]"
     ]
    },
    {
     "name": "stdout",
     "output_type": "stream",
     "text": [
      "[ -2.57997189e-04   3.66270043e-01   9.87109424e+01]\n",
      "[ -3.74050045e-04   6.14045962e-01   8.62083793e+02]\n",
      "[ -2.70422576e-04   3.69517810e-01   1.03701378e+02]\n",
      "[ -3.85761470e-04   6.39141775e-01   8.50272866e+02]\n"
     ]
    },
    {
     "name": "stderr",
     "output_type": "stream",
     "text": [
      " 20%|██        | 257/1261 [00:37<02:29,  6.72it/s]"
     ]
    },
    {
     "name": "stdout",
     "output_type": "stream",
     "text": [
      "[ -2.72785275e-04   3.67091172e-01   1.05932854e+02]\n",
      "[ -3.42139012e-04   5.91957674e-01   8.62320578e+02]\n",
      "[ -2.78337207e-04   3.64337565e-01   1.11383472e+02]\n",
      "[ -3.10945901e-04   5.98265906e-01   8.54325933e+02]\n"
     ]
    },
    {
     "name": "stderr",
     "output_type": "stream",
     "text": [
      " 21%|██        | 259/1261 [00:38<02:22,  7.01it/s]"
     ]
    },
    {
     "name": "stdout",
     "output_type": "stream",
     "text": [
      "[ -2.73308867e-04   3.51697476e-01   1.18579545e+02]\n",
      "[ -2.95857673e-04   5.88898307e-01   8.51630014e+02]\n",
      "[ -2.84006435e-04   3.62063835e-01   1.16586759e+02]\n",
      "[ -2.90864031e-04   5.44191212e-01   8.74823303e+02]\n"
     ]
    },
    {
     "name": "stderr",
     "output_type": "stream",
     "text": [
      " 21%|██        | 261/1261 [00:38<02:29,  6.68it/s]"
     ]
    },
    {
     "name": "stdout",
     "output_type": "stream",
     "text": [
      "[ -2.61131361e-04   3.36870223e-01   1.26515724e+02]\n",
      "[ -2.74291926e-04   5.26007877e-01   8.77794850e+02]\n",
      "[ -2.41581071e-04   3.24432497e-01   1.25521488e+02]\n",
      "[ -2.09304232e-04   4.46770062e-01   9.07517340e+02]\n"
     ]
    },
    {
     "name": "stderr",
     "output_type": "stream",
     "text": [
      " 21%|██        | 263/1261 [00:38<02:26,  6.82it/s]"
     ]
    },
    {
     "name": "stdout",
     "output_type": "stream",
     "text": [
      "[ -2.41581071e-04   3.24432497e-01   1.25521488e+02]\n",
      "[ -2.09304232e-04   4.46770062e-01   9.07517340e+02]\n",
      "[ -2.15087333e-04   2.95258436e-01   1.35664310e+02]\n",
      "[ -2.74540856e-04   4.86212907e-01   9.07442144e+02]\n"
     ]
    },
    {
     "name": "stderr",
     "output_type": "stream",
     "text": [
      " 21%|██        | 265/1261 [00:39<02:30,  6.64it/s]"
     ]
    },
    {
     "name": "stdout",
     "output_type": "stream",
     "text": [
      "[ -2.01996322e-04   2.79839495e-01   1.39320570e+02]\n",
      "[ -2.87417639e-04   4.85444112e-01   9.14375791e+02]\n",
      "[ -2.28720556e-04   2.98168881e-01   1.37279287e+02]\n",
      "[ -2.20579709e-04   4.15796273e-01   9.32444640e+02]\n"
     ]
    },
    {
     "name": "stderr",
     "output_type": "stream",
     "text": [
      " 21%|██        | 267/1261 [00:39<02:28,  6.69it/s]"
     ]
    },
    {
     "name": "stdout",
     "output_type": "stream",
     "text": [
      "[ -2.26861710e-04   3.00692983e-01   1.32366576e+02]\n",
      "[ -2.75807970e-04   4.51351115e-01   9.36788975e+02]\n",
      "[ -2.25334991e-04   2.90961033e-01   1.40030526e+02]\n",
      "[ -3.09377776e-04   4.96327296e-01   9.22189712e+02]\n"
     ]
    },
    {
     "name": "stderr",
     "output_type": "stream",
     "text": [
      " 21%|██▏       | 269/1261 [00:39<02:31,  6.55it/s]"
     ]
    },
    {
     "name": "stdout",
     "output_type": "stream",
     "text": [
      "[ -2.20515926e-04   2.87457067e-01   1.39630549e+02]\n",
      "[ -2.98775483e-04   4.80138844e-01   9.29371161e+02]\n",
      "[ -2.45724035e-04   3.08267908e-01   1.34131951e+02]\n",
      "[ -2.89778642e-04   4.53107872e-01   9.46062622e+02]\n"
     ]
    },
    {
     "name": "stderr",
     "output_type": "stream",
     "text": [
      " 21%|██▏       | 271/1261 [00:40<02:27,  6.70it/s]"
     ]
    },
    {
     "name": "stdout",
     "output_type": "stream",
     "text": [
      "[ -2.43739040e-04   3.02653665e-01   1.37264335e+02]\n",
      "[ -2.70817796e-04   4.47930764e-01   9.43299677e+02]\n",
      "[ -2.43780147e-04   2.95223516e-01   1.44353993e+02]\n",
      "[ -2.16022413e-04   4.18186714e-01   9.43383617e+02]\n"
     ]
    },
    {
     "name": "stderr",
     "output_type": "stream",
     "text": [
      " 22%|██▏       | 273/1261 [00:40<02:28,  6.66it/s]"
     ]
    },
    {
     "name": "stdout",
     "output_type": "stream",
     "text": [
      "[ -2.51610091e-04   2.92384831e-01   1.53730525e+02]\n",
      "[ -2.61453894e-04   4.73984870e-01   9.21422821e+02]\n",
      "[ -2.49048876e-04   2.91819220e-01   1.54979737e+02]\n",
      "[ -2.39369528e-04   4.50445505e-01   9.26727257e+02]\n"
     ]
    },
    {
     "name": "stderr",
     "output_type": "stream",
     "text": [
      " 22%|██▏       | 275/1261 [00:40<02:23,  6.89it/s]"
     ]
    },
    {
     "name": "stdout",
     "output_type": "stream",
     "text": [
      "[ -2.61593082e-04   2.93494805e-01   1.62258038e+02]\n",
      "[ -2.16228156e-04   4.50132255e-01   9.16494775e+02]\n",
      "[ -2.50228945e-04   2.86079099e-01   1.62961686e+02]\n",
      "[ -2.18824238e-04   4.39204817e-01   9.25699740e+02]\n"
     ]
    },
    {
     "name": "stderr",
     "output_type": "stream",
     "text": [
      " 22%|██▏       | 277/1261 [00:40<02:31,  6.50it/s]"
     ]
    },
    {
     "name": "stdout",
     "output_type": "stream",
     "text": [
      "[ -2.20623118e-04   2.67218484e-01   1.63112760e+02]\n",
      "[ -1.74800644e-04   3.81084073e-01   9.48808053e+02]\n",
      "[ -2.25732226e-04   2.69128356e-01   1.63392565e+02]\n",
      "[ -2.56011208e-04   4.48869521e-01   9.38786105e+02]\n"
     ]
    },
    {
     "name": "stderr",
     "output_type": "stream",
     "text": [
      " 22%|██▏       | 279/1261 [00:41<02:25,  6.76it/s]"
     ]
    },
    {
     "name": "stdout",
     "output_type": "stream",
     "text": [
      "[ -2.25485268e-04   2.72957137e-01   1.60590771e+02]\n",
      "[ -2.84453421e-04   4.68154104e-01   9.40561604e+02]\n",
      "[ -2.17954637e-04   2.60697387e-01   1.68730502e+02]\n",
      "[ -2.64732930e-04   4.56408929e-01   9.37824912e+02]\n"
     ]
    },
    {
     "name": "stderr",
     "output_type": "stream",
     "text": [
      " 22%|██▏       | 281/1261 [00:41<02:31,  6.45it/s]"
     ]
    },
    {
     "name": "stdout",
     "output_type": "stream",
     "text": [
      "[ -2.19726614e-04   2.59174684e-01   1.71598330e+02]\n",
      "[ -2.57917316e-04   4.43797077e-01   9.42251026e+02]\n",
      "[ -2.07475381e-04   2.46533866e-01   1.76192940e+02]\n",
      "[ -2.48376733e-04   4.37573755e-01   9.45147900e+02]\n"
     ]
    },
    {
     "name": "stderr",
     "output_type": "stream",
     "text": [
      " 22%|██▏       | 283/1261 [00:41<02:24,  6.76it/s]"
     ]
    },
    {
     "name": "stdout",
     "output_type": "stream",
     "text": [
      "[ -2.06579477e-04   2.38391977e-01   1.83650022e+02]\n",
      "[ -2.37264694e-04   4.34275474e-01   9.42657150e+02]\n",
      "[ -1.89040666e-04   2.28964900e-01   1.83148409e+02]\n",
      "[ -2.31177874e-04   4.12081193e-01   9.57541526e+02]\n"
     ]
    },
    {
     "name": "stderr",
     "output_type": "stream",
     "text": [
      " 23%|██▎       | 285/1261 [00:42<02:32,  6.40it/s]"
     ]
    },
    {
     "name": "stdout",
     "output_type": "stream",
     "text": [
      "[ -1.82407731e-04   2.17468099e-01   1.90559778e+02]\n",
      "[ -2.19651716e-04   4.01508456e-01   9.60990726e+02]\n",
      "[ -1.68090449e-04   2.09335186e-01   1.91021295e+02]\n",
      "[ -2.36406137e-04   4.01288122e-01   9.70366827e+02]\n"
     ]
    },
    {
     "name": "stderr",
     "output_type": "stream",
     "text": [
      " 23%|██▎       | 287/1261 [00:42<02:27,  6.62it/s]"
     ]
    },
    {
     "name": "stdout",
     "output_type": "stream",
     "text": [
      "[ -1.56970755e-04   2.00593637e-01   1.91030662e+02]\n",
      "[ -2.79282708e-04   4.19877340e-01   9.78492150e+02]\n",
      "[ -1.70340493e-04   2.08812218e-01   1.92673469e+02]\n",
      "[ -2.60917666e-04   4.01832438e-01   9.83907395e+02]\n"
     ]
    },
    {
     "name": "stderr",
     "output_type": "stream",
     "text": [
      " 23%|██▎       | 289/1261 [00:42<02:33,  6.32it/s]"
     ]
    },
    {
     "name": "stdout",
     "output_type": "stream",
     "text": [
      "[ -1.41486561e-04   1.84293442e-01   1.96368547e+02]\n",
      "[ -2.21331115e-04   3.59829416e-01   9.99577403e+02]\n",
      "[ -1.52401427e-04   1.80010505e-01   2.07372304e+02]\n",
      "[ -1.34318943e-04   2.94078077e-01   1.00424674e+03]\n"
     ]
    },
    {
     "name": "stderr",
     "output_type": "stream",
     "text": [
      " 23%|██▎       | 291/1261 [00:43<02:28,  6.53it/s]"
     ]
    },
    {
     "name": "stdout",
     "output_type": "stream",
     "text": [
      "[ -1.52957070e-04   1.77847654e-01   2.08587072e+02]\n",
      "[ -1.96368626e-04   3.41314440e-01   1.00134440e+03]\n",
      "[ -1.61150960e-04   1.72465422e-01   2.18568630e+02]\n",
      "[ -2.16553340e-04   3.80171451e-01   9.83359103e+02]\n"
     ]
    },
    {
     "name": "stderr",
     "output_type": "stream",
     "text": [
      "\r",
      " 23%|██▎       | 292/1261 [00:43<02:28,  6.54it/s]"
     ]
    },
    {
     "name": "stdout",
     "output_type": "stream",
     "text": [
      "[ -1.45930287e-04   1.56527268e-01   2.24867019e+02]\n",
      "[ -2.11089078e-04   3.75667434e-01   9.82861161e+02]\n",
      "[ -1.42122225e-04   1.55938671e-01   2.24150923e+02]\n",
      "[ -1.77063033e-04   3.53943101e-01   9.88559836e+02]\n"
     ]
    },
    {
     "name": "stderr",
     "output_type": "stream",
     "text": [
      " 23%|██▎       | 295/1261 [00:43<02:23,  6.74it/s]"
     ]
    },
    {
     "name": "stdout",
     "output_type": "stream",
     "text": [
      "[ -1.43399943e-04   1.53426302e-01   2.28118230e+02]\n",
      "[ -1.97462720e-04   3.77075662e-01   9.79925208e+02]\n",
      "[ -1.52150403e-04   1.65061795e-01   2.24338321e+02]\n",
      "[ -2.41524090e-04   3.88566338e-01   9.86970427e+02]\n"
     ]
    },
    {
     "name": "stderr",
     "output_type": "stream",
     "text": [
      " 24%|██▎       | 297/1261 [00:43<02:21,  6.82it/s]"
     ]
    },
    {
     "name": "stdout",
     "output_type": "stream",
     "text": [
      "[ -1.10281321e-04   1.26818108e-01   2.33920594e+02]\n",
      "[ -2.57545976e-04   4.11286747e-01   9.79056631e+02]\n",
      "[ -1.07274745e-04   1.27724152e-01   2.31080811e+02]\n",
      "[ -2.00771610e-04   3.49721580e-01   9.96248798e+02]\n"
     ]
    },
    {
     "name": "stderr",
     "output_type": "stream",
     "text": [
      " 24%|██▎       | 299/1261 [00:44<02:24,  6.67it/s]"
     ]
    },
    {
     "name": "stdout",
     "output_type": "stream",
     "text": [
      "[ -1.20545049e-04   1.43616884e-01   2.25427371e+02]\n",
      "[ -2.72679227e-04   4.08073829e-01   9.87680547e+02]\n",
      "[ -1.03927264e-04   1.32535719e-01   2.25781398e+02]\n",
      "[ -1.92176913e-04   3.37193175e-01   1.00222897e+03]\n"
     ]
    },
    {
     "name": "stderr",
     "output_type": "stream",
     "text": [
      " 24%|██▍       | 301/1261 [00:44<02:19,  6.88it/s]"
     ]
    },
    {
     "name": "stdout",
     "output_type": "stream",
     "text": [
      "[ -9.99878019e-05   1.33015717e-01   2.22139684e+02]\n",
      "[ -1.23641498e-04   2.73409472e-01   1.01842966e+03]\n",
      "[ -1.16010673e-04   1.41548194e-01   2.22191455e+02]\n",
      "[ -1.30418425e-04   2.81342413e-01   1.01482187e+03]\n"
     ]
    },
    {
     "name": "stderr",
     "output_type": "stream",
     "text": [
      " 24%|██▍       | 303/1261 [00:44<02:24,  6.63it/s]"
     ]
    },
    {
     "name": "stdout",
     "output_type": "stream",
     "text": [
      "[ -1.15448718e-04   1.50049391e-01   2.13847019e+02]\n",
      "[ -1.06113509e-04   2.38897108e-01   1.03452394e+03]\n",
      "[ -9.35475225e-05   1.33966246e-01   2.15466864e+02]\n",
      "[ -1.67519992e-04   3.10489780e-01   1.01387924e+03]\n"
     ]
    },
    {
     "name": "stderr",
     "output_type": "stream",
     "text": [
      " 24%|██▍       | 305/1261 [00:45<02:19,  6.84it/s]"
     ]
    },
    {
     "name": "stdout",
     "output_type": "stream",
     "text": [
      "[ -8.63882154e-05   1.24199447e-01   2.18736337e+02]\n",
      "[ -1.87466239e-04   3.29568065e-01   1.00888834e+03]\n",
      "[ -8.41179145e-05   1.27413616e-01   2.14306119e+02]\n",
      "[ -2.13991256e-04   3.27336277e-01   1.01904075e+03]\n"
     ]
    },
    {
     "name": "stderr",
     "output_type": "stream",
     "text": [
      " 24%|██▍       | 307/1261 [00:45<02:21,  6.76it/s]"
     ]
    },
    {
     "name": "stdout",
     "output_type": "stream",
     "text": [
      "[ -8.23287627e-05   1.13803684e-01   2.25278087e+02]\n",
      "[ -1.95391147e-04   3.54906183e-01   9.94906406e+02]\n",
      "[ -8.08711867e-05   1.19282488e-01   2.20451978e+02]\n",
      "[ -1.61012932e-04   3.10950233e-01   1.01419053e+03]\n"
     ]
    },
    {
     "name": "stderr",
     "output_type": "stream",
     "text": [
      " 25%|██▍       | 309/1261 [00:45<02:22,  6.69it/s]"
     ]
    },
    {
     "name": "stdout",
     "output_type": "stream",
     "text": [
      "[ -9.08737622e-05   1.05553368e-01   2.37890800e+02]\n",
      "[ -1.66538435e-04   3.38504772e-01   9.94703167e+02]\n",
      "[ -7.09242636e-05   8.84638985e-02   2.41558272e+02]\n",
      "[ -7.15607813e-05   2.45844492e-01   1.01857288e+03]\n"
     ]
    },
    {
     "name": "stderr",
     "output_type": "stream",
     "text": [
      " 25%|██▍       | 311/1261 [00:46<02:26,  6.47it/s]"
     ]
    },
    {
     "name": "stdout",
     "output_type": "stream",
     "text": [
      "[ -7.09242636e-05   8.84638985e-02   2.41558272e+02]\n",
      "[ -7.15607813e-05   2.45844492e-01   1.01857288e+03]\n",
      "[ -6.09887216e-05   6.41945113e-02   2.57798182e+02]\n",
      "[ -2.27625515e-05   2.03295881e-01   1.02123008e+03]\n"
     ]
    },
    {
     "name": "stderr",
     "output_type": "stream",
     "text": [
      " 25%|██▍       | 313/1261 [00:46<02:19,  6.80it/s]"
     ]
    },
    {
     "name": "stdout",
     "output_type": "stream",
     "text": [
      "[ -3.30402939e-05   3.75728362e-02   2.64131082e+02]\n",
      "[ -5.79112770e-05   2.28292957e-01   1.01854227e+03]\n",
      "[ -4.75477601e-05   3.15708037e-02   2.77168564e+02]\n",
      "[ -5.13583126e-05   2.33075756e-01   1.00808657e+03]\n"
     ]
    },
    {
     "name": "stderr",
     "output_type": "stream",
     "text": [
      " 25%|██▍       | 315/1261 [00:46<02:17,  6.86it/s]"
     ]
    },
    {
     "name": "stdout",
     "output_type": "stream",
     "text": [
      "[ -2.42534856e-05   1.37473426e-02   2.79297563e+02]\n",
      "[ -9.43355983e-06   1.73533540e-01   1.02964671e+03]\n",
      "[ -9.54846481e-06  -3.12408602e-03   2.84301110e+02]\n",
      "[ -4.18081015e-05   2.01276104e-01   1.02524986e+03]\n"
     ]
    },
    {
     "name": "stderr",
     "output_type": "stream",
     "text": [
      " 25%|██▌       | 317/1261 [00:46<02:18,  6.83it/s]"
     ]
    },
    {
     "name": "stdout",
     "output_type": "stream",
     "text": [
      "[ -1.05921475e-05   9.12555308e-04   2.81678881e+02]\n",
      "[  3.48166309e-05   1.03236806e-01   1.05699282e+03]\n",
      "[ -1.07346732e-05   2.64532908e-03   2.80555872e+02]\n",
      "[ -1.22652319e-04   2.31500233e-01   1.03675942e+03]\n"
     ]
    },
    {
     "name": "stderr",
     "output_type": "stream",
     "text": [
      " 25%|██▌       | 319/1261 [00:47<02:23,  6.57it/s]"
     ]
    },
    {
     "name": "stdout",
     "output_type": "stream",
     "text": [
      "[ -8.98159661e-06  -1.52671690e-02   2.94144420e+02]\n",
      "[ -6.65462598e-05   2.12657843e-01   1.02821010e+03]\n",
      "[ -9.51678616e-06  -1.62291181e-02   2.94710329e+02]\n",
      "[  3.98377348e-05   8.85962026e-02   1.06545877e+03]\n"
     ]
    },
    {
     "name": "stderr",
     "output_type": "stream",
     "text": [
      " 25%|██▌       | 321/1261 [00:47<02:15,  6.95it/s]"
     ]
    },
    {
     "name": "stdout",
     "output_type": "stream",
     "text": [
      "[  3.33272789e-06  -3.27067549e-02   3.02822569e+02]\n",
      "[ -4.48960535e-05   1.92900699e-01   1.03179204e+03]\n",
      "[  1.52060753e-05  -4.03121038e-02   3.02759132e+02]\n",
      "[ -3.41470533e-05   1.58960828e-01   1.04924349e+03]\n"
     ]
    },
    {
     "name": "stderr",
     "output_type": "stream",
     "text": [
      " 26%|██▌       | 323/1261 [00:47<02:18,  6.79it/s]"
     ]
    },
    {
     "name": "stdout",
     "output_type": "stream",
     "text": [
      "[  2.43784021e-05  -4.74911229e-02   3.03870122e+02]\n",
      "[ -8.42614016e-05   1.82043304e-01   1.05275760e+03]\n",
      "[  2.34083688e-05  -4.89551702e-02   3.05804869e+02]\n",
      "[ -1.00063853e-04   1.91484563e-01   1.05251204e+03]\n"
     ]
    },
    {
     "name": "stderr",
     "output_type": "stream",
     "text": [
      " 26%|██▌       | 325/1261 [00:48<02:16,  6.85it/s]"
     ]
    },
    {
     "name": "stdout",
     "output_type": "stream",
     "text": [
      "[  7.73664128e-05  -8.54134305e-02   3.05057633e+02]\n",
      "[ -1.61148213e-05   9.94619506e-02   1.08239845e+03]\n",
      "[  7.73664128e-05  -8.54134305e-02   3.05057633e+02]\n",
      "[ -1.61148213e-05   9.94619506e-02   1.08239845e+03]\n"
     ]
    },
    {
     "name": "stderr",
     "output_type": "stream",
     "text": [
      " 26%|██▌       | 327/1261 [00:48<02:26,  6.38it/s]"
     ]
    },
    {
     "name": "stdout",
     "output_type": "stream",
     "text": [
      "[  7.73664128e-05  -8.54134305e-02   3.05057633e+02]\n",
      "[ -1.61148213e-05   9.94619506e-02   1.08239845e+03]\n",
      "[  7.73664128e-05  -8.54134305e-02   3.05057633e+02]\n",
      "[ -1.61148213e-05   9.94619506e-02   1.08239845e+03]\n"
     ]
    },
    {
     "name": "stderr",
     "output_type": "stream",
     "text": [
      " 26%|██▌       | 329/1261 [00:48<02:19,  6.67it/s]"
     ]
    },
    {
     "name": "stdout",
     "output_type": "stream",
     "text": [
      "[  7.73664128e-05  -8.54134305e-02   3.05057633e+02]\n",
      "[ -1.61148213e-05   9.94619506e-02   1.08239845e+03]\n",
      "[  1.37714947e-05  -3.23117940e-02   2.88232803e+02]\n",
      "[ -9.04173647e-05   1.45959042e-01   1.09260665e+03]\n"
     ]
    },
    {
     "name": "stderr",
     "output_type": "stream",
     "text": [
      " 26%|██▌       | 331/1261 [00:49<02:25,  6.37it/s]"
     ]
    },
    {
     "name": "stdout",
     "output_type": "stream",
     "text": [
      "[  4.73000485e-06  -3.45755927e-02   2.95070382e+02]\n",
      "[ -1.57065970e-04   2.30814762e-01   1.06307435e+03]\n",
      "[ -2.17610962e-05  -2.48083009e-02   3.00018893e+02]\n",
      "[ -8.20096318e-05   1.83165650e-01   1.06619856e+03]\n"
     ]
    },
    {
     "name": "stderr",
     "output_type": "stream",
     "text": [
      " 26%|██▋       | 333/1261 [00:49<02:17,  6.73it/s]"
     ]
    },
    {
     "name": "stdout",
     "output_type": "stream",
     "text": [
      "[ -3.05142279e-05  -3.27335324e-02   3.12246424e+02]\n",
      "[ -1.36289981e-04   2.44565644e-01   1.04034800e+03]\n",
      "[ -3.05142279e-05  -3.27335324e-02   3.12246424e+02]\n",
      "[ -1.36289981e-04   2.44565644e-01   1.04034800e+03]\n"
     ]
    },
    {
     "name": "stderr",
     "output_type": "stream",
     "text": [
      " 27%|██▋       | 335/1261 [00:49<02:17,  6.74it/s]"
     ]
    },
    {
     "name": "stdout",
     "output_type": "stream",
     "text": [
      "[ -3.05142279e-05  -3.27335324e-02   3.12246424e+02]\n",
      "[ -1.36289981e-04   2.44565644e-01   1.04034800e+03]\n",
      "[ -1.55491694e-05  -4.74460951e-02   3.17249301e+02]\n",
      "[ -5.08592527e-05   1.77432673e-01   1.04913306e+03]\n"
     ]
    },
    {
     "name": "stderr",
     "output_type": "stream",
     "text": [
      " 27%|██▋       | 337/1261 [00:49<02:16,  6.75it/s]"
     ]
    },
    {
     "name": "stdout",
     "output_type": "stream",
     "text": [
      "[ -5.63630782e-06  -3.78557948e-02   3.04488447e+02]\n",
      "[ -1.91825428e-05   1.18994167e-01   1.07954594e+03]\n",
      "[ -1.20050113e-05  -3.71252466e-02   3.05807077e+02]\n",
      "[ -5.57821853e-05   1.41988471e-01   1.08001564e+03]\n"
     ]
    },
    {
     "name": "stderr",
     "output_type": "stream",
     "text": [
      " 27%|██▋       | 339/1261 [00:50<02:21,  6.50it/s]"
     ]
    },
    {
     "name": "stdout",
     "output_type": "stream",
     "text": [
      "[ -4.90954153e-06  -4.03259472e-02   3.05232452e+02]\n",
      "[ -7.51950520e-05   1.56721138e-01   1.07940213e+03]\n",
      "[ -3.20219484e-07  -4.46282356e-02   3.06925697e+02]\n",
      "[ -4.70408650e-05   1.34636788e-01   1.08107207e+03]\n"
     ]
    },
    {
     "name": "stderr",
     "output_type": "stream",
     "text": [
      " 27%|██▋       | 341/1261 [00:50<02:18,  6.65it/s]"
     ]
    },
    {
     "name": "stdout",
     "output_type": "stream",
     "text": [
      "[  2.91147524e-05  -7.95095930e-02   3.20060662e+02]\n",
      "[ -5.47582409e-05   1.50659880e-01   1.07173320e+03]\n",
      "[  3.23950794e-05  -8.20970916e-02   3.21391393e+02]\n",
      "[ -7.49371450e-05   1.68937681e-01   1.06903282e+03]\n"
     ]
    },
    {
     "name": "stderr",
     "output_type": "stream",
     "text": [
      " 27%|██▋       | 343/1261 [00:50<02:23,  6.40it/s]"
     ]
    },
    {
     "name": "stdout",
     "output_type": "stream",
     "text": [
      "[  3.70764641e-05  -1.00789954e-01   3.34804203e+02]\n",
      "[ -3.52546747e-05   1.69925994e-01   1.05246854e+03]\n",
      "[  4.24738020e-05  -9.42072447e-02   3.27231175e+02]\n",
      "[ -7.01604625e-05   1.65028361e-01   1.06516804e+03]\n"
     ]
    },
    {
     "name": "stderr",
     "output_type": "stream",
     "text": [
      " 27%|██▋       | 345/1261 [00:51<02:18,  6.63it/s]"
     ]
    },
    {
     "name": "stdout",
     "output_type": "stream",
     "text": [
      "[  8.23195183e-05  -1.18561707e-01   3.26139216e+02]\n",
      "[ -1.20886475e-05   1.18072424e-01   1.07732199e+03]\n",
      "[  3.63720556e-05  -7.22706078e-02   3.14904792e+02]\n",
      "[ -1.92032755e-05   1.10940423e-01   1.08302540e+03]\n"
     ]
    },
    {
     "name": "stderr",
     "output_type": "stream",
     "text": [
      " 28%|██▊       | 347/1261 [00:51<02:22,  6.40it/s]"
     ]
    },
    {
     "name": "stdout",
     "output_type": "stream",
     "text": [
      "[  5.92754743e-05  -8.49888052e-02   3.12496812e+02]\n",
      "[ -2.76127371e-05   1.04967555e-01   1.09160732e+03]\n",
      "[  4.55664320e-05  -7.82806094e-02   3.15141364e+02]\n",
      "[ -9.29449667e-06   1.02573841e-01   1.08422759e+03]\n"
     ]
    },
    {
     "name": "stderr",
     "output_type": "stream",
     "text": [
      " 28%|██▊       | 349/1261 [00:51<02:15,  6.73it/s]"
     ]
    },
    {
     "name": "stdout",
     "output_type": "stream",
     "text": [
      "[  4.51045409e-05  -7.20919811e-02   3.09601431e+02]\n",
      "[ -8.82841299e-05   1.55644536e-01   1.08404792e+03]\n",
      "[  1.25731516e-05  -5.43306110e-02   3.11210656e+02]\n",
      "[  2.42013922e-06   8.10552309e-02   1.09404318e+03]\n"
     ]
    },
    {
     "name": "stderr",
     "output_type": "stream",
     "text": [
      " 28%|██▊       | 351/1261 [00:52<02:18,  6.55it/s]"
     ]
    },
    {
     "name": "stdout",
     "output_type": "stream",
     "text": [
      "[  3.65770495e-06  -4.14937598e-02   3.04485887e+02]\n",
      "[ -3.75517304e-05   1.06762484e-01   1.09595040e+03]\n",
      "[ -7.63563780e-06  -3.52381705e-02   3.04818693e+02]\n",
      "[ -2.24316531e-05   8.96789613e-02   1.10023239e+03]\n"
     ]
    },
    {
     "name": "stderr",
     "output_type": "stream",
     "text": [
      " 28%|██▊       | 353/1261 [00:52<02:14,  6.75it/s]"
     ]
    },
    {
     "name": "stdout",
     "output_type": "stream",
     "text": [
      "[ -3.65412467e-05  -9.38846796e-03   2.99417953e+02]\n",
      "[ -2.19092390e-05   8.50226215e-02   1.10250765e+03]\n",
      "[ -6.13271664e-05   1.26975765e-02   2.92176285e+02]\n",
      "[ -6.02738968e-05   1.06181211e-01   1.10574119e+03]\n"
     ]
    },
    {
     "name": "stderr",
     "output_type": "stream",
     "text": [
      " 28%|██▊       | 355/1261 [00:52<02:23,  6.31it/s]"
     ]
    },
    {
     "name": "stdout",
     "output_type": "stream",
     "text": [
      "[ -8.57708456e-05   2.89669903e-02   2.92025339e+02]\n",
      "[ -8.09438562e-05   1.15741821e-01   1.10291114e+03]\n",
      "[ -8.48741866e-05   3.09316633e-02   2.89496726e+02]\n",
      "[ -4.42252715e-05   9.66611623e-02   1.10664274e+03]\n"
     ]
    },
    {
     "name": "stderr",
     "output_type": "stream",
     "text": [
      " 28%|██▊       | 357/1261 [00:53<02:19,  6.50it/s]"
     ]
    },
    {
     "name": "stdout",
     "output_type": "stream",
     "text": [
      "[ -9.76184695e-05   4.17236677e-02   2.88692077e+02]\n",
      "[ -1.22144136e-05   7.65426633e-02   1.10770058e+03]\n",
      "[ -8.30186262e-05   2.18576976e-02   2.98609783e+02]\n",
      "[ -1.44212539e-05   9.27472380e-02   1.09489659e+03]\n"
     ]
    },
    {
     "name": "stderr",
     "output_type": "stream",
     "text": [
      " 28%|██▊       | 359/1261 [00:53<02:20,  6.40it/s]"
     ]
    },
    {
     "name": "stdout",
     "output_type": "stream",
     "text": [
      "[ -8.30186262e-05   2.18576976e-02   2.98609783e+02]\n",
      "[ -1.44212539e-05   9.27472380e-02   1.09489659e+03]\n",
      "[ -6.49234036e-05   1.29003920e-02   3.01517137e+02]\n",
      "[  1.88219226e-05   6.47276279e-02   1.09751471e+03]\n"
     ]
    },
    {
     "name": "stderr",
     "output_type": "stream",
     "text": [
      " 29%|██▊       | 361/1261 [00:53<02:21,  6.37it/s]"
     ]
    },
    {
     "name": "stdout",
     "output_type": "stream",
     "text": [
      "[ -4.03109936e-05   2.36818692e-03   2.98752662e+02]\n",
      "[  3.53666632e-06   6.33923377e-02   1.10542815e+03]\n",
      "[ -1.87486716e-05  -1.67763417e-02   3.02971924e+02]\n",
      "[ -3.54260386e-05   9.27105768e-02   1.10285305e+03]\n"
     ]
    },
    {
     "name": "stderr",
     "output_type": "stream",
     "text": [
      " 29%|██▉       | 363/1261 [00:54<02:24,  6.24it/s]"
     ]
    },
    {
     "name": "stdout",
     "output_type": "stream",
     "text": [
      "[  1.61950237e-05  -4.93187506e-02   3.11889764e+02]\n",
      "[ -2.66364535e-05   9.17698244e-02   1.09679096e+03]\n",
      "[  5.60416406e-05  -7.61339201e-02   3.14699874e+02]\n",
      "[ -8.32018251e-05   1.47937518e-01   1.08599396e+03]\n"
     ]
    },
    {
     "name": "stderr",
     "output_type": "stream",
     "text": [
      " 29%|██▉       | 365/1261 [00:54<02:20,  6.39it/s]"
     ]
    },
    {
     "name": "stdout",
     "output_type": "stream",
     "text": [
      "[  5.60053294e-05  -8.93006191e-02   3.26229104e+02]\n",
      "[ -1.13026030e-04   1.98983664e-01   1.06306463e+03]\n",
      "[  7.35805095e-05  -9.74501063e-02   3.23935782e+02]\n",
      "[ -7.34550707e-05   1.45851170e-01   1.08249014e+03]\n"
     ]
    },
    {
     "name": "stderr",
     "output_type": "stream",
     "text": [
      " 29%|██▉       | 367/1261 [00:54<02:25,  6.15it/s]"
     ]
    },
    {
     "name": "stdout",
     "output_type": "stream",
     "text": [
      "[  1.24548195e-04  -1.42901887e-01   3.32947071e+02]\n",
      "[ -7.72190565e-05   1.61186813e-01   1.07601493e+03]\n",
      "[  1.23295691e-04  -1.37969956e-01   3.28720369e+02]\n",
      "[ -6.46365371e-06   9.16127434e-02   1.09442185e+03]\n"
     ]
    },
    {
     "name": "stderr",
     "output_type": "stream",
     "text": [
      " 29%|██▉       | 369/1261 [00:54<02:20,  6.34it/s]"
     ]
    },
    {
     "name": "stdout",
     "output_type": "stream",
     "text": [
      "[  1.53664066e-04  -1.59954037e-01   3.28245641e+02]\n",
      "[ -5.32960430e-05   1.17713626e-01   1.09521572e+03]\n",
      "[  1.75493757e-04  -1.92622173e-01   3.41216500e+02]\n",
      "[ -7.48684620e-05   1.46926867e-01   1.08128467e+03]\n"
     ]
    },
    {
     "name": "stderr",
     "output_type": "stream",
     "text": [
      " 29%|██▉       | 371/1261 [00:55<02:21,  6.31it/s]"
     ]
    },
    {
     "name": "stdout",
     "output_type": "stream",
     "text": [
      "[  1.76096950e-04  -1.90220003e-01   3.36341741e+02]\n",
      "[ -9.86891331e-05   1.60616729e-01   1.08416219e+03]\n",
      "[  1.67100775e-04  -1.90755545e-01   3.38098412e+02]\n",
      "[ -2.35135257e-05   9.23303857e-02   1.09753911e+03]\n"
     ]
    },
    {
     "name": "stderr",
     "output_type": "stream",
     "text": [
      " 30%|██▉       | 373/1261 [00:55<02:15,  6.55it/s]"
     ]
    },
    {
     "name": "stdout",
     "output_type": "stream",
     "text": [
      "[  1.66765125e-04  -1.85674676e-01   3.31450949e+02]\n",
      "[  4.37749737e-05   2.43554844e-02   1.11486160e+03]\n",
      "[  1.27735099e-04  -1.57984540e-01   3.26129615e+02]\n",
      "[ -1.91576958e-05   8.11384266e-02   1.10469591e+03]\n"
     ]
    },
    {
     "name": "stderr",
     "output_type": "stream",
     "text": [
      " 30%|██▉       | 375/1261 [00:55<02:22,  6.20it/s]"
     ]
    },
    {
     "name": "stdout",
     "output_type": "stream",
     "text": [
      "[  1.17170528e-04  -1.67122964e-01   3.33574518e+02]\n",
      "[ -3.48661811e-05   1.03449239e-01   1.09356367e+03]\n",
      "[  7.88319669e-05  -1.43810362e-01   3.33077625e+02]\n",
      "[ -5.98603613e-05   1.32597091e-01   1.08415550e+03]\n"
     ]
    },
    {
     "name": "stderr",
     "output_type": "stream",
     "text": [
      " 30%|██▉       | 377/1261 [00:56<02:13,  6.62it/s]"
     ]
    },
    {
     "name": "stdout",
     "output_type": "stream",
     "text": [
      "[  2.13649260e-05  -1.20163058e-01   3.41427611e+02]\n",
      "[ -6.52814716e-05   1.57779191e-01   1.06656992e+03]\n",
      "[  8.39058336e-06  -1.10912401e-01   3.39570533e+02]\n",
      "[  3.73783094e-05   8.63009283e-02   1.07856999e+03]\n"
     ]
    },
    {
     "name": "stderr",
     "output_type": "stream",
     "text": [
      " 30%|███       | 379/1261 [00:56<02:16,  6.48it/s]"
     ]
    },
    {
     "name": "stdout",
     "output_type": "stream",
     "text": [
      "[ -3.47966148e-05  -8.21339989e-02   3.38607758e+02]\n",
      "[  8.77354798e-06   1.06244277e-01   1.07300001e+03]\n",
      "[ -4.19442901e-05  -6.82010631e-02   3.32057014e+02]\n",
      "[  4.55572073e-05   5.86220189e-02   1.08969856e+03]\n"
     ]
    },
    {
     "name": "stderr",
     "output_type": "stream",
     "text": [
      " 30%|███       | 381/1261 [00:56<02:10,  6.72it/s]"
     ]
    },
    {
     "name": "stdout",
     "output_type": "stream",
     "text": [
      "[ -4.79752983e-05  -5.79946304e-02   3.27907149e+02]\n",
      "[  1.66791335e-05   7.72295583e-02   1.09076892e+03]\n",
      "[ -5.67960217e-05  -3.89421392e-02   3.19806393e+02]\n",
      "[  1.98928974e-05   6.50571849e-02   1.09782281e+03]\n"
     ]
    },
    {
     "name": "stderr",
     "output_type": "stream",
     "text": [
      " 30%|███       | 383/1261 [00:57<02:18,  6.33it/s]"
     ]
    },
    {
     "name": "stdout",
     "output_type": "stream",
     "text": [
      "[ -4.80428860e-05  -4.37564300e-02   3.19388982e+02]\n",
      "[  1.40033363e-05   6.14727641e-02   1.10072171e+03]\n",
      "[ -7.19572864e-05  -2.55053168e-02   3.19416008e+02]\n",
      "[  1.27498466e-06   7.30730409e-02   1.09628976e+03]\n"
     ]
    },
    {
     "name": "stderr",
     "output_type": "stream",
     "text": [
      " 31%|███       | 385/1261 [00:57<02:08,  6.83it/s]"
     ]
    },
    {
     "name": "stdout",
     "output_type": "stream",
     "text": [
      "[ -6.68119583e-05  -2.91604730e-02   3.20687754e+02]\n",
      "[  3.57783855e-05   4.21094945e-02   1.10220022e+03]\n",
      "[ -5.13365530e-05  -3.68984635e-02   3.20220329e+02]\n",
      "[  4.08924045e-05   3.41155186e-02   1.10552915e+03]\n"
     ]
    },
    {
     "name": "stderr",
     "output_type": "stream",
     "text": [
      "\r",
      " 31%|███       | 386/1261 [00:57<02:12,  6.59it/s]"
     ]
    },
    {
     "name": "stdout",
     "output_type": "stream",
     "text": [
      "[ -3.38860773e-05  -4.39233129e-02   3.16530641e+02]\n",
      "[ -2.02777165e-05   8.52972018e-02   1.09835585e+03]\n",
      "[ -2.38631800e-05  -3.71217126e-02   3.07558307e+02]\n",
      "[ -8.96141077e-06   6.51587605e-02   1.10843996e+03]\n"
     ]
    },
    {
     "name": "stderr",
     "output_type": "stream",
     "text": [
      " 31%|███       | 388/1261 [00:57<02:15,  6.46it/s]"
     ]
    },
    {
     "name": "stdout",
     "output_type": "stream",
     "text": [
      "[ -3.74563712e-05  -2.41259844e-02   3.06328732e+02]\n",
      "[ -3.80622797e-05   1.00756853e-01   1.09683534e+03]\n"
     ]
    },
    {
     "name": "stderr",
     "output_type": "stream",
     "text": [
      "\r",
      " 31%|███       | 389/1261 [00:58<02:32,  5.71it/s]"
     ]
    },
    {
     "name": "stdout",
     "output_type": "stream",
     "text": [
      "[ -1.46673273e-05  -3.25462499e-02   3.01930349e+02]\n",
      "[ -1.00460601e-06   5.36697604e-02   1.11161860e+03]\n"
     ]
    },
    {
     "name": "stderr",
     "output_type": "stream",
     "text": [
      " 31%|███       | 391/1261 [00:58<02:36,  5.57it/s]"
     ]
    },
    {
     "name": "stdout",
     "output_type": "stream",
     "text": [
      "[ -5.46781020e-06  -2.82599845e-02   2.94911522e+02]\n",
      "[  5.45109728e-05   2.14396226e-02   1.11601612e+03]\n",
      "[ -2.74500397e-05  -6.87494862e-03   2.89592165e+02]\n",
      "[  2.98210126e-05   3.41656880e-02   1.11354938e+03]\n"
     ]
    },
    {
     "name": "stderr",
     "output_type": "stream",
     "text": [
      " 31%|███       | 393/1261 [00:58<02:28,  5.83it/s]"
     ]
    },
    {
     "name": "stdout",
     "output_type": "stream",
     "text": [
      "[ -2.67093709e-05   2.18231931e-03   2.82386008e+02]\n",
      "[  2.05354485e-05   4.01104363e-02   1.11356387e+03]\n",
      "[ -2.27302355e-05  -5.88209597e-03   2.87930775e+02]\n",
      "[  2.03868457e-05   5.28028315e-02   1.10083565e+03]\n"
     ]
    },
    {
     "name": "stderr",
     "output_type": "stream",
     "text": [
      " 31%|███▏      | 395/1261 [00:59<02:20,  6.17it/s]"
     ]
    },
    {
     "name": "stdout",
     "output_type": "stream",
     "text": [
      "[ -2.81602170e-05   6.70951237e-03   2.79713675e+02]\n",
      "[ -1.22187494e-05   6.68216483e-02   1.10292040e+03]\n",
      "[ -2.66683596e-05   7.61048867e-03   2.78358549e+02]\n",
      "[ -9.09089403e-05   1.43712211e-01   1.08344892e+03]\n"
     ]
    },
    {
     "name": "stderr",
     "output_type": "stream",
     "text": [
      " 31%|███▏      | 397/1261 [00:59<02:10,  6.64it/s]"
     ]
    },
    {
     "name": "stdout",
     "output_type": "stream",
     "text": [
      "[ -3.48159977e-05   1.64024338e-02   2.74866037e+02]\n",
      "[ -8.86367277e-05   1.45477866e-01   1.08101561e+03]\n",
      "[ -4.71360280e-05   3.30864679e-02   2.67074079e+02]\n",
      "[ -3.67529389e-05   9.63692407e-02   1.09347289e+03]\n"
     ]
    },
    {
     "name": "stderr",
     "output_type": "stream",
     "text": [
      " 32%|███▏      | 399/1261 [00:59<02:11,  6.58it/s]"
     ]
    },
    {
     "name": "stdout",
     "output_type": "stream",
     "text": [
      "[ -6.70141786e-05   4.61471209e-02   2.64730515e+02]\n",
      "[  3.99249000e-05   2.91348730e-02   1.10408905e+03]\n",
      "[ -6.62779611e-05   4.84777844e-02   2.61451247e+02]\n",
      "[  5.64822434e-05   2.32951271e-03   1.11459140e+03]\n"
     ]
    },
    {
     "name": "stderr",
     "output_type": "stream",
     "text": [
      " 32%|███▏      | 401/1261 [01:00<02:06,  6.79it/s]"
     ]
    },
    {
     "name": "stdout",
     "output_type": "stream",
     "text": [
      "[ -6.54110622e-05   4.58603317e-02   2.62620229e+02]\n",
      "[  1.25491280e-05   4.82979166e-02   1.10295753e+03]\n",
      "[ -4.84932769e-05   3.74715586e-02   2.60284747e+02]\n",
      "[  3.79600372e-05   2.14073441e-02   1.11113340e+03]\n"
     ]
    },
    {
     "name": "stderr",
     "output_type": "stream",
     "text": [
      " 32%|███▏      | 403/1261 [01:00<02:10,  6.60it/s]"
     ]
    },
    {
     "name": "stdout",
     "output_type": "stream",
     "text": [
      "[ -6.86964711e-05   5.61506271e-02   2.55946142e+02]\n",
      "[  4.02230798e-05   2.49920596e-02   1.10988280e+03]\n",
      "[ -4.08084208e-05   3.28149752e-02   2.61076241e+02]\n",
      "[  1.34406940e-04  -2.79387525e-02   1.10932164e+03]\n"
     ]
    },
    {
     "name": "stderr",
     "output_type": "stream",
     "text": [
      " 32%|███▏      | 405/1261 [01:00<02:07,  6.70it/s]"
     ]
    },
    {
     "name": "stdout",
     "output_type": "stream",
     "text": [
      "[ -3.28893323e-05   3.20316363e-02   2.56424411e+02]\n",
      "[  9.51526851e-05  -1.80022269e-02   1.11468503e+03]\n",
      "[ -2.81377482e-05   2.38032287e-02   2.60655212e+02]\n",
      "[  5.42547796e-05   1.71394037e-02   1.10287216e+03]\n"
     ]
    },
    {
     "name": "stderr",
     "output_type": "stream",
     "text": [
      " 32%|███▏      | 407/1261 [01:00<02:10,  6.57it/s]"
     ]
    },
    {
     "name": "stdout",
     "output_type": "stream",
     "text": [
      "[ -5.37200192e-06   1.36078088e-02   2.56640401e+02]\n",
      "[ -8.73139858e-05   1.07010465e-01   1.09621340e+03]\n",
      "[ -7.67317895e-07   1.15287536e-02   2.54342773e+02]\n",
      "[ -1.76763438e-05   5.74561552e-02   1.10317533e+03]\n"
     ]
    },
    {
     "name": "stderr",
     "output_type": "stream",
     "text": [
      " 32%|███▏      | 409/1261 [01:01<02:13,  6.38it/s]"
     ]
    },
    {
     "name": "stdout",
     "output_type": "stream",
     "text": [
      "[  1.88801334e-05  -6.63915408e-03   2.57320510e+02]\n",
      "[  7.40075150e-05  -2.06690759e-02   1.11496908e+03]\n",
      "[  3.13002005e-05  -1.83891554e-02   2.58781564e+02]\n",
      "[  5.79364002e-05  -9.21502411e-03   1.11264015e+03]\n"
     ]
    },
    {
     "name": "stderr",
     "output_type": "stream",
     "text": [
      " 33%|███▎      | 411/1261 [01:01<02:18,  6.13it/s]"
     ]
    },
    {
     "name": "stdout",
     "output_type": "stream",
     "text": [
      "[  1.43469659e-05  -1.33764803e-02   2.61271395e+02]\n",
      "[  7.70968345e-06   4.59904830e-02   1.09582447e+03]\n",
      "[  2.47727632e-05  -2.22582458e-02   2.60979677e+02]\n",
      "[  1.00985262e-05   4.15347200e-02   1.09720616e+03]\n"
     ]
    },
    {
     "name": "stderr",
     "output_type": "stream",
     "text": [
      " 33%|███▎      | 413/1261 [01:01<02:11,  6.46it/s]"
     ]
    },
    {
     "name": "stdout",
     "output_type": "stream",
     "text": [
      "[  8.47331695e-06  -1.13444591e-02   2.59513850e+02]\n",
      "[  6.85671450e-06   4.96269233e-02   1.09239597e+03]\n",
      "[  1.72467807e-05  -2.17769572e-02   2.61091628e+02]\n",
      "[  7.71047351e-06   4.62405148e-02   1.09423057e+03]\n"
     ]
    },
    {
     "name": "stderr",
     "output_type": "stream",
     "text": [
      " 33%|███▎      | 415/1261 [01:02<02:14,  6.27it/s]"
     ]
    },
    {
     "name": "stdout",
     "output_type": "stream",
     "text": [
      "[  4.40068540e-06  -1.25708260e-02   2.59737374e+02]\n",
      "[  6.12288509e-05   2.39085763e-02   1.09269665e+03]\n",
      "[ -2.06156175e-05  -6.92688679e-03   2.66559961e+02]\n",
      "[  1.39726669e-04  -2.04433102e-02   1.08865631e+03]\n"
     ]
    },
    {
     "name": "stderr",
     "output_type": "stream",
     "text": [
      " 33%|███▎      | 417/1261 [01:02<02:08,  6.55it/s]"
     ]
    },
    {
     "name": "stdout",
     "output_type": "stream",
     "text": [
      "[ -4.01532201e-05   2.08360974e-02   2.52903532e+02]\n",
      "[  1.05045842e-04  -1.82842442e-02   1.09940390e+03]\n",
      "[ -6.05216960e-05   2.96354089e-02   2.55429550e+02]\n",
      "[  3.88582761e-05   3.73625088e-02   1.08454713e+03]\n"
     ]
    },
    {
     "name": "stderr",
     "output_type": "stream",
     "text": [
      " 33%|███▎      | 419/1261 [01:02<02:11,  6.39it/s]"
     ]
    },
    {
     "name": "stdout",
     "output_type": "stream",
     "text": [
      "[ -6.05216960e-05   2.96354089e-02   2.55429550e+02]\n",
      "[  3.88582761e-05   3.73625088e-02   1.08454713e+03]\n",
      "[ -5.93558090e-05   3.79427802e-02   2.47883905e+02]\n",
      "[  7.41683203e-05  -2.76686845e-03   1.09594287e+03]\n"
     ]
    },
    {
     "name": "stderr",
     "output_type": "stream",
     "text": [
      " 33%|███▎      | 421/1261 [01:03<02:07,  6.61it/s]"
     ]
    },
    {
     "name": "stdout",
     "output_type": "stream",
     "text": [
      "[ -7.97407847e-05   4.86902922e-02   2.50886427e+02]\n",
      "[  1.27878330e-05   5.78118991e-02   1.07813708e+03]\n",
      "[ -5.38166807e-05   2.76434028e-02   2.54030177e+02]\n",
      "[ -2.58895594e-05   8.73831328e-02   1.07421912e+03]\n"
     ]
    },
    {
     "name": "stderr",
     "output_type": "stream",
     "text": [
      " 34%|███▎      | 423/1261 [01:03<02:09,  6.47it/s]"
     ]
    },
    {
     "name": "stdout",
     "output_type": "stream",
     "text": [
      "[ -5.19877134e-05   1.48363737e-02   2.62530046e+02]\n",
      "[ -6.41331038e-06   8.29845219e-02   1.06587077e+03]\n",
      "[ -6.06961800e-05   2.92567705e-02   2.54161171e+02]\n",
      "[  8.43472090e-06   5.52927899e-02   1.07765721e+03]\n"
     ]
    },
    {
     "name": "stderr",
     "output_type": "stream",
     "text": [
      " 34%|███▎      | 425/1261 [01:03<02:04,  6.69it/s]"
     ]
    },
    {
     "name": "stdout",
     "output_type": "stream",
     "text": [
      "[ -5.55805597e-05   3.08876016e-02   2.50100885e+02]\n",
      "[ -2.01072092e-06   6.63184147e-02   1.07394133e+03]\n",
      "[ -6.62079800e-05   4.27525553e-02   2.46299561e+02]\n",
      "[  2.25595085e-05   4.39462894e-02   1.07673898e+03]\n"
     ]
    },
    {
     "name": "stderr",
     "output_type": "stream",
     "text": [
      " 34%|███▍      | 427/1261 [01:04<02:12,  6.31it/s]"
     ]
    },
    {
     "name": "stdout",
     "output_type": "stream",
     "text": [
      "[ -6.24026449e-05   5.33115522e-02   2.34783237e+02]\n",
      "[ -4.07163608e-05   6.27242023e-02   1.08671745e+03]\n",
      "[ -5.14014939e-05   4.26955080e-02   2.37761084e+02]\n",
      "[ -3.59782195e-05   7.67515951e-02   1.07789047e+03]\n"
     ]
    },
    {
     "name": "stderr",
     "output_type": "stream",
     "text": [
      " 34%|███▍      | 429/1261 [01:04<02:08,  6.46it/s]"
     ]
    },
    {
     "name": "stdout",
     "output_type": "stream",
     "text": [
      "[ -3.44267745e-05   2.94396681e-02   2.38484173e+02]\n",
      "[  5.16213370e-05   1.12741033e-02   1.08603302e+03]\n",
      "[ -3.41797238e-05   2.78497609e-02   2.39951008e+02]\n",
      "[ -4.92614838e-06   5.48832580e-02   1.07543437e+03]\n"
     ]
    },
    {
     "name": "stderr",
     "output_type": "stream",
     "text": [
      "\r",
      " 34%|███▍      | 430/1261 [01:04<02:07,  6.53it/s]"
     ]
    },
    {
     "name": "stdout",
     "output_type": "stream",
     "text": [
      "[ -1.91514161e-05   1.55242170e-02   2.40412584e+02]\n",
      "[ -3.15010470e-05   7.82966420e-02   1.06907675e+03]\n",
      "[ -3.94168353e-05   4.29364520e-02   2.27709271e+02]\n",
      "[ -7.60105145e-05   1.02790043e-01   1.07295551e+03]\n"
     ]
    },
    {
     "name": "stderr",
     "output_type": "stream",
     "text": [
      " 34%|███▍      | 433/1261 [01:05<02:05,  6.62it/s]"
     ]
    },
    {
     "name": "stdout",
     "output_type": "stream",
     "text": [
      "[ -2.70847286e-05   3.17431327e-02   2.29739490e+02]\n",
      "[  2.61296446e-05   1.88371815e-02   1.08584424e+03]\n",
      "[ -6.69113837e-06   2.73586877e-02   2.21011568e+02]\n",
      "[ -2.04334203e-05   4.19621781e-02   1.09270502e+03]\n"
     ]
    },
    {
     "name": "stderr",
     "output_type": "stream",
     "text": [
      " 34%|███▍      | 435/1261 [01:05<02:07,  6.47it/s]"
     ]
    },
    {
     "name": "stdout",
     "output_type": "stream",
     "text": [
      "[ -2.25677498e-05   3.03165228e-02   2.24305805e+02]\n",
      "[ -6.15140320e-06   4.07072840e-02   1.08649680e+03]\n",
      "[ -2.57259846e-05   3.42487766e-02   2.22508089e+02]\n",
      "[  2.68789299e-05   4.85277814e-03   1.09498270e+03]\n"
     ]
    },
    {
     "name": "stderr",
     "output_type": "stream",
     "text": [
      " 35%|███▍      | 437/1261 [01:05<02:02,  6.72it/s]"
     ]
    },
    {
     "name": "stdout",
     "output_type": "stream",
     "text": [
      "[  7.22608974e-06  -3.83981260e-03   2.33473209e+02]\n",
      "[ -4.26223871e-05   7.84296903e-02   1.07642335e+03]\n",
      "[  1.77074327e-05  -2.41451055e-02   2.44705735e+02]\n",
      "[ -1.17501452e-04   1.24404899e-01   1.06391542e+03]\n"
     ]
    },
    {
     "name": "stderr",
     "output_type": "stream",
     "text": [
      " 35%|███▍      | 439/1261 [01:05<02:06,  6.52it/s]"
     ]
    },
    {
     "name": "stdout",
     "output_type": "stream",
     "text": [
      "[  1.10718647e-05  -1.28719770e-02   2.36995798e+02]\n",
      "[ -1.32464025e-04   1.35332459e-01   1.06609236e+03]\n",
      "[  1.10718647e-05  -1.28719770e-02   2.36995798e+02]\n",
      "[ -1.32464025e-04   1.35332459e-01   1.06609236e+03]\n"
     ]
    },
    {
     "name": "stderr",
     "output_type": "stream",
     "text": [
      " 35%|███▍      | 441/1261 [01:06<02:00,  6.80it/s]"
     ]
    },
    {
     "name": "stdout",
     "output_type": "stream",
     "text": [
      "[  1.10718647e-05  -1.28719770e-02   2.36995798e+02]\n",
      "[ -1.32464025e-04   1.35332459e-01   1.06609236e+03]\n",
      "[  1.10718647e-05  -1.28719770e-02   2.36995798e+02]\n",
      "[ -1.32464025e-04   1.35332459e-01   1.06609236e+03]\n"
     ]
    },
    {
     "name": "stderr",
     "output_type": "stream",
     "text": [
      " 35%|███▌      | 443/1261 [01:06<02:06,  6.47it/s]"
     ]
    },
    {
     "name": "stdout",
     "output_type": "stream",
     "text": [
      "[  4.38919038e-05  -6.74626661e-02   2.60061179e+02]\n",
      "[ -1.49240293e-04   1.82131612e-01   1.04381911e+03]\n",
      "[  4.38919038e-05  -6.74626661e-02   2.60061179e+02]\n",
      "[ -1.49240293e-04   1.82131612e-01   1.04381911e+03]\n"
     ]
    },
    {
     "name": "stderr",
     "output_type": "stream",
     "text": [
      " 35%|███▌      | 445/1261 [01:06<02:02,  6.68it/s]"
     ]
    },
    {
     "name": "stdout",
     "output_type": "stream",
     "text": [
      "[  4.38919038e-05  -6.74626661e-02   2.60061179e+02]\n",
      "[ -1.49240293e-04   1.82131612e-01   1.04381911e+03]\n",
      "[  4.38919038e-05  -6.74626661e-02   2.60061179e+02]\n",
      "[ -1.49240293e-04   1.82131612e-01   1.04381911e+03]\n"
     ]
    },
    {
     "name": "stderr",
     "output_type": "stream",
     "text": [
      " 35%|███▌      | 447/1261 [01:07<02:09,  6.26it/s]"
     ]
    },
    {
     "name": "stdout",
     "output_type": "stream",
     "text": [
      "[  4.38919038e-05  -6.74626661e-02   2.60061179e+02]\n",
      "[ -1.49240293e-04   1.82131612e-01   1.04381911e+03]\n",
      "[  4.38919038e-05  -6.74626661e-02   2.60061179e+02]\n",
      "[ -1.49240293e-04   1.82131612e-01   1.04381911e+03]\n"
     ]
    },
    {
     "name": "stderr",
     "output_type": "stream",
     "text": [
      " 36%|███▌      | 449/1261 [01:07<02:07,  6.36it/s]"
     ]
    },
    {
     "name": "stdout",
     "output_type": "stream",
     "text": [
      "[  4.38919038e-05  -6.74626661e-02   2.60061179e+02]\n",
      "[ -1.49240293e-04   1.82131612e-01   1.04381911e+03]\n",
      "[  3.79770857e-05  -9.05054835e-02   2.65179330e+02]\n",
      "[ -1.12701553e-04   1.40763471e-01   1.05172316e+03]\n"
     ]
    },
    {
     "name": "stderr",
     "output_type": "stream",
     "text": [
      "\r",
      " 36%|███▌      | 450/1261 [01:07<02:12,  6.12it/s]"
     ]
    },
    {
     "name": "stdout",
     "output_type": "stream",
     "text": [
      "[  3.42574143e-05  -8.78887519e-02   2.63659028e+02]\n",
      "[ -3.09657543e-05   1.01570436e-01   1.05546233e+03]\n"
     ]
    },
    {
     "name": "stderr",
     "output_type": "stream",
     "text": [
      "\r",
      " 36%|███▌      | 451/1261 [01:07<02:25,  5.55it/s]"
     ]
    },
    {
     "name": "stdout",
     "output_type": "stream",
     "text": [
      "[  3.70184111e-05  -9.80655687e-02   2.69170175e+02]\n",
      "[  1.24589567e-05   6.37808632e-02   1.06164610e+03]\n",
      "[  4.10902149e-05  -1.02165856e-01   2.69892253e+02]\n",
      "[ -1.41247388e-05   7.96121088e-02   1.06045016e+03]\n"
     ]
    },
    {
     "name": "stderr",
     "output_type": "stream",
     "text": [
      " 36%|███▌      | 453/1261 [01:08<02:22,  5.65it/s]"
     ]
    },
    {
     "name": "stdout",
     "output_type": "stream",
     "text": [
      "[  4.85913095e-05  -1.08642053e-01   2.69441048e+02]\n",
      "[  1.04378472e-05   5.12642561e-02   1.07031612e+03]\n",
      "[  4.85913095e-05  -1.08642053e-01   2.69441048e+02]\n",
      "[  1.04378472e-05   5.12642561e-02   1.07031612e+03]\n"
     ]
    },
    {
     "name": "stderr",
     "output_type": "stream",
     "text": [
      " 36%|███▌      | 456/1261 [01:08<02:15,  5.95it/s]"
     ]
    },
    {
     "name": "stdout",
     "output_type": "stream",
     "text": [
      "[  1.95861776e-05  -1.00566022e-01   2.80518795e+02]\n",
      "[ -8.08923039e-05   1.35007392e-01   1.05083717e+03]\n",
      "[  1.82294144e-05  -1.03354528e-01   2.83507483e+02]\n",
      "[ -3.28124126e-05   8.92599827e-02   1.06197276e+03]\n"
     ]
    },
    {
     "name": "stderr",
     "output_type": "stream",
     "text": [
      " 36%|███▋      | 458/1261 [01:09<02:16,  5.87it/s]"
     ]
    },
    {
     "name": "stdout",
     "output_type": "stream",
     "text": [
      "[  3.77703359e-05  -1.19970887e-01   2.88851332e+02]\n",
      "[  2.29355512e-05   3.67791061e-02   1.07200168e+03]\n",
      "[  2.94710221e-05  -1.13583056e-01   2.88605691e+02]\n",
      "[ -5.47631918e-05   1.05054236e-01   1.06230721e+03]\n"
     ]
    },
    {
     "name": "stderr",
     "output_type": "stream",
     "text": [
      " 36%|███▋      | 460/1261 [01:09<02:06,  6.34it/s]"
     ]
    },
    {
     "name": "stdout",
     "output_type": "stream",
     "text": [
      "[ -1.43028493e-06  -1.03602958e-01   2.97725267e+02]\n",
      "[ -1.57823409e-05   8.07894691e-02   1.05920595e+03]\n",
      "[ -2.43087674e-05  -8.03319660e-02   2.90909546e+02]\n",
      "[ -1.74541697e-05   7.55211136e-02   1.06401715e+03]\n"
     ]
    },
    {
     "name": "stderr",
     "output_type": "stream",
     "text": [
      " 37%|███▋      | 462/1261 [01:09<02:06,  6.31it/s]"
     ]
    },
    {
     "name": "stdout",
     "output_type": "stream",
     "text": [
      "[ -4.13563708e-05  -6.24112907e-02   2.87138501e+02]\n",
      "[  3.83067018e-06   6.63715895e-02   1.06615574e+03]\n",
      "[ -6.07772837e-05  -3.73370801e-02   2.76976714e+02]\n",
      "[  9.29707897e-05  -5.88984649e-03   1.08407254e+03]\n"
     ]
    },
    {
     "name": "stderr",
     "output_type": "stream",
     "text": [
      " 37%|███▋      | 464/1261 [01:09<02:01,  6.57it/s]"
     ]
    },
    {
     "name": "stdout",
     "output_type": "stream",
     "text": [
      "[ -6.73748358e-05  -2.03515690e-02   2.67891147e+02]\n",
      "[  3.72924024e-05   1.59060351e-02   1.09045558e+03]\n",
      "[ -6.71592557e-05  -3.28723080e-02   2.79452470e+02]\n",
      "[ -3.23456561e-05   7.72699157e-02   1.07214188e+03]\n"
     ]
    },
    {
     "name": "stderr",
     "output_type": "stream",
     "text": [
      " 37%|███▋      | 466/1261 [01:10<01:59,  6.66it/s]"
     ]
    },
    {
     "name": "stdout",
     "output_type": "stream",
     "text": [
      "[ -7.79247337e-05  -2.01829418e-02   2.76478208e+02]\n",
      "[  1.49212918e-05   3.90382583e-02   1.07881211e+03]\n",
      "[ -9.09005898e-05  -1.85949117e-02   2.82877611e+02]\n",
      "[  1.01972912e-04  -2.32700495e-02   1.08325606e+03]\n"
     ]
    },
    {
     "name": "stderr",
     "output_type": "stream",
     "text": [
      " 37%|███▋      | 468/1261 [01:10<01:59,  6.61it/s]"
     ]
    },
    {
     "name": "stdout",
     "output_type": "stream",
     "text": [
      "[ -8.41625067e-05  -1.40665053e-02   2.77967143e+02]\n",
      "[  9.44326950e-05  -2.71175329e-02   1.08708411e+03]\n",
      "[ -9.50093540e-05  -1.38194727e-03   2.75582613e+02]\n",
      "[  2.21804176e-05   3.40464255e-02   1.07593824e+03]\n"
     ]
    },
    {
     "name": "stderr",
     "output_type": "stream",
     "text": [
      " 37%|███▋      | 470/1261 [01:10<01:58,  6.68it/s]"
     ]
    },
    {
     "name": "stdout",
     "output_type": "stream",
     "text": [
      "[ -7.54450458e-05  -1.54843016e-02   2.78341467e+02]\n",
      "[  8.62047442e-05  -2.85540101e-02   1.08792141e+03]\n",
      "[ -8.28451204e-05   4.98986151e-03   2.65107395e+02]\n",
      "[  5.92566260e-05  -2.18662227e-02   1.09659589e+03]\n"
     ]
    },
    {
     "name": "stderr",
     "output_type": "stream",
     "text": [
      " 37%|███▋      | 472/1261 [01:11<02:01,  6.50it/s]"
     ]
    },
    {
     "name": "stdout",
     "output_type": "stream",
     "text": [
      "[ -7.40496353e-05  -3.49031555e-03   2.70056790e+02]\n",
      "[  7.78909936e-05  -3.57558979e-02   1.09526532e+03]\n",
      "[ -8.02327234e-05   9.10536437e-03   2.64427376e+02]\n",
      "[  3.05924755e-05   1.29685122e-03   1.09128782e+03]\n"
     ]
    },
    {
     "name": "stderr",
     "output_type": "stream",
     "text": [
      " 38%|███▊      | 474/1261 [01:11<02:05,  6.27it/s]"
     ]
    },
    {
     "name": "stdout",
     "output_type": "stream",
     "text": [
      "[ -6.97929977e-05   7.05563648e-03   2.63058657e+02]\n",
      "[  6.84730905e-05  -2.08376904e-02   1.09251483e+03]\n",
      "[ -2.93943353e-05  -2.61769513e-02   2.70412932e+02]\n",
      "[  1.34513181e-05   6.83374208e-03   1.08897422e+03]\n"
     ]
    },
    {
     "name": "stderr",
     "output_type": "stream",
     "text": [
      " 38%|███▊      | 476/1261 [01:11<02:00,  6.49it/s]"
     ]
    },
    {
     "name": "stdout",
     "output_type": "stream",
     "text": [
      "[ -2.79145766e-05  -1.30821765e-02   2.59246140e+02]\n",
      "[  8.73957944e-05  -5.80742156e-02   1.10963276e+03]\n",
      "[ -2.30608350e-05  -1.59100726e-02   2.60784206e+02]\n",
      "[  3.67289536e-05  -2.96550937e-02   1.10734285e+03]\n"
     ]
    },
    {
     "name": "stderr",
     "output_type": "stream",
     "text": [
      " 38%|███▊      | 478/1261 [01:12<02:05,  6.25it/s]"
     ]
    },
    {
     "name": "stdout",
     "output_type": "stream",
     "text": [
      "[ -1.94386660e-05  -8.60676808e-03   2.53000440e+02]\n",
      "[  3.11914507e-05  -3.91308144e-02   1.11866234e+03]\n",
      "[ -5.42825219e-06  -1.39194606e-02   2.50754263e+02]\n",
      "[ -4.20623515e-05   4.89734778e-03   1.11918484e+03]\n"
     ]
    },
    {
     "name": "stderr",
     "output_type": "stream",
     "text": [
      " 38%|███▊      | 480/1261 [01:12<01:59,  6.54it/s]"
     ]
    },
    {
     "name": "stdout",
     "output_type": "stream",
     "text": [
      "[  6.97935570e-06  -2.12921746e-02   2.50059877e+02]\n",
      "[  3.48186398e-05  -5.74584672e-02   1.13124429e+03]\n",
      "[  1.83509121e-05  -2.55146127e-02   2.45929711e+02]\n",
      "[ -4.84125867e-06  -3.32106144e-02   1.13556375e+03]\n"
     ]
    },
    {
     "name": "stderr",
     "output_type": "stream",
     "text": [
      " 38%|███▊      | 482/1261 [01:12<01:57,  6.64it/s]"
     ]
    },
    {
     "name": "stdout",
     "output_type": "stream",
     "text": [
      "[  3.64138191e-05  -5.24449390e-02   2.56576877e+02]\n",
      "[  2.75590179e-06  -2.72280422e-02   1.12863933e+03]\n",
      "[  3.64138191e-05  -5.24449390e-02   2.56576877e+02]\n",
      "[  2.75590179e-06  -2.72280422e-02   1.12863933e+03]\n"
     ]
    },
    {
     "name": "stderr",
     "output_type": "stream",
     "text": [
      " 38%|███▊      | 484/1261 [01:13<01:57,  6.60it/s]"
     ]
    },
    {
     "name": "stdout",
     "output_type": "stream",
     "text": [
      "[  5.43951489e-05  -6.03274745e-02   2.48640853e+02]\n",
      "[ -3.25675208e-05  -8.85189416e-03   1.13659925e+03]\n",
      "[  3.58501483e-05  -5.59611225e-02   2.54245705e+02]\n",
      "[  2.69303031e-06  -3.52939366e-02   1.13764808e+03]\n"
     ]
    },
    {
     "name": "stderr",
     "output_type": "stream",
     "text": [
      "\r",
      " 38%|███▊      | 485/1261 [01:13<02:01,  6.41it/s]"
     ]
    },
    {
     "name": "stdout",
     "output_type": "stream",
     "text": [
      "[  2.44032866e-05  -5.22024485e-02   2.54946932e+02]\n",
      "[ -7.13732088e-05   3.09848251e-02   1.12462070e+03]\n",
      "[  9.39373967e-06  -5.10291985e-02   2.62065492e+02]\n",
      "[ -2.26564621e-05   2.11563252e-02   1.11598580e+03]\n"
     ]
    },
    {
     "name": "stderr",
     "output_type": "stream",
     "text": [
      " 39%|███▊      | 488/1261 [01:13<02:03,  6.28it/s]"
     ]
    },
    {
     "name": "stdout",
     "output_type": "stream",
     "text": [
      "[ -4.21172250e-06  -4.35984825e-02   2.63903937e+02]\n",
      "[ -4.62789639e-05   3.67048573e-02   1.11399349e+03]\n",
      "[  7.24135810e-06  -6.69865923e-02   2.76711278e+02]\n",
      "[ -2.81178932e-05   4.62917364e-02   1.10065425e+03]\n"
     ]
    },
    {
     "name": "stderr",
     "output_type": "stream",
     "text": [
      " 39%|███▉      | 490/1261 [01:14<02:02,  6.29it/s]"
     ]
    },
    {
     "name": "stdout",
     "output_type": "stream",
     "text": [
      "[ -7.45178026e-06  -6.19836572e-02   2.81411796e+02]\n",
      "[ -1.07688639e-04   1.09250696e-01   1.08635143e+03]\n",
      "[  1.23860570e-06  -6.92299259e-02   2.82832510e+02]\n",
      "[ -3.70238005e-05   5.46214652e-02   1.09667359e+03]\n"
     ]
    },
    {
     "name": "stderr",
     "output_type": "stream",
     "text": [
      " 39%|███▉      | 492/1261 [01:14<02:02,  6.29it/s]"
     ]
    },
    {
     "name": "stdout",
     "output_type": "stream",
     "text": [
      "[  7.85792548e-06  -7.49343206e-02   2.85588922e+02]\n",
      "[  5.58968520e-06   2.43161110e-02   1.09881131e+03]\n",
      "[  4.14020240e-06  -5.93391063e-02   2.75949876e+02]\n",
      "[ -7.68347505e-05   8.75764573e-02   1.09335164e+03]\n"
     ]
    },
    {
     "name": "stderr",
     "output_type": "stream",
     "text": [
      " 39%|███▉      | 494/1261 [01:14<02:03,  6.22it/s]"
     ]
    },
    {
     "name": "stdout",
     "output_type": "stream",
     "text": [
      "[  7.58242825e-06  -6.56492332e-02   2.77960698e+02]\n",
      "[  2.37262815e-05  -1.13867815e-02   1.11516075e+03]\n",
      "[  9.69280770e-06  -5.55542816e-02   2.68591312e+02]\n",
      "[  6.67417151e-06  -4.44014726e-03   1.11995991e+03]\n"
     ]
    },
    {
     "name": "stderr",
     "output_type": "stream",
     "text": [
      " 39%|███▉      | 496/1261 [01:14<01:57,  6.54it/s]"
     ]
    },
    {
     "name": "stdout",
     "output_type": "stream",
     "text": [
      "[  3.28340365e-05  -6.87248424e-02   2.67103375e+02]\n",
      "[ -4.06189903e-05   3.69092509e-02   1.11465191e+03]\n",
      "[  4.11933265e-06  -4.84831015e-02   2.65709995e+02]\n",
      "[ -4.40507416e-05   4.43906495e-02   1.10950460e+03]\n"
     ]
    },
    {
     "name": "stderr",
     "output_type": "stream",
     "text": [
      " 39%|███▉      | 498/1261 [01:15<01:59,  6.36it/s]"
     ]
    },
    {
     "name": "stdout",
     "output_type": "stream",
     "text": [
      "[  6.44217356e-06  -5.04361035e-02   2.65808822e+02]\n",
      "[ -1.32885363e-04   1.07666153e-01   1.09891186e+03]\n",
      "[ -1.57554914e-05  -3.60702682e-02   2.66868762e+02]\n",
      "[ -1.13527137e-04   1.03120011e-01   1.09411308e+03]\n"
     ]
    },
    {
     "name": "stderr",
     "output_type": "stream",
     "text": [
      " 40%|███▉      | 500/1261 [01:15<01:58,  6.40it/s]"
     ]
    },
    {
     "name": "stdout",
     "output_type": "stream",
     "text": [
      "[ -2.47930393e-05  -2.03448210e-02   2.58408548e+02]\n",
      "[  3.47427053e-05   1.28467382e-02   1.10540804e+03]\n",
      "[ -2.59222164e-05  -6.87507713e-03   2.47710855e+02]\n",
      "[  3.35991722e-06   1.59596784e-02   1.11568430e+03]\n"
     ]
    },
    {
     "name": "stderr",
     "output_type": "stream",
     "text": [
      " 40%|███▉      | 502/1261 [01:15<01:58,  6.40it/s]"
     ]
    },
    {
     "name": "stdout",
     "output_type": "stream",
     "text": [
      "[ -2.85961041e-05   6.52418079e-03   2.39482892e+02]\n",
      "[  4.29932448e-05  -2.16679816e-02   1.12824701e+03]\n",
      "[ -8.54286536e-06  -2.48095915e-03   2.35236359e+02]\n",
      "[ -1.33604749e-06  -1.03909798e-02   1.14015406e+03]\n"
     ]
    },
    {
     "name": "stderr",
     "output_type": "stream",
     "text": [
      " 40%|███▉      | 504/1261 [01:16<01:55,  6.54it/s]"
     ]
    },
    {
     "name": "stdout",
     "output_type": "stream",
     "text": [
      "[ -6.87518848e-07  -2.16039621e-02   2.47728736e+02]\n",
      "[ -7.65833490e-05   6.92062657e-02   1.11727381e+03]\n",
      "[ -2.31616198e-05  -3.23322274e-03   2.44496562e+02]\n",
      "[ -1.25483670e-05   1.48611364e-02   1.12750619e+03]\n"
     ]
    },
    {
     "name": "stderr",
     "output_type": "stream",
     "text": [
      " 40%|████      | 506/1261 [01:16<01:57,  6.41it/s]"
     ]
    },
    {
     "name": "stdout",
     "output_type": "stream",
     "text": [
      "[ -3.27854332e-05   3.83564636e-03   2.43307635e+02]\n",
      "[ -2.94955597e-05   3.05050960e-02   1.12503543e+03]\n",
      "[ -3.24371763e-05   2.72619554e-03   2.44440436e+02]\n",
      "[ -3.14288238e-05   3.69842054e-02   1.12095957e+03]\n"
     ]
    },
    {
     "name": "stderr",
     "output_type": "stream",
     "text": [
      " 40%|████      | 508/1261 [01:16<01:57,  6.42it/s]"
     ]
    },
    {
     "name": "stdout",
     "output_type": "stream",
     "text": [
      "[ -2.08816664e-05   1.11431959e-03   2.39220502e+02]\n",
      "[  2.99867864e-05  -3.44028380e-02   1.14190652e+03]\n",
      "[ -3.20794100e-05   7.88458624e-03   2.39971643e+02]\n",
      "[  2.53832517e-05  -1.60173585e-02   1.13054774e+03]\n"
     ]
    },
    {
     "name": "stderr",
     "output_type": "stream",
     "text": [
      " 40%|████      | 510/1261 [01:17<01:57,  6.40it/s]"
     ]
    },
    {
     "name": "stdout",
     "output_type": "stream",
     "text": [
      "[ -3.77777424e-05   1.81109538e-02   2.33320128e+02]\n",
      "[  1.14930910e-04  -4.78213628e-02   1.13049081e+03]\n",
      "[ -3.77777424e-05   1.81109538e-02   2.33320128e+02]\n",
      "[  1.14930910e-04  -4.78213628e-02   1.13049081e+03]\n"
     ]
    },
    {
     "name": "stderr",
     "output_type": "stream",
     "text": [
      " 41%|████      | 512/1261 [01:17<01:57,  6.39it/s]"
     ]
    },
    {
     "name": "stdout",
     "output_type": "stream",
     "text": [
      "[ -5.40103863e-05   3.39138518e-02   2.31091181e+02]\n",
      "[  7.56482556e-05  -3.35948705e-02   1.12407823e+03]\n",
      "[ -3.19608017e-05   1.69337872e-02   2.34745203e+02]\n",
      "[  6.44413982e-05  -2.43608258e-02   1.11880853e+03]\n"
     ]
    },
    {
     "name": "stderr",
     "output_type": "stream",
     "text": [
      "\r",
      " 41%|████      | 513/1261 [01:17<01:59,  6.26it/s]"
     ]
    },
    {
     "name": "stdout",
     "output_type": "stream",
     "text": [
      "[ -4.20954358e-05   1.36079646e-02   2.43190128e+02]\n",
      "[ -2.09494520e-05   4.96095208e-02   1.09631201e+03]\n",
      "[ -6.33478145e-05   4.19579477e-02   2.32862035e+02]\n",
      "[  3.01463453e-05   3.76716274e-03   1.10647443e+03]\n"
     ]
    },
    {
     "name": "stderr",
     "output_type": "stream",
     "text": [
      " 41%|████      | 516/1261 [01:18<02:00,  6.18it/s]"
     ]
    },
    {
     "name": "stdout",
     "output_type": "stream",
     "text": [
      "[ -3.41116999e-05   1.77968984e-02   2.37967642e+02]\n",
      "[ -2.41644128e-05   5.07060466e-02   1.09658717e+03]\n",
      "[ -1.05247915e-04   9.15721887e-02   2.17613681e+02]\n",
      "[ -6.34177003e-05   7.27774777e-02   1.09921637e+03]\n"
     ]
    },
    {
     "name": "stderr",
     "output_type": "stream",
     "text": [
      "\r",
      " 41%|████      | 517/1261 [01:18<02:01,  6.10it/s]"
     ]
    },
    {
     "name": "stdout",
     "output_type": "stream",
     "text": [
      "[ -9.90952812e-05   9.49984955e-02   2.12040899e+02]\n",
      "[ -8.28964520e-05   8.56797679e-02   1.10111059e+03]\n",
      "[ -2.36486799e-05   2.31025677e-02   2.28093866e+02]\n",
      "[ -5.74633182e-05   6.51277583e-02   1.10272652e+03]\n"
     ]
    },
    {
     "name": "stderr",
     "output_type": "stream",
     "text": [
      " 41%|████      | 520/1261 [01:18<01:58,  6.23it/s]"
     ]
    },
    {
     "name": "stdout",
     "output_type": "stream",
     "text": [
      "[  5.06685609e-06  -7.09152675e-04   2.30851293e+02]\n",
      "[ -3.97120110e-05   3.46928228e-02   1.11751388e+03]\n",
      "[  7.27710051e-05  -7.29861328e-02   2.52695102e+02]\n",
      "[ -3.42119829e-05   3.73222377e-02   1.11192292e+03]\n"
     ]
    },
    {
     "name": "stderr",
     "output_type": "stream",
     "text": [
      " 41%|████▏     | 522/1261 [01:19<01:55,  6.39it/s]"
     ]
    },
    {
     "name": "stdout",
     "output_type": "stream",
     "text": [
      "[  9.94456113e-05  -1.03710770e-01   2.61757987e+02]\n",
      "[  4.78675696e-05  -4.47806263e-03   1.11856437e+03]\n",
      "[  5.99897015e-05  -7.32756035e-02   2.58415643e+02]\n",
      "[ -9.02479252e-05   8.75660923e-02   1.10664672e+03]\n"
     ]
    },
    {
     "name": "stderr",
     "output_type": "stream",
     "text": [
      " 42%|████▏     | 524/1261 [01:19<01:51,  6.61it/s]"
     ]
    },
    {
     "name": "stdout",
     "output_type": "stream",
     "text": [
      "[  2.58968186e-05  -5.11335884e-02   2.58993614e+02]\n",
      "[ -1.09084023e-04   9.25426486e-02   1.10587508e+03]\n",
      "[ -8.02438294e-05   3.21638246e-02   2.48641069e+02]\n",
      "[ -1.17166914e-05   3.67725010e-02   1.10722048e+03]\n"
     ]
    },
    {
     "name": "stderr",
     "output_type": "stream",
     "text": [
      " 42%|████▏     | 526/1261 [01:19<01:54,  6.44it/s]"
     ]
    },
    {
     "name": "stdout",
     "output_type": "stream",
     "text": [
      "[ -1.28078138e-04   7.15217066e-02   2.44407032e+02]\n",
      "[ -2.91340982e-05   5.80298017e-02   1.09732204e+03]\n",
      "[ -7.61119671e-05   4.15568443e-02   2.39614365e+02]\n",
      "[ -2.85638917e-05   2.92531910e-02   1.11753549e+03]\n"
     ]
    },
    {
     "name": "stderr",
     "output_type": "stream",
     "text": [
      " 42%|████▏     | 528/1261 [01:19<01:53,  6.45it/s]"
     ]
    },
    {
     "name": "stdout",
     "output_type": "stream",
     "text": [
      "[ -7.61119671e-05   4.15568443e-02   2.39614365e+02]\n",
      "[ -2.85638917e-05   2.92531910e-02   1.11753549e+03]\n",
      "[ -1.51974085e-04   1.26939797e-01   2.10889194e+02]\n",
      "[ -2.01353914e-05  -2.41776124e-03   1.13810979e+03]\n"
     ]
    },
    {
     "name": "stderr",
     "output_type": "stream",
     "text": [
      " 42%|████▏     | 530/1261 [01:20<01:51,  6.55it/s]"
     ]
    },
    {
     "name": "stdout",
     "output_type": "stream",
     "text": [
      "[ -1.51974085e-04   1.26939797e-01   2.10889194e+02]\n",
      "[ -2.01353914e-05  -2.41776124e-03   1.13810979e+03]\n",
      "[ -1.51974085e-04   1.26939797e-01   2.10889194e+02]\n",
      "[ -2.01353914e-05  -2.41776124e-03   1.13810979e+03]\n"
     ]
    },
    {
     "name": "stderr",
     "output_type": "stream",
     "text": [
      " 42%|████▏     | 532/1261 [01:20<01:46,  6.82it/s]"
     ]
    },
    {
     "name": "stdout",
     "output_type": "stream",
     "text": [
      "[ -1.51974085e-04   1.26939797e-01   2.10889194e+02]\n",
      "[ -2.01353914e-05  -2.41776124e-03   1.13810979e+03]\n",
      "[ -7.26316390e-05  -3.12362159e-03   2.74406824e+02]\n",
      "[ -6.35300340e-05   1.02716463e-01   1.07566232e+03]\n"
     ]
    },
    {
     "name": "stderr",
     "output_type": "stream",
     "text": [
      " 42%|████▏     | 534/1261 [01:20<01:50,  6.56it/s]"
     ]
    },
    {
     "name": "stdout",
     "output_type": "stream",
     "text": [
      "[ -3.89948031e-05  -3.96737387e-02   2.84611755e+02]\n",
      "[  9.04215989e-05   1.56771716e-02   1.08449220e+03]\n",
      "[ -1.24870417e-04   3.88852215e-02   2.69762506e+02]\n",
      "[  3.31248176e-05   4.16194302e-02   1.08473958e+03]\n"
     ]
    },
    {
     "name": "stderr",
     "output_type": "stream",
     "text": [
      " 43%|████▎     | 536/1261 [01:21<01:50,  6.57it/s]"
     ]
    },
    {
     "name": "stdout",
     "output_type": "stream",
     "text": [
      "[ -1.47323826e-04   6.09928464e-02   2.61161891e+02]\n",
      "[  3.67672573e-05   2.19311041e-02   1.09720799e+03]\n",
      "[ -1.28997605e-04   6.36922079e-02   2.52483505e+02]\n",
      "[ -9.73085243e-06   2.95240538e-02   1.11125581e+03]\n"
     ]
    },
    {
     "name": "stderr",
     "output_type": "stream",
     "text": [
      "\r",
      " 43%|████▎     | 537/1261 [01:21<01:51,  6.52it/s]"
     ]
    },
    {
     "name": "stdout",
     "output_type": "stream",
     "text": [
      "[ -2.21102371e-04   1.30313514e-01   2.45225641e+02]\n",
      "[  3.81885158e-05  -1.38308350e-03   1.11443019e+03]\n",
      "[ -1.39167290e-04   8.26682561e-02   2.46589338e+02]\n",
      "[  2.82141175e-05  -1.53475727e-02   1.12815694e+03]\n"
     ]
    },
    {
     "name": "stderr",
     "output_type": "stream",
     "text": [
      " 43%|████▎     | 540/1261 [01:21<01:52,  6.39it/s]"
     ]
    },
    {
     "name": "stdout",
     "output_type": "stream",
     "text": [
      "[ -1.97756445e-04   1.22927292e-01   2.43516745e+02]\n",
      "[  8.02626749e-05  -5.64944965e-02   1.13243288e+03]\n",
      "[ -1.33792131e-04   7.61809640e-02   2.50955460e+02]\n",
      "[  8.92333392e-05  -6.87927099e-02   1.13591918e+03]\n"
     ]
    },
    {
     "name": "stderr",
     "output_type": "stream",
     "text": [
      " 43%|████▎     | 542/1261 [01:22<01:57,  6.09it/s]"
     ]
    },
    {
     "name": "stdout",
     "output_type": "stream",
     "text": [
      "[ -1.04246535e-04   6.20028956e-02   2.52431739e+02]\n",
      "[  9.12206223e-05  -7.12999511e-02   1.13417710e+03]\n",
      "[ -6.10649560e-05   3.27465375e-02   2.58498152e+02]\n",
      "[  8.50205995e-05  -6.78291138e-02   1.13123099e+03]\n"
     ]
    },
    {
     "name": "stderr",
     "output_type": "stream",
     "text": [
      "\r",
      " 43%|████▎     | 543/1261 [01:22<02:09,  5.56it/s]"
     ]
    },
    {
     "name": "stdout",
     "output_type": "stream",
     "text": [
      "[ -8.82111971e-05   5.15232556e-02   2.53316279e+02]\n",
      "[  8.56415525e-05  -7.56353297e-02   1.13563210e+03]\n",
      "[ -1.64422487e-04   1.03869338e-01   2.48348340e+02]\n",
      "[  7.53898755e-05  -6.38984968e-02   1.12934658e+03]\n"
     ]
    },
    {
     "name": "stderr",
     "output_type": "stream",
     "text": [
      " 43%|████▎     | 545/1261 [01:22<02:05,  5.72it/s]"
     ]
    },
    {
     "name": "stdout",
     "output_type": "stream",
     "text": [
      "[ -1.11137333e-04   7.12795094e-02   2.48201460e+02]\n",
      "[  8.87846961e-05  -8.84660124e-02   1.13997066e+03]\n",
      "[ -1.07163961e-04   6.06979382e-02   2.53342640e+02]\n",
      "[  7.66494034e-05  -7.99334440e-02   1.13835284e+03]\n"
     ]
    },
    {
     "name": "stderr",
     "output_type": "stream",
     "text": [
      " 43%|████▎     | 547/1261 [01:23<02:17,  5.19it/s]"
     ]
    },
    {
     "name": "stdout",
     "output_type": "stream",
     "text": [
      "[ -6.08851983e-05   3.89309109e-02   2.50401826e+02]\n",
      "[  3.76069254e-05  -6.29795732e-02   1.14238389e+03]\n"
     ]
    },
    {
     "name": "stderr",
     "output_type": "stream",
     "text": [
      "\r",
      " 43%|████▎     | 548/1261 [01:23<02:19,  5.10it/s]"
     ]
    },
    {
     "name": "stdout",
     "output_type": "stream",
     "text": [
      "[ -6.14714615e-05   3.84425145e-02   2.46884510e+02]\n",
      "[  2.02324096e-05  -5.49073617e-02   1.14425336e+03]\n",
      "[ -3.35248129e-05   1.39624615e-02   2.48853536e+02]\n",
      "[  1.87511824e-05  -5.96246847e-02   1.14954622e+03]\n"
     ]
    },
    {
     "name": "stderr",
     "output_type": "stream",
     "text": [
      " 44%|████▎     | 550/1261 [01:23<02:17,  5.18it/s]"
     ]
    },
    {
     "name": "stdout",
     "output_type": "stream",
     "text": [
      "[ -6.59171854e-05   2.99577295e-02   2.38725905e+02]\n",
      "[ -8.87113764e-06  -5.96664047e-02   1.16795064e+03]\n"
     ]
    },
    {
     "name": "stderr",
     "output_type": "stream",
     "text": [
      "\r",
      " 44%|████▎     | 551/1261 [01:23<02:25,  4.89it/s]"
     ]
    },
    {
     "name": "stdout",
     "output_type": "stream",
     "text": [
      "[ -1.04369046e-04   6.94355119e-02   2.30021547e+02]\n",
      "[ -4.54044875e-05  -2.40621261e-02   1.16189154e+03]\n"
     ]
    },
    {
     "name": "stderr",
     "output_type": "stream",
     "text": [
      "\r",
      " 44%|████▍     | 552/1261 [01:24<02:40,  4.42it/s]"
     ]
    },
    {
     "name": "stdout",
     "output_type": "stream",
     "text": [
      "[  1.50048675e-05  -3.73272272e-03   2.34662058e+02]\n",
      "[ -3.88219622e-05  -3.45557281e-02   1.17010098e+03]\n"
     ]
    },
    {
     "name": "stderr",
     "output_type": "stream",
     "text": [
      " 44%|████▍     | 554/1261 [01:24<02:29,  4.73it/s]"
     ]
    },
    {
     "name": "stdout",
     "output_type": "stream",
     "text": [
      "[  5.53692672e-05  -3.85528877e-02   2.41738170e+02]\n",
      "[ -2.17104725e-05  -5.00301022e-02   1.17397582e+03]\n",
      "[  4.62102755e-05  -2.33246213e-02   2.33976495e+02]\n",
      "[ -5.88896674e-06  -6.66036477e-02   1.17916061e+03]\n"
     ]
    },
    {
     "name": "stderr",
     "output_type": "stream",
     "text": [
      "\r",
      " 44%|████▍     | 555/1261 [01:24<02:21,  5.00it/s]"
     ]
    },
    {
     "name": "stdout",
     "output_type": "stream",
     "text": [
      "[  3.67955328e-05  -2.68316150e-02   2.40977202e+02]\n",
      "[  1.48377581e-05  -7.14169754e-02   1.17500033e+03]\n"
     ]
    },
    {
     "name": "stderr",
     "output_type": "stream",
     "text": [
      "\r",
      " 44%|████▍     | 556/1261 [01:25<02:21,  5.00it/s]"
     ]
    },
    {
     "name": "stdout",
     "output_type": "stream",
     "text": [
      "[ -1.39865448e-05  -3.42415655e-03   2.47597256e+02]\n",
      "[  3.59833914e-05  -6.69764114e-02   1.16340638e+03]\n",
      "[ -4.29565164e-05   1.41108026e-02   2.48850677e+02]\n",
      "[  4.66600547e-05  -7.04856967e-02   1.15935604e+03]\n"
     ]
    },
    {
     "name": "stderr",
     "output_type": "stream",
     "text": [
      " 44%|████▍     | 559/1261 [01:25<02:06,  5.54it/s]"
     ]
    },
    {
     "name": "stdout",
     "output_type": "stream",
     "text": [
      "[ -5.69207199e-05   3.46509032e-02   2.37974924e+02]\n",
      "[  4.73358525e-05  -7.95054295e-02   1.16737000e+03]\n",
      "[ -4.37899611e-05   5.43417310e-02   2.11029347e+02]\n",
      "[  4.95333450e-05  -1.21995779e-01   1.20548351e+03]\n"
     ]
    },
    {
     "name": "stderr",
     "output_type": "stream",
     "text": [
      "\r",
      " 44%|████▍     | 560/1261 [01:25<02:08,  5.47it/s]"
     ]
    },
    {
     "name": "stdout",
     "output_type": "stream",
     "text": [
      "[  2.90251515e-05   5.88777958e-02   1.66759875e+02]\n",
      "[  5.41320295e-05  -1.95356866e-01   1.27102228e+03]\n",
      "[ -1.96367302e-05   1.08273100e-01   1.46785477e+02]\n",
      "[  5.39008010e-05  -2.21020170e-01   1.28892062e+03]\n"
     ]
    },
    {
     "name": "stderr",
     "output_type": "stream",
     "text": [
      " 45%|████▍     | 563/1261 [01:26<01:59,  5.85it/s]"
     ]
    },
    {
     "name": "stdout",
     "output_type": "stream",
     "text": [
      "[ -6.74991841e-05   1.66361716e-01   1.23849085e+02]\n",
      "[ -4.32565807e-05  -1.52390413e-01   1.29379293e+03]\n",
      "[ -7.59421698e-05   1.18404866e-01   1.65902907e+02]\n",
      "[  3.15271960e-05  -1.55372125e-01   1.24999576e+03]\n"
     ]
    },
    {
     "name": "stderr",
     "output_type": "stream",
     "text": [
      " 45%|████▍     | 565/1261 [01:26<01:59,  5.83it/s]"
     ]
    },
    {
     "name": "stdout",
     "output_type": "stream",
     "text": [
      "[ -6.01569022e-05   5.25806707e-02   2.10275378e+02]\n",
      "[ -9.72675296e-06  -4.92820730e-02   1.18548288e+03]\n",
      "[ -1.26619634e-04   9.13169261e-02   2.17950508e+02]\n",
      "[  4.27191330e-05  -6.17357764e-02   1.16507058e+03]\n"
     ]
    },
    {
     "name": "stderr",
     "output_type": "stream",
     "text": [
      " 45%|████▍     | 567/1261 [01:26<01:58,  5.84it/s]"
     ]
    },
    {
     "name": "stdout",
     "output_type": "stream",
     "text": [
      "[ -6.99947618e-05   1.14527650e-02   2.53948691e+02]\n",
      "[  7.51527884e-05  -4.79012466e-02   1.13712285e+03]\n",
      "[ -1.84783457e-05  -4.12084707e-02   2.71153748e+02]\n",
      "[  5.82031570e-05  -2.61576700e-02   1.12364464e+03]\n"
     ]
    },
    {
     "name": "stderr",
     "output_type": "stream",
     "text": [
      " 45%|████▌     | 569/1261 [01:27<01:57,  5.87it/s]"
     ]
    },
    {
     "name": "stdout",
     "output_type": "stream",
     "text": [
      "[  1.52595409e-05  -6.14467373e-02   2.74115796e+02]\n",
      "[  4.81920998e-05  -1.88823548e-02   1.12231584e+03]\n",
      "[ -2.73143820e-05  -1.71555343e-04   2.49555416e+02]\n",
      "[  1.43626108e-05  -1.88677062e-02   1.13929269e+03]\n"
     ]
    },
    {
     "name": "stderr",
     "output_type": "stream",
     "text": [
      " 45%|████▌     | 571/1261 [01:27<01:53,  6.08it/s]"
     ]
    },
    {
     "name": "stdout",
     "output_type": "stream",
     "text": [
      "[ -3.24998711e-05   1.01139415e-02   2.43887738e+02]\n",
      "[  3.84488097e-05  -4.95589704e-02   1.15390875e+03]\n",
      "[  2.48298821e-05  -3.02150752e-02   2.42674509e+02]\n",
      "[  6.46460665e-06  -5.81211557e-02   1.17633366e+03]\n"
     ]
    },
    {
     "name": "stderr",
     "output_type": "stream",
     "text": [
      "\r",
      " 45%|████▌     | 572/1261 [01:27<01:55,  5.96it/s]"
     ]
    },
    {
     "name": "stdout",
     "output_type": "stream",
     "text": [
      "[  2.93686059e-05  -4.19325327e-02   2.49522513e+02]\n",
      "[  7.77582397e-06  -5.78250844e-02   1.17574093e+03]\n",
      "[  2.28839667e-05  -2.26650863e-02   2.37387531e+02]\n",
      "[ -3.63871646e-05  -2.66923860e-02   1.17696249e+03]\n"
     ]
    },
    {
     "name": "stderr",
     "output_type": "stream",
     "text": [
      " 46%|████▌     | 574/1261 [01:28<02:05,  5.49it/s]"
     ]
    },
    {
     "name": "stdout",
     "output_type": "stream",
     "text": [
      "[  1.12428447e-05  -2.19624135e-02   2.43678097e+02]\n",
      "[ -1.35457494e-04   8.08004231e-02   1.15235068e+03]\n",
      "[ -5.64656153e-06  -1.23049363e-02   2.45506654e+02]\n",
      "[ -1.25399415e-04   7.82051467e-02   1.15012577e+03]\n"
     ]
    },
    {
     "name": "stderr",
     "output_type": "stream",
     "text": [
      " 46%|████▌     | 576/1261 [01:28<02:08,  5.32it/s]"
     ]
    },
    {
     "name": "stdout",
     "output_type": "stream",
     "text": [
      "[  1.44224115e-05  -3.95924817e-02   2.56555940e+02]\n",
      "[ -1.23776706e-04   9.05385917e-02   1.14092911e+03]\n",
      "[ -2.84037422e-06  -3.06669577e-02   2.59165569e+02]\n",
      "[ -7.25977213e-05   8.18683213e-02   1.12961953e+03]\n"
     ]
    },
    {
     "name": "stderr",
     "output_type": "stream",
     "text": [
      " 46%|████▌     | 578/1261 [01:28<02:17,  4.95it/s]"
     ]
    },
    {
     "name": "stdout",
     "output_type": "stream",
     "text": [
      "[ -5.61163094e-05   9.89282574e-03   2.56671626e+02]\n",
      "[ -9.23371473e-05   1.16098314e-01   1.11244068e+03]\n",
      "[ -4.02992626e-05  -1.34926152e-02   2.66016785e+02]\n",
      "[ -1.13397504e-04   1.44992733e-01   1.09836508e+03]\n"
     ]
    },
    {
     "name": "stderr",
     "output_type": "stream",
     "text": [
      " 46%|████▌     | 580/1261 [01:29<02:19,  4.87it/s]"
     ]
    },
    {
     "name": "stdout",
     "output_type": "stream",
     "text": [
      "[ -1.43223200e-05  -3.07659183e-02   2.66844582e+02]\n",
      "[ -1.20783829e-04   1.51096203e-01   1.09910503e+03]\n"
     ]
    },
    {
     "name": "stderr",
     "output_type": "stream",
     "text": [
      "\r",
      " 46%|████▌     | 581/1261 [01:29<02:24,  4.70it/s]"
     ]
    },
    {
     "name": "stdout",
     "output_type": "stream",
     "text": [
      "[  8.46134484e-06  -4.71219121e-02   2.68715177e+02]\n",
      "[ -8.28284152e-05   1.29084906e-01   1.10133360e+03]\n",
      "[ -1.84680781e-05  -1.95078932e-02   2.60502850e+02]\n",
      "[ -5.95308748e-05   1.09233631e-01   1.10348013e+03]\n"
     ]
    },
    {
     "name": "stderr",
     "output_type": "stream",
     "text": [
      " 46%|████▌     | 583/1261 [01:29<02:18,  4.89it/s]"
     ]
    },
    {
     "name": "stdout",
     "output_type": "stream",
     "text": [
      "[ -1.47792841e-05  -2.58128582e-02   2.62381656e+02]\n",
      "[ -8.08639307e-05   1.34506611e-01   1.09195210e+03]\n",
      "[ -8.51197115e-05   3.30803724e-02   2.55232943e+02]\n",
      "[ -6.01205002e-05   1.37873303e-01   1.07670265e+03]\n"
     ]
    },
    {
     "name": "stderr",
     "output_type": "stream",
     "text": [
      " 46%|████▋     | 585/1261 [01:30<02:17,  4.91it/s]"
     ]
    },
    {
     "name": "stdout",
     "output_type": "stream",
     "text": [
      "[ -1.07785448e-04   6.87535951e-02   2.36238689e+02]\n",
      "[ -8.87874105e-05   1.47997120e-01   1.08227977e+03]\n",
      "[ -7.81859437e-05   3.84935718e-02   2.49126854e+02]\n",
      "[ -7.94865864e-05   1.60256202e-01   1.06876765e+03]\n"
     ]
    },
    {
     "name": "stderr",
     "output_type": "stream",
     "text": [
      " 47%|████▋     | 588/1261 [01:30<01:59,  5.65it/s]"
     ]
    },
    {
     "name": "stdout",
     "output_type": "stream",
     "text": [
      "[ -6.13646517e-05   3.23375719e-02   2.43833175e+02]\n",
      "[  6.58760113e-05  -1.86378128e-03   1.11026888e+03]\n",
      "[ -7.40017177e-05   4.56844544e-02   2.43074751e+02]\n",
      "[  1.24506669e-04  -6.17751540e-02   1.12126389e+03]\n"
     ]
    },
    {
     "name": "stderr",
     "output_type": "stream",
     "text": [
      " 47%|████▋     | 590/1261 [01:31<01:50,  6.07it/s]"
     ]
    },
    {
     "name": "stdout",
     "output_type": "stream",
     "text": [
      "[ -7.40017177e-05   4.56844544e-02   2.43074751e+02]\n",
      "[  1.24506669e-04  -6.17751540e-02   1.12126389e+03]\n",
      "[ -7.40017177e-05   4.56844544e-02   2.43074751e+02]\n",
      "[  1.24506669e-04  -6.17751540e-02   1.12126389e+03]\n"
     ]
    },
    {
     "name": "stderr",
     "output_type": "stream",
     "text": [
      " 47%|████▋     | 592/1261 [01:31<01:41,  6.56it/s]"
     ]
    },
    {
     "name": "stdout",
     "output_type": "stream",
     "text": [
      "[  6.30967460e-06   1.10999620e-02   2.22428423e+02]\n",
      "[  1.36131161e-04  -1.15772858e-01   1.15809636e+03]\n",
      "[ -2.96696145e-05   4.29769404e-02   2.16106271e+02]\n",
      "[  1.16377537e-04  -9.47083769e-02   1.14968666e+03]\n"
     ]
    },
    {
     "name": "stderr",
     "output_type": "stream",
     "text": [
      " 47%|████▋     | 594/1261 [01:31<01:38,  6.79it/s]"
     ]
    },
    {
     "name": "stdout",
     "output_type": "stream",
     "text": [
      "[  7.91044655e-06   1.50129463e-02   2.15965168e+02]\n",
      "[  7.67020204e-05  -7.83326538e-02   1.15037241e+03]\n",
      "[  4.68954141e-05  -1.40566621e-02   2.16087582e+02]\n",
      "[  8.11341814e-05  -9.32604460e-02   1.15758506e+03]\n"
     ]
    },
    {
     "name": "stderr",
     "output_type": "stream",
     "text": [
      " 47%|████▋     | 596/1261 [01:32<01:39,  6.69it/s]"
     ]
    },
    {
     "name": "stdout",
     "output_type": "stream",
     "text": [
      "[  3.78620832e-05  -9.98052564e-03   2.17588331e+02]\n",
      "[  1.05195634e-04  -1.04984824e-01   1.15368169e+03]\n",
      "[  6.35672734e-05  -2.00494816e-02   2.11058034e+02]\n",
      "[  1.05441872e-04  -1.22768213e-01   1.16756890e+03]\n"
     ]
    },
    {
     "name": "stderr",
     "output_type": "stream",
     "text": [
      " 47%|████▋     | 598/1261 [01:32<01:38,  6.71it/s]"
     ]
    },
    {
     "name": "stdout",
     "output_type": "stream",
     "text": [
      "[  7.76874433e-05  -3.12449421e-02   2.10098953e+02]\n",
      "[  6.80211427e-05  -9.76627353e-02   1.16780406e+03]\n",
      "[  1.06146527e-04  -6.13754331e-02   2.14697985e+02]\n",
      "[  3.50603544e-05  -7.27044576e-02   1.16553152e+03]\n"
     ]
    },
    {
     "name": "stderr",
     "output_type": "stream",
     "text": [
      "\r",
      " 48%|████▊     | 599/1261 [01:32<01:45,  6.28it/s]"
     ]
    },
    {
     "name": "stdout",
     "output_type": "stream",
     "text": [
      "[  5.09447991e-05  -1.02366698e-02   2.01874745e+02]\n",
      "[  4.75437451e-05  -8.62383939e-02   1.16807123e+03]\n"
     ]
    },
    {
     "name": "stderr",
     "output_type": "stream",
     "text": [
      "\r",
      " 48%|████▊     | 600/1261 [01:32<01:54,  5.76it/s]"
     ]
    },
    {
     "name": "stdout",
     "output_type": "stream",
     "text": [
      "[  5.88630569e-05  -2.45027564e-02   2.06046872e+02]\n",
      "[  9.31363071e-05  -1.44273299e-01   1.18344014e+03]\n",
      "[  1.35292635e-04  -8.17450630e-02   2.06895718e+02]\n",
      "[ -1.30715059e-04   2.92613663e-02   1.15973654e+03]\n"
     ]
    },
    {
     "name": "stderr",
     "output_type": "stream",
     "text": [
      " 48%|████▊     | 603/1261 [01:33<01:46,  6.17it/s]"
     ]
    },
    {
     "name": "stdout",
     "output_type": "stream",
     "text": [
      "[  1.59019185e-04  -9.67336070e-02   2.04001504e+02]\n",
      "[ -9.30602699e-05   3.25827912e-03   1.17123625e+03]\n",
      "[  1.33306226e-04  -8.95812345e-02   2.06831961e+02]\n",
      "[  2.65415270e-05  -1.04055813e-01   1.19623389e+03]\n"
     ]
    },
    {
     "name": "stderr",
     "output_type": "stream",
     "text": [
      " 48%|████▊     | 605/1261 [01:33<01:46,  6.15it/s]"
     ]
    },
    {
     "name": "stdout",
     "output_type": "stream",
     "text": [
      "[  1.33306226e-04  -8.95812345e-02   2.06831961e+02]\n",
      "[  2.65415270e-05  -1.04055813e-01   1.19623389e+03]\n",
      "[  1.33306226e-04  -8.95812345e-02   2.06831961e+02]\n",
      "[  2.65415270e-05  -1.04055813e-01   1.19623389e+03]\n"
     ]
    },
    {
     "name": "stderr",
     "output_type": "stream",
     "text": [
      " 48%|████▊     | 607/1261 [01:33<01:39,  6.60it/s]"
     ]
    },
    {
     "name": "stdout",
     "output_type": "stream",
     "text": [
      "[  1.33306226e-04  -8.95812345e-02   2.06831961e+02]\n",
      "[  2.65415270e-05  -1.04055813e-01   1.19623389e+03]\n",
      "[  1.33306226e-04  -8.95812345e-02   2.06831961e+02]\n",
      "[  2.65415270e-05  -1.04055813e-01   1.19623389e+03]\n"
     ]
    },
    {
     "name": "stderr",
     "output_type": "stream",
     "text": [
      " 48%|████▊     | 609/1261 [01:34<01:38,  6.63it/s]"
     ]
    },
    {
     "name": "stdout",
     "output_type": "stream",
     "text": [
      "[  1.33306226e-04  -8.95812345e-02   2.06831961e+02]\n",
      "[  2.65415270e-05  -1.04055813e-01   1.19623389e+03]\n",
      "[  1.33306226e-04  -8.95812345e-02   2.06831961e+02]\n",
      "[  2.65415270e-05  -1.04055813e-01   1.19623389e+03]\n"
     ]
    },
    {
     "name": "stderr",
     "output_type": "stream",
     "text": [
      " 48%|████▊     | 611/1261 [01:34<01:36,  6.77it/s]"
     ]
    },
    {
     "name": "stdout",
     "output_type": "stream",
     "text": [
      "[  1.33306226e-04  -8.95812345e-02   2.06831961e+02]\n",
      "[  2.65415270e-05  -1.04055813e-01   1.19623389e+03]\n",
      "[  1.33306226e-04  -8.95812345e-02   2.06831961e+02]\n",
      "[  2.65415270e-05  -1.04055813e-01   1.19623389e+03]\n"
     ]
    },
    {
     "name": "stderr",
     "output_type": "stream",
     "text": [
      " 49%|████▊     | 613/1261 [01:34<01:38,  6.60it/s]"
     ]
    },
    {
     "name": "stdout",
     "output_type": "stream",
     "text": [
      "[  1.33306226e-04  -8.95812345e-02   2.06831961e+02]\n",
      "[  2.65415270e-05  -1.04055813e-01   1.19623389e+03]\n",
      "[  1.33306226e-04  -8.95812345e-02   2.06831961e+02]\n",
      "[  2.65415270e-05  -1.04055813e-01   1.19623389e+03]\n"
     ]
    },
    {
     "name": "stderr",
     "output_type": "stream",
     "text": [
      " 49%|████▉     | 615/1261 [01:35<01:37,  6.61it/s]"
     ]
    },
    {
     "name": "stdout",
     "output_type": "stream",
     "text": [
      "[  1.33306226e-04  -8.95812345e-02   2.06831961e+02]\n",
      "[  2.65415270e-05  -1.04055813e-01   1.19623389e+03]\n",
      "[  1.33306226e-04  -8.95812345e-02   2.06831961e+02]\n",
      "[  2.65415270e-05  -1.04055813e-01   1.19623389e+03]\n"
     ]
    },
    {
     "name": "stderr",
     "output_type": "stream",
     "text": [
      " 49%|████▉     | 617/1261 [01:35<01:38,  6.56it/s]"
     ]
    },
    {
     "name": "stdout",
     "output_type": "stream",
     "text": [
      "[  1.33306226e-04  -8.95812345e-02   2.06831961e+02]\n",
      "[  2.65415270e-05  -1.04055813e-01   1.19623389e+03]\n",
      "[  1.33306226e-04  -8.95812345e-02   2.06831961e+02]\n",
      "[  2.65415270e-05  -1.04055813e-01   1.19623389e+03]\n"
     ]
    },
    {
     "name": "stderr",
     "output_type": "stream",
     "text": [
      " 49%|████▉     | 619/1261 [01:35<01:34,  6.81it/s]"
     ]
    },
    {
     "name": "stdout",
     "output_type": "stream",
     "text": [
      "[  1.33306226e-04  -8.95812345e-02   2.06831961e+02]\n",
      "[  2.65415270e-05  -1.04055813e-01   1.19623389e+03]\n",
      "[  1.33306226e-04  -8.95812345e-02   2.06831961e+02]\n",
      "[  2.65415270e-05  -1.04055813e-01   1.19623389e+03]\n"
     ]
    },
    {
     "name": "stderr",
     "output_type": "stream",
     "text": [
      " 49%|████▉     | 621/1261 [01:36<01:37,  6.55it/s]"
     ]
    },
    {
     "name": "stdout",
     "output_type": "stream",
     "text": [
      "[  1.33306226e-04  -8.95812345e-02   2.06831961e+02]\n",
      "[  2.65415270e-05  -1.04055813e-01   1.19623389e+03]\n",
      "[  1.33306226e-04  -8.95812345e-02   2.06831961e+02]\n",
      "[  2.65415270e-05  -1.04055813e-01   1.19623389e+03]\n"
     ]
    },
    {
     "name": "stderr",
     "output_type": "stream",
     "text": [
      " 49%|████▉     | 623/1261 [01:36<01:37,  6.53it/s]"
     ]
    },
    {
     "name": "stdout",
     "output_type": "stream",
     "text": [
      "[  1.33306226e-04  -8.95812345e-02   2.06831961e+02]\n",
      "[  2.65415270e-05  -1.04055813e-01   1.19623389e+03]\n",
      "[  6.21029445e-05  -2.61617176e-01   3.39616918e+02]\n",
      "[  1.23023142e-04  -2.83592216e-01   1.22024062e+03]\n"
     ]
    },
    {
     "name": "stderr",
     "output_type": "stream",
     "text": [
      " 50%|████▉     | 625/1261 [01:36<01:38,  6.48it/s]"
     ]
    },
    {
     "name": "stdout",
     "output_type": "stream",
     "text": [
      "[  6.21029445e-05  -2.61617176e-01   3.39616918e+02]\n",
      "[  1.23023142e-04  -2.83592216e-01   1.22024062e+03]\n",
      "[  6.21029445e-05  -2.61617176e-01   3.39616918e+02]\n",
      "[  1.23023142e-04  -2.83592216e-01   1.22024062e+03]\n"
     ]
    },
    {
     "name": "stderr",
     "output_type": "stream",
     "text": [
      " 50%|████▉     | 627/1261 [01:36<01:34,  6.73it/s]"
     ]
    },
    {
     "name": "stdout",
     "output_type": "stream",
     "text": [
      "[  6.21029445e-05  -2.61617176e-01   3.39616918e+02]\n",
      "[  1.23023142e-04  -2.83592216e-01   1.22024062e+03]\n",
      "[  6.21029445e-05  -2.61617176e-01   3.39616918e+02]\n",
      "[  1.23023142e-04  -2.83592216e-01   1.22024062e+03]\n"
     ]
    },
    {
     "name": "stderr",
     "output_type": "stream",
     "text": [
      " 50%|████▉     | 629/1261 [01:37<01:40,  6.26it/s]"
     ]
    },
    {
     "name": "stdout",
     "output_type": "stream",
     "text": [
      "[  6.21029445e-05  -2.61617176e-01   3.39616918e+02]\n",
      "[  1.23023142e-04  -2.83592216e-01   1.22024062e+03]\n",
      "[  6.21029445e-05  -2.61617176e-01   3.39616918e+02]\n",
      "[  1.23023142e-04  -2.83592216e-01   1.22024062e+03]\n"
     ]
    },
    {
     "name": "stderr",
     "output_type": "stream",
     "text": [
      " 50%|█████     | 631/1261 [01:37<01:38,  6.43it/s]"
     ]
    },
    {
     "name": "stdout",
     "output_type": "stream",
     "text": [
      "[  6.21029445e-05  -2.61617176e-01   3.39616918e+02]\n",
      "[  1.23023142e-04  -2.83592216e-01   1.22024062e+03]\n",
      "[  6.21029445e-05  -2.61617176e-01   3.39616918e+02]\n",
      "[  1.23023142e-04  -2.83592216e-01   1.22024062e+03]\n"
     ]
    },
    {
     "name": "stderr",
     "output_type": "stream",
     "text": [
      " 50%|█████     | 633/1261 [01:37<01:46,  5.92it/s]"
     ]
    },
    {
     "name": "stdout",
     "output_type": "stream",
     "text": [
      "[  6.21029445e-05  -2.61617176e-01   3.39616918e+02]\n",
      "[  1.23023142e-04  -2.83592216e-01   1.22024062e+03]\n",
      "[  6.21029445e-05  -2.61617176e-01   3.39616918e+02]\n",
      "[  1.23023142e-04  -2.83592216e-01   1.22024062e+03]\n"
     ]
    },
    {
     "name": "stderr",
     "output_type": "stream",
     "text": [
      " 50%|█████     | 635/1261 [01:38<01:36,  6.48it/s]"
     ]
    },
    {
     "name": "stdout",
     "output_type": "stream",
     "text": [
      "[  1.28867887e-04  -3.98301597e-01   4.10316462e+02]\n",
      "[  1.32993711e-04  -3.24418620e-01   1.27548161e+03]\n",
      "[  1.28867887e-04  -3.98301597e-01   4.10316462e+02]\n",
      "[  1.32993711e-04  -3.24418620e-01   1.27548161e+03]\n"
     ]
    },
    {
     "name": "stderr",
     "output_type": "stream",
     "text": [
      " 51%|█████     | 637/1261 [01:38<01:39,  6.29it/s]"
     ]
    },
    {
     "name": "stdout",
     "output_type": "stream",
     "text": [
      "[  1.28867887e-04  -3.98301597e-01   4.10316462e+02]\n",
      "[  1.32993711e-04  -3.24418620e-01   1.27548161e+03]\n",
      "[  1.28867887e-04  -3.98301597e-01   4.10316462e+02]\n",
      "[  1.32993711e-04  -3.24418620e-01   1.27548161e+03]\n"
     ]
    },
    {
     "name": "stderr",
     "output_type": "stream",
     "text": [
      " 51%|█████     | 639/1261 [01:38<01:34,  6.57it/s]"
     ]
    },
    {
     "name": "stdout",
     "output_type": "stream",
     "text": [
      "[  1.28867887e-04  -3.98301597e-01   4.10316462e+02]\n",
      "[  1.32993711e-04  -3.24418620e-01   1.27548161e+03]\n",
      "[  1.28867887e-04  -3.98301597e-01   4.10316462e+02]\n",
      "[  1.32993711e-04  -3.24418620e-01   1.27548161e+03]\n"
     ]
    },
    {
     "name": "stderr",
     "output_type": "stream",
     "text": [
      " 51%|█████     | 641/1261 [01:39<01:41,  6.09it/s]"
     ]
    },
    {
     "name": "stdout",
     "output_type": "stream",
     "text": [
      "[  1.28867887e-04  -3.98301597e-01   4.10316462e+02]\n",
      "[  1.32993711e-04  -3.24418620e-01   1.27548161e+03]\n",
      "[  1.53768969e-04  -4.23886317e-01   4.45242692e+02]\n",
      "[  1.79808088e-04  -3.45167785e-01   1.27792738e+03]\n"
     ]
    },
    {
     "name": "stderr",
     "output_type": "stream",
     "text": [
      " 51%|█████     | 643/1261 [01:39<01:47,  5.72it/s]"
     ]
    },
    {
     "name": "stdout",
     "output_type": "stream",
     "text": [
      "[  1.14288461e-04  -3.73237354e-01   4.29104609e+02]\n",
      "[  8.33935543e-05  -2.97520480e-01   1.27969284e+03]\n",
      "[  1.01952807e-04  -3.72819004e-01   4.39009816e+02]\n",
      "[  1.81266712e-04  -3.55589058e-01   1.28372122e+03]\n"
     ]
    },
    {
     "name": "stderr",
     "output_type": "stream",
     "text": [
      "\r",
      " 51%|█████     | 644/1261 [01:39<01:50,  5.56it/s]"
     ]
    },
    {
     "name": "stdout",
     "output_type": "stream",
     "text": [
      "[  1.36449122e-04  -4.16277212e-01   4.59419059e+02]\n",
      "[  2.60692165e-04  -3.95585664e-01   1.28032168e+03]\n",
      "[  1.13613775e-04  -3.97920289e-01   4.60348867e+02]\n",
      "[  2.52395679e-04  -3.87395182e-01   1.27655849e+03]\n"
     ]
    },
    {
     "name": "stderr",
     "output_type": "stream",
     "text": [
      " 51%|█████▏    | 647/1261 [01:40<01:52,  5.48it/s]"
     ]
    },
    {
     "name": "stdout",
     "output_type": "stream",
     "text": [
      "[  8.69166406e-05  -3.85509396e-01   4.68459190e+02]\n",
      "[  3.14134293e-04  -4.26741674e-01   1.27589669e+03]\n",
      "[  1.11294810e-04  -3.95071159e-01   4.66649264e+02]\n",
      "[  3.27132334e-04  -4.38922627e-01   1.27884296e+03]\n"
     ]
    },
    {
     "name": "stderr",
     "output_type": "stream",
     "text": [
      " 51%|█████▏    | 649/1261 [01:40<01:45,  5.79it/s]"
     ]
    },
    {
     "name": "stdout",
     "output_type": "stream",
     "text": [
      "[  1.11294810e-04  -3.95071159e-01   4.66649264e+02]\n",
      "[  3.27132334e-04  -4.38922627e-01   1.27884296e+03]\n",
      "[  1.32039238e-04  -3.99820538e-01   4.65077667e+02]\n",
      "[  2.41956977e-04  -3.60906021e-01   1.26046315e+03]\n"
     ]
    },
    {
     "name": "stderr",
     "output_type": "stream",
     "text": [
      " 52%|█████▏    | 651/1261 [01:41<01:47,  5.69it/s]"
     ]
    },
    {
     "name": "stdout",
     "output_type": "stream",
     "text": [
      "[  1.35860679e-04  -3.84006426e-01   4.52908397e+02]\n",
      "[  2.29380122e-04  -3.55126693e-01   1.26377420e+03]\n",
      "[  1.91261714e-04  -4.29254580e-01   4.61680782e+02]\n",
      "[  2.44395465e-04  -3.65550303e-01   1.26355587e+03]\n"
     ]
    },
    {
     "name": "stderr",
     "output_type": "stream",
     "text": [
      "\r",
      " 52%|█████▏    | 652/1261 [01:41<01:48,  5.62it/s]"
     ]
    },
    {
     "name": "stdout",
     "output_type": "stream",
     "text": [
      "[  1.80149243e-04  -4.13447518e-01   4.56649791e+02]\n",
      "[  2.51419079e-04  -3.70644322e-01   1.26352730e+03]\n"
     ]
    },
    {
     "name": "stderr",
     "output_type": "stream",
     "text": [
      "\r",
      " 52%|█████▏    | 653/1261 [01:41<01:54,  5.31it/s]"
     ]
    },
    {
     "name": "stdout",
     "output_type": "stream",
     "text": [
      "[  1.87500305e-04  -4.19188045e-01   4.59975929e+02]\n",
      "[  2.45143239e-04  -3.61250572e-01   1.25952437e+03]\n"
     ]
    },
    {
     "name": "stderr",
     "output_type": "stream",
     "text": [
      "\r",
      " 52%|█████▏    | 654/1261 [01:41<01:57,  5.15it/s]"
     ]
    },
    {
     "name": "stdout",
     "output_type": "stream",
     "text": [
      "[  2.11463930e-04  -4.31299941e-01   4.60854843e+02]\n",
      "[  2.61613968e-04  -3.76569199e-01   1.26283827e+03]\n"
     ]
    },
    {
     "name": "stderr",
     "output_type": "stream",
     "text": [
      "\r",
      " 52%|█████▏    | 655/1261 [01:41<02:01,  4.99it/s]"
     ]
    },
    {
     "name": "stdout",
     "output_type": "stream",
     "text": [
      "[  2.38846611e-04  -4.52028543e-01   4.65818252e+02]\n",
      "[  2.34074221e-04  -3.57474900e-01   1.26010967e+03]\n"
     ]
    },
    {
     "name": "stderr",
     "output_type": "stream",
     "text": [
      "\r",
      " 52%|█████▏    | 656/1261 [01:42<02:04,  4.87it/s]"
     ]
    },
    {
     "name": "stdout",
     "output_type": "stream",
     "text": [
      "[  2.38846611e-04  -4.52028543e-01   4.65818252e+02]\n",
      "[  2.34074221e-04  -3.57474900e-01   1.26010967e+03]\n"
     ]
    },
    {
     "name": "stderr",
     "output_type": "stream",
     "text": [
      "\r",
      " 52%|█████▏    | 657/1261 [01:42<02:05,  4.82it/s]"
     ]
    },
    {
     "name": "stdout",
     "output_type": "stream",
     "text": [
      "[  2.97617926e-04  -4.97981626e-01   4.74452492e+02]\n",
      "[  2.67713267e-04  -3.74215497e-01   1.26278098e+03]\n"
     ]
    },
    {
     "name": "stderr",
     "output_type": "stream",
     "text": [
      " 52%|█████▏    | 659/1261 [01:42<02:00,  4.98it/s]"
     ]
    },
    {
     "name": "stdout",
     "output_type": "stream",
     "text": [
      "[  2.66631325e-04  -4.79553077e-01   4.76862217e+02]\n",
      "[  2.45044912e-04  -3.55420364e-01   1.25645734e+03]\n",
      "[  2.72586296e-04  -4.75816109e-01   4.70398670e+02]\n",
      "[  1.49196458e-04  -2.97068311e-01   1.25512652e+03]\n",
      "[  2.65264168e-04  -4.75835528e-01   4.73255350e+02]\n",
      "[  1.78706316e-04  -3.10342383e-01   1.25216841e+03]\n"
     ]
    },
    {
     "name": "stderr",
     "output_type": "stream",
     "text": [
      " 52%|█████▏    | 662/1261 [01:43<01:55,  5.20it/s]"
     ]
    },
    {
     "name": "stdout",
     "output_type": "stream",
     "text": [
      "[  3.32351756e-04  -5.26287856e-01   4.78272270e+02]\n",
      "[  2.07114392e-04  -3.36899086e-01   1.26067041e+03]\n",
      "[  3.30317819e-04  -5.17770860e-01   4.72083901e+02]\n",
      "[  1.71936799e-04  -3.05101334e-01   1.25693451e+03]\n"
     ]
    },
    {
     "name": "stderr",
     "output_type": "stream",
     "text": [
      " 53%|█████▎    | 664/1261 [01:43<01:42,  5.81it/s]"
     ]
    },
    {
     "name": "stdout",
     "output_type": "stream",
     "text": [
      "[  3.28386863e-04  -5.18878440e-01   4.72125575e+02]\n",
      "[  1.87034371e-04  -3.13507850e-01   1.25685539e+03]\n",
      "[  3.14597972e-04  -5.07829614e-01   4.69943714e+02]\n",
      "[  1.77283717e-04  -3.03311305e-01   1.25578060e+03]\n"
     ]
    },
    {
     "name": "stderr",
     "output_type": "stream",
     "text": [
      " 53%|█████▎    | 666/1261 [01:43<01:38,  6.06it/s]"
     ]
    },
    {
     "name": "stdout",
     "output_type": "stream",
     "text": [
      "[  2.87102935e-04  -4.86136971e-01   4.68354153e+02]\n",
      "[  1.87128335e-04  -3.03540231e-01   1.25226628e+03]\n",
      "[  2.54241634e-04  -4.75009618e-01   4.73768788e+02]\n",
      "[  1.62258862e-04  -2.69986535e-01   1.24021222e+03]\n"
     ]
    },
    {
     "name": "stderr",
     "output_type": "stream",
     "text": [
      " 53%|█████▎    | 668/1261 [01:44<01:34,  6.29it/s]"
     ]
    },
    {
     "name": "stdout",
     "output_type": "stream",
     "text": [
      "[  2.54241634e-04  -4.75009618e-01   4.73768788e+02]\n",
      "[  1.62258862e-04  -2.69986535e-01   1.24021222e+03]\n",
      "[  2.16746195e-04  -4.35071227e-01   4.62798623e+02]\n",
      "[  2.58769526e-04  -3.30965752e-01   1.25118373e+03]\n"
     ]
    },
    {
     "name": "stderr",
     "output_type": "stream",
     "text": [
      " 53%|█████▎    | 670/1261 [01:44<01:36,  6.11it/s]"
     ]
    },
    {
     "name": "stdout",
     "output_type": "stream",
     "text": [
      "[  1.69738776e-04  -3.94352528e-01   4.54511861e+02]\n",
      "[  1.75326527e-04  -2.65212778e-01   1.24179199e+03]\n",
      "[  1.45363078e-04  -3.72509310e-01   4.50116102e+02]\n",
      "[  2.09134545e-04  -3.09387364e-01   1.25592655e+03]\n"
     ]
    },
    {
     "name": "stderr",
     "output_type": "stream",
     "text": [
      "\r",
      " 53%|█████▎    | 671/1261 [01:44<01:34,  6.27it/s]"
     ]
    },
    {
     "name": "stdout",
     "output_type": "stream",
     "text": [
      "[  1.58318482e-04  -3.77594290e-01   4.48447689e+02]\n",
      "[  1.72365925e-04  -2.78658115e-01   1.25156079e+03]\n",
      "[  1.65810458e-04  -3.95482069e-01   4.58765149e+02]\n",
      "[  1.77080852e-04  -2.78982632e-01   1.24726997e+03]\n"
     ]
    },
    {
     "name": "stderr",
     "output_type": "stream",
     "text": [
      " 53%|█████▎    | 674/1261 [01:45<01:46,  5.52it/s]"
     ]
    },
    {
     "name": "stdout",
     "output_type": "stream",
     "text": [
      "[  1.58747897e-04  -3.86823470e-01   4.56086814e+02]\n",
      "[  1.74166396e-04  -2.75091905e-01   1.24665033e+03]\n",
      "[  1.89161094e-04  -4.16668480e-01   4.64660676e+02]\n",
      "[  1.88005323e-04  -2.79066635e-01   1.24387023e+03]\n"
     ]
    },
    {
     "name": "stderr",
     "output_type": "stream",
     "text": [
      "\r",
      " 54%|█████▎    | 675/1261 [01:45<01:49,  5.34it/s]"
     ]
    },
    {
     "name": "stdout",
     "output_type": "stream",
     "text": [
      "[  1.67418286e-04  -3.98524851e-01   4.62860950e+02]\n",
      "[  1.87604533e-04  -2.80046569e-01   1.24399547e+03]\n"
     ]
    },
    {
     "name": "stderr",
     "output_type": "stream",
     "text": [
      "\r",
      " 54%|█████▎    | 676/1261 [01:45<01:59,  4.91it/s]"
     ]
    },
    {
     "name": "stdout",
     "output_type": "stream",
     "text": [
      "[  1.78607034e-04  -4.14858370e-01   4.70338253e+02]\n",
      "[  2.12153820e-04  -2.97626544e-01   1.24401250e+03]\n"
     ]
    },
    {
     "name": "stderr",
     "output_type": "stream",
     "text": [
      " 54%|█████▍    | 678/1261 [01:46<01:51,  5.22it/s]"
     ]
    },
    {
     "name": "stdout",
     "output_type": "stream",
     "text": [
      "[  1.63131888e-04  -3.97130513e-01   4.66534494e+02]\n",
      "[  2.12252770e-04  -2.95815520e-01   1.24299670e+03]\n",
      "[  1.45597858e-04  -3.75964296e-01   4.59492144e+02]\n",
      "[  2.21695965e-04  -3.07606282e-01   1.24787291e+03]\n"
     ]
    },
    {
     "name": "stderr",
     "output_type": "stream",
     "text": [
      " 54%|█████▍    | 680/1261 [01:46<01:40,  5.79it/s]"
     ]
    },
    {
     "name": "stdout",
     "output_type": "stream",
     "text": [
      "[  1.68194408e-04  -3.96662031e-01   4.65661437e+02]\n",
      "[  2.61596537e-04  -3.20532322e-01   1.24441590e+03]\n",
      "[  1.48886759e-04  -3.75044116e-01   4.59827765e+02]\n",
      "[  2.10432957e-04  -2.95541460e-01   1.24393490e+03]\n"
     ]
    },
    {
     "name": "stderr",
     "output_type": "stream",
     "text": [
      " 54%|█████▍    | 682/1261 [01:46<01:34,  6.11it/s]"
     ]
    },
    {
     "name": "stdout",
     "output_type": "stream",
     "text": [
      "[  1.63882337e-04  -3.86730010e-01   4.62707652e+02]\n",
      "[  2.86063720e-04  -3.37255533e-01   1.24601325e+03]\n",
      "[  1.54295242e-04  -3.75062418e-01   4.59010586e+02]\n",
      "[  2.84131723e-04  -3.41895254e-01   1.24811484e+03]\n"
     ]
    },
    {
     "name": "stderr",
     "output_type": "stream",
     "text": [
      "\r",
      " 54%|█████▍    | 683/1261 [01:46<01:30,  6.37it/s]"
     ]
    },
    {
     "name": "stdout",
     "output_type": "stream",
     "text": [
      "[  1.64779248e-04  -3.80624616e-01   4.59050721e+02]\n",
      "[  2.13940680e-04  -2.82919365e-01   1.23599346e+03]\n",
      "[  1.68207011e-04  -3.72605200e-01   4.52124002e+02]\n",
      "[  2.77425830e-04  -3.45111206e-01   1.25190360e+03]\n"
     ]
    },
    {
     "name": "stderr",
     "output_type": "stream",
     "text": [
      " 54%|█████▍    | 686/1261 [01:47<01:36,  5.93it/s]"
     ]
    },
    {
     "name": "stdout",
     "output_type": "stream",
     "text": [
      "[  1.46780979e-04  -3.51049527e-01   4.47880448e+02]\n",
      "[  3.08624884e-04  -3.75201259e-01   1.25829954e+03]\n",
      "[  1.64746299e-04  -3.66684047e-01   4.52675244e+02]\n",
      "[  2.18701707e-04  -2.92752886e-01   1.23821435e+03]\n"
     ]
    },
    {
     "name": "stderr",
     "output_type": "stream",
     "text": [
      "\r",
      " 54%|█████▍    | 687/1261 [01:47<01:40,  5.71it/s]"
     ]
    },
    {
     "name": "stdout",
     "output_type": "stream",
     "text": [
      "[  2.03839485e-04  -4.00081059e-01   4.58667598e+02]\n",
      "[  2.36346944e-04  -3.08245545e-01   1.23987046e+03]\n"
     ]
    },
    {
     "name": "stderr",
     "output_type": "stream",
     "text": [
      "\r",
      " 55%|█████▍    | 688/1261 [01:47<01:52,  5.08it/s]"
     ]
    },
    {
     "name": "stdout",
     "output_type": "stream",
     "text": [
      "[  2.05200778e-04  -3.93981634e-01   4.53416213e+02]\n",
      "[  2.34017130e-04  -3.08459767e-01   1.24191290e+03]\n"
     ]
    },
    {
     "name": "stderr",
     "output_type": "stream",
     "text": [
      "\r",
      " 55%|█████▍    | 689/1261 [01:48<01:53,  5.03it/s]"
     ]
    },
    {
     "name": "stdout",
     "output_type": "stream",
     "text": [
      "[  1.73511452e-04  -3.48273840e-01   4.35274025e+02]\n",
      "[  2.23150027e-04  -3.11412808e-01   1.25018778e+03]\n",
      "[  2.37084972e-04  -4.02384354e-01   4.45545747e+02]\n",
      "[  2.29054637e-04  -3.13882546e-01   1.24867946e+03]\n"
     ]
    },
    {
     "name": "stderr",
     "output_type": "stream",
     "text": [
      " 55%|█████▍    | 692/1261 [01:48<01:42,  5.53it/s]"
     ]
    },
    {
     "name": "stdout",
     "output_type": "stream",
     "text": [
      "[  2.14568107e-04  -3.87463271e-01   4.44160985e+02]\n",
      "[  2.00361171e-04  -2.91033585e-01   1.24444761e+03]\n",
      "[  2.63221270e-04  -4.38796520e-01   4.58698179e+02]\n",
      "[  1.71267927e-04  -2.58788379e-01   1.23433183e+03]\n"
     ]
    },
    {
     "name": "stderr",
     "output_type": "stream",
     "text": [
      " 55%|█████▌    | 694/1261 [01:48<01:33,  6.05it/s]"
     ]
    },
    {
     "name": "stdout",
     "output_type": "stream",
     "text": [
      "[  2.81594909e-04  -4.51129938e-01   4.58919735e+02]\n",
      "[  2.19904231e-04  -2.96420862e-01   1.23986010e+03]\n",
      "[  2.83499302e-04  -4.53019001e-01   4.58188489e+02]\n",
      "[  2.08998017e-04  -2.91502864e-01   1.23983493e+03]\n"
     ]
    },
    {
     "name": "stderr",
     "output_type": "stream",
     "text": [
      " 55%|█████▌    | 696/1261 [01:49<01:30,  6.25it/s]"
     ]
    },
    {
     "name": "stdout",
     "output_type": "stream",
     "text": [
      "[  2.94226169e-04  -4.60529548e-01   4.58779202e+02]\n",
      "[  1.54887665e-04  -2.50357674e-01   1.23304225e+03]\n",
      "[  3.01412976e-04  -4.67045699e-01   4.58971324e+02]\n",
      "[  1.56844537e-04  -2.51294010e-01   1.23286815e+03]\n"
     ]
    },
    {
     "name": "stderr",
     "output_type": "stream",
     "text": [
      " 55%|█████▌    | 698/1261 [01:49<01:27,  6.47it/s]"
     ]
    },
    {
     "name": "stdout",
     "output_type": "stream",
     "text": [
      "[  2.86204375e-04  -4.61712196e-01   4.62155128e+02]\n",
      "[  1.68503164e-04  -2.50410061e-01   1.22715479e+03]\n",
      "[  2.99912507e-04  -4.82504438e-01   4.70207762e+02]\n",
      "[  1.81626675e-04  -2.60254457e-01   1.22736750e+03]\n"
     ]
    },
    {
     "name": "stderr",
     "output_type": "stream",
     "text": [
      " 56%|█████▌    | 700/1261 [01:49<01:28,  6.36it/s]"
     ]
    },
    {
     "name": "stdout",
     "output_type": "stream",
     "text": [
      "[  2.99652624e-04  -4.86009604e-01   4.73173989e+02]\n",
      "[  2.29005990e-04  -2.95291042e-01   1.22988848e+03]\n",
      "[  3.36642865e-04  -5.31122577e-01   4.88072671e+02]\n",
      "[  2.42924639e-04  -3.03890659e-01   1.22839777e+03]\n"
     ]
    },
    {
     "name": "stderr",
     "output_type": "stream",
     "text": [
      " 56%|█████▌    | 702/1261 [01:50<01:26,  6.48it/s]"
     ]
    },
    {
     "name": "stdout",
     "output_type": "stream",
     "text": [
      "[  3.51287901e-04  -5.52502712e-01   4.95754523e+02]\n",
      "[  2.29254919e-04  -2.88486872e-01   1.22297863e+03]\n",
      "[  3.31746835e-04  -5.27805662e-01   4.86093783e+02]\n",
      "[  2.36167667e-04  -3.05029252e-01   1.23187699e+03]\n"
     ]
    },
    {
     "name": "stderr",
     "output_type": "stream",
     "text": [
      "\r",
      " 56%|█████▌    | 703/1261 [01:50<01:24,  6.62it/s]"
     ]
    },
    {
     "name": "stdout",
     "output_type": "stream",
     "text": [
      "[  3.26433150e-04  -5.30114916e-01   4.88001258e+02]\n",
      "[  2.30342118e-04  -2.95351558e-01   1.22900203e+03]\n",
      "[  3.26433150e-04  -5.30114916e-01   4.88001258e+02]\n",
      "[  2.30342118e-04  -2.95351558e-01   1.22900203e+03]\n"
     ]
    },
    {
     "name": "stderr",
     "output_type": "stream",
     "text": [
      " 56%|█████▌    | 706/1261 [01:50<01:25,  6.49it/s]"
     ]
    },
    {
     "name": "stdout",
     "output_type": "stream",
     "text": [
      "[  2.61091735e-04  -4.86669936e-01   4.84794047e+02]\n",
      "[  3.12233543e-04  -3.37285564e-01   1.22942371e+03]\n",
      "[  2.39765730e-04  -4.65133655e-01   4.78211038e+02]\n",
      "[  3.62133808e-04  -3.82104452e-01   1.23916405e+03]\n"
     ]
    },
    {
     "name": "stderr",
     "output_type": "stream",
     "text": [
      " 56%|█████▌    | 708/1261 [01:51<01:29,  6.14it/s]"
     ]
    },
    {
     "name": "stdout",
     "output_type": "stream",
     "text": [
      "[  2.06958043e-04  -4.35489346e-01   4.70851577e+02]\n",
      "[  3.40565480e-04  -3.68461440e-01   1.23769871e+03]\n",
      "[  2.01456587e-04  -4.32288837e-01   4.70205232e+02]\n",
      "[  2.89473843e-04  -3.33843574e-01   1.23173440e+03]\n"
     ]
    },
    {
     "name": "stderr",
     "output_type": "stream",
     "text": [
      " 56%|█████▋    | 710/1261 [01:51<01:23,  6.57it/s]"
     ]
    },
    {
     "name": "stdout",
     "output_type": "stream",
     "text": [
      "[  2.26770369e-04  -4.56879903e-01   4.76891399e+02]\n",
      "[  2.85453231e-04  -3.31692601e-01   1.22800547e+03]\n",
      "[  2.02907134e-04  -4.41436719e-01   4.76549047e+02]\n",
      "[  2.86375699e-04  -3.35635471e-01   1.22935483e+03]\n"
     ]
    },
    {
     "name": "stderr",
     "output_type": "stream",
     "text": [
      " 56%|█████▋    | 712/1261 [01:51<01:27,  6.31it/s]"
     ]
    },
    {
     "name": "stdout",
     "output_type": "stream",
     "text": [
      "[  1.79341746e-04  -4.17709629e-01   4.71288999e+02]\n",
      "[  2.82383487e-04  -3.36539790e-01   1.23078053e+03]\n",
      "[  2.01265960e-04  -4.27757895e-01   4.68131658e+02]\n",
      "[  2.70163023e-04  -3.33326709e-01   1.23321877e+03]\n"
     ]
    },
    {
     "name": "stderr",
     "output_type": "stream",
     "text": [
      " 57%|█████▋    | 714/1261 [01:51<01:24,  6.48it/s]"
     ]
    },
    {
     "name": "stdout",
     "output_type": "stream",
     "text": [
      "[  2.00679073e-04  -4.20685158e-01   4.63567474e+02]\n",
      "[  2.63206756e-04  -3.34808079e-01   1.23669847e+03]\n",
      "[  1.97695628e-04  -4.25880246e-01   4.70320965e+02]\n",
      "[  2.64781637e-04  -3.33845092e-01   1.23327475e+03]\n"
     ]
    },
    {
     "name": "stderr",
     "output_type": "stream",
     "text": [
      " 57%|█████▋    | 716/1261 [01:52<01:21,  6.67it/s]"
     ]
    },
    {
     "name": "stdout",
     "output_type": "stream",
     "text": [
      "[  1.69987788e-04  -4.12130549e-01   4.73312722e+02]\n",
      "[  2.58122918e-04  -3.31047072e-01   1.23265883e+03]\n",
      "[  1.69987788e-04  -4.12130549e-01   4.73312722e+02]\n",
      "[  2.58122918e-04  -3.31047072e-01   1.23265883e+03]\n"
     ]
    },
    {
     "name": "stderr",
     "output_type": "stream",
     "text": [
      " 57%|█████▋    | 718/1261 [01:52<01:21,  6.68it/s]"
     ]
    },
    {
     "name": "stdout",
     "output_type": "stream",
     "text": [
      "[  2.02157278e-04  -4.27185615e-01   4.70988514e+02]\n",
      "[  3.02880227e-04  -3.69211478e-01   1.24617049e+03]\n",
      "[  1.59335329e-04  -3.84499593e-01   4.59958854e+02]\n",
      "[  2.51345522e-04  -3.45470518e-01   1.25127149e+03]\n"
     ]
    },
    {
     "name": "stderr",
     "output_type": "stream",
     "text": [
      " 57%|█████▋    | 720/1261 [01:52<01:23,  6.49it/s]"
     ]
    },
    {
     "name": "stdout",
     "output_type": "stream",
     "text": [
      "[  1.67733096e-04  -3.93625879e-01   4.63640353e+02]\n",
      "[  2.65407784e-04  -3.63802578e-01   1.25761796e+03]\n",
      "[  1.65191271e-04  -3.88308587e-01   4.61558968e+02]\n",
      "[  3.15644759e-04  -4.05595993e-01   1.26727000e+03]\n"
     ]
    },
    {
     "name": "stderr",
     "output_type": "stream",
     "text": [
      " 57%|█████▋    | 722/1261 [01:53<01:22,  6.53it/s]"
     ]
    },
    {
     "name": "stdout",
     "output_type": "stream",
     "text": [
      "[  2.04526879e-04  -4.27029542e-01   4.71285240e+02]\n",
      "[  2.88636206e-04  -3.91289473e-01   1.26994201e+03]\n",
      "[  2.15278590e-04  -4.35038436e-01   4.72425428e+02]\n",
      "[  2.67869368e-04  -3.85939766e-01   1.27515215e+03]\n"
     ]
    },
    {
     "name": "stderr",
     "output_type": "stream",
     "text": [
      " 57%|█████▋    | 724/1261 [01:53<01:26,  6.20it/s]"
     ]
    },
    {
     "name": "stdout",
     "output_type": "stream",
     "text": [
      "[  2.15278590e-04  -4.35038436e-01   4.72425428e+02]\n",
      "[  2.67869368e-04  -3.85939766e-01   1.27515215e+03]\n",
      "[  2.20490035e-04  -4.35151547e-01   4.72404608e+02]\n",
      "[  1.81010112e-04  -3.15382498e-01   1.26865771e+03]\n"
     ]
    },
    {
     "name": "stderr",
     "output_type": "stream",
     "text": [
      " 58%|█████▊    | 726/1261 [01:53<01:21,  6.54it/s]"
     ]
    },
    {
     "name": "stdout",
     "output_type": "stream",
     "text": [
      "[  2.42155688e-04  -4.45181346e-01   4.69641204e+02]\n",
      "[  1.41901709e-04  -2.86177200e-01   1.26988103e+03]\n",
      "[  2.75214480e-04  -4.79306057e-01   4.80683669e+02]\n",
      "[  1.69401100e-04  -3.09413747e-01   1.27334693e+03]\n"
     ]
    },
    {
     "name": "stderr",
     "output_type": "stream",
     "text": [
      " 58%|█████▊    | 728/1261 [01:54<01:18,  6.80it/s]"
     ]
    },
    {
     "name": "stdout",
     "output_type": "stream",
     "text": [
      "[  2.27048698e-04  -4.52381607e-01   4.82254744e+02]\n",
      "[  1.83845187e-04  -3.25789804e-01   1.27893737e+03]\n",
      "[  2.23534051e-04  -4.46719178e-01   4.82595892e+02]\n",
      "[  1.67603877e-04  -3.12881484e-01   1.27756942e+03]\n"
     ]
    },
    {
     "name": "stderr",
     "output_type": "stream",
     "text": [
      " 58%|█████▊    | 730/1261 [01:54<01:17,  6.82it/s]"
     ]
    },
    {
     "name": "stdout",
     "output_type": "stream",
     "text": [
      "[  2.75172480e-04  -4.96459758e-01   4.95223836e+02]\n",
      "[  2.23289415e-04  -3.50025480e-01   1.28340952e+03]\n",
      "[  2.38150838e-04  -4.64592346e-01   4.91065122e+02]\n",
      "[  2.21498695e-04  -3.47163750e-01   1.28432429e+03]\n"
     ]
    },
    {
     "name": "stderr",
     "output_type": "stream",
     "text": [
      " 58%|█████▊    | 732/1261 [01:54<01:20,  6.59it/s]"
     ]
    },
    {
     "name": "stdout",
     "output_type": "stream",
     "text": [
      "[  2.57040084e-04  -4.89463750e-01   5.01662099e+02]\n",
      "[  2.39987531e-04  -3.62346668e-01   1.28596291e+03]\n",
      "[  2.39804596e-04  -4.85707373e-01   5.08143996e+02]\n",
      "[  2.45305391e-04  -3.55286515e-01   1.27746490e+03]\n"
     ]
    },
    {
     "name": "stderr",
     "output_type": "stream",
     "text": [
      " 58%|█████▊    | 734/1261 [01:54<01:21,  6.43it/s]"
     ]
    },
    {
     "name": "stdout",
     "output_type": "stream",
     "text": [
      "[  2.39804596e-04  -4.85707373e-01   5.08143996e+02]\n",
      "[  2.45305391e-04  -3.55286515e-01   1.27746490e+03]\n",
      "[  2.64833068e-04  -5.18438497e-01   5.22409843e+02]\n",
      "[  1.48330627e-04  -2.71263601e-01   1.26005099e+03]\n"
     ]
    },
    {
     "name": "stderr",
     "output_type": "stream",
     "text": [
      "\r",
      " 58%|█████▊    | 735/1261 [01:55<01:31,  5.76it/s]"
     ]
    },
    {
     "name": "stdout",
     "output_type": "stream",
     "text": [
      "[  3.13992528e-04  -5.57047197e-01   5.28517660e+02]\n",
      "[  1.80716865e-04  -3.03429247e-01   1.26956004e+03]\n"
     ]
    },
    {
     "name": "stderr",
     "output_type": "stream",
     "text": [
      "\r",
      " 58%|█████▊    | 736/1261 [01:55<01:34,  5.55it/s]"
     ]
    },
    {
     "name": "stdout",
     "output_type": "stream",
     "text": [
      "[  3.39957155e-04  -5.84579642e-01   5.36703599e+02]\n",
      "[  1.99716035e-04  -3.20877130e-01   1.27355087e+03]\n"
     ]
    },
    {
     "name": "stderr",
     "output_type": "stream",
     "text": [
      "\r",
      " 58%|█████▊    | 737/1261 [01:55<01:38,  5.31it/s]"
     ]
    },
    {
     "name": "stdout",
     "output_type": "stream",
     "text": [
      "[  2.97515798e-04  -5.52124962e-01   5.32647810e+02]\n",
      "[  1.85644562e-04  -3.13015902e-01   1.27518782e+03]\n",
      "[  3.19173969e-04  -5.75064628e-01   5.40736284e+02]\n",
      "[  2.14655522e-04  -3.38019971e-01   1.27965471e+03]\n"
     ]
    },
    {
     "name": "stderr",
     "output_type": "stream",
     "text": [
      " 59%|█████▊    | 740/1261 [01:56<01:27,  5.95it/s]"
     ]
    },
    {
     "name": "stdout",
     "output_type": "stream",
     "text": [
      "[  2.78363427e-04  -5.35339429e-01   5.31352972e+02]\n",
      "[  1.95531465e-04  -3.25178134e-01   1.28211250e+03]\n",
      "[  2.78363427e-04  -5.35339429e-01   5.31352972e+02]\n",
      "[  1.95531465e-04  -3.25178134e-01   1.28211250e+03]\n"
     ]
    },
    {
     "name": "stderr",
     "output_type": "stream",
     "text": [
      " 59%|█████▉    | 742/1261 [01:56<01:20,  6.48it/s]"
     ]
    },
    {
     "name": "stdout",
     "output_type": "stream",
     "text": [
      "[  2.78363427e-04  -5.35339429e-01   5.31352972e+02]\n",
      "[  1.95531465e-04  -3.25178134e-01   1.28211250e+03]\n",
      "[  2.78363427e-04  -5.35339429e-01   5.31352972e+02]\n",
      "[  1.95531465e-04  -3.25178134e-01   1.28211250e+03]\n"
     ]
    },
    {
     "name": "stderr",
     "output_type": "stream",
     "text": [
      " 59%|█████▉    | 744/1261 [01:56<01:18,  6.55it/s]"
     ]
    },
    {
     "name": "stdout",
     "output_type": "stream",
     "text": [
      "[  2.78363427e-04  -5.35339429e-01   5.31352972e+02]\n",
      "[  1.95531465e-04  -3.25178134e-01   1.28211250e+03]\n",
      "[  2.78363427e-04  -5.35339429e-01   5.31352972e+02]\n",
      "[  1.95531465e-04  -3.25178134e-01   1.28211250e+03]\n"
     ]
    },
    {
     "name": "stderr",
     "output_type": "stream",
     "text": [
      " 59%|█████▉    | 746/1261 [01:56<01:16,  6.69it/s]"
     ]
    },
    {
     "name": "stdout",
     "output_type": "stream",
     "text": [
      "[  2.32067869e-04  -5.07037463e-01   5.41357277e+02]\n",
      "[  2.11944968e-04  -3.28929602e-01   1.27821330e+03]\n",
      "[  2.38903553e-04  -5.10343984e-01   5.41121778e+02]\n",
      "[  2.01798996e-04  -3.26432827e-01   1.28210660e+03]\n"
     ]
    },
    {
     "name": "stderr",
     "output_type": "stream",
     "text": [
      " 59%|█████▉    | 748/1261 [01:57<01:16,  6.68it/s]"
     ]
    },
    {
     "name": "stdout",
     "output_type": "stream",
     "text": [
      "[  2.21345787e-04  -4.88449952e-01   5.36240799e+02]\n",
      "[  1.54579336e-04  -2.86484953e-01   1.27905256e+03]\n",
      "[  2.18629369e-04  -4.77532803e-01   5.31559072e+02]\n",
      "[  1.90146974e-04  -3.24606696e-01   1.29188190e+03]\n"
     ]
    },
    {
     "name": "stderr",
     "output_type": "stream",
     "text": [
      " 59%|█████▉    | 750/1261 [01:57<01:15,  6.81it/s]"
     ]
    },
    {
     "name": "stdout",
     "output_type": "stream",
     "text": [
      "[  2.09893351e-04  -4.63505499e-01   5.27651558e+02]\n",
      "[  1.40377390e-04  -2.87472666e-01   1.29166449e+03]\n",
      "[  2.23161569e-04  -4.79496015e-01   5.34352076e+02]\n",
      "[  1.48665880e-04  -2.94079896e-01   1.29404150e+03]\n"
     ]
    },
    {
     "name": "stderr",
     "output_type": "stream",
     "text": [
      " 60%|█████▉    | 752/1261 [01:57<01:19,  6.43it/s]"
     ]
    },
    {
     "name": "stdout",
     "output_type": "stream",
     "text": [
      "[  2.12788584e-04  -4.74030876e-01   5.37192769e+02]\n",
      "[  1.65615804e-04  -3.14248798e-01   1.30075769e+03]\n",
      "[  2.09827721e-04  -4.70234139e-01   5.36319843e+02]\n",
      "[  1.76423690e-04  -3.24972905e-01   1.30740415e+03]\n"
     ]
    },
    {
     "name": "stderr",
     "output_type": "stream",
     "text": [
      " 60%|█████▉    | 754/1261 [01:58<01:17,  6.53it/s]"
     ]
    },
    {
     "name": "stdout",
     "output_type": "stream",
     "text": [
      "[  2.13294835e-04  -4.76557555e-01   5.41749098e+02]\n",
      "[  1.96627915e-04  -3.45503814e-01   1.31228704e+03]\n",
      "[  2.04046854e-04  -4.78750229e-01   5.51183586e+02]\n",
      "[  2.25540598e-04  -3.74237189e-01   1.31811417e+03]\n"
     ]
    },
    {
     "name": "stderr",
     "output_type": "stream",
     "text": [
      " 60%|█████▉    | 756/1261 [01:58<01:21,  6.21it/s]"
     ]
    },
    {
     "name": "stdout",
     "output_type": "stream",
     "text": [
      "[  2.21379516e-04  -4.95126491e-01   5.58042494e+02]\n",
      "[  2.50031699e-04  -3.97297213e-01   1.32529839e+03]\n",
      "[  2.16311479e-04  -4.81378333e-01   5.52168969e+02]\n",
      "[  2.40371836e-04  -3.96477168e-01   1.33306958e+03]\n"
     ]
    },
    {
     "name": "stderr",
     "output_type": "stream",
     "text": [
      " 60%|██████    | 758/1261 [01:58<01:16,  6.60it/s]"
     ]
    },
    {
     "name": "stdout",
     "output_type": "stream",
     "text": [
      "[  2.16311479e-04  -4.81378333e-01   5.52168969e+02]\n",
      "[  2.40371836e-04  -3.96477168e-01   1.33306958e+03]\n",
      "[  2.16311479e-04  -4.81378333e-01   5.52168969e+02]\n",
      "[  2.40371836e-04  -3.96477168e-01   1.33306958e+03]\n"
     ]
    },
    {
     "name": "stderr",
     "output_type": "stream",
     "text": [
      " 60%|██████    | 760/1261 [01:59<01:15,  6.64it/s]"
     ]
    },
    {
     "name": "stdout",
     "output_type": "stream",
     "text": [
      "[  2.05363459e-04  -4.43192287e-01   5.37021270e+02]\n",
      "[  1.52153603e-04  -3.41608605e-01   1.33813476e+03]\n",
      "[  1.99200447e-04  -4.33746390e-01   5.34905890e+02]\n",
      "[  2.02295530e-04  -3.83344014e-01   1.34563113e+03]\n"
     ]
    },
    {
     "name": "stderr",
     "output_type": "stream",
     "text": [
      " 60%|██████    | 762/1261 [01:59<01:15,  6.60it/s]"
     ]
    },
    {
     "name": "stdout",
     "output_type": "stream",
     "text": [
      "[  2.37554348e-04  -4.63420263e-01   5.39349035e+02]\n",
      "[  2.35223242e-04  -4.14489913e-01   1.35195061e+03]\n",
      "[  2.48686370e-04  -4.59529123e-01   5.31820476e+02]\n",
      "[  1.72666919e-04  -3.57322899e-01   1.34575462e+03]\n"
     ]
    },
    {
     "name": "stderr",
     "output_type": "stream",
     "text": [
      "\r",
      " 61%|██████    | 763/1261 [01:59<01:14,  6.70it/s]"
     ]
    },
    {
     "name": "stdout",
     "output_type": "stream",
     "text": [
      "[  2.48686370e-04  -4.59529123e-01   5.31820476e+02]\n",
      "[  1.72666919e-04  -3.57322899e-01   1.34575462e+03]\n",
      "[  2.48686370e-04  -4.59529123e-01   5.31820476e+02]\n",
      "[  1.72666919e-04  -3.57322899e-01   1.34575462e+03]\n"
     ]
    },
    {
     "name": "stderr",
     "output_type": "stream",
     "text": [
      " 61%|██████    | 766/1261 [02:00<01:14,  6.68it/s]"
     ]
    },
    {
     "name": "stdout",
     "output_type": "stream",
     "text": [
      "[  2.73034701e-04  -4.72609586e-01   5.30089810e+02]\n",
      "[  1.43712398e-04  -3.28743002e-01   1.34065207e+03]\n",
      "[  2.61322371e-04  -4.67718318e-01   5.32346626e+02]\n",
      "[  1.29351116e-04  -2.80232307e-01   1.31867004e+03]\n"
     ]
    },
    {
     "name": "stderr",
     "output_type": "stream",
     "text": [
      " 61%|██████    | 768/1261 [02:00<01:12,  6.76it/s]"
     ]
    },
    {
     "name": "stdout",
     "output_type": "stream",
     "text": [
      "[  2.84471668e-04  -4.83200907e-01   5.32932970e+02]\n",
      "[  1.18075240e-04  -2.65923881e-01   1.31546826e+03]\n",
      "[  2.97076778e-04  -4.97965510e-01   5.37932264e+02]\n",
      "[  1.71822841e-04  -3.25677675e-01   1.33117868e+03]\n"
     ]
    },
    {
     "name": "stderr",
     "output_type": "stream",
     "text": [
      " 61%|██████    | 770/1261 [02:00<01:12,  6.78it/s]"
     ]
    },
    {
     "name": "stdout",
     "output_type": "stream",
     "text": [
      "[  3.16392910e-04  -5.23038470e-01   5.48176788e+02]\n",
      "[ -1.05067359e-04  -1.00739538e-01   1.29084615e+03]\n",
      "[  3.29860098e-04  -5.37416140e-01   5.53201404e+02]\n",
      "[ -3.02092567e-05  -1.46508775e-01   1.29571477e+03]\n"
     ]
    },
    {
     "name": "stderr",
     "output_type": "stream",
     "text": [
      "\r",
      " 61%|██████    | 771/1261 [02:00<01:12,  6.72it/s]"
     ]
    },
    {
     "name": "stdout",
     "output_type": "stream",
     "text": [
      "[  3.04728616e-04  -5.13794578e-01   5.47971423e+02]\n",
      "[  9.17951506e-06  -1.76194355e-01   1.30381525e+03]\n",
      "[  2.88608584e-04  -4.91561441e-01   5.38712162e+02]\n",
      "[  1.01000074e-05  -1.71112802e-01   1.30602075e+03]\n"
     ]
    },
    {
     "name": "stderr",
     "output_type": "stream",
     "text": [
      " 61%|██████▏   | 774/1261 [02:01<01:16,  6.38it/s]"
     ]
    },
    {
     "name": "stdout",
     "output_type": "stream",
     "text": [
      "[  2.73660938e-04  -4.77381837e-01   5.33609828e+02]\n",
      "[ -4.02685528e-05  -1.15074230e-01   1.29305232e+03]\n",
      "[  2.86729598e-04  -4.87279417e-01   5.34908846e+02]\n",
      "[ -4.16677484e-05  -9.69647709e-02   1.28444275e+03]\n"
     ]
    },
    {
     "name": "stderr",
     "output_type": "stream",
     "text": [
      " 62%|██████▏   | 776/1261 [02:01<01:14,  6.52it/s]"
     ]
    },
    {
     "name": "stdout",
     "output_type": "stream",
     "text": [
      "[  2.66640987e-04  -4.73219407e-01   5.32601657e+02]\n",
      "[  7.34839058e-05  -2.09443934e-01   1.30972190e+03]\n",
      "[  2.55167212e-04  -4.75670373e-01   5.38695329e+02]\n",
      "[  7.99908929e-05  -1.90909452e-01   1.29591855e+03]\n"
     ]
    },
    {
     "name": "stderr",
     "output_type": "stream",
     "text": [
      " 62%|██████▏   | 778/1261 [02:01<01:12,  6.63it/s]"
     ]
    },
    {
     "name": "stdout",
     "output_type": "stream",
     "text": [
      "[  2.59339533e-04  -4.81290963e-01   5.41643282e+02]\n",
      "[  1.46988138e-04  -2.25220617e-01   1.29445703e+03]\n",
      "[  2.55519856e-04  -4.85787426e-01   5.47247239e+02]\n",
      "[  1.85082568e-04  -2.56208627e-01   1.29529207e+03]\n"
     ]
    },
    {
     "name": "stderr",
     "output_type": "stream",
     "text": [
      "\r",
      " 62%|██████▏   | 779/1261 [02:02<01:11,  6.72it/s]"
     ]
    },
    {
     "name": "stdout",
     "output_type": "stream",
     "text": [
      "[  2.57126807e-04  -4.88120743e-01   5.48347338e+02]\n",
      "[  1.93798272e-04  -2.76120754e-01   1.30211951e+03]\n",
      "[  2.12440421e-04  -4.45017866e-01   5.38465627e+02]\n",
      "[  1.92606911e-04  -2.65281138e-01   1.29688157e+03]\n"
     ]
    },
    {
     "name": "stderr",
     "output_type": "stream",
     "text": [
      " 62%|██████▏   | 782/1261 [02:02<01:15,  6.37it/s]"
     ]
    },
    {
     "name": "stdout",
     "output_type": "stream",
     "text": [
      "[  2.05051198e-04  -4.31488391e-01   5.32465774e+02]\n",
      "[  1.16873010e-04  -2.13317603e-01   1.29373663e+03]\n",
      "[  1.89874129e-04  -4.03065766e-01   5.17861702e+02]\n",
      "[  1.03851924e-04  -2.12272035e-01   1.30014623e+03]\n"
     ]
    },
    {
     "name": "stderr",
     "output_type": "stream",
     "text": [
      " 62%|██████▏   | 784/1261 [02:02<01:14,  6.38it/s]"
     ]
    },
    {
     "name": "stdout",
     "output_type": "stream",
     "text": [
      "[  1.86226922e-04  -3.98793836e-01   5.16765210e+02]\n",
      "[  9.34616135e-05  -1.93977485e-01   1.29068477e+03]\n",
      "[  1.75254487e-04  -3.78079825e-01   5.07616857e+02]\n",
      "[  1.57829980e-04  -2.49928408e-01   1.30093247e+03]\n"
     ]
    },
    {
     "name": "stderr",
     "output_type": "stream",
     "text": [
      " 62%|██████▏   | 786/1261 [02:03<01:11,  6.68it/s]"
     ]
    },
    {
     "name": "stdout",
     "output_type": "stream",
     "text": [
      "[  1.75254487e-04  -3.78079825e-01   5.07616857e+02]\n",
      "[  1.57829980e-04  -2.49928408e-01   1.30093247e+03]\n",
      "[  2.02936469e-04  -3.96947723e-01   5.08675613e+02]\n",
      "[  1.11383808e-04  -1.88831584e-01   1.28206046e+03]\n"
     ]
    },
    {
     "name": "stderr",
     "output_type": "stream",
     "text": [
      " 62%|██████▏   | 788/1261 [02:03<01:13,  6.40it/s]"
     ]
    },
    {
     "name": "stdout",
     "output_type": "stream",
     "text": [
      "[  2.09944606e-04  -3.97925627e-01   5.06276927e+02]\n",
      "[  1.35282918e-04  -2.07119937e-01   1.28377440e+03]\n",
      "[  2.13287018e-04  -4.08299794e-01   5.12154408e+02]\n",
      "[  1.76320075e-04  -2.41606458e-01   1.28684036e+03]\n"
     ]
    },
    {
     "name": "stderr",
     "output_type": "stream",
     "text": [
      " 63%|██████▎   | 790/1261 [02:03<01:12,  6.52it/s]"
     ]
    },
    {
     "name": "stdout",
     "output_type": "stream",
     "text": [
      "[  2.07549470e-04  -4.08508438e-01   5.16172267e+02]\n",
      "[  1.99297173e-04  -2.61786998e-01   1.28674358e+03]\n",
      "[  1.91986070e-04  -3.96102498e-01   5.15734403e+02]\n",
      "[  2.85372748e-04  -3.27851946e-01   1.29598625e+03]\n"
     ]
    },
    {
     "name": "stderr",
     "output_type": "stream",
     "text": [
      " 63%|██████▎   | 792/1261 [02:04<01:15,  6.23it/s]"
     ]
    },
    {
     "name": "stdout",
     "output_type": "stream",
     "text": [
      "[  1.91648401e-04  -3.92511811e-01   5.13861087e+02]\n",
      "[  2.33481268e-04  -2.89228866e-01   1.29085967e+03]\n",
      "[  1.91648401e-04  -3.92511811e-01   5.13861087e+02]\n",
      "[  2.33481268e-04  -2.89228866e-01   1.29085967e+03]\n"
     ]
    },
    {
     "name": "stderr",
     "output_type": "stream",
     "text": [
      " 63%|██████▎   | 794/1261 [02:04<01:16,  6.10it/s]"
     ]
    },
    {
     "name": "stdout",
     "output_type": "stream",
     "text": [
      "[  1.59755815e-04  -3.59322090e-01   5.06110756e+02]\n",
      "[  2.78749173e-04  -3.40203540e-01   1.30137975e+03]\n",
      "[  1.59755815e-04  -3.59322090e-01   5.06110756e+02]\n",
      "[  2.78749173e-04  -3.40203540e-01   1.30137975e+03]\n"
     ]
    },
    {
     "name": "stderr",
     "output_type": "stream",
     "text": [
      " 63%|██████▎   | 796/1261 [02:04<01:13,  6.34it/s]"
     ]
    },
    {
     "name": "stdout",
     "output_type": "stream",
     "text": [
      "[  1.59755815e-04  -3.59322090e-01   5.06110756e+02]\n",
      "[  2.78749173e-04  -3.40203540e-01   1.30137975e+03]\n",
      "[  1.59755815e-04  -3.59322090e-01   5.06110756e+02]\n",
      "[  2.78749173e-04  -3.40203540e-01   1.30137975e+03]\n"
     ]
    },
    {
     "name": "stderr",
     "output_type": "stream",
     "text": [
      " 63%|██████▎   | 798/1261 [02:05<01:11,  6.49it/s]"
     ]
    },
    {
     "name": "stdout",
     "output_type": "stream",
     "text": [
      "[  1.59755815e-04  -3.59322090e-01   5.06110756e+02]\n",
      "[  2.78749173e-04  -3.40203540e-01   1.30137975e+03]\n",
      "[  1.59755815e-04  -3.59322090e-01   5.06110756e+02]\n",
      "[  2.78749173e-04  -3.40203540e-01   1.30137975e+03]\n"
     ]
    },
    {
     "name": "stderr",
     "output_type": "stream",
     "text": [
      " 63%|██████▎   | 800/1261 [02:05<01:08,  6.71it/s]"
     ]
    },
    {
     "name": "stdout",
     "output_type": "stream",
     "text": [
      "[  1.59755815e-04  -3.59322090e-01   5.06110756e+02]\n",
      "[  2.78749173e-04  -3.40203540e-01   1.30137975e+03]\n",
      "[  1.59755815e-04  -3.59322090e-01   5.06110756e+02]\n",
      "[  2.78749173e-04  -3.40203540e-01   1.30137975e+03]\n"
     ]
    },
    {
     "name": "stderr",
     "output_type": "stream",
     "text": [
      " 64%|██████▎   | 802/1261 [02:05<01:09,  6.58it/s]"
     ]
    },
    {
     "name": "stdout",
     "output_type": "stream",
     "text": [
      "[  1.59755815e-04  -3.59322090e-01   5.06110756e+02]\n",
      "[  2.78749173e-04  -3.40203540e-01   1.30137975e+03]\n",
      "[  9.14630934e-05  -2.42424256e-01   4.54260802e+02]\n",
      "[  1.85014696e-04  -2.36081923e-01   1.27319778e+03]\n"
     ]
    },
    {
     "name": "stderr",
     "output_type": "stream",
     "text": [
      " 64%|██████▍   | 804/1261 [02:05<01:08,  6.69it/s]"
     ]
    },
    {
     "name": "stdout",
     "output_type": "stream",
     "text": [
      "[  9.14630934e-05  -2.42424256e-01   4.54260802e+02]\n",
      "[  1.85014696e-04  -2.36081923e-01   1.27319778e+03]\n",
      "[  9.14630934e-05  -2.42424256e-01   4.54260802e+02]\n",
      "[  1.85014696e-04  -2.36081923e-01   1.27319778e+03]\n"
     ]
    },
    {
     "name": "stderr",
     "output_type": "stream",
     "text": [
      " 64%|██████▍   | 806/1261 [02:06<01:11,  6.37it/s]"
     ]
    },
    {
     "name": "stdout",
     "output_type": "stream",
     "text": [
      "[  9.14630934e-05  -2.42424256e-01   4.54260802e+02]\n",
      "[  1.85014696e-04  -2.36081923e-01   1.27319778e+03]\n",
      "[  1.68627816e-04  -3.10440322e-01   4.70632815e+02]\n",
      "[  9.43593329e-05  -1.22587885e-01   1.22306514e+03]\n"
     ]
    },
    {
     "name": "stderr",
     "output_type": "stream",
     "text": [
      " 64%|██████▍   | 808/1261 [02:06<01:10,  6.45it/s]"
     ]
    },
    {
     "name": "stdout",
     "output_type": "stream",
     "text": [
      "[  1.54621576e-04  -2.90612376e-01   4.62674235e+02]\n",
      "[  7.55350613e-05  -1.04218892e-01   1.21922166e+03]\n",
      "[  1.89440702e-04  -3.18325445e-01   4.67319129e+02]\n",
      "[  8.23923234e-05  -9.89739492e-02   1.21207074e+03]\n"
     ]
    },
    {
     "name": "stderr",
     "output_type": "stream",
     "text": [
      " 64%|██████▍   | 810/1261 [02:06<01:12,  6.25it/s]"
     ]
    },
    {
     "name": "stdout",
     "output_type": "stream",
     "text": [
      "[  2.10797224e-04  -3.17942438e-01   4.56744492e+02]\n",
      "[  6.64111608e-05  -9.36298584e-02   1.21750628e+03]\n",
      "[  2.25291182e-04  -3.21145811e-01   4.50168165e+02]\n",
      "[  4.76810616e-05  -8.45472421e-02   1.22027050e+03]\n"
     ]
    },
    {
     "name": "stderr",
     "output_type": "stream",
     "text": [
      " 64%|██████▍   | 812/1261 [02:07<01:14,  6.02it/s]"
     ]
    },
    {
     "name": "stdout",
     "output_type": "stream",
     "text": [
      "[  2.44295536e-04  -3.29550025e-01   4.45091551e+02]\n",
      "[  6.84465703e-05  -9.60126210e-02   1.22207473e+03]\n",
      "[  2.25246101e-04  -2.99668167e-01   4.28885378e+02]\n",
      "[  1.10630216e-04  -1.25429878e-01   1.23179302e+03]\n"
     ]
    },
    {
     "name": "stderr",
     "output_type": "stream",
     "text": [
      "\r",
      " 64%|██████▍   | 813/1261 [02:07<01:15,  5.92it/s]"
     ]
    },
    {
     "name": "stdout",
     "output_type": "stream",
     "text": [
      "[  2.40083706e-04  -3.12228975e-01   4.27600579e+02]\n",
      "[  1.55311284e-04  -1.54067165e-01   1.23405721e+03]\n",
      "[  2.27461217e-04  -2.97039573e-01   4.19550133e+02]\n",
      "[  1.39164247e-04  -1.48699235e-01   1.23421975e+03]\n"
     ]
    },
    {
     "name": "stderr",
     "output_type": "stream",
     "text": [
      " 65%|██████▍   | 816/1261 [02:07<01:14,  5.99it/s]"
     ]
    },
    {
     "name": "stdout",
     "output_type": "stream",
     "text": [
      "[  2.34960346e-04  -3.11346778e-01   4.22065255e+02]\n",
      "[  8.92742723e-05  -1.11772761e-01   1.22400526e+03]\n",
      "[  2.65299376e-04  -3.56543133e-01   4.38505858e+02]\n",
      "[  8.93524177e-05  -8.78766515e-02   1.20255912e+03]\n"
     ]
    },
    {
     "name": "stderr",
     "output_type": "stream",
     "text": [
      " 65%|██████▍   | 818/1261 [02:08<01:11,  6.23it/s]"
     ]
    },
    {
     "name": "stdout",
     "output_type": "stream",
     "text": [
      "[  2.65299376e-04  -3.56543133e-01   4.38505858e+02]\n",
      "[  8.93524177e-05  -8.78766515e-02   1.20255912e+03]\n",
      "[  2.65299376e-04  -3.56543133e-01   4.38505858e+02]\n",
      "[  8.93524177e-05  -8.78766515e-02   1.20255912e+03]\n"
     ]
    },
    {
     "name": "stderr",
     "output_type": "stream",
     "text": [
      " 65%|██████▌   | 820/1261 [02:08<01:08,  6.47it/s]"
     ]
    },
    {
     "name": "stdout",
     "output_type": "stream",
     "text": [
      "[  2.65299376e-04  -3.56543133e-01   4.38505858e+02]\n",
      "[  8.93524177e-05  -8.78766515e-02   1.20255912e+03]\n",
      "[  2.65299376e-04  -3.56543133e-01   4.38505858e+02]\n",
      "[  8.93524177e-05  -8.78766515e-02   1.20255912e+03]\n"
     ]
    },
    {
     "name": "stderr",
     "output_type": "stream",
     "text": [
      " 65%|██████▌   | 822/1261 [02:08<01:09,  6.29it/s]"
     ]
    },
    {
     "name": "stdout",
     "output_type": "stream",
     "text": [
      "[  2.65299376e-04  -3.56543133e-01   4.38505858e+02]\n",
      "[  8.93524177e-05  -8.78766515e-02   1.20255912e+03]\n",
      "[  2.65299376e-04  -3.56543133e-01   4.38505858e+02]\n",
      "[  8.93524177e-05  -8.78766515e-02   1.20255912e+03]\n"
     ]
    },
    {
     "name": "stderr",
     "output_type": "stream",
     "text": [
      " 65%|██████▌   | 824/1261 [02:09<01:06,  6.56it/s]"
     ]
    },
    {
     "name": "stdout",
     "output_type": "stream",
     "text": [
      "[  2.65299376e-04  -3.56543133e-01   4.38505858e+02]\n",
      "[  8.93524177e-05  -8.78766515e-02   1.20255912e+03]\n",
      "[  2.65299376e-04  -3.56543133e-01   4.38505858e+02]\n",
      "[  8.93524177e-05  -8.78766515e-02   1.20255912e+03]\n"
     ]
    },
    {
     "name": "stderr",
     "output_type": "stream",
     "text": [
      "\r",
      " 65%|██████▌   | 825/1261 [02:09<01:06,  6.58it/s]"
     ]
    },
    {
     "name": "stdout",
     "output_type": "stream",
     "text": [
      "[  2.65299376e-04  -3.56543133e-01   4.38505858e+02]\n",
      "[  8.93524177e-05  -8.78766515e-02   1.20255912e+03]\n",
      "[  2.65299376e-04  -3.56543133e-01   4.38505858e+02]\n",
      "[  8.93524177e-05  -8.78766515e-02   1.20255912e+03]\n"
     ]
    },
    {
     "name": "stderr",
     "output_type": "stream",
     "text": [
      " 66%|██████▌   | 828/1261 [02:09<01:09,  6.23it/s]"
     ]
    },
    {
     "name": "stdout",
     "output_type": "stream",
     "text": [
      "[  2.65299376e-04  -3.56543133e-01   4.38505858e+02]\n",
      "[  8.93524177e-05  -8.78766515e-02   1.20255912e+03]\n",
      "[  1.82369989e-04  -3.22074383e-01   4.25663431e+02]\n",
      "[  9.85744253e-05  -1.60612024e-01   1.20901834e+03]\n"
     ]
    },
    {
     "name": "stderr",
     "output_type": "stream",
     "text": [
      " 66%|██████▌   | 830/1261 [02:10<01:06,  6.50it/s]"
     ]
    },
    {
     "name": "stdout",
     "output_type": "stream",
     "text": [
      "[  1.90640295e-04  -3.28600655e-01   4.26942967e+02]\n",
      "[  1.19341891e-04  -1.68662526e-01   1.20552814e+03]\n",
      "[  1.90640295e-04  -3.28600655e-01   4.26942967e+02]\n",
      "[  1.19341891e-04  -1.68662526e-01   1.20552814e+03]\n"
     ]
    },
    {
     "name": "stderr",
     "output_type": "stream",
     "text": [
      " 66%|██████▌   | 832/1261 [02:10<01:07,  6.37it/s]"
     ]
    },
    {
     "name": "stdout",
     "output_type": "stream",
     "text": [
      "[  1.90640295e-04  -3.28600655e-01   4.26942967e+02]\n",
      "[  1.19341891e-04  -1.68662526e-01   1.20552814e+03]\n",
      "[  1.90640295e-04  -3.28600655e-01   4.26942967e+02]\n",
      "[  1.19341891e-04  -1.68662526e-01   1.20552814e+03]\n"
     ]
    },
    {
     "name": "stderr",
     "output_type": "stream",
     "text": [
      " 66%|██████▌   | 834/1261 [02:10<01:07,  6.32it/s]"
     ]
    },
    {
     "name": "stdout",
     "output_type": "stream",
     "text": [
      "[  1.90640295e-04  -3.28600655e-01   4.26942967e+02]\n",
      "[  1.19341891e-04  -1.68662526e-01   1.20552814e+03]\n",
      "[  1.90640295e-04  -3.28600655e-01   4.26942967e+02]\n",
      "[  1.19341891e-04  -1.68662526e-01   1.20552814e+03]\n"
     ]
    },
    {
     "name": "stderr",
     "output_type": "stream",
     "text": [
      " 66%|██████▋   | 836/1261 [02:11<01:07,  6.28it/s]"
     ]
    },
    {
     "name": "stdout",
     "output_type": "stream",
     "text": [
      "[  1.90640295e-04  -3.28600655e-01   4.26942967e+02]\n",
      "[  1.19341891e-04  -1.68662526e-01   1.20552814e+03]\n",
      "[  1.90640295e-04  -3.28600655e-01   4.26942967e+02]\n",
      "[  1.19341891e-04  -1.68662526e-01   1.20552814e+03]\n"
     ]
    },
    {
     "name": "stderr",
     "output_type": "stream",
     "text": [
      " 66%|██████▋   | 838/1261 [02:11<01:09,  6.05it/s]"
     ]
    },
    {
     "name": "stdout",
     "output_type": "stream",
     "text": [
      "[  1.90640295e-04  -3.28600655e-01   4.26942967e+02]\n",
      "[  1.19341891e-04  -1.68662526e-01   1.20552814e+03]\n",
      "[  1.90640295e-04  -3.28600655e-01   4.26942967e+02]\n",
      "[  1.19341891e-04  -1.68662526e-01   1.20552814e+03]\n"
     ]
    },
    {
     "name": "stderr",
     "output_type": "stream",
     "text": [
      " 67%|██████▋   | 840/1261 [02:11<01:10,  5.98it/s]"
     ]
    },
    {
     "name": "stdout",
     "output_type": "stream",
     "text": [
      "[  1.90640295e-04  -3.28600655e-01   4.26942967e+02]\n",
      "[  1.19341891e-04  -1.68662526e-01   1.20552814e+03]\n",
      "[  1.90640295e-04  -3.28600655e-01   4.26942967e+02]\n",
      "[  1.19341891e-04  -1.68662526e-01   1.20552814e+03]\n"
     ]
    },
    {
     "name": "stderr",
     "output_type": "stream",
     "text": [
      " 67%|██████▋   | 842/1261 [02:12<01:08,  6.13it/s]"
     ]
    },
    {
     "name": "stdout",
     "output_type": "stream",
     "text": [
      "[  1.90640295e-04  -3.28600655e-01   4.26942967e+02]\n",
      "[  1.19341891e-04  -1.68662526e-01   1.20552814e+03]\n",
      "[  1.90640295e-04  -3.28600655e-01   4.26942967e+02]\n",
      "[  1.19341891e-04  -1.68662526e-01   1.20552814e+03]\n"
     ]
    },
    {
     "name": "stderr",
     "output_type": "stream",
     "text": [
      " 67%|██████▋   | 844/1261 [02:12<01:03,  6.56it/s]"
     ]
    },
    {
     "name": "stdout",
     "output_type": "stream",
     "text": [
      "[  1.90640295e-04  -3.28600655e-01   4.26942967e+02]\n",
      "[  1.19341891e-04  -1.68662526e-01   1.20552814e+03]\n",
      "[  1.90640295e-04  -3.28600655e-01   4.26942967e+02]\n",
      "[  1.19341891e-04  -1.68662526e-01   1.20552814e+03]\n"
     ]
    },
    {
     "name": "stderr",
     "output_type": "stream",
     "text": [
      " 67%|██████▋   | 846/1261 [02:12<01:04,  6.42it/s]"
     ]
    },
    {
     "name": "stdout",
     "output_type": "stream",
     "text": [
      "[  1.90640295e-04  -3.28600655e-01   4.26942967e+02]\n",
      "[  1.19341891e-04  -1.68662526e-01   1.20552814e+03]\n",
      "[  1.90640295e-04  -3.28600655e-01   4.26942967e+02]\n",
      "[  1.19341891e-04  -1.68662526e-01   1.20552814e+03]\n"
     ]
    },
    {
     "name": "stderr",
     "output_type": "stream",
     "text": [
      " 67%|██████▋   | 848/1261 [02:12<01:05,  6.30it/s]"
     ]
    },
    {
     "name": "stdout",
     "output_type": "stream",
     "text": [
      "[  1.90640295e-04  -3.28600655e-01   4.26942967e+02]\n",
      "[  1.19341891e-04  -1.68662526e-01   1.20552814e+03]\n",
      "[  1.90640295e-04  -3.28600655e-01   4.26942967e+02]\n",
      "[  1.19341891e-04  -1.68662526e-01   1.20552814e+03]\n"
     ]
    },
    {
     "name": "stderr",
     "output_type": "stream",
     "text": [
      " 67%|██████▋   | 850/1261 [02:13<01:05,  6.26it/s]"
     ]
    },
    {
     "name": "stdout",
     "output_type": "stream",
     "text": [
      "[  2.53977866e-04  -3.68307565e-01   3.72247774e+02]\n",
      "[  2.00556575e-04  -3.40688232e-01   1.26643660e+03]\n",
      "[  2.42856572e-04  -3.66062766e-01   3.74078897e+02]\n",
      "[  2.00000683e-04  -3.35169384e-01   1.26436547e+03]\n"
     ]
    },
    {
     "name": "stderr",
     "output_type": "stream",
     "text": [
      " 68%|██████▊   | 852/1261 [02:13<01:02,  6.59it/s]"
     ]
    },
    {
     "name": "stdout",
     "output_type": "stream",
     "text": [
      "[  2.07411162e-04  -3.46370486e-01   3.76264352e+02]\n",
      "[  1.82558811e-04  -3.35721725e-01   1.27022461e+03]\n",
      "[  1.97491900e-04  -3.41694638e-01   3.75687913e+02]\n",
      "[  1.55928493e-04  -3.18433301e-01   1.27195181e+03]\n"
     ]
    },
    {
     "name": "stderr",
     "output_type": "stream",
     "text": [
      " 68%|██████▊   | 854/1261 [02:13<01:05,  6.21it/s]"
     ]
    },
    {
     "name": "stdout",
     "output_type": "stream",
     "text": [
      "[  1.69758002e-04  -3.33672019e-01   3.82183415e+02]\n",
      "[  1.35139239e-04  -2.92305008e-01   1.26354789e+03]\n",
      "[  1.58732076e-04  -3.18372964e-01   3.75740180e+02]\n",
      "[  1.38763156e-04  -3.01670199e-01   1.27169587e+03]\n"
     ]
    },
    {
     "name": "stderr",
     "output_type": "stream",
     "text": [
      "\r",
      " 68%|██████▊   | 855/1261 [02:14<01:10,  5.74it/s]"
     ]
    },
    {
     "name": "stdout",
     "output_type": "stream",
     "text": [
      "[  1.33097669e-04  -2.94407663e-01   3.69525429e+02]\n",
      "[  1.06388704e-04  -2.73600323e-01   1.26888075e+03]\n"
     ]
    },
    {
     "name": "stderr",
     "output_type": "stream",
     "text": [
      " 68%|██████▊   | 857/1261 [02:14<01:10,  5.75it/s]"
     ]
    },
    {
     "name": "stdout",
     "output_type": "stream",
     "text": [
      "[  1.35533310e-04  -2.99942585e-01   3.74050034e+02]\n",
      "[  1.31419075e-04  -2.94857452e-01   1.27232840e+03]\n",
      "[  1.24660355e-04  -2.89656146e-01   3.72043963e+02]\n",
      "[  1.01210441e-04  -2.58122468e-01   1.26218508e+03]\n"
     ]
    },
    {
     "name": "stderr",
     "output_type": "stream",
     "text": [
      " 68%|██████▊   | 859/1261 [02:14<01:15,  5.35it/s]"
     ]
    },
    {
     "name": "stdout",
     "output_type": "stream",
     "text": [
      "[  1.57807868e-04  -3.27525019e-01   3.83149928e+02]\n",
      "[  1.59571373e-04  -3.05800050e-01   1.26752703e+03]\n",
      "[  1.17889533e-04  -2.96140859e-01   3.80715836e+02]\n",
      "[  2.57479794e-04  -3.51775002e-01   1.26658056e+03]\n"
     ]
    },
    {
     "name": "stderr",
     "output_type": "stream",
     "text": [
      "\r",
      " 68%|██████▊   | 860/1261 [02:15<01:18,  5.13it/s]"
     ]
    },
    {
     "name": "stdout",
     "output_type": "stream",
     "text": [
      "[  1.72523651e-04  -3.39176691e-01   3.86573836e+02]\n",
      "[  2.46060238e-04  -3.58099688e-01   1.26914279e+03]\n"
     ]
    },
    {
     "name": "stderr",
     "output_type": "stream",
     "text": [
      "\r",
      " 68%|██████▊   | 861/1261 [02:15<01:21,  4.90it/s]"
     ]
    },
    {
     "name": "stdout",
     "output_type": "stream",
     "text": [
      "[  1.61326265e-04  -3.31586014e-01   3.87881083e+02]\n",
      "[  2.85164827e-04  -3.85593661e-01   1.27010700e+03]\n"
     ]
    },
    {
     "name": "stderr",
     "output_type": "stream",
     "text": [
      "\r",
      " 68%|██████▊   | 862/1261 [02:15<01:25,  4.64it/s]"
     ]
    },
    {
     "name": "stdout",
     "output_type": "stream",
     "text": [
      "[  1.61592353e-04  -3.20135405e-01   3.80733587e+02]\n",
      "[  2.83082121e-04  -3.91659832e-01   1.27374592e+03]\n"
     ]
    },
    {
     "name": "stderr",
     "output_type": "stream",
     "text": [
      "\r",
      " 68%|██████▊   | 863/1261 [02:15<01:23,  4.74it/s]"
     ]
    },
    {
     "name": "stdout",
     "output_type": "stream",
     "text": [
      "[  1.53143760e-04  -3.08700851e-01   3.76899019e+02]\n",
      "[  3.58770594e-04  -4.54203114e-01   1.28417362e+03]\n"
     ]
    },
    {
     "name": "stderr",
     "output_type": "stream",
     "text": [
      "\r",
      " 69%|██████▊   | 864/1261 [02:15<01:24,  4.69it/s]"
     ]
    },
    {
     "name": "stdout",
     "output_type": "stream",
     "text": [
      "[  1.53143760e-04  -3.08700851e-01   3.76899019e+02]\n",
      "[  3.58770594e-04  -4.54203114e-01   1.28417362e+03]\n"
     ]
    },
    {
     "name": "stderr",
     "output_type": "stream",
     "text": [
      "\r",
      " 69%|██████▊   | 865/1261 [02:16<01:24,  4.70it/s]"
     ]
    },
    {
     "name": "stdout",
     "output_type": "stream",
     "text": [
      "[  1.53143760e-04  -3.08700851e-01   3.76899019e+02]\n",
      "[  3.58770594e-04  -4.54203114e-01   1.28417362e+03]\n"
     ]
    },
    {
     "name": "stderr",
     "output_type": "stream",
     "text": [
      "\r",
      " 69%|██████▊   | 866/1261 [02:16<01:28,  4.45it/s]"
     ]
    },
    {
     "name": "stdout",
     "output_type": "stream",
     "text": [
      "[  1.47285506e-04  -2.79051219e-01   3.60215317e+02]\n",
      "[  2.75175011e-04  -4.16044507e-01   1.29011624e+03]\n",
      "[  1.33731412e-04  -2.54612116e-01   3.47574074e+02]\n",
      "[  2.06276712e-04  -3.70835019e-01   1.29096058e+03]\n"
     ]
    },
    {
     "name": "stderr",
     "output_type": "stream",
     "text": [
      " 69%|██████▉   | 868/1261 [02:16<01:20,  4.86it/s]"
     ]
    },
    {
     "name": "stdout",
     "output_type": "stream",
     "text": [
      "[  1.39012859e-04  -2.64741830e-01   3.52181405e+02]\n",
      "[  1.81814437e-04  -3.45567005e-01   1.28413653e+03]\n",
      "[  1.41273088e-04  -2.74185844e-01   3.59353180e+02]\n",
      "[  1.71218885e-04  -3.26891668e-01   1.27539126e+03]\n"
     ]
    },
    {
     "name": "stderr",
     "output_type": "stream",
     "text": [
      " 69%|██████▉   | 870/1261 [02:17<01:22,  4.74it/s]"
     ]
    },
    {
     "name": "stdout",
     "output_type": "stream",
     "text": [
      "[  1.27778603e-04  -2.66779824e-01   3.57814642e+02]\n",
      "[  1.70099265e-04  -3.31257698e-01   1.27971592e+03]\n",
      "[  1.65592437e-04  -3.02369793e-01   3.67261816e+02]\n",
      "[  1.53612298e-04  -3.30690679e-01   1.28160494e+03]\n"
     ]
    },
    {
     "name": "stderr",
     "output_type": "stream",
     "text": [
      " 69%|██████▉   | 872/1261 [02:17<01:20,  4.82it/s]"
     ]
    },
    {
     "name": "stdout",
     "output_type": "stream",
     "text": [
      "[  1.51691004e-04  -2.77576465e-01   3.54616364e+02]\n",
      "[  1.49948336e-04  -3.33008128e-01   1.28844921e+03]\n"
     ]
    },
    {
     "name": "stderr",
     "output_type": "stream",
     "text": [
      " 69%|██████▉   | 874/1261 [02:18<01:14,  5.19it/s]"
     ]
    },
    {
     "name": "stdout",
     "output_type": "stream",
     "text": [
      "[  1.66875143e-04  -2.90993996e-01   3.56837449e+02]\n",
      "[  1.13193139e-04  -3.22567177e-01   1.29206452e+03]\n",
      "[  1.49980532e-04  -2.68537750e-01   3.47448907e+02]\n",
      "[  1.17452375e-04  -3.26618749e-01   1.29757645e+03]\n"
     ]
    },
    {
     "name": "stderr",
     "output_type": "stream",
     "text": [
      " 69%|██████▉   | 876/1261 [02:18<01:06,  5.76it/s]"
     ]
    },
    {
     "name": "stdout",
     "output_type": "stream",
     "text": [
      "[  1.54259678e-04  -2.71474939e-01   3.48467097e+02]\n",
      "[  9.11436050e-05  -3.15339209e-01   1.29877557e+03]\n",
      "[  1.54259678e-04  -2.71474939e-01   3.48467097e+02]\n",
      "[  9.11436050e-05  -3.15339209e-01   1.29877557e+03]\n"
     ]
    },
    {
     "name": "stderr",
     "output_type": "stream",
     "text": [
      "\r",
      " 70%|██████▉   | 877/1261 [02:18<01:06,  5.76it/s]"
     ]
    },
    {
     "name": "stdout",
     "output_type": "stream",
     "text": [
      "[  1.73214938e-04  -2.86622475e-01   3.53007806e+02]\n",
      "[  8.11801238e-05  -2.97102950e-01   1.29557922e+03]\n",
      "[  1.73214938e-04  -2.86622475e-01   3.53007806e+02]\n",
      "[  8.11801238e-05  -2.97102950e-01   1.29557922e+03]\n"
     ]
    },
    {
     "name": "stderr",
     "output_type": "stream",
     "text": [
      " 70%|██████▉   | 879/1261 [02:18<01:13,  5.16it/s]"
     ]
    },
    {
     "name": "stdout",
     "output_type": "stream",
     "text": [
      "[  2.09439948e-04  -3.23489278e-01   3.62650931e+02]\n",
      "[  1.61699271e-04  -3.54927037e-01   1.30290432e+03]\n"
     ]
    },
    {
     "name": "stderr",
     "output_type": "stream",
     "text": [
      "\r",
      " 70%|██████▉   | 880/1261 [02:19<01:20,  4.75it/s]"
     ]
    },
    {
     "name": "stdout",
     "output_type": "stream",
     "text": [
      "[  2.15650250e-04  -3.31115446e-01   3.64807595e+02]\n",
      "[  1.22790661e-04  -3.17598721e-01   1.29637593e+03]\n"
     ]
    },
    {
     "name": "stderr",
     "output_type": "stream",
     "text": [
      "\r",
      " 70%|██████▉   | 881/1261 [02:19<01:18,  4.81it/s]"
     ]
    },
    {
     "name": "stdout",
     "output_type": "stream",
     "text": [
      "[  2.24294190e-04  -3.43113631e-01   3.69629968e+02]\n",
      "[  5.48149692e-05  -2.38977731e-01   1.27587958e+03]\n",
      "[  1.92563579e-04  -3.09551999e-01   3.56095241e+02]\n",
      "[  1.68525288e-05  -2.18675970e-01   1.27808425e+03]\n"
     ]
    },
    {
     "name": "stderr",
     "output_type": "stream",
     "text": [
      " 70%|███████   | 884/1261 [02:19<01:08,  5.47it/s]"
     ]
    },
    {
     "name": "stdout",
     "output_type": "stream",
     "text": [
      "[  2.18102351e-04  -3.45011384e-01   3.68045200e+02]\n",
      "[  1.16210805e-04  -2.76464749e-01   1.28080657e+03]\n",
      "[  2.06530132e-04  -3.48783618e-01   3.75786702e+02]\n",
      "[  1.48109728e-04  -2.99994442e-01   1.28106385e+03]\n"
     ]
    },
    {
     "name": "stderr",
     "output_type": "stream",
     "text": [
      "\r",
      " 70%|███████   | 885/1261 [02:20<01:09,  5.41it/s]"
     ]
    },
    {
     "name": "stdout",
     "output_type": "stream",
     "text": [
      "[  1.52597301e-04  -3.12753602e-01   3.74671016e+02]\n",
      "[  1.85336702e-04  -3.26877944e-01   1.28140481e+03]\n"
     ]
    },
    {
     "name": "stderr",
     "output_type": "stream",
     "text": [
      "\r",
      " 70%|███████   | 886/1261 [02:20<01:13,  5.11it/s]"
     ]
    },
    {
     "name": "stdout",
     "output_type": "stream",
     "text": [
      "[  1.49200142e-04  -3.28490288e-01   3.89884801e+02]\n",
      "[  2.20360739e-04  -3.43160856e-01   1.27331827e+03]\n"
     ]
    },
    {
     "name": "stderr",
     "output_type": "stream",
     "text": [
      "\r",
      " 70%|███████   | 887/1261 [02:20<01:16,  4.89it/s]"
     ]
    },
    {
     "name": "stdout",
     "output_type": "stream",
     "text": [
      "[  1.25830293e-04  -3.05890040e-01   3.84761778e+02]\n",
      "[  2.25504895e-04  -3.52721586e-01   1.27794429e+03]\n",
      "[  1.25830293e-04  -3.05890040e-01   3.84761778e+02]\n",
      "[  2.25504895e-04  -3.52721586e-01   1.27794429e+03]\n"
     ]
    },
    {
     "name": "stderr",
     "output_type": "stream",
     "text": [
      " 70%|███████   | 889/1261 [02:20<01:13,  5.03it/s]"
     ]
    },
    {
     "name": "stdout",
     "output_type": "stream",
     "text": [
      "[  1.25830293e-04  -3.05890040e-01   3.84761778e+02]\n",
      "[  2.25504895e-04  -3.52721586e-01   1.27794429e+03]\n"
     ]
    },
    {
     "name": "stderr",
     "output_type": "stream",
     "text": [
      "\r",
      " 71%|███████   | 890/1261 [02:21<01:19,  4.65it/s]"
     ]
    },
    {
     "name": "stdout",
     "output_type": "stream",
     "text": [
      "[  9.13961875e-05  -2.74720126e-01   3.80900172e+02]\n",
      "[  1.65627130e-04  -3.05996740e-01   1.26890875e+03]\n",
      "[  7.31706498e-05  -2.54834067e-01   3.75626462e+02]\n",
      "[  2.17544830e-04  -3.59800342e-01   1.28297068e+03]\n"
     ]
    },
    {
     "name": "stderr",
     "output_type": "stream",
     "text": [
      " 71%|███████   | 892/1261 [02:21<01:13,  5.05it/s]"
     ]
    },
    {
     "name": "stdout",
     "output_type": "stream",
     "text": [
      "[  6.54036558e-05  -2.37877964e-01   3.68199555e+02]\n",
      "[  2.08800855e-04  -3.55893571e-01   1.28611725e+03]\n"
     ]
    },
    {
     "name": "stderr",
     "output_type": "stream",
     "text": [
      "\r",
      " 71%|███████   | 893/1261 [02:21<01:16,  4.81it/s]"
     ]
    },
    {
     "name": "stdout",
     "output_type": "stream",
     "text": [
      "[  6.54036558e-05  -2.37877964e-01   3.68199555e+02]\n",
      "[  2.08800855e-04  -3.55893571e-01   1.28611725e+03]\n"
     ]
    },
    {
     "name": "stderr",
     "output_type": "stream",
     "text": [
      "\r",
      " 71%|███████   | 894/1261 [02:21<01:16,  4.81it/s]"
     ]
    },
    {
     "name": "stdout",
     "output_type": "stream",
     "text": [
      "[  8.50007115e-05  -2.57775715e-01   3.76876498e+02]\n",
      "[  1.24049041e-04  -2.71341477e-01   1.26617092e+03]\n"
     ]
    },
    {
     "name": "stderr",
     "output_type": "stream",
     "text": [
      "\r",
      " 71%|███████   | 895/1261 [02:22<01:15,  4.83it/s]"
     ]
    },
    {
     "name": "stdout",
     "output_type": "stream",
     "text": [
      "[  7.27247155e-05  -2.57965260e-01   3.84913165e+02]\n",
      "[  1.43847014e-04  -2.80813299e-01   1.26445838e+03]\n"
     ]
    },
    {
     "name": "stderr",
     "output_type": "stream",
     "text": [
      "\r",
      " 71%|███████   | 896/1261 [02:22<01:18,  4.64it/s]"
     ]
    },
    {
     "name": "stdout",
     "output_type": "stream",
     "text": [
      "[  7.30310460e-05  -2.56043175e-01   3.88067688e+02]\n",
      "[  2.10781210e-04  -3.31396831e-01   1.27258166e+03]\n",
      "[  6.92916354e-05  -2.40906735e-01   3.80792607e+02]\n",
      "[  1.88458959e-04  -3.24736754e-01   1.27853484e+03]\n"
     ]
    },
    {
     "name": "stderr",
     "output_type": "stream",
     "text": [
      " 71%|███████   | 898/1261 [02:22<01:14,  4.89it/s]"
     ]
    },
    {
     "name": "stdout",
     "output_type": "stream",
     "text": [
      "[  9.45414385e-05  -2.61023390e-01   3.85897166e+02]\n",
      "[  1.37546293e-04  -2.92693869e-01   1.27553199e+03]\n"
     ]
    },
    {
     "name": "stderr",
     "output_type": "stream",
     "text": [
      "\r",
      " 71%|███████▏  | 899/1261 [02:23<01:15,  4.77it/s]"
     ]
    },
    {
     "name": "stdout",
     "output_type": "stream",
     "text": [
      "[  1.02202022e-04  -2.59502824e-01   3.82693922e+02]\n",
      "[  1.01210130e-04  -2.69090919e-01   1.27473361e+03]\n"
     ]
    },
    {
     "name": "stderr",
     "output_type": "stream",
     "text": [
      "\r",
      " 71%|███████▏  | 900/1261 [02:23<01:14,  4.85it/s]"
     ]
    },
    {
     "name": "stdout",
     "output_type": "stream",
     "text": [
      "[  8.18175140e-05  -2.45116530e-01   3.84661763e+02]\n",
      "[  6.07162921e-05  -2.25715103e-01   1.26200542e+03]\n"
     ]
    },
    {
     "name": "stderr",
     "output_type": "stream",
     "text": [
      "\r",
      " 71%|███████▏  | 901/1261 [02:23<01:18,  4.61it/s]"
     ]
    },
    {
     "name": "stdout",
     "output_type": "stream",
     "text": [
      "[  8.88565684e-05  -2.61185909e-01   3.94811939e+02]\n",
      "[  1.12419263e-04  -2.58530738e-01   1.26120005e+03]\n"
     ]
    },
    {
     "name": "stderr",
     "output_type": "stream",
     "text": [
      " 72%|███████▏  | 903/1261 [02:23<01:08,  5.21it/s]"
     ]
    },
    {
     "name": "stdout",
     "output_type": "stream",
     "text": [
      "[  9.13720341e-05  -2.48154012e-01   3.84240208e+02]\n",
      "[  1.20022755e-04  -2.65404166e-01   1.26541455e+03]\n",
      "[  7.95261490e-05  -2.28791374e-01   3.77171979e+02]\n",
      "[  4.06903439e-05  -1.87075726e-01   1.24917678e+03]\n"
     ]
    },
    {
     "name": "stderr",
     "output_type": "stream",
     "text": [
      "\r",
      " 72%|███████▏  | 904/1261 [02:23<01:04,  5.54it/s]"
     ]
    },
    {
     "name": "stdout",
     "output_type": "stream",
     "text": [
      "[  7.04845887e-05  -2.06109587e-01   3.65282610e+02]\n",
      "[  1.32466615e-04  -2.76554936e-01   1.27091055e+03]\n",
      "[  7.20251861e-05  -1.98303231e-01   3.58111194e+02]\n",
      "[  1.40351208e-04  -2.81522936e-01   1.27230104e+03]\n"
     ]
    },
    {
     "name": "stderr",
     "output_type": "stream",
     "text": [
      " 72%|███████▏  | 906/1261 [02:24<01:13,  4.81it/s]"
     ]
    },
    {
     "name": "stdout",
     "output_type": "stream",
     "text": [
      "[  7.83398841e-05  -2.04661244e-01   3.59867107e+02]\n",
      "[  1.90993312e-04  -3.12931473e-01   1.27479172e+03]\n"
     ]
    },
    {
     "name": "stderr",
     "output_type": "stream",
     "text": [
      "\r",
      " 72%|███████▏  | 907/1261 [02:24<01:15,  4.69it/s]"
     ]
    },
    {
     "name": "stdout",
     "output_type": "stream",
     "text": [
      "[  1.12417628e-04  -2.24360704e-01   3.57524220e+02]\n",
      "[  1.97856731e-04  -3.21309389e-01   1.27793040e+03]\n"
     ]
    },
    {
     "name": "stderr",
     "output_type": "stream",
     "text": [
      "\r",
      " 72%|███████▏  | 908/1261 [02:24<01:19,  4.47it/s]"
     ]
    },
    {
     "name": "stdout",
     "output_type": "stream",
     "text": [
      "[  1.68527733e-04  -2.80592047e-01   3.72348936e+02]\n",
      "[  2.23619212e-04  -3.49612154e-01   1.27915530e+03]\n"
     ]
    },
    {
     "name": "stderr",
     "output_type": "stream",
     "text": [
      "\r",
      " 72%|███████▏  | 909/1261 [02:25<01:17,  4.52it/s]"
     ]
    },
    {
     "name": "stdout",
     "output_type": "stream",
     "text": [
      "[  1.77611787e-04  -2.88386904e-01   3.73373152e+02]\n",
      "[  3.00110335e-04  -4.00550160e-01   1.28294670e+03]\n"
     ]
    },
    {
     "name": "stderr",
     "output_type": "stream",
     "text": [
      "\r",
      " 72%|███████▏  | 910/1261 [02:25<01:17,  4.54it/s]"
     ]
    },
    {
     "name": "stdout",
     "output_type": "stream",
     "text": [
      "[  1.87179931e-04  -3.06836079e-01   3.81379568e+02]\n",
      "[  2.69279527e-04  -3.81591821e-01   1.27659296e+03]\n",
      "[  1.89820955e-04  -3.02648878e-01   3.78522130e+02]\n",
      "[  2.71866126e-04  -3.87349014e-01   1.27745744e+03]\n"
     ]
    },
    {
     "name": "stderr",
     "output_type": "stream",
     "text": [
      " 72%|███████▏  | 913/1261 [02:25<01:05,  5.32it/s]"
     ]
    },
    {
     "name": "stdout",
     "output_type": "stream",
     "text": [
      "[  2.02395334e-04  -3.06726173e-01   3.72763997e+02]\n",
      "[  2.74195757e-04  -3.95858548e-01   1.28359016e+03]\n",
      "[  2.11855573e-04  -3.24753553e-01   3.81626138e+02]\n",
      "[  2.66114703e-04  -3.89648897e-01   1.27827338e+03]\n"
     ]
    },
    {
     "name": "stderr",
     "output_type": "stream",
     "text": [
      " 73%|███████▎  | 915/1261 [02:26<01:02,  5.55it/s]"
     ]
    },
    {
     "name": "stdout",
     "output_type": "stream",
     "text": [
      "[  2.15525839e-04  -3.22958800e-01   3.78836027e+02]\n",
      "[  2.38210821e-04  -3.65903623e-01   1.27335404e+03]\n",
      "[  2.36191445e-04  -3.34980265e-01   3.76219870e+02]\n",
      "[  1.67027783e-04  -3.04275708e-01   1.26452442e+03]\n"
     ]
    },
    {
     "name": "stderr",
     "output_type": "stream",
     "text": [
      "\r",
      " 73%|███████▎  | 916/1261 [02:26<00:59,  5.80it/s]"
     ]
    },
    {
     "name": "stdout",
     "output_type": "stream",
     "text": [
      "[  2.82306768e-04  -3.77697268e-01   3.85956512e+02]\n",
      "[  2.05674582e-04  -3.38335727e-01   1.27018346e+03]\n",
      "[  2.64572220e-04  -3.62637040e-01   3.79417821e+02]\n",
      "[  1.91371967e-04  -3.33697784e-01   1.27402936e+03]\n"
     ]
    },
    {
     "name": "stderr",
     "output_type": "stream",
     "text": [
      " 73%|███████▎  | 918/1261 [02:26<01:09,  4.94it/s]"
     ]
    },
    {
     "name": "stdout",
     "output_type": "stream",
     "text": [
      "[  2.42856016e-04  -3.53506967e-01   3.80851037e+02]\n",
      "[  1.63113118e-04  -3.24643429e-01   1.27404816e+03]\n",
      "[  2.42856016e-04  -3.53506967e-01   3.80851037e+02]\n",
      "[  1.63113118e-04  -3.24643429e-01   1.27404816e+03]\n"
     ]
    },
    {
     "name": "stderr",
     "output_type": "stream",
     "text": [
      " 73%|███████▎  | 921/1261 [02:27<01:05,  5.18it/s]"
     ]
    },
    {
     "name": "stdout",
     "output_type": "stream",
     "text": [
      "[  2.73814967e-04  -3.95003891e-01   3.91807941e+02]\n",
      "[  1.53006124e-04  -3.33891076e-01   1.27937183e+03]\n",
      "[  2.59960770e-04  -3.95117707e-01   3.96960285e+02]\n",
      "[  2.13226579e-04  -3.60293032e-01   1.27569891e+03]\n"
     ]
    },
    {
     "name": "stderr",
     "output_type": "stream",
     "text": [
      " 73%|███████▎  | 923/1261 [02:27<00:58,  5.81it/s]"
     ]
    },
    {
     "name": "stdout",
     "output_type": "stream",
     "text": [
      "[  2.59960770e-04  -3.95117707e-01   3.96960285e+02]\n",
      "[  2.13226579e-04  -3.60293032e-01   1.27569891e+03]\n",
      "[  2.59960770e-04  -3.95117707e-01   3.96960285e+02]\n",
      "[  2.13226579e-04  -3.60293032e-01   1.27569891e+03]\n"
     ]
    },
    {
     "name": "stderr",
     "output_type": "stream",
     "text": [
      " 73%|███████▎  | 925/1261 [02:28<00:55,  6.02it/s]"
     ]
    },
    {
     "name": "stdout",
     "output_type": "stream",
     "text": [
      "[  1.70129735e-04  -3.31454710e-01   3.87354837e+02]\n",
      "[  1.56087340e-04  -3.16746069e-01   1.27047724e+03]\n",
      "[  1.87532555e-04  -3.64099815e-01   4.02533316e+02]\n",
      "[  1.04268873e-04  -2.48876218e-01   1.24658233e+03]\n"
     ]
    },
    {
     "name": "stderr",
     "output_type": "stream",
     "text": [
      " 74%|███████▎  | 927/1261 [02:28<00:56,  5.89it/s]"
     ]
    },
    {
     "name": "stdout",
     "output_type": "stream",
     "text": [
      "[  2.03784017e-04  -3.86988516e-01   4.10805569e+02]\n",
      "[  1.46949852e-04  -2.81645049e-01   1.25040917e+03]\n",
      "[  1.93335267e-04  -3.72404332e-01   4.04079775e+02]\n",
      "[  1.55465410e-04  -2.94948971e-01   1.25736922e+03]\n"
     ]
    },
    {
     "name": "stderr",
     "output_type": "stream",
     "text": [
      " 74%|███████▎  | 929/1261 [02:28<00:53,  6.19it/s]"
     ]
    },
    {
     "name": "stdout",
     "output_type": "stream",
     "text": [
      "[  1.81883053e-04  -3.64156485e-01   4.02692738e+02]\n",
      "[  1.67923448e-04  -3.07647968e-01   1.26156707e+03]\n",
      "[  1.29361155e-04  -3.16002808e-01   3.90810942e+02]\n",
      "[  1.61661811e-04  -3.02867055e-01   1.26362903e+03]\n"
     ]
    },
    {
     "name": "stderr",
     "output_type": "stream",
     "text": [
      " 74%|███████▍  | 931/1261 [02:28<00:52,  6.25it/s]"
     ]
    },
    {
     "name": "stdout",
     "output_type": "stream",
     "text": [
      "[  1.40087582e-04  -3.33133455e-01   3.98355159e+02]\n",
      "[  2.25589914e-04  -3.30913753e-01   1.26259139e+03]\n",
      "[  1.49678613e-04  -3.45662885e-01   4.04201027e+02]\n",
      "[  2.70612051e-04  -3.60455043e-01   1.26536617e+03]\n"
     ]
    },
    {
     "name": "stderr",
     "output_type": "stream",
     "text": [
      " 74%|███████▍  | 933/1261 [02:29<00:50,  6.48it/s]"
     ]
    },
    {
     "name": "stdout",
     "output_type": "stream",
     "text": [
      "[  1.49678613e-04  -3.45662885e-01   4.04201027e+02]\n",
      "[  2.70612051e-04  -3.60455043e-01   1.26536617e+03]\n",
      "[  1.29017316e-04  -3.31725397e-01   4.07598571e+02]\n",
      "[  2.15803711e-04  -3.26109072e-01   1.26072365e+03]\n"
     ]
    },
    {
     "name": "stderr",
     "output_type": "stream",
     "text": [
      " 74%|███████▍  | 935/1261 [02:29<00:51,  6.38it/s]"
     ]
    },
    {
     "name": "stdout",
     "output_type": "stream",
     "text": [
      "[  1.16387932e-04  -3.12591084e-01   4.01304356e+02]\n",
      "[  2.88869505e-04  -3.91571204e-01   1.27654563e+03]\n",
      "[  1.02740550e-04  -3.06384612e-01   4.05812489e+02]\n",
      "[  2.16406810e-04  -3.30790024e-01   1.26300224e+03]\n"
     ]
    },
    {
     "name": "stderr",
     "output_type": "stream",
     "text": [
      " 74%|███████▍  | 937/1261 [02:29<00:48,  6.74it/s]"
     ]
    },
    {
     "name": "stdout",
     "output_type": "stream",
     "text": [
      "[  1.18855502e-04  -3.18420011e-01   4.10358279e+02]\n",
      "[  2.11098987e-04  -3.27760610e-01   1.26312316e+03]\n",
      "[  1.47140466e-04  -3.33000757e-01   4.10141611e+02]\n",
      "[  2.10761813e-04  -3.29232799e-01   1.26530445e+03]\n"
     ]
    },
    {
     "name": "stderr",
     "output_type": "stream",
     "text": [
      " 74%|███████▍  | 939/1261 [02:30<00:49,  6.54it/s]"
     ]
    },
    {
     "name": "stdout",
     "output_type": "stream",
     "text": [
      "[  1.60044723e-04  -3.48148263e-01   4.16689816e+02]\n",
      "[  2.44191620e-04  -3.60730243e-01   1.27106280e+03]\n",
      "[  1.95351296e-04  -3.69661037e-01   4.17208721e+02]\n",
      "[  2.30753847e-04  -3.55765583e-01   1.27262298e+03]\n"
     ]
    },
    {
     "name": "stderr",
     "output_type": "stream",
     "text": [
      " 75%|███████▍  | 941/1261 [02:30<00:47,  6.78it/s]"
     ]
    },
    {
     "name": "stdout",
     "output_type": "stream",
     "text": [
      "[  2.50695278e-04  -4.20053009e-01   4.27546878e+02]\n",
      "[  2.40583751e-04  -3.70071613e-01   1.27652905e+03]\n",
      "[  2.26165839e-04  -3.98817493e-01   4.23822684e+02]\n",
      "[  2.12607007e-04  -3.63192941e-01   1.27897366e+03]\n"
     ]
    },
    {
     "name": "stderr",
     "output_type": "stream",
     "text": [
      "\r",
      " 75%|███████▍  | 942/1261 [02:30<00:49,  6.39it/s]"
     ]
    },
    {
     "name": "stdout",
     "output_type": "stream",
     "text": [
      "[  2.40063738e-04  -4.07405822e-01   4.22225277e+02]\n",
      "[  2.63742052e-04  -3.99752197e-01   1.28625664e+03]\n",
      "[  2.62721211e-04  -4.32695065e-01   4.30781720e+02]\n",
      "[  3.13244267e-04  -4.37932486e-01   1.29025706e+03]\n"
     ]
    },
    {
     "name": "stderr",
     "output_type": "stream",
     "text": [
      " 75%|███████▍  | 945/1261 [02:31<00:50,  6.30it/s]"
     ]
    },
    {
     "name": "stdout",
     "output_type": "stream",
     "text": [
      "[  2.47489878e-04  -4.03306104e-01   4.14157162e+02]\n",
      "[  2.66131717e-04  -4.21817555e-01   1.29958474e+03]\n",
      "[  2.47489878e-04  -4.03306104e-01   4.14157162e+02]\n",
      "[  2.66131717e-04  -4.21817555e-01   1.29958474e+03]\n"
     ]
    },
    {
     "name": "stderr",
     "output_type": "stream",
     "text": [
      " 75%|███████▌  | 947/1261 [02:31<00:51,  6.05it/s]"
     ]
    },
    {
     "name": "stdout",
     "output_type": "stream",
     "text": [
      "[  2.62274782e-04  -4.30009509e-01   4.27288172e+02]\n",
      "[  3.31699337e-04  -4.78735342e-01   1.30853796e+03]\n",
      "[  2.62274782e-04  -4.30009509e-01   4.27288172e+02]\n",
      "[  3.31699337e-04  -4.78735342e-01   1.30853796e+03]\n"
     ]
    },
    {
     "name": "stderr",
     "output_type": "stream",
     "text": [
      " 75%|███████▌  | 949/1261 [02:31<00:48,  6.44it/s]"
     ]
    },
    {
     "name": "stdout",
     "output_type": "stream",
     "text": [
      "[  2.41954901e-04  -4.17986084e-01   4.27525771e+02]\n",
      "[  2.84450074e-04  -4.50511355e-01   1.30791669e+03]\n",
      "[  2.18166692e-04  -3.92243124e-01   4.18880186e+02]\n",
      "[  2.90861160e-04  -4.66692943e-01   1.31776049e+03]\n"
     ]
    },
    {
     "name": "stderr",
     "output_type": "stream",
     "text": [
      " 75%|███████▌  | 951/1261 [02:32<00:48,  6.44it/s]"
     ]
    },
    {
     "name": "stdout",
     "output_type": "stream",
     "text": [
      "[  2.18166692e-04  -3.92243124e-01   4.18880186e+02]\n",
      "[  2.90861160e-04  -4.66692943e-01   1.31776049e+03]\n",
      "[  2.18166692e-04  -3.92243124e-01   4.18880186e+02]\n",
      "[  2.90861160e-04  -4.66692943e-01   1.31776049e+03]\n"
     ]
    },
    {
     "name": "stderr",
     "output_type": "stream",
     "text": [
      " 76%|███████▌  | 953/1261 [02:32<00:46,  6.64it/s]"
     ]
    },
    {
     "name": "stdout",
     "output_type": "stream",
     "text": [
      "[  2.18166692e-04  -3.92243124e-01   4.18880186e+02]\n",
      "[  2.90861160e-04  -4.66692943e-01   1.31776049e+03]\n",
      "[  2.18166692e-04  -3.92243124e-01   4.18880186e+02]\n",
      "[  2.90861160e-04  -4.66692943e-01   1.31776049e+03]\n"
     ]
    },
    {
     "name": "stderr",
     "output_type": "stream",
     "text": [
      " 76%|███████▌  | 955/1261 [02:32<00:50,  6.10it/s]"
     ]
    },
    {
     "name": "stdout",
     "output_type": "stream",
     "text": [
      "[  2.18166692e-04  -3.92243124e-01   4.18880186e+02]\n",
      "[  2.90861160e-04  -4.66692943e-01   1.31776049e+03]\n",
      "[  2.18166692e-04  -3.92243124e-01   4.18880186e+02]\n",
      "[  2.90861160e-04  -4.66692943e-01   1.31776049e+03]\n"
     ]
    },
    {
     "name": "stderr",
     "output_type": "stream",
     "text": [
      " 76%|███████▌  | 957/1261 [02:33<00:47,  6.47it/s]"
     ]
    },
    {
     "name": "stdout",
     "output_type": "stream",
     "text": [
      "[  2.18166692e-04  -3.92243124e-01   4.18880186e+02]\n",
      "[  2.90861160e-04  -4.66692943e-01   1.31776049e+03]\n",
      "[  2.18166692e-04  -3.92243124e-01   4.18880186e+02]\n",
      "[  2.90861160e-04  -4.66692943e-01   1.31776049e+03]\n"
     ]
    },
    {
     "name": "stderr",
     "output_type": "stream",
     "text": [
      " 76%|███████▌  | 959/1261 [02:33<00:48,  6.23it/s]"
     ]
    },
    {
     "name": "stdout",
     "output_type": "stream",
     "text": [
      "[  2.18166692e-04  -3.92243124e-01   4.18880186e+02]\n",
      "[  2.90861160e-04  -4.66692943e-01   1.31776049e+03]\n",
      "[  2.18166692e-04  -3.92243124e-01   4.18880186e+02]\n",
      "[  2.90861160e-04  -4.66692943e-01   1.31776049e+03]\n"
     ]
    },
    {
     "name": "stderr",
     "output_type": "stream",
     "text": [
      " 76%|███████▌  | 961/1261 [02:33<00:46,  6.49it/s]"
     ]
    },
    {
     "name": "stdout",
     "output_type": "stream",
     "text": [
      "[  2.18166692e-04  -3.92243124e-01   4.18880186e+02]\n",
      "[  2.90861160e-04  -4.66692943e-01   1.31776049e+03]\n",
      "[  2.18166692e-04  -3.92243124e-01   4.18880186e+02]\n",
      "[  2.90861160e-04  -4.66692943e-01   1.31776049e+03]\n"
     ]
    },
    {
     "name": "stderr",
     "output_type": "stream",
     "text": [
      " 76%|███████▋  | 963/1261 [02:34<00:48,  6.11it/s]"
     ]
    },
    {
     "name": "stdout",
     "output_type": "stream",
     "text": [
      "[  2.18166692e-04  -3.92243124e-01   4.18880186e+02]\n",
      "[  2.90861160e-04  -4.66692943e-01   1.31776049e+03]\n",
      "[  2.18166692e-04  -3.92243124e-01   4.18880186e+02]\n",
      "[  2.90861160e-04  -4.66692943e-01   1.31776049e+03]\n"
     ]
    },
    {
     "name": "stderr",
     "output_type": "stream",
     "text": [
      " 77%|███████▋  | 965/1261 [02:34<00:45,  6.48it/s]"
     ]
    },
    {
     "name": "stdout",
     "output_type": "stream",
     "text": [
      "[  2.18166692e-04  -3.92243124e-01   4.18880186e+02]\n",
      "[  2.90861160e-04  -4.66692943e-01   1.31776049e+03]\n",
      "[  2.18166692e-04  -3.92243124e-01   4.18880186e+02]\n",
      "[  2.90861160e-04  -4.66692943e-01   1.31776049e+03]\n"
     ]
    },
    {
     "name": "stderr",
     "output_type": "stream",
     "text": [
      " 77%|███████▋  | 967/1261 [02:34<00:47,  6.21it/s]"
     ]
    },
    {
     "name": "stdout",
     "output_type": "stream",
     "text": [
      "[  2.18166692e-04  -3.92243124e-01   4.18880186e+02]\n",
      "[  2.90861160e-04  -4.66692943e-01   1.31776049e+03]\n",
      "[  2.18166692e-04  -3.92243124e-01   4.18880186e+02]\n",
      "[  2.90861160e-04  -4.66692943e-01   1.31776049e+03]\n"
     ]
    },
    {
     "name": "stderr",
     "output_type": "stream",
     "text": [
      " 77%|███████▋  | 969/1261 [02:34<00:43,  6.68it/s]"
     ]
    },
    {
     "name": "stdout",
     "output_type": "stream",
     "text": [
      "[  1.30087638e-04  -3.72739909e-01   4.68376636e+02]\n",
      "[  2.08669608e-04  -3.28094341e-01   1.29719802e+03]\n",
      "[  5.09845824e-05  -2.94613223e-01   4.50660827e+02]\n",
      "[  2.02993404e-04  -3.23231631e-01   1.29716291e+03]\n"
     ]
    },
    {
     "name": "stderr",
     "output_type": "stream",
     "text": [
      " 77%|███████▋  | 971/1261 [02:35<00:45,  6.41it/s]"
     ]
    },
    {
     "name": "stdout",
     "output_type": "stream",
     "text": [
      "[  5.88362631e-05  -2.86769328e-01   4.42354431e+02]\n",
      "[  1.49618781e-04  -2.89340549e-01   1.29851889e+03]\n",
      "[  6.27719323e-06  -2.33018396e-01   4.30909992e+02]\n",
      "[  1.64160579e-04  -2.93246313e-01   1.29614781e+03]\n"
     ]
    },
    {
     "name": "stderr",
     "output_type": "stream",
     "text": [
      " 77%|███████▋  | 973/1261 [02:35<00:43,  6.64it/s]"
     ]
    },
    {
     "name": "stdout",
     "output_type": "stream",
     "text": [
      "[ -2.14192605e-05  -2.02919045e-01   4.22759514e+02]\n",
      "[  9.70389053e-05  -2.26352733e-01   1.28144383e+03]\n",
      "[  9.19411155e-06  -2.29968374e-01   4.30710809e+02]\n",
      "[  1.10152982e-04  -2.33043922e-01   1.27837739e+03]\n"
     ]
    },
    {
     "name": "stderr",
     "output_type": "stream",
     "text": [
      " 77%|███████▋  | 975/1261 [02:35<00:45,  6.31it/s]"
     ]
    },
    {
     "name": "stdout",
     "output_type": "stream",
     "text": [
      "[  3.68148618e-06  -2.10315430e-01   4.20269850e+02]\n",
      "[  1.40286286e-04  -2.72215134e-01   1.29304522e+03]\n",
      "[  2.45379314e-05  -2.22995189e-01   4.22247710e+02]\n",
      "[  9.87047939e-05  -2.17046855e-01   1.27352242e+03]\n"
     ]
    },
    {
     "name": "stderr",
     "output_type": "stream",
     "text": [
      " 77%|███████▋  | 977/1261 [02:36<00:46,  6.17it/s]"
     ]
    },
    {
     "name": "stdout",
     "output_type": "stream",
     "text": [
      "[  3.30452229e-05  -2.30060378e-01   4.26134522e+02]\n",
      "[  1.16119221e-04  -2.31572850e-01   1.27164240e+03]\n",
      "[  5.82367348e-05  -2.39373127e-01   4.22994547e+02]\n",
      "[ -3.03511852e-05  -1.55261175e-01   1.26870330e+03]\n"
     ]
    },
    {
     "name": "stderr",
     "output_type": "stream",
     "text": [
      "\r",
      " 78%|███████▊  | 978/1261 [02:36<00:53,  5.32it/s]"
     ]
    },
    {
     "name": "stdout",
     "output_type": "stream",
     "text": [
      "[  3.79730898e-05  -2.12217340e-01   4.19108169e+02]\n",
      "[ -2.42577845e-05  -1.31310628e-01   1.25244139e+03]\n",
      "[  7.06024828e-05  -2.36685869e-01   4.22740386e+02]\n",
      "[  4.61358135e-05  -1.59367636e-01   1.25036924e+03]\n"
     ]
    },
    {
     "name": "stderr",
     "output_type": "stream",
     "text": [
      " 78%|███████▊  | 980/1261 [02:36<00:51,  5.49it/s]"
     ]
    },
    {
     "name": "stdout",
     "output_type": "stream",
     "text": [
      "[  1.17342291e-04  -2.73406480e-01   4.28234793e+02]\n",
      "[  3.24317113e-05  -1.42523342e-01   1.24434837e+03]\n",
      "[  1.17342291e-04  -2.73406480e-01   4.28234793e+02]\n",
      "[  3.24317113e-05  -1.42523342e-01   1.24434837e+03]\n"
     ]
    },
    {
     "name": "stderr",
     "output_type": "stream",
     "text": [
      " 78%|███████▊  | 982/1261 [02:37<00:59,  4.72it/s]"
     ]
    },
    {
     "name": "stdout",
     "output_type": "stream",
     "text": [
      "[  1.17342291e-04  -2.73406480e-01   4.28234793e+02]\n",
      "[  3.24317113e-05  -1.42523342e-01   1.24434837e+03]\n"
     ]
    },
    {
     "name": "stderr",
     "output_type": "stream",
     "text": [
      "\r",
      " 78%|███████▊  | 983/1261 [02:37<01:01,  4.53it/s]"
     ]
    },
    {
     "name": "stdout",
     "output_type": "stream",
     "text": [
      "[  1.17342291e-04  -2.73406480e-01   4.28234793e+02]\n",
      "[  3.24317113e-05  -1.42523342e-01   1.24434837e+03]\n"
     ]
    },
    {
     "name": "stderr",
     "output_type": "stream",
     "text": [
      "\r",
      " 78%|███████▊  | 984/1261 [02:37<01:01,  4.51it/s]"
     ]
    },
    {
     "name": "stdout",
     "output_type": "stream",
     "text": [
      "[  1.17342291e-04  -2.73406480e-01   4.28234793e+02]\n",
      "[  3.24317113e-05  -1.42523342e-01   1.24434837e+03]\n"
     ]
    },
    {
     "name": "stderr",
     "output_type": "stream",
     "text": [
      "\r",
      " 78%|███████▊  | 985/1261 [02:37<01:00,  4.59it/s]"
     ]
    },
    {
     "name": "stdout",
     "output_type": "stream",
     "text": [
      "[  1.17342291e-04  -2.73406480e-01   4.28234793e+02]\n",
      "[  3.24317113e-05  -1.42523342e-01   1.24434837e+03]\n"
     ]
    },
    {
     "name": "stderr",
     "output_type": "stream",
     "text": [
      "\r",
      " 78%|███████▊  | 986/1261 [02:38<01:03,  4.34it/s]"
     ]
    },
    {
     "name": "stdout",
     "output_type": "stream",
     "text": [
      "[  1.17342291e-04  -2.73406480e-01   4.28234793e+02]\n",
      "[  3.24317113e-05  -1.42523342e-01   1.24434837e+03]\n"
     ]
    },
    {
     "name": "stderr",
     "output_type": "stream",
     "text": [
      "\r",
      " 78%|███████▊  | 987/1261 [02:38<01:05,  4.15it/s]"
     ]
    },
    {
     "name": "stdout",
     "output_type": "stream",
     "text": [
      "[  1.17342291e-04  -2.73406480e-01   4.28234793e+02]\n",
      "[  3.24317113e-05  -1.42523342e-01   1.24434837e+03]\n"
     ]
    },
    {
     "name": "stderr",
     "output_type": "stream",
     "text": [
      "\r",
      " 78%|███████▊  | 988/1261 [02:38<01:06,  4.12it/s]"
     ]
    },
    {
     "name": "stdout",
     "output_type": "stream",
     "text": [
      "[  1.17342291e-04  -2.73406480e-01   4.28234793e+02]\n",
      "[  3.24317113e-05  -1.42523342e-01   1.24434837e+03]\n"
     ]
    },
    {
     "name": "stderr",
     "output_type": "stream",
     "text": [
      "\r",
      " 78%|███████▊  | 989/1261 [02:39<01:07,  4.06it/s]"
     ]
    },
    {
     "name": "stdout",
     "output_type": "stream",
     "text": [
      "[  1.17342291e-04  -2.73406480e-01   4.28234793e+02]\n",
      "[  3.24317113e-05  -1.42523342e-01   1.24434837e+03]\n"
     ]
    },
    {
     "name": "stderr",
     "output_type": "stream",
     "text": [
      "\r",
      " 79%|███████▊  | 990/1261 [02:39<01:08,  3.97it/s]"
     ]
    },
    {
     "name": "stdout",
     "output_type": "stream",
     "text": [
      "[  1.17342291e-04  -2.73406480e-01   4.28234793e+02]\n",
      "[  3.24317113e-05  -1.42523342e-01   1.24434837e+03]\n"
     ]
    },
    {
     "name": "stderr",
     "output_type": "stream",
     "text": [
      "\r",
      " 79%|███████▊  | 991/1261 [02:39<01:09,  3.89it/s]"
     ]
    },
    {
     "name": "stdout",
     "output_type": "stream",
     "text": [
      "[  1.17342291e-04  -2.73406480e-01   4.28234793e+02]\n",
      "[  3.24317113e-05  -1.42523342e-01   1.24434837e+03]\n"
     ]
    },
    {
     "name": "stderr",
     "output_type": "stream",
     "text": [
      "\r",
      " 79%|███████▊  | 992/1261 [02:39<01:08,  3.92it/s]"
     ]
    },
    {
     "name": "stdout",
     "output_type": "stream",
     "text": [
      "[  1.17342291e-04  -2.73406480e-01   4.28234793e+02]\n",
      "[  3.24317113e-05  -1.42523342e-01   1.24434837e+03]\n"
     ]
    },
    {
     "name": "stderr",
     "output_type": "stream",
     "text": [
      "\r",
      " 79%|███████▊  | 993/1261 [02:40<01:10,  3.79it/s]"
     ]
    },
    {
     "name": "stdout",
     "output_type": "stream",
     "text": [
      "[  1.17342291e-04  -2.73406480e-01   4.28234793e+02]\n",
      "[  3.24317113e-05  -1.42523342e-01   1.24434837e+03]\n"
     ]
    },
    {
     "name": "stderr",
     "output_type": "stream",
     "text": [
      "\r",
      " 79%|███████▉  | 994/1261 [02:40<01:15,  3.53it/s]"
     ]
    },
    {
     "name": "stdout",
     "output_type": "stream",
     "text": [
      "[  1.17342291e-04  -2.73406480e-01   4.28234793e+02]\n",
      "[  3.24317113e-05  -1.42523342e-01   1.24434837e+03]\n"
     ]
    },
    {
     "name": "stderr",
     "output_type": "stream",
     "text": [
      "\r",
      " 79%|███████▉  | 995/1261 [02:40<01:14,  3.59it/s]"
     ]
    },
    {
     "name": "stdout",
     "output_type": "stream",
     "text": [
      "[  1.17342291e-04  -2.73406480e-01   4.28234793e+02]\n",
      "[  3.24317113e-05  -1.42523342e-01   1.24434837e+03]\n"
     ]
    },
    {
     "name": "stderr",
     "output_type": "stream",
     "text": [
      "\r",
      " 79%|███████▉  | 996/1261 [02:40<01:12,  3.66it/s]"
     ]
    },
    {
     "name": "stdout",
     "output_type": "stream",
     "text": [
      "[  1.17342291e-04  -2.73406480e-01   4.28234793e+02]\n",
      "[  3.24317113e-05  -1.42523342e-01   1.24434837e+03]\n"
     ]
    },
    {
     "name": "stderr",
     "output_type": "stream",
     "text": [
      "\r",
      " 79%|███████▉  | 997/1261 [02:41<01:13,  3.57it/s]"
     ]
    },
    {
     "name": "stdout",
     "output_type": "stream",
     "text": [
      "[  1.17342291e-04  -2.73406480e-01   4.28234793e+02]\n",
      "[  3.24317113e-05  -1.42523342e-01   1.24434837e+03]\n"
     ]
    },
    {
     "name": "stderr",
     "output_type": "stream",
     "text": [
      "\r",
      " 79%|███████▉  | 998/1261 [02:41<01:17,  3.40it/s]"
     ]
    },
    {
     "name": "stdout",
     "output_type": "stream",
     "text": [
      "[  1.40398711e-04  -3.39809425e-01   4.33569416e+02]\n",
      "[  6.00640374e-05  -2.35114779e-01   1.26328077e+03]\n"
     ]
    },
    {
     "name": "stderr",
     "output_type": "stream",
     "text": [
      "\r",
      " 79%|███████▉  | 999/1261 [02:41<01:13,  3.56it/s]"
     ]
    },
    {
     "name": "stdout",
     "output_type": "stream",
     "text": [
      "[  1.40398711e-04  -3.39809425e-01   4.33569416e+02]\n",
      "[  6.00640374e-05  -2.35114779e-01   1.26328077e+03]\n"
     ]
    },
    {
     "name": "stderr",
     "output_type": "stream",
     "text": [
      "\r",
      " 79%|███████▉  | 1000/1261 [02:42<01:11,  3.66it/s]"
     ]
    },
    {
     "name": "stdout",
     "output_type": "stream",
     "text": [
      "[  1.51766631e-04  -3.64363085e-01   4.25039444e+02]\n",
      "[ -1.08161906e-04  -1.33323440e-01   1.25265805e+03]\n"
     ]
    },
    {
     "name": "stderr",
     "output_type": "stream",
     "text": [
      "\r",
      " 79%|███████▉  | 1001/1261 [02:42<01:09,  3.76it/s]"
     ]
    },
    {
     "name": "stdout",
     "output_type": "stream",
     "text": [
      "[  1.51766631e-04  -3.64363085e-01   4.25039444e+02]\n",
      "[ -1.08161906e-04  -1.33323440e-01   1.25265805e+03]\n"
     ]
    },
    {
     "name": "stderr",
     "output_type": "stream",
     "text": [
      "\r",
      " 79%|███████▉  | 1002/1261 [02:42<01:09,  3.75it/s]"
     ]
    },
    {
     "name": "stdout",
     "output_type": "stream",
     "text": [
      "[  1.51766631e-04  -3.64363085e-01   4.25039444e+02]\n",
      "[ -1.08161906e-04  -1.33323440e-01   1.25265805e+03]\n"
     ]
    },
    {
     "name": "stderr",
     "output_type": "stream",
     "text": [
      "\r",
      " 80%|███████▉  | 1003/1261 [02:42<01:10,  3.68it/s]"
     ]
    },
    {
     "name": "stdout",
     "output_type": "stream",
     "text": [
      "[  1.32764737e-04  -3.14955672e-01   3.71653475e+02]\n",
      "[ -1.62323542e-04  -6.68045897e-02   1.26787867e+03]\n"
     ]
    },
    {
     "name": "stderr",
     "output_type": "stream",
     "text": [
      "\r",
      " 80%|███████▉  | 1004/1261 [02:43<01:05,  3.92it/s]"
     ]
    },
    {
     "name": "stdout",
     "output_type": "stream",
     "text": [
      "[  1.33354611e-04  -2.42051998e-01   3.11047867e+02]\n",
      "[ -1.78328429e-04  -6.13875535e-02   1.27670939e+03]\n",
      "[  1.33354611e-04  -2.42051998e-01   3.11047867e+02]\n",
      "[ -1.78328429e-04  -6.13875535e-02   1.27670939e+03]\n"
     ]
    },
    {
     "name": "stderr",
     "output_type": "stream",
     "text": [
      " 80%|███████▉  | 1006/1261 [02:43<01:01,  4.12it/s]"
     ]
    },
    {
     "name": "stdout",
     "output_type": "stream",
     "text": [
      "[  1.33354611e-04  -2.42051998e-01   3.11047867e+02]\n",
      "[ -1.78328429e-04  -6.13875535e-02   1.27670939e+03]\n"
     ]
    },
    {
     "name": "stderr",
     "output_type": "stream",
     "text": [
      "\r",
      " 80%|███████▉  | 1007/1261 [02:43<01:07,  3.77it/s]"
     ]
    },
    {
     "name": "stdout",
     "output_type": "stream",
     "text": [
      "[  1.33354611e-04  -2.42051998e-01   3.11047867e+02]\n",
      "[ -1.78328429e-04  -6.13875535e-02   1.27670939e+03]\n"
     ]
    },
    {
     "name": "stderr",
     "output_type": "stream",
     "text": [
      "\r",
      " 80%|███████▉  | 1008/1261 [02:44<01:05,  3.86it/s]"
     ]
    },
    {
     "name": "stdout",
     "output_type": "stream",
     "text": [
      "[  1.33354611e-04  -2.42051998e-01   3.11047867e+02]\n",
      "[ -1.78328429e-04  -6.13875535e-02   1.27670939e+03]\n"
     ]
    },
    {
     "name": "stderr",
     "output_type": "stream",
     "text": [
      "\r",
      " 80%|████████  | 1009/1261 [02:44<01:01,  4.10it/s]"
     ]
    },
    {
     "name": "stdout",
     "output_type": "stream",
     "text": [
      "[  1.33354611e-04  -2.42051998e-01   3.11047867e+02]\n",
      "[ -1.78328429e-04  -6.13875535e-02   1.27670939e+03]\n"
     ]
    },
    {
     "name": "stderr",
     "output_type": "stream",
     "text": [
      "\r",
      " 80%|████████  | 1010/1261 [02:44<01:02,  3.99it/s]"
     ]
    },
    {
     "name": "stdout",
     "output_type": "stream",
     "text": [
      "[  1.33354611e-04  -2.42051998e-01   3.11047867e+02]\n",
      "[ -1.78328429e-04  -6.13875535e-02   1.27670939e+03]\n"
     ]
    },
    {
     "name": "stderr",
     "output_type": "stream",
     "text": [
      "\r",
      " 80%|████████  | 1011/1261 [02:44<01:00,  4.12it/s]"
     ]
    },
    {
     "name": "stdout",
     "output_type": "stream",
     "text": [
      "[  1.33354611e-04  -2.42051998e-01   3.11047867e+02]\n",
      "[ -1.78328429e-04  -6.13875535e-02   1.27670939e+03]\n"
     ]
    },
    {
     "name": "stderr",
     "output_type": "stream",
     "text": [
      "\r",
      " 80%|████████  | 1012/1261 [02:45<01:00,  4.09it/s]"
     ]
    },
    {
     "name": "stdout",
     "output_type": "stream",
     "text": [
      "[  1.33354611e-04  -2.42051998e-01   3.11047867e+02]\n",
      "[ -1.78328429e-04  -6.13875535e-02   1.27670939e+03]\n"
     ]
    },
    {
     "name": "stderr",
     "output_type": "stream",
     "text": [
      "\r",
      " 80%|████████  | 1013/1261 [02:45<00:59,  4.17it/s]"
     ]
    },
    {
     "name": "stdout",
     "output_type": "stream",
     "text": [
      "[  1.33354611e-04  -2.42051998e-01   3.11047867e+02]\n",
      "[ -1.78328429e-04  -6.13875535e-02   1.27670939e+03]\n"
     ]
    },
    {
     "name": "stderr",
     "output_type": "stream",
     "text": [
      "\r",
      " 80%|████████  | 1014/1261 [02:45<00:56,  4.34it/s]"
     ]
    },
    {
     "name": "stdout",
     "output_type": "stream",
     "text": [
      "[  1.33354611e-04  -2.42051998e-01   3.11047867e+02]\n",
      "[ -1.78328429e-04  -6.13875535e-02   1.27670939e+03]\n"
     ]
    },
    {
     "name": "stderr",
     "output_type": "stream",
     "text": [
      "\r",
      " 80%|████████  | 1015/1261 [02:45<01:02,  3.96it/s]"
     ]
    },
    {
     "name": "stdout",
     "output_type": "stream",
     "text": [
      "[  1.81738371e-04  -2.12325901e-01   2.68417124e+02]\n",
      "[  1.77317876e-04  -3.27826673e-01   1.26910295e+03]\n"
     ]
    },
    {
     "name": "stderr",
     "output_type": "stream",
     "text": [
      "\r",
      " 81%|████████  | 1016/1261 [02:46<01:04,  3.80it/s]"
     ]
    },
    {
     "name": "stdout",
     "output_type": "stream",
     "text": [
      "[  9.34215639e-05  -1.31411912e-01   2.50862266e+02]\n",
      "[  1.27731031e-04  -3.11026961e-01   1.26955922e+03]\n"
     ]
    },
    {
     "name": "stderr",
     "output_type": "stream",
     "text": [
      "\r",
      " 81%|████████  | 1017/1261 [02:46<01:01,  3.94it/s]"
     ]
    },
    {
     "name": "stdout",
     "output_type": "stream",
     "text": [
      "[  9.47890555e-05  -1.24990596e-01   2.46382949e+02]\n",
      "[  1.68779937e-04  -3.38313075e-01   1.27422685e+03]\n"
     ]
    },
    {
     "name": "stderr",
     "output_type": "stream",
     "text": [
      "\r",
      " 81%|████████  | 1018/1261 [02:46<00:59,  4.11it/s]"
     ]
    },
    {
     "name": "stdout",
     "output_type": "stream",
     "text": [
      "[  1.12279923e-04  -1.56789904e-01   2.60547524e+02]\n",
      "[  1.90383898e-04  -3.46359224e-01   1.26967793e+03]\n"
     ]
    },
    {
     "name": "stderr",
     "output_type": "stream",
     "text": [
      "\r",
      " 81%|████████  | 1019/1261 [02:46<00:59,  4.08it/s]"
     ]
    },
    {
     "name": "stdout",
     "output_type": "stream",
     "text": [
      "[  1.60377042e-04  -1.91350231e-01   2.65823467e+02]\n",
      "[  2.04958844e-04  -3.56847243e-01   1.27269014e+03]\n"
     ]
    },
    {
     "name": "stderr",
     "output_type": "stream",
     "text": [
      "\r",
      " 81%|████████  | 1020/1261 [02:46<00:56,  4.24it/s]"
     ]
    },
    {
     "name": "stdout",
     "output_type": "stream",
     "text": [
      "[  1.06053473e-04  -1.37931849e-01   2.50297646e+02]\n",
      "[  1.96452947e-04  -3.57089779e-01   1.28066340e+03]\n",
      "[ -9.09523369e-06  -1.00681762e-01   2.73877161e+02]\n",
      "[  1.58429624e-04  -3.12585618e-01   1.26236984e+03]\n"
     ]
    },
    {
     "name": "stderr",
     "output_type": "stream",
     "text": [
      " 81%|████████  | 1022/1261 [02:47<00:51,  4.63it/s]"
     ]
    },
    {
     "name": "stdout",
     "output_type": "stream",
     "text": [
      "[  6.32847509e-06  -1.00524362e-01   2.62674209e+02]\n",
      "[  1.81521847e-04  -3.42957033e-01   1.27562752e+03]\n"
     ]
    },
    {
     "name": "stderr",
     "output_type": "stream",
     "text": [
      "\r",
      " 81%|████████  | 1023/1261 [02:47<00:52,  4.53it/s]"
     ]
    },
    {
     "name": "stdout",
     "output_type": "stream",
     "text": [
      "[  1.17000123e-05  -8.90442214e-02   2.45707499e+02]\n",
      "[  1.59553567e-04  -3.34945998e-01   1.28161003e+03]\n"
     ]
    },
    {
     "name": "stderr",
     "output_type": "stream",
     "text": [
      "\r",
      " 81%|████████  | 1024/1261 [02:47<00:51,  4.56it/s]"
     ]
    },
    {
     "name": "stdout",
     "output_type": "stream",
     "text": [
      "[ -4.94366274e-05  -2.94601163e-02   2.27914360e+02]\n",
      "[  1.47327968e-04  -3.23377917e-01   1.28100772e+03]\n"
     ]
    },
    {
     "name": "stderr",
     "output_type": "stream",
     "text": [
      "\r",
      " 81%|████████▏ | 1025/1261 [02:48<00:56,  4.15it/s]"
     ]
    },
    {
     "name": "stdout",
     "output_type": "stream",
     "text": [
      "[ -6.68708492e-05   5.21604529e-03   2.09037572e+02]\n",
      "[  1.35612556e-04  -3.14778032e-01   1.28305469e+03]\n"
     ]
    },
    {
     "name": "stderr",
     "output_type": "stream",
     "text": [
      "\r",
      " 81%|████████▏ | 1026/1261 [02:48<00:57,  4.12it/s]"
     ]
    },
    {
     "name": "stdout",
     "output_type": "stream",
     "text": [
      "[ -6.13686381e-05  -2.04500743e-02   2.28402091e+02]\n",
      "[  1.40181120e-04  -2.87537030e-01   1.25713070e+03]\n"
     ]
    },
    {
     "name": "stderr",
     "output_type": "stream",
     "text": [
      "\r",
      " 81%|████████▏ | 1027/1261 [02:48<00:56,  4.12it/s]"
     ]
    },
    {
     "name": "stdout",
     "output_type": "stream",
     "text": [
      "[ -6.13686381e-05  -2.04500743e-02   2.28402091e+02]\n",
      "[  1.40181120e-04  -2.87537030e-01   1.25713070e+03]\n"
     ]
    },
    {
     "name": "stderr",
     "output_type": "stream",
     "text": [
      "\r",
      " 82%|████████▏ | 1028/1261 [02:48<00:54,  4.31it/s]"
     ]
    },
    {
     "name": "stdout",
     "output_type": "stream",
     "text": [
      "[ -6.13686381e-05  -2.04500743e-02   2.28402091e+02]\n",
      "[  1.40181120e-04  -2.87537030e-01   1.25713070e+03]\n"
     ]
    },
    {
     "name": "stderr",
     "output_type": "stream",
     "text": [
      "\r",
      " 82%|████████▏ | 1029/1261 [02:49<00:58,  3.97it/s]"
     ]
    },
    {
     "name": "stdout",
     "output_type": "stream",
     "text": [
      "[ -6.13686381e-05  -2.04500743e-02   2.28402091e+02]\n",
      "[  1.40181120e-04  -2.87537030e-01   1.25713070e+03]\n"
     ]
    },
    {
     "name": "stderr",
     "output_type": "stream",
     "text": [
      "\r",
      " 82%|████████▏ | 1030/1261 [02:49<00:56,  4.08it/s]"
     ]
    },
    {
     "name": "stdout",
     "output_type": "stream",
     "text": [
      "[ -6.13686381e-05  -2.04500743e-02   2.28402091e+02]\n",
      "[  1.40181120e-04  -2.87537030e-01   1.25713070e+03]\n"
     ]
    },
    {
     "name": "stderr",
     "output_type": "stream",
     "text": [
      "\r",
      " 82%|████████▏ | 1031/1261 [02:49<00:55,  4.17it/s]"
     ]
    },
    {
     "name": "stdout",
     "output_type": "stream",
     "text": [
      "[ -6.13686381e-05  -2.04500743e-02   2.28402091e+02]\n",
      "[  1.40181120e-04  -2.87537030e-01   1.25713070e+03]\n"
     ]
    },
    {
     "name": "stderr",
     "output_type": "stream",
     "text": [
      "\r",
      " 82%|████████▏ | 1032/1261 [02:49<00:54,  4.18it/s]"
     ]
    },
    {
     "name": "stdout",
     "output_type": "stream",
     "text": [
      "[ -6.13686381e-05  -2.04500743e-02   2.28402091e+02]\n",
      "[  1.40181120e-04  -2.87537030e-01   1.25713070e+03]\n"
     ]
    },
    {
     "name": "stderr",
     "output_type": "stream",
     "text": [
      "\r",
      " 82%|████████▏ | 1033/1261 [02:50<00:55,  4.10it/s]"
     ]
    },
    {
     "name": "stdout",
     "output_type": "stream",
     "text": [
      "[ -6.13686381e-05  -2.04500743e-02   2.28402091e+02]\n",
      "[  1.40181120e-04  -2.87537030e-01   1.25713070e+03]\n"
     ]
    },
    {
     "name": "stderr",
     "output_type": "stream",
     "text": [
      "\r",
      " 82%|████████▏ | 1034/1261 [02:50<00:57,  3.92it/s]"
     ]
    },
    {
     "name": "stdout",
     "output_type": "stream",
     "text": [
      "[ -6.13686381e-05  -2.04500743e-02   2.28402091e+02]\n",
      "[  1.40181120e-04  -2.87537030e-01   1.25713070e+03]\n"
     ]
    },
    {
     "name": "stderr",
     "output_type": "stream",
     "text": [
      "\r",
      " 82%|████████▏ | 1035/1261 [02:50<00:55,  4.09it/s]"
     ]
    },
    {
     "name": "stdout",
     "output_type": "stream",
     "text": [
      "[ -6.13686381e-05  -2.04500743e-02   2.28402091e+02]\n",
      "[  1.40181120e-04  -2.87537030e-01   1.25713070e+03]\n"
     ]
    },
    {
     "name": "stderr",
     "output_type": "stream",
     "text": [
      "\r",
      " 82%|████████▏ | 1036/1261 [02:50<00:53,  4.20it/s]"
     ]
    },
    {
     "name": "stdout",
     "output_type": "stream",
     "text": [
      "[ -6.13686381e-05  -2.04500743e-02   2.28402091e+02]\n",
      "[  1.40181120e-04  -2.87537030e-01   1.25713070e+03]\n"
     ]
    },
    {
     "name": "stderr",
     "output_type": "stream",
     "text": [
      "\r",
      " 82%|████████▏ | 1037/1261 [02:51<00:56,  3.97it/s]"
     ]
    },
    {
     "name": "stdout",
     "output_type": "stream",
     "text": [
      "[ -6.13686381e-05  -2.04500743e-02   2.28402091e+02]\n",
      "[  1.40181120e-04  -2.87537030e-01   1.25713070e+03]\n"
     ]
    },
    {
     "name": "stderr",
     "output_type": "stream",
     "text": [
      "\r",
      " 82%|████████▏ | 1038/1261 [02:51<00:56,  3.95it/s]"
     ]
    },
    {
     "name": "stdout",
     "output_type": "stream",
     "text": [
      "[ -6.13686381e-05  -2.04500743e-02   2.28402091e+02]\n",
      "[  1.40181120e-04  -2.87537030e-01   1.25713070e+03]\n"
     ]
    },
    {
     "name": "stderr",
     "output_type": "stream",
     "text": [
      "\r",
      " 82%|████████▏ | 1039/1261 [02:51<00:55,  4.01it/s]"
     ]
    },
    {
     "name": "stdout",
     "output_type": "stream",
     "text": [
      "[ -6.13686381e-05  -2.04500743e-02   2.28402091e+02]\n",
      "[  1.40181120e-04  -2.87537030e-01   1.25713070e+03]\n"
     ]
    },
    {
     "name": "stderr",
     "output_type": "stream",
     "text": [
      "\r",
      " 82%|████████▏ | 1040/1261 [02:51<00:55,  3.98it/s]"
     ]
    },
    {
     "name": "stdout",
     "output_type": "stream",
     "text": [
      "[ -6.13686381e-05  -2.04500743e-02   2.28402091e+02]\n",
      "[  1.40181120e-04  -2.87537030e-01   1.25713070e+03]\n"
     ]
    },
    {
     "name": "stderr",
     "output_type": "stream",
     "text": [
      "\r",
      " 83%|████████▎ | 1041/1261 [02:52<01:00,  3.64it/s]"
     ]
    },
    {
     "name": "stdout",
     "output_type": "stream",
     "text": [
      "[ -6.13686381e-05  -2.04500743e-02   2.28402091e+02]\n",
      "[  1.40181120e-04  -2.87537030e-01   1.25713070e+03]\n"
     ]
    },
    {
     "name": "stderr",
     "output_type": "stream",
     "text": [
      "\r",
      " 83%|████████▎ | 1042/1261 [02:52<00:59,  3.65it/s]"
     ]
    },
    {
     "name": "stdout",
     "output_type": "stream",
     "text": [
      "[ -6.13686381e-05  -2.04500743e-02   2.28402091e+02]\n",
      "[  1.40181120e-04  -2.87537030e-01   1.25713070e+03]\n"
     ]
    },
    {
     "name": "stderr",
     "output_type": "stream",
     "text": [
      "\r",
      " 83%|████████▎ | 1043/1261 [02:52<00:56,  3.87it/s]"
     ]
    },
    {
     "name": "stdout",
     "output_type": "stream",
     "text": [
      "[  5.26605889e-05  -2.75215880e-01   3.38279656e+02]\n",
      "[  2.06150634e-04  -3.08283891e-01   1.24382550e+03]\n"
     ]
    },
    {
     "name": "stderr",
     "output_type": "stream",
     "text": [
      "\r",
      " 83%|████████▎ | 1044/1261 [02:52<00:57,  3.77it/s]"
     ]
    },
    {
     "name": "stdout",
     "output_type": "stream",
     "text": [
      "[  5.26605889e-05  -2.75215880e-01   3.38279656e+02]\n",
      "[  2.06150634e-04  -3.08283891e-01   1.24382550e+03]\n"
     ]
    },
    {
     "name": "stderr",
     "output_type": "stream",
     "text": [
      "\r",
      " 83%|████████▎ | 1045/1261 [02:53<00:57,  3.78it/s]"
     ]
    },
    {
     "name": "stdout",
     "output_type": "stream",
     "text": [
      "[  5.26605889e-05  -2.75215880e-01   3.38279656e+02]\n",
      "[  2.06150634e-04  -3.08283891e-01   1.24382550e+03]\n"
     ]
    },
    {
     "name": "stderr",
     "output_type": "stream",
     "text": [
      "\r",
      " 83%|████████▎ | 1046/1261 [02:53<00:56,  3.82it/s]"
     ]
    },
    {
     "name": "stdout",
     "output_type": "stream",
     "text": [
      "[  5.26605889e-05  -2.75215880e-01   3.38279656e+02]\n",
      "[  2.06150634e-04  -3.08283891e-01   1.24382550e+03]\n"
     ]
    },
    {
     "name": "stderr",
     "output_type": "stream",
     "text": [
      "\r",
      " 83%|████████▎ | 1047/1261 [02:53<00:59,  3.59it/s]"
     ]
    },
    {
     "name": "stdout",
     "output_type": "stream",
     "text": [
      "[  5.26605889e-05  -2.75215880e-01   3.38279656e+02]\n",
      "[  2.06150634e-04  -3.08283891e-01   1.24382550e+03]\n"
     ]
    },
    {
     "name": "stderr",
     "output_type": "stream",
     "text": [
      "\r",
      " 83%|████████▎ | 1048/1261 [02:54<00:58,  3.65it/s]"
     ]
    },
    {
     "name": "stdout",
     "output_type": "stream",
     "text": [
      "[  5.26605889e-05  -2.75215880e-01   3.38279656e+02]\n",
      "[  2.06150634e-04  -3.08283891e-01   1.24382550e+03]\n"
     ]
    },
    {
     "name": "stderr",
     "output_type": "stream",
     "text": [
      "\r",
      " 83%|████████▎ | 1049/1261 [02:54<00:54,  3.93it/s]"
     ]
    },
    {
     "name": "stdout",
     "output_type": "stream",
     "text": [
      "[  5.26605889e-05  -2.75215880e-01   3.38279656e+02]\n",
      "[  2.06150634e-04  -3.08283891e-01   1.24382550e+03]\n"
     ]
    },
    {
     "name": "stderr",
     "output_type": "stream",
     "text": [
      "\r",
      " 83%|████████▎ | 1050/1261 [02:54<00:52,  4.03it/s]"
     ]
    },
    {
     "name": "stdout",
     "output_type": "stream",
     "text": [
      "[  5.26605889e-05  -2.75215880e-01   3.38279656e+02]\n",
      "[  2.06150634e-04  -3.08283891e-01   1.24382550e+03]\n",
      "[  5.26605889e-05  -2.75215880e-01   3.38279656e+02]\n",
      "[  2.06150634e-04  -3.08283891e-01   1.24382550e+03]\n"
     ]
    },
    {
     "name": "stderr",
     "output_type": "stream",
     "text": [
      " 84%|████████▎ | 1053/1261 [02:54<00:41,  5.06it/s]"
     ]
    },
    {
     "name": "stdout",
     "output_type": "stream",
     "text": [
      "[  5.26605889e-05  -2.75215880e-01   3.38279656e+02]\n",
      "[  2.06150634e-04  -3.08283891e-01   1.24382550e+03]\n",
      "[  5.26605889e-05  -2.75215880e-01   3.38279656e+02]\n",
      "[  2.06150634e-04  -3.08283891e-01   1.24382550e+03]\n"
     ]
    },
    {
     "name": "stderr",
     "output_type": "stream",
     "text": [
      "\r",
      " 84%|████████▎ | 1054/1261 [02:55<00:44,  4.67it/s]"
     ]
    },
    {
     "name": "stdout",
     "output_type": "stream",
     "text": [
      "[  5.26605889e-05  -2.75215880e-01   3.38279656e+02]\n",
      "[  2.06150634e-04  -3.08283891e-01   1.24382550e+03]\n"
     ]
    },
    {
     "name": "stderr",
     "output_type": "stream",
     "text": [
      " 84%|████████▎ | 1056/1261 [02:55<00:39,  5.17it/s]"
     ]
    },
    {
     "name": "stdout",
     "output_type": "stream",
     "text": [
      "[  5.26605889e-05  -2.75215880e-01   3.38279656e+02]\n",
      "[  2.06150634e-04  -3.08283891e-01   1.24382550e+03]\n",
      "[ -8.75289300e-06  -3.22224931e-01   4.14150307e+02]\n",
      "[  1.50226042e-04  -3.11414521e-01   1.25669402e+03]\n"
     ]
    },
    {
     "name": "stderr",
     "output_type": "stream",
     "text": [
      "\r",
      " 84%|████████▍ | 1057/1261 [02:55<00:38,  5.26it/s]"
     ]
    },
    {
     "name": "stdout",
     "output_type": "stream",
     "text": [
      "[  9.23771466e-05  -4.38937527e-01   4.56106698e+02]\n",
      "[  1.81642003e-04  -3.24643257e-01   1.24970603e+03]\n",
      "[  8.56831320e-05  -4.29792390e-01   4.58044105e+02]\n",
      "[  1.68027439e-04  -3.07597736e-01   1.24510747e+03]\n"
     ]
    },
    {
     "name": "stderr",
     "output_type": "stream",
     "text": [
      " 84%|████████▍ | 1060/1261 [02:56<00:35,  5.61it/s]"
     ]
    },
    {
     "name": "stdout",
     "output_type": "stream",
     "text": [
      "[  1.39755999e-04  -4.85118232e-01   4.82438110e+02]\n",
      "[  1.62917491e-04  -2.80129963e-01   1.22681935e+03]\n",
      "[  1.39755999e-04  -4.85118232e-01   4.82438110e+02]\n",
      "[  1.62917491e-04  -2.80129963e-01   1.22681935e+03]\n"
     ]
    },
    {
     "name": "stderr",
     "output_type": "stream",
     "text": [
      "\r",
      " 84%|████████▍ | 1061/1261 [02:56<00:34,  5.74it/s]"
     ]
    },
    {
     "name": "stdout",
     "output_type": "stream",
     "text": [
      "[  1.39755999e-04  -4.85118232e-01   4.82438110e+02]\n",
      "[  1.62917491e-04  -2.80129963e-01   1.22681935e+03]\n"
     ]
    },
    {
     "name": "stderr",
     "output_type": "stream",
     "text": [
      "\r",
      " 84%|████████▍ | 1062/1261 [02:56<00:36,  5.46it/s]"
     ]
    },
    {
     "name": "stdout",
     "output_type": "stream",
     "text": [
      "[  1.39755999e-04  -4.85118232e-01   4.82438110e+02]\n",
      "[  1.62917491e-04  -2.80129963e-01   1.22681935e+03]\n",
      "[  1.91123322e-04  -4.67829877e-01   4.73353185e+02]\n",
      "[  2.39816512e-04  -3.39800853e-01   1.24440676e+03]\n"
     ]
    },
    {
     "name": "stderr",
     "output_type": "stream",
     "text": [
      " 84%|████████▍ | 1064/1261 [02:56<00:34,  5.73it/s]"
     ]
    },
    {
     "name": "stdout",
     "output_type": "stream",
     "text": [
      "[  1.86765348e-04  -4.33988224e-01   4.51445127e+02]\n",
      "[  1.43784764e-04  -2.65040126e-01   1.23951344e+03]\n"
     ]
    },
    {
     "name": "stderr",
     "output_type": "stream",
     "text": [
      "\r",
      " 84%|████████▍ | 1065/1261 [02:57<00:40,  4.80it/s]"
     ]
    },
    {
     "name": "stdout",
     "output_type": "stream",
     "text": [
      "[  1.86765348e-04  -4.33988224e-01   4.51445127e+02]\n",
      "[  1.43784764e-04  -2.65040126e-01   1.23951344e+03]\n"
     ]
    },
    {
     "name": "stderr",
     "output_type": "stream",
     "text": [
      "\r",
      " 85%|████████▍ | 1066/1261 [02:57<00:40,  4.80it/s]"
     ]
    },
    {
     "name": "stdout",
     "output_type": "stream",
     "text": [
      "[  1.86765348e-04  -4.33988224e-01   4.51445127e+02]\n",
      "[  1.43784764e-04  -2.65040126e-01   1.23951344e+03]\n",
      "[  1.32242793e-04  -3.25946546e-01   3.99876617e+02]\n",
      "[  1.46261562e-04  -3.08598406e-01   1.27633627e+03]"
     ]
    },
    {
     "name": "stderr",
     "output_type": "stream",
     "text": [
      "\r",
      " 85%|████████▍ | 1067/1261 [02:57<00:39,  4.89it/s]"
     ]
    },
    {
     "name": "stdout",
     "output_type": "stream",
     "text": [
      "\n"
     ]
    },
    {
     "name": "stderr",
     "output_type": "stream",
     "text": [
      " 85%|████████▍ | 1069/1261 [02:58<00:36,  5.23it/s]"
     ]
    },
    {
     "name": "stdout",
     "output_type": "stream",
     "text": [
      "[  1.11130461e-04  -2.95262706e-01   3.89753278e+02]\n",
      "[  1.41313832e-04  -3.05892772e-01   1.27859737e+03]\n",
      "[  1.11130461e-04  -2.95262706e-01   3.89753278e+02]\n",
      "[  1.41313832e-04  -3.05892772e-01   1.27859737e+03]\n"
     ]
    },
    {
     "name": "stderr",
     "output_type": "stream",
     "text": [
      " 85%|████████▍ | 1071/1261 [02:58<00:35,  5.33it/s]"
     ]
    },
    {
     "name": "stdout",
     "output_type": "stream",
     "text": [
      "[  7.34022091e-05  -2.90013472e-01   4.05379935e+02]\n",
      "[  1.76199750e-04  -3.19120810e-01   1.27177843e+03]\n",
      "[  7.58264398e-05  -2.70638342e-01   3.90770298e+02]\n",
      "[  1.39252632e-04  -2.95824999e-01   1.27749493e+03]\n"
     ]
    },
    {
     "name": "stderr",
     "output_type": "stream",
     "text": [
      "\r",
      " 85%|████████▌ | 1072/1261 [02:58<00:35,  5.39it/s]"
     ]
    },
    {
     "name": "stdout",
     "output_type": "stream",
     "text": [
      "[  1.21474399e-04  -3.19276199e-01   4.07559591e+02]\n",
      "[  1.97022164e-04  -3.43394681e-01   1.28178963e+03]\n"
     ]
    },
    {
     "name": "stderr",
     "output_type": "stream",
     "text": [
      "\r",
      " 85%|████████▌ | 1073/1261 [02:58<00:38,  4.86it/s]"
     ]
    },
    {
     "name": "stdout",
     "output_type": "stream",
     "text": [
      "[  6.14540492e-05  -2.57395865e-01   3.91967324e+02]\n",
      "[  2.07477516e-04  -3.52923811e-01   1.28863916e+03]\n"
     ]
    },
    {
     "name": "stderr",
     "output_type": "stream",
     "text": [
      "\r",
      " 85%|████████▌ | 1074/1261 [02:59<00:38,  4.84it/s]"
     ]
    },
    {
     "name": "stdout",
     "output_type": "stream",
     "text": [
      "[  8.84554360e-05  -2.87253822e-01   4.02833261e+02]\n",
      "[  1.80792420e-04  -3.41611155e-01   1.28846862e+03]\n",
      "[  6.70706788e-05  -2.71296187e-01   4.04691176e+02]\n",
      "[  2.20891208e-04  -3.76739722e-01   1.29404339e+03]\n"
     ]
    },
    {
     "name": "stderr",
     "output_type": "stream",
     "text": [
      " 85%|████████▌ | 1076/1261 [02:59<00:36,  5.00it/s]"
     ]
    },
    {
     "name": "stdout",
     "output_type": "stream",
     "text": [
      "[  9.70292331e-05  -2.90457090e-01   4.06109802e+02]\n",
      "[  1.50132794e-04  -3.44067961e-01   1.29988110e+03]\n",
      "[  9.70292331e-05  -2.90457090e-01   4.06109802e+02]\n",
      "[  1.50132794e-04  -3.44067961e-01   1.29988110e+03]\n"
     ]
    },
    {
     "name": "stderr",
     "output_type": "stream",
     "text": [
      " 86%|████████▌ | 1079/1261 [02:59<00:33,  5.47it/s]"
     ]
    },
    {
     "name": "stdout",
     "output_type": "stream",
     "text": [
      "[  9.70292331e-05  -2.90457090e-01   4.06109802e+02]\n",
      "[  1.50132794e-04  -3.44067961e-01   1.29988110e+03]\n",
      "[  1.18692615e-04  -3.27161486e-01   4.34070454e+02]\n",
      "[  2.49479941e-04  -4.22034304e-01   1.31197182e+03]\n"
     ]
    },
    {
     "name": "stderr",
     "output_type": "stream",
     "text": [
      "\r",
      " 86%|████████▌ | 1080/1261 [03:00<00:32,  5.56it/s]"
     ]
    },
    {
     "name": "stdout",
     "output_type": "stream",
     "text": [
      "[  1.55724793e-04  -3.49785811e-01   4.35791303e+02]\n",
      "[  1.67594338e-04  -3.49521334e-01   1.30313940e+03]\n"
     ]
    },
    {
     "name": "stderr",
     "output_type": "stream",
     "text": [
      "\r",
      " 86%|████████▌ | 1081/1261 [03:00<00:37,  4.78it/s]"
     ]
    },
    {
     "name": "stdout",
     "output_type": "stream",
     "text": [
      "[  1.34003149e-04  -3.08901998e-01   4.14961205e+02]\n",
      "[  1.44871971e-04  -3.56169779e-01   1.32315781e+03]\n"
     ]
    },
    {
     "name": "stderr",
     "output_type": "stream",
     "text": [
      "\r",
      " 86%|████████▌ | 1082/1261 [03:00<00:38,  4.65it/s]"
     ]
    },
    {
     "name": "stdout",
     "output_type": "stream",
     "text": [
      "[  1.59195146e-04  -3.39438133e-01   4.26085568e+02]\n",
      "[  9.12583986e-05  -2.90998498e-01   1.30455905e+03]\n",
      "[  1.97065635e-04  -3.69055291e-01   4.30772305e+02]\n",
      "[  1.07446613e-04  -3.00003024e-01   1.30787660e+03]\n"
     ]
    },
    {
     "name": "stderr",
     "output_type": "stream",
     "text": [
      " 86%|████████▌ | 1084/1261 [03:01<00:36,  4.85it/s]"
     ]
    },
    {
     "name": "stdout",
     "output_type": "stream",
     "text": [
      "[  1.86269157e-04  -3.54660444e-01   4.24096702e+02]\n",
      "[  1.19594965e-04  -2.86893131e-01   1.30306229e+03]\n"
     ]
    },
    {
     "name": "stderr",
     "output_type": "stream",
     "text": [
      "\r",
      " 86%|████████▌ | 1085/1261 [03:01<00:40,  4.40it/s]"
     ]
    },
    {
     "name": "stdout",
     "output_type": "stream",
     "text": [
      "[  1.58643092e-04  -3.31905528e-01   4.22244423e+02]\n",
      "[  9.43915505e-05  -2.73129481e-01   1.29981297e+03]\n"
     ]
    },
    {
     "name": "stderr",
     "output_type": "stream",
     "text": [
      "\r",
      " 86%|████████▌ | 1086/1261 [03:01<00:39,  4.39it/s]"
     ]
    },
    {
     "name": "stdout",
     "output_type": "stream",
     "text": [
      "[  1.35576877e-04  -2.94530872e-01   4.04186474e+02]\n",
      "[  1.33548214e-04  -2.95562161e-01   1.30760939e+03]\n"
     ]
    },
    {
     "name": "stderr",
     "output_type": "stream",
     "text": [
      "\r",
      " 86%|████████▌ | 1087/1261 [03:01<00:39,  4.44it/s]"
     ]
    },
    {
     "name": "stdout",
     "output_type": "stream",
     "text": [
      "[  1.24825968e-04  -2.93629121e-01   4.09930138e+02]\n",
      "[  1.84823259e-04  -3.32455564e-01   1.30697094e+03]\n"
     ]
    },
    {
     "name": "stderr",
     "output_type": "stream",
     "text": [
      "\r",
      " 86%|████████▋ | 1088/1261 [03:02<00:41,  4.20it/s]"
     ]
    },
    {
     "name": "stdout",
     "output_type": "stream",
     "text": [
      "[  1.83979685e-04  -3.54582169e-01   4.27572942e+02]\n",
      "[  1.33847187e-04  -3.05003382e-01   1.30331424e+03]\n"
     ]
    },
    {
     "name": "stderr",
     "output_type": "stream",
     "text": [
      "\r",
      " 86%|████████▋ | 1089/1261 [03:02<00:39,  4.39it/s]"
     ]
    },
    {
     "name": "stdout",
     "output_type": "stream",
     "text": [
      "[  1.65207124e-04  -3.42827921e-01   4.27638872e+02]\n",
      "[  9.95793988e-05  -2.82406865e-01   1.30146302e+03]\n"
     ]
    },
    {
     "name": "stderr",
     "output_type": "stream",
     "text": [
      "\r",
      " 86%|████████▋ | 1090/1261 [03:02<00:39,  4.36it/s]"
     ]
    },
    {
     "name": "stdout",
     "output_type": "stream",
     "text": [
      "[  1.65207124e-04  -3.42827921e-01   4.27638872e+02]\n",
      "[  9.95793988e-05  -2.82406865e-01   1.30146302e+03]\n"
     ]
    },
    {
     "name": "stderr",
     "output_type": "stream",
     "text": [
      "\r",
      " 87%|████████▋ | 1091/1261 [03:02<00:39,  4.28it/s]"
     ]
    },
    {
     "name": "stdout",
     "output_type": "stream",
     "text": [
      "[  1.65207124e-04  -3.42827921e-01   4.27638872e+02]\n",
      "[  9.95793988e-05  -2.82406865e-01   1.30146302e+03]\n"
     ]
    },
    {
     "name": "stderr",
     "output_type": "stream",
     "text": [
      "\r",
      " 87%|████████▋ | 1092/1261 [03:02<00:39,  4.31it/s]"
     ]
    },
    {
     "name": "stdout",
     "output_type": "stream",
     "text": [
      "[  1.65207124e-04  -3.42827921e-01   4.27638872e+02]\n",
      "[  9.95793988e-05  -2.82406865e-01   1.30146302e+03]\n"
     ]
    },
    {
     "name": "stderr",
     "output_type": "stream",
     "text": [
      "\r",
      " 87%|████████▋ | 1093/1261 [03:03<00:39,  4.26it/s]"
     ]
    },
    {
     "name": "stdout",
     "output_type": "stream",
     "text": [
      "[  1.43929624e-04  -3.05749905e-01   4.13164151e+02]\n",
      "[  1.85870110e-04  -3.34818270e-01   1.30075043e+03]\n"
     ]
    },
    {
     "name": "stderr",
     "output_type": "stream",
     "text": [
      "\r",
      " 87%|████████▋ | 1094/1261 [03:03<00:38,  4.28it/s]"
     ]
    },
    {
     "name": "stdout",
     "output_type": "stream",
     "text": [
      "[  1.29200355e-04  -2.83695104e-01   4.03516110e+02]\n",
      "[  1.84902486e-04  -3.35294285e-01   1.30251772e+03]\n"
     ]
    },
    {
     "name": "stderr",
     "output_type": "stream",
     "text": [
      "\r",
      " 87%|████████▋ | 1095/1261 [03:03<00:37,  4.40it/s]"
     ]
    },
    {
     "name": "stdout",
     "output_type": "stream",
     "text": [
      "[  1.13075911e-04  -2.89229337e-01   4.16660025e+02]\n",
      "[  1.98318186e-04  -3.15255954e-01   1.28279056e+03]\n",
      "[  1.10222256e-04  -2.87144781e-01   4.17928486e+02]\n",
      "[  1.18937662e-04  -2.88562262e-01   1.28401869e+03]\n"
     ]
    },
    {
     "name": "stderr",
     "output_type": "stream",
     "text": [
      " 87%|████████▋ | 1097/1261 [03:04<00:35,  4.61it/s]"
     ]
    },
    {
     "name": "stdout",
     "output_type": "stream",
     "text": [
      "[  1.05657211e-04  -2.88255582e-01   4.21632737e+02]\n",
      "[  1.06738343e-04  -2.81060993e-01   1.28245223e+03]\n"
     ]
    },
    {
     "name": "stderr",
     "output_type": "stream",
     "text": [
      "\r",
      " 87%|████████▋ | 1098/1261 [03:04<00:34,  4.70it/s]"
     ]
    },
    {
     "name": "stdout",
     "output_type": "stream",
     "text": [
      "[  1.05657211e-04  -2.88255582e-01   4.21632737e+02]\n",
      "[  1.06738343e-04  -2.81060993e-01   1.28245223e+03]\n"
     ]
    },
    {
     "name": "stderr",
     "output_type": "stream",
     "text": [
      "\r",
      " 87%|████████▋ | 1099/1261 [03:04<00:35,  4.62it/s]"
     ]
    },
    {
     "name": "stdout",
     "output_type": "stream",
     "text": [
      "[  7.35571589e-05  -2.53894421e-01   4.15065584e+02]\n",
      "[  9.22188104e-05  -2.65264982e-01   1.28257713e+03]\n"
     ]
    },
    {
     "name": "stderr",
     "output_type": "stream",
     "text": [
      "\r",
      " 87%|████████▋ | 1100/1261 [03:04<00:35,  4.47it/s]"
     ]
    },
    {
     "name": "stdout",
     "output_type": "stream",
     "text": [
      "[  5.37176938e-05  -2.37518307e-01   4.16060078e+02]\n",
      "[  1.18409730e-04  -2.75965495e-01   1.28140544e+03]\n"
     ]
    },
    {
     "name": "stderr",
     "output_type": "stream",
     "text": [
      "\r",
      " 87%|████████▋ | 1101/1261 [03:04<00:34,  4.57it/s]"
     ]
    },
    {
     "name": "stdout",
     "output_type": "stream",
     "text": [
      "[  5.69298873e-05  -2.40313940e-01   4.19493576e+02]\n",
      "[  1.50543790e-04  -3.06960456e-01   1.28979124e+03]\n",
      "[  4.40391311e-05  -1.94392355e-01   3.91653038e+02]\n"
     ]
    },
    {
     "name": "stderr",
     "output_type": "stream",
     "text": [
      " 87%|████████▋ | 1103/1261 [03:05<00:34,  4.53it/s]"
     ]
    },
    {
     "name": "stdout",
     "output_type": "stream",
     "text": [
      "[  1.19352069e-04  -2.97467654e-01   1.30722538e+03]\n",
      "[  6.33101745e-05  -2.10758293e-01   3.99125805e+02]\n",
      "[  7.92646756e-05  -2.49357377e-01   1.29417411e+03]\n",
      "[  9.50319747e-05  -2.28210055e-01   3.98359862e+02]\n",
      "[  8.85046722e-05  -2.65427696e-01   1.30403187e+03]\n"
     ]
    },
    {
     "name": "stderr",
     "output_type": "stream",
     "text": [
      " 88%|████████▊ | 1105/1261 [03:05<00:33,  4.66it/s]"
     ]
    },
    {
     "name": "stdout",
     "output_type": "stream",
     "text": [
      "[  8.74784475e-05  -2.18665797e-01   3.96748421e+02]\n",
      "[ -6.27082542e-05  -1.05095163e-01   1.26852562e+03]\n",
      "[  1.18979155e-04  -2.59319403e-01   4.14689580e+02]\n",
      "[  4.39776656e-05  -1.89275636e-01   1.27477619e+03]\n"
     ]
    },
    {
     "name": "stderr",
     "output_type": "stream",
     "text": [
      " 88%|████████▊ | 1107/1261 [03:06<00:34,  4.46it/s]"
     ]
    },
    {
     "name": "stdout",
     "output_type": "stream",
     "text": [
      "[  1.17247368e-04  -2.31350934e-01   3.95446975e+02]\n",
      "[  4.36954537e-05  -1.82977672e-01   1.28147291e+03]\n",
      "[  1.80285272e-04  -2.99431264e-01   4.15749042e+02]\n",
      "[  7.09896048e-05  -2.08150164e-01   1.27986205e+03]\n"
     ]
    },
    {
     "name": "stderr",
     "output_type": "stream",
     "text": [
      " 88%|████████▊ | 1109/1261 [03:06<00:31,  4.76it/s]"
     ]
    },
    {
     "name": "stdout",
     "output_type": "stream",
     "text": [
      "[  1.82848716e-04  -2.86176446e-01   4.05396943e+02]\n",
      "[  7.55050729e-05  -2.10013640e-01   1.28437936e+03]\n",
      "[  1.76210779e-04  -2.86599468e-01   4.07742338e+02]\n",
      "[  8.86193960e-05  -2.15422972e-01   1.28079236e+03]\n"
     ]
    },
    {
     "name": "stderr",
     "output_type": "stream",
     "text": [
      " 88%|████████▊ | 1112/1261 [03:07<00:26,  5.60it/s]"
     ]
    },
    {
     "name": "stdout",
     "output_type": "stream",
     "text": [
      "[  1.76210779e-04  -2.86599468e-01   4.07742338e+02]\n",
      "[  8.86193960e-05  -2.15422972e-01   1.28079236e+03]\n",
      "[  1.76210779e-04  -2.86599468e-01   4.07742338e+02]\n",
      "[  8.86193960e-05  -2.15422972e-01   1.28079236e+03]\n"
     ]
    },
    {
     "name": "stderr",
     "output_type": "stream",
     "text": [
      "\r",
      " 88%|████████▊ | 1113/1261 [03:07<00:26,  5.68it/s]"
     ]
    },
    {
     "name": "stdout",
     "output_type": "stream",
     "text": [
      "[  1.76210779e-04  -2.86599468e-01   4.07742338e+02]\n",
      "[  8.86193960e-05  -2.15422972e-01   1.28079236e+03]\n"
     ]
    },
    {
     "name": "stderr",
     "output_type": "stream",
     "text": [
      "\r",
      " 88%|████████▊ | 1114/1261 [03:07<00:28,  5.07it/s]"
     ]
    },
    {
     "name": "stdout",
     "output_type": "stream",
     "text": [
      "[  1.76210779e-04  -2.86599468e-01   4.07742338e+02]\n",
      "[  8.86193960e-05  -2.15422972e-01   1.28079236e+03]\n"
     ]
    },
    {
     "name": "stderr",
     "output_type": "stream",
     "text": [
      "\r",
      " 88%|████████▊ | 1115/1261 [03:07<00:31,  4.57it/s]"
     ]
    },
    {
     "name": "stdout",
     "output_type": "stream",
     "text": [
      "[  1.76210779e-04  -2.86599468e-01   4.07742338e+02]\n",
      "[  8.86193960e-05  -2.15422972e-01   1.28079236e+03]\n"
     ]
    },
    {
     "name": "stderr",
     "output_type": "stream",
     "text": [
      "\r",
      " 89%|████████▊ | 1116/1261 [03:08<00:30,  4.76it/s]"
     ]
    },
    {
     "name": "stdout",
     "output_type": "stream",
     "text": [
      "[  1.76210779e-04  -2.86599468e-01   4.07742338e+02]\n",
      "[  8.86193960e-05  -2.15422972e-01   1.28079236e+03]\n"
     ]
    },
    {
     "name": "stderr",
     "output_type": "stream",
     "text": [
      "\r",
      " 89%|████████▊ | 1117/1261 [03:08<00:30,  4.68it/s]"
     ]
    },
    {
     "name": "stdout",
     "output_type": "stream",
     "text": [
      "[  1.76210779e-04  -2.86599468e-01   4.07742338e+02]\n",
      "[  8.86193960e-05  -2.15422972e-01   1.28079236e+03]\n",
      "[  1.76210779e-04  -2.86599468e-01   4.07742338e+02]\n",
      "[  8.86193960e-05  -2.15422972e-01   1.28079236e+03]\n"
     ]
    },
    {
     "name": "stderr",
     "output_type": "stream",
     "text": [
      " 89%|████████▊ | 1119/1261 [03:08<00:27,  5.16it/s]"
     ]
    },
    {
     "name": "stdout",
     "output_type": "stream",
     "text": [
      "[  1.76210779e-04  -2.86599468e-01   4.07742338e+02]\n",
      "[  8.86193960e-05  -2.15422972e-01   1.28079236e+03]\n",
      "[  1.76210779e-04  -2.86599468e-01   4.07742338e+02]\n",
      "[  8.86193960e-05  -2.15422972e-01   1.28079236e+03]\n"
     ]
    },
    {
     "name": "stderr",
     "output_type": "stream",
     "text": [
      " 89%|████████▉ | 1121/1261 [03:08<00:26,  5.19it/s]"
     ]
    },
    {
     "name": "stdout",
     "output_type": "stream",
     "text": [
      "[  1.76210779e-04  -2.86599468e-01   4.07742338e+02]\n",
      "[  8.86193960e-05  -2.15422972e-01   1.28079236e+03]\n"
     ]
    },
    {
     "name": "stderr",
     "output_type": "stream",
     "text": [
      " 89%|████████▉ | 1123/1261 [03:09<00:25,  5.42it/s]"
     ]
    },
    {
     "name": "stdout",
     "output_type": "stream",
     "text": [
      "[  1.76210779e-04  -2.86599468e-01   4.07742338e+02]\n",
      "[  8.86193960e-05  -2.15422972e-01   1.28079236e+03]\n",
      "[  8.15016198e-05  -1.65296857e-01   3.54396037e+02]\n",
      "[  4.06908236e-05  -2.52152757e-01   1.29699640e+03]\n"
     ]
    },
    {
     "name": "stderr",
     "output_type": "stream",
     "text": [
      " 89%|████████▉ | 1125/1261 [03:09<00:24,  5.60it/s]"
     ]
    },
    {
     "name": "stdout",
     "output_type": "stream",
     "text": [
      "[  8.15016198e-05  -1.65296857e-01   3.54396037e+02]\n",
      "[  4.06908236e-05  -2.52152757e-01   1.29699640e+03]\n",
      "[  8.15016198e-05  -1.65296857e-01   3.54396037e+02]\n",
      "[  4.06908236e-05  -2.52152757e-01   1.29699640e+03]\n"
     ]
    },
    {
     "name": "stderr",
     "output_type": "stream",
     "text": [
      " 89%|████████▉ | 1127/1261 [03:09<00:22,  5.87it/s]"
     ]
    },
    {
     "name": "stdout",
     "output_type": "stream",
     "text": [
      "[  8.15016198e-05  -1.65296857e-01   3.54396037e+02]\n",
      "[  4.06908236e-05  -2.52152757e-01   1.29699640e+03]\n",
      "[  8.15016198e-05  -1.65296857e-01   3.54396037e+02]\n",
      "[  4.06908236e-05  -2.52152757e-01   1.29699640e+03]\n"
     ]
    },
    {
     "name": "stderr",
     "output_type": "stream",
     "text": [
      " 90%|████████▉ | 1129/1261 [03:10<00:21,  6.25it/s]"
     ]
    },
    {
     "name": "stdout",
     "output_type": "stream",
     "text": [
      "[  8.15016198e-05  -1.65296857e-01   3.54396037e+02]\n",
      "[  4.06908236e-05  -2.52152757e-01   1.29699640e+03]\n",
      "[  1.81158728e-04  -2.74117132e-01   3.86055330e+02]\n",
      "[  8.94387853e-05  -2.49344632e-01   1.28076158e+03]\n"
     ]
    },
    {
     "name": "stderr",
     "output_type": "stream",
     "text": [
      " 90%|████████▉ | 1131/1261 [03:10<00:20,  6.23it/s]"
     ]
    },
    {
     "name": "stdout",
     "output_type": "stream",
     "text": [
      "[  2.06043778e-04  -3.06950132e-01   3.97007703e+02]\n",
      "[  1.41945412e-04  -2.84420047e-01   1.28312876e+03]\n",
      "[  1.93150788e-04  -2.94647757e-01   3.92894156e+02]\n",
      "[  7.38345198e-05  -2.49353523e-01   1.28134410e+03]\n"
     ]
    },
    {
     "name": "stderr",
     "output_type": "stream",
     "text": [
      "\r",
      " 90%|████████▉ | 1132/1261 [03:10<00:21,  6.09it/s]"
     ]
    },
    {
     "name": "stdout",
     "output_type": "stream",
     "text": [
      "[  1.93150788e-04  -2.94647757e-01   3.92894156e+02]\n",
      "[  7.38345198e-05  -2.49353523e-01   1.28134410e+03]\n",
      "[  1.91845861e-04  -3.03999139e-01   3.95194686e+02]\n",
      "[  1.42771189e-04  -3.06634595e-01   1.29077217e+03]\n"
     ]
    },
    {
     "name": "stderr",
     "output_type": "stream",
     "text": [
      " 90%|█████████ | 1135/1261 [03:11<00:20,  6.17it/s]"
     ]
    },
    {
     "name": "stdout",
     "output_type": "stream",
     "text": [
      "[  1.81610839e-04  -3.02621373e-01   3.97332152e+02]\n",
      "[  1.48386153e-04  -3.10362518e-01   1.28796061e+03]\n",
      "[  1.63166640e-04  -2.92752654e-01   3.96859697e+02]\n",
      "[  1.67032996e-04  -3.16796210e-01   1.28469175e+03]\n"
     ]
    },
    {
     "name": "stderr",
     "output_type": "stream",
     "text": [
      " 90%|█████████ | 1137/1261 [03:11<00:20,  6.00it/s]"
     ]
    },
    {
     "name": "stdout",
     "output_type": "stream",
     "text": [
      "[  1.50070136e-04  -2.89947332e-01   3.99597139e+02]\n",
      "[  2.09360520e-04  -3.43243875e-01   1.28414496e+03]\n",
      "[  1.50367636e-04  -3.05597492e-01   4.11537025e+02]\n",
      "[  2.62803751e-04  -3.78986637e-01   1.28270418e+03]\n"
     ]
    },
    {
     "name": "stderr",
     "output_type": "stream",
     "text": [
      " 90%|█████████ | 1139/1261 [03:11<00:19,  6.16it/s]"
     ]
    },
    {
     "name": "stdout",
     "output_type": "stream",
     "text": [
      "[  1.50367636e-04  -3.05597492e-01   4.11537025e+02]\n",
      "[  2.62803751e-04  -3.78986637e-01   1.28270418e+03]\n",
      "[  1.22298169e-04  -2.82205694e-01   4.06083658e+02]\n",
      "[  1.74888756e-04  -2.91242866e-01   1.26412798e+03]\n"
     ]
    },
    {
     "name": "stderr",
     "output_type": "stream",
     "text": [
      " 90%|█████████ | 1141/1261 [03:12<00:18,  6.43it/s]"
     ]
    },
    {
     "name": "stdout",
     "output_type": "stream",
     "text": [
      "[  1.21682093e-04  -2.84351902e-01   4.08863154e+02]\n",
      "[  1.92407860e-04  -2.98266548e-01   1.26162551e+03]\n",
      "[  6.02999937e-05  -2.15765318e-01   3.86874187e+02]\n",
      "[  1.83965461e-04  -2.93652736e-01   1.26876378e+03]\n"
     ]
    },
    {
     "name": "stderr",
     "output_type": "stream",
     "text": [
      " 91%|█████████ | 1143/1261 [03:12<00:18,  6.37it/s]"
     ]
    },
    {
     "name": "stdout",
     "output_type": "stream",
     "text": [
      "[  6.03716035e-05  -2.16717951e-01   3.88443308e+02]\n",
      "[  2.17509845e-04  -3.13682900e-01   1.26762973e+03]\n",
      "[  9.04413393e-05  -2.37382469e-01   3.91489400e+02]\n",
      "[  2.08199856e-04  -3.05674781e-01   1.26493842e+03]\n"
     ]
    },
    {
     "name": "stderr",
     "output_type": "stream",
     "text": [
      " 91%|█████████ | 1145/1261 [03:12<00:18,  6.17it/s]"
     ]
    },
    {
     "name": "stdout",
     "output_type": "stream",
     "text": [
      "[  9.23976019e-05  -2.38688862e-01   3.92170536e+02]\n",
      "[  2.46435141e-04  -3.29948390e-01   1.26602450e+03]\n",
      "[  1.01582752e-04  -2.56669666e-01   4.04569027e+02]\n",
      "[  3.11109867e-04  -3.69273522e-01   1.26145916e+03]\n"
     ]
    },
    {
     "name": "stderr",
     "output_type": "stream",
     "text": [
      " 91%|█████████ | 1147/1261 [03:13<00:18,  6.09it/s]"
     ]
    },
    {
     "name": "stdout",
     "output_type": "stream",
     "text": [
      "[  1.01582752e-04  -2.56669666e-01   4.04569027e+02]\n",
      "[  3.11109867e-04  -3.69273522e-01   1.26145916e+03]\n",
      "[  1.01582752e-04  -2.56669666e-01   4.04569027e+02]\n",
      "[  3.11109867e-04  -3.69273522e-01   1.26145916e+03]\n"
     ]
    },
    {
     "name": "stderr",
     "output_type": "stream",
     "text": [
      " 91%|█████████ | 1149/1261 [03:13<00:17,  6.32it/s]"
     ]
    },
    {
     "name": "stdout",
     "output_type": "stream",
     "text": [
      "[  1.01582752e-04  -2.56669666e-01   4.04569027e+02]\n",
      "[  3.11109867e-04  -3.69273522e-01   1.26145916e+03]\n",
      "[  1.01582752e-04  -2.56669666e-01   4.04569027e+02]\n",
      "[  3.11109867e-04  -3.69273522e-01   1.26145916e+03]\n"
     ]
    },
    {
     "name": "stderr",
     "output_type": "stream",
     "text": [
      " 91%|█████████▏| 1151/1261 [03:13<00:17,  6.40it/s]"
     ]
    },
    {
     "name": "stdout",
     "output_type": "stream",
     "text": [
      "[  1.01582752e-04  -2.56669666e-01   4.04569027e+02]\n",
      "[  3.11109867e-04  -3.69273522e-01   1.26145916e+03]\n",
      "[  1.01582752e-04  -2.56669666e-01   4.04569027e+02]\n",
      "[  3.11109867e-04  -3.69273522e-01   1.26145916e+03]\n"
     ]
    },
    {
     "name": "stderr",
     "output_type": "stream",
     "text": [
      " 91%|█████████▏| 1153/1261 [03:14<00:17,  6.25it/s]"
     ]
    },
    {
     "name": "stdout",
     "output_type": "stream",
     "text": [
      "[  1.28086488e-04  -2.43645785e-01   3.82054010e+02]\n",
      "[  2.41125009e-04  -3.31991514e-01   1.26647045e+03]\n",
      "[  1.15431028e-04  -2.34340559e-01   3.81528959e+02]\n",
      "[  1.81796201e-04  -3.07475431e-01   1.26466535e+03]\n"
     ]
    },
    {
     "name": "stderr",
     "output_type": "stream",
     "text": [
      " 92%|█████████▏| 1155/1261 [03:14<00:16,  6.39it/s]"
     ]
    },
    {
     "name": "stdout",
     "output_type": "stream",
     "text": [
      "[  1.01012765e-04  -2.02877497e-01   3.63103677e+02]\n",
      "[  1.50851468e-04  -2.96591515e-01   1.27469190e+03]\n",
      "[  1.02585601e-04  -2.14894389e-01   3.69964056e+02]\n",
      "[  2.17799505e-04  -3.40503000e-01   1.27812372e+03]\n"
     ]
    },
    {
     "name": "stderr",
     "output_type": "stream",
     "text": [
      "\r",
      " 92%|█████████▏| 1156/1261 [03:14<00:16,  6.33it/s]"
     ]
    },
    {
     "name": "stdout",
     "output_type": "stream",
     "text": [
      "[  1.05959634e-04  -2.14731704e-01   3.67440318e+02]\n",
      "[  2.18236244e-04  -3.48090118e-01   1.28154958e+03]\n",
      "[  1.05959634e-04  -2.14731704e-01   3.67440318e+02]\n",
      "[  2.18236244e-04  -3.48090118e-01   1.28154958e+03]\n"
     ]
    },
    {
     "name": "stderr",
     "output_type": "stream",
     "text": [
      " 92%|█████████▏| 1158/1261 [03:14<00:17,  5.97it/s]"
     ]
    },
    {
     "name": "stdout",
     "output_type": "stream",
     "text": [
      "[  1.16791385e-04  -2.19662916e-01   3.62605484e+02]\n",
      "[  1.90770920e-04  -3.33538786e-01   1.28778018e+03]\n",
      "[  1.58961890e-04  -2.60618680e-01   3.71174001e+02]\n",
      "[  1.48140562e-04  -2.97860169e-01   1.28334192e+03]\n"
     ]
    },
    {
     "name": "stderr",
     "output_type": "stream",
     "text": [
      " 92%|█████████▏| 1160/1261 [03:15<00:17,  5.75it/s]"
     ]
    },
    {
     "name": "stdout",
     "output_type": "stream",
     "text": [
      "[  1.32079426e-04  -2.54792702e-01   3.78429441e+02]\n",
      "[  1.99312753e-04  -3.37310653e-01   1.28575306e+03]\n",
      "[  1.81535268e-04  -3.22038083e-01   4.03143138e+02]\n",
      "[  1.67118930e-04  -2.89071302e-01   1.26500431e+03]\n"
     ]
    },
    {
     "name": "stderr",
     "output_type": "stream",
     "text": [
      " 92%|█████████▏| 1162/1261 [03:15<00:19,  5.05it/s]"
     ]
    },
    {
     "name": "stdout",
     "output_type": "stream",
     "text": [
      "[  2.01739030e-04  -3.28208002e-01   3.97004632e+02]\n",
      "[  1.77887589e-04  -3.07989536e-01   1.27414594e+03]\n",
      "[  2.36148756e-04  -3.78451611e-01   4.16517687e+02]\n",
      "[  2.36141881e-04  -3.45058258e-01   1.27482523e+03]\n"
     ]
    },
    {
     "name": "stderr",
     "output_type": "stream",
     "text": [
      " 92%|█████████▏| 1164/1261 [03:16<00:20,  4.79it/s]"
     ]
    },
    {
     "name": "stdout",
     "output_type": "stream",
     "text": [
      "[  2.29071795e-04  -3.78362624e-01   4.17837694e+02]\n",
      "[  1.85518777e-04  -3.37731956e-01   1.28010793e+03]\n"
     ]
    },
    {
     "name": "stderr",
     "output_type": "stream",
     "text": [
      "\r",
      " 92%|█████████▏| 1165/1261 [03:16<00:20,  4.65it/s]"
     ]
    },
    {
     "name": "stdout",
     "output_type": "stream",
     "text": [
      "[  2.03697923e-04  -3.42263460e-01   3.99951552e+02]\n",
      "[  1.69123850e-04  -3.31967065e-01   1.28829770e+03]\n"
     ]
    },
    {
     "name": "stderr",
     "output_type": "stream",
     "text": [
      "\r",
      " 92%|█████████▏| 1166/1261 [03:16<00:21,  4.45it/s]"
     ]
    },
    {
     "name": "stdout",
     "output_type": "stream",
     "text": [
      "[  2.10193907e-04  -3.57597654e-01   4.07390641e+02]\n",
      "[  2.05630980e-04  -3.65515403e-01   1.29452265e+03]\n"
     ]
    },
    {
     "name": "stderr",
     "output_type": "stream",
     "text": [
      "\r",
      " 93%|█████████▎| 1167/1261 [03:16<00:21,  4.41it/s]"
     ]
    },
    {
     "name": "stdout",
     "output_type": "stream",
     "text": [
      "[  2.11460731e-04  -3.58940056e-01   4.06890031e+02]\n",
      "[  2.29141246e-04  -3.91179940e-01   1.30213953e+03]\n",
      "[  1.92474145e-04  -3.53129041e-01   4.09257295e+02]\n",
      "[  1.38998615e-04  -3.29351099e-01   1.29634333e+03]\n"
     ]
    },
    {
     "name": "stderr",
     "output_type": "stream",
     "text": [
      " 93%|█████████▎| 1169/1261 [03:17<00:20,  4.42it/s]"
     ]
    },
    {
     "name": "stdout",
     "output_type": "stream",
     "text": [
      "[  1.92474145e-04  -3.53129041e-01   4.09257295e+02]\n",
      "[  1.38998615e-04  -3.29351099e-01   1.29634333e+03]\n"
     ]
    },
    {
     "name": "stderr",
     "output_type": "stream",
     "text": [
      "\r",
      " 93%|█████████▎| 1170/1261 [03:17<00:20,  4.36it/s]"
     ]
    },
    {
     "name": "stdout",
     "output_type": "stream",
     "text": [
      "[  1.78541608e-04  -3.63189482e-01   4.22009274e+02]\n",
      "[  1.15054862e-04  -2.86565243e-01   1.28106697e+03]\n"
     ]
    },
    {
     "name": "stderr",
     "output_type": "stream",
     "text": [
      "\r",
      " 93%|█████████▎| 1171/1261 [03:17<00:20,  4.33it/s]"
     ]
    },
    {
     "name": "stdout",
     "output_type": "stream",
     "text": [
      "[  1.62064703e-04  -3.70316382e-01   4.35127539e+02]\n",
      "[  2.10163688e-04  -3.58598392e-01   1.28705489e+03]\n",
      "[  1.38097737e-04  -3.50389071e-01   4.32865731e+02]\n",
      "[  1.71598690e-04  -3.21111365e-01   1.27912660e+03]\n"
     ]
    },
    {
     "name": "stderr",
     "output_type": "stream",
     "text": [
      " 93%|█████████▎| 1173/1261 [03:18<00:18,  4.64it/s]"
     ]
    },
    {
     "name": "stdout",
     "output_type": "stream",
     "text": [
      "[  1.28650675e-04  -3.39632589e-01   4.28502229e+02]\n",
      "[  1.60823872e-04  -3.13699543e-01   1.28250715e+03]\n"
     ]
    },
    {
     "name": "stderr",
     "output_type": "stream",
     "text": [
      "\r",
      " 93%|█████████▎| 1174/1261 [03:18<00:18,  4.59it/s]"
     ]
    },
    {
     "name": "stdout",
     "output_type": "stream",
     "text": [
      "[  1.06590712e-04  -3.36090925e-01   4.39349088e+02]\n",
      "[  1.91603279e-04  -3.37114370e-01   1.28293213e+03]\n",
      "[  1.02685752e-04  -3.23571089e-01   4.34547596e+02]\n",
      "[  1.31123765e-04  -3.11881118e-01   1.28652431e+03]\n"
     ]
    },
    {
     "name": "stderr",
     "output_type": "stream",
     "text": [
      " 93%|█████████▎| 1176/1261 [03:18<00:17,  4.80it/s]"
     ]
    },
    {
     "name": "stdout",
     "output_type": "stream",
     "text": [
      "[  8.89321473e-05  -3.03950350e-01   4.29108249e+02]\n",
      "[  9.80317037e-05  -2.98891005e-01   1.29169990e+03]\n"
     ]
    },
    {
     "name": "stderr",
     "output_type": "stream",
     "text": [
      "\r",
      " 93%|█████████▎| 1177/1261 [03:19<00:17,  4.77it/s]"
     ]
    },
    {
     "name": "stdout",
     "output_type": "stream",
     "text": [
      "[  1.24559444e-04  -3.39853878e-01   4.42534995e+02]\n",
      "[  1.30414186e-04  -3.23591234e-01   1.29563735e+03]\n",
      "[  1.08553718e-04  -3.08199049e-01   4.28982705e+02]\n",
      "[  1.09969755e-04  -3.09572935e-01   1.30146187e+03]\n"
     ]
    },
    {
     "name": "stderr",
     "output_type": "stream",
     "text": [
      " 93%|█████████▎| 1179/1261 [03:19<00:16,  4.93it/s]"
     ]
    },
    {
     "name": "stdout",
     "output_type": "stream",
     "text": [
      "[  8.88600346e-05  -2.93990682e-01   4.30646265e+02]\n",
      "[ -1.94994111e-05  -2.18225388e-01   1.29064190e+03]\n"
     ]
    },
    {
     "name": "stderr",
     "output_type": "stream",
     "text": [
      "\r",
      " 94%|█████████▎| 1180/1261 [03:19<00:17,  4.68it/s]"
     ]
    },
    {
     "name": "stdout",
     "output_type": "stream",
     "text": [
      "[  8.78620940e-05  -2.91978098e-01   4.31710342e+02]\n",
      "[  9.56980830e-05  -3.03807136e-01   1.30499778e+03]\n"
     ]
    },
    {
     "name": "stderr",
     "output_type": "stream",
     "text": [
      "\r",
      " 94%|█████████▎| 1181/1261 [03:19<00:17,  4.52it/s]"
     ]
    },
    {
     "name": "stdout",
     "output_type": "stream",
     "text": [
      "[  8.93883144e-05  -2.82776179e-01   4.26359936e+02]\n",
      "[  3.80518462e-05  -2.49268087e-01   1.29963406e+03]\n",
      "[  8.88261566e-05  -2.85022787e-01   4.32255160e+02]\n",
      "[  1.10515821e-04  -2.99503284e-01   1.30531715e+03]\n"
     ]
    },
    {
     "name": "stderr",
     "output_type": "stream",
     "text": [
      " 94%|█████████▍| 1183/1261 [03:20<00:16,  4.64it/s]"
     ]
    },
    {
     "name": "stdout",
     "output_type": "stream",
     "text": [
      "[  9.99286207e-05  -2.84778551e-01   4.28911012e+02]\n",
      "[ -1.26250208e-04  -6.87022386e-02   1.26123068e+03]\n",
      "[  9.99286207e-05  -2.84778551e-01   4.28911012e+02]\n",
      "[ -1.26250208e-04  -6.87022386e-02   1.26123068e+03]\n"
     ]
    },
    {
     "name": "stderr",
     "output_type": "stream",
     "text": [
      " 94%|█████████▍| 1185/1261 [03:20<00:16,  4.72it/s]"
     ]
    },
    {
     "name": "stdout",
     "output_type": "stream",
     "text": [
      "[  1.32269677e-04  -3.25588879e-01   4.48991881e+02]\n",
      "[  6.27174123e-05  -2.18518970e-01   1.28085075e+03]\n"
     ]
    },
    {
     "name": "stderr",
     "output_type": "stream",
     "text": [
      "\r",
      " 94%|█████████▍| 1186/1261 [03:20<00:16,  4.64it/s]"
     ]
    },
    {
     "name": "stdout",
     "output_type": "stream",
     "text": [
      "[  1.32269677e-04  -3.25588879e-01   4.48991881e+02]\n",
      "[  6.27174123e-05  -2.18518970e-01   1.28085075e+03]\n"
     ]
    },
    {
     "name": "stderr",
     "output_type": "stream",
     "text": [
      "\r",
      " 94%|█████████▍| 1187/1261 [03:21<00:16,  4.59it/s]"
     ]
    },
    {
     "name": "stdout",
     "output_type": "stream",
     "text": [
      "[  1.32269677e-04  -3.25588879e-01   4.48991881e+02]\n",
      "[  6.27174123e-05  -2.18518970e-01   1.28085075e+03]\n"
     ]
    },
    {
     "name": "stderr",
     "output_type": "stream",
     "text": [
      "\r",
      " 94%|█████████▍| 1188/1261 [03:21<00:15,  4.58it/s]"
     ]
    },
    {
     "name": "stdout",
     "output_type": "stream",
     "text": [
      "[  1.32269677e-04  -3.25588879e-01   4.48991881e+02]\n",
      "[  6.27174123e-05  -2.18518970e-01   1.28085075e+03]\n"
     ]
    },
    {
     "name": "stderr",
     "output_type": "stream",
     "text": [
      "\r",
      " 94%|█████████▍| 1189/1261 [03:21<00:15,  4.58it/s]"
     ]
    },
    {
     "name": "stdout",
     "output_type": "stream",
     "text": [
      "[  1.32269677e-04  -3.25588879e-01   4.48991881e+02]\n",
      "[  6.27174123e-05  -2.18518970e-01   1.28085075e+03]\n"
     ]
    },
    {
     "name": "stderr",
     "output_type": "stream",
     "text": [
      "\r",
      " 94%|█████████▍| 1190/1261 [03:21<00:15,  4.52it/s]"
     ]
    },
    {
     "name": "stdout",
     "output_type": "stream",
     "text": [
      "[  1.74364830e-04  -3.32698385e-01   4.41141334e+02]\n",
      "[  7.72624166e-05  -2.68076227e-01   1.30630484e+03]\n",
      "[  1.73818498e-04  -3.32723924e-01   4.41415311e+02]\n",
      "[  1.44943473e-04  -3.15778095e-01   1.31105365e+03]\n"
     ]
    },
    {
     "name": "stderr",
     "output_type": "stream",
     "text": [
      " 95%|█████████▍| 1192/1261 [03:22<00:14,  4.77it/s]"
     ]
    },
    {
     "name": "stdout",
     "output_type": "stream",
     "text": [
      "[  1.73818498e-04  -3.32723924e-01   4.41415311e+02]\n",
      "[  1.44943473e-04  -3.15778095e-01   1.31105365e+03]\n"
     ]
    },
    {
     "name": "stderr",
     "output_type": "stream",
     "text": [
      "\r",
      " 95%|█████████▍| 1193/1261 [03:22<00:14,  4.63it/s]"
     ]
    },
    {
     "name": "stdout",
     "output_type": "stream",
     "text": [
      "[  2.22453265e-04  -3.84238554e-01   4.58826811e+02]\n",
      "[  1.95212188e-04  -3.27846690e-01   1.29555382e+03]\n",
      "[  2.30603577e-04  -3.80210930e-01   4.51085752e+02]\n",
      "[  2.55384966e-04  -3.98609384e-01   1.31774057e+03]\n"
     ]
    },
    {
     "name": "stderr",
     "output_type": "stream",
     "text": [
      " 95%|█████████▍| 1195/1261 [03:22<00:13,  4.80it/s]"
     ]
    },
    {
     "name": "stdout",
     "output_type": "stream",
     "text": [
      "[  2.30603577e-04  -3.80210930e-01   4.51085752e+02]\n",
      "[  2.55384966e-04  -3.98609384e-01   1.31774057e+03]\n"
     ]
    },
    {
     "name": "stderr",
     "output_type": "stream",
     "text": [
      "\r",
      " 95%|█████████▍| 1196/1261 [03:23<00:14,  4.62it/s]"
     ]
    },
    {
     "name": "stdout",
     "output_type": "stream",
     "text": [
      "[  2.30603577e-04  -3.80210930e-01   4.51085752e+02]\n",
      "[  2.55384966e-04  -3.98609384e-01   1.31774057e+03]\n"
     ]
    },
    {
     "name": "stderr",
     "output_type": "stream",
     "text": [
      "\r",
      " 95%|█████████▍| 1197/1261 [03:23<00:13,  4.91it/s]"
     ]
    },
    {
     "name": "stdout",
     "output_type": "stream",
     "text": [
      "[  2.30603577e-04  -3.80210930e-01   4.51085752e+02]\n",
      "[  2.55384966e-04  -3.98609384e-01   1.31774057e+03]\n"
     ]
    },
    {
     "name": "stderr",
     "output_type": "stream",
     "text": [
      "\r",
      " 95%|█████████▌| 1198/1261 [03:23<00:13,  4.80it/s]"
     ]
    },
    {
     "name": "stdout",
     "output_type": "stream",
     "text": [
      "[  2.30603577e-04  -3.80210930e-01   4.51085752e+02]\n",
      "[  2.55384966e-04  -3.98609384e-01   1.31774057e+03]\n"
     ]
    },
    {
     "name": "stderr",
     "output_type": "stream",
     "text": [
      "\r",
      " 95%|█████████▌| 1199/1261 [03:23<00:13,  4.67it/s]"
     ]
    },
    {
     "name": "stdout",
     "output_type": "stream",
     "text": [
      "[  2.30603577e-04  -3.80210930e-01   4.51085752e+02]\n",
      "[  2.55384966e-04  -3.98609384e-01   1.31774057e+03]\n"
     ]
    },
    {
     "name": "stderr",
     "output_type": "stream",
     "text": [
      "\r",
      " 95%|█████████▌| 1200/1261 [03:23<00:12,  4.79it/s]"
     ]
    },
    {
     "name": "stdout",
     "output_type": "stream",
     "text": [
      "[  2.30603577e-04  -3.80210930e-01   4.51085752e+02]\n",
      "[  2.55384966e-04  -3.98609384e-01   1.31774057e+03]\n"
     ]
    },
    {
     "name": "stderr",
     "output_type": "stream",
     "text": [
      "\r",
      " 95%|█████████▌| 1201/1261 [03:24<00:12,  4.74it/s]"
     ]
    },
    {
     "name": "stdout",
     "output_type": "stream",
     "text": [
      "[  2.30603577e-04  -3.80210930e-01   4.51085752e+02]\n",
      "[  2.55384966e-04  -3.98609384e-01   1.31774057e+03]\n",
      "[  2.30603577e-04  -3.80210930e-01   4.51085752e+02]\n",
      "[  2.55384966e-04  -3.98609384e-01   1.31774057e+03]\n"
     ]
    },
    {
     "name": "stderr",
     "output_type": "stream",
     "text": [
      " 95%|█████████▌| 1203/1261 [03:24<00:11,  4.99it/s]"
     ]
    },
    {
     "name": "stdout",
     "output_type": "stream",
     "text": [
      "[  2.30603577e-04  -3.80210930e-01   4.51085752e+02]\n",
      "[  2.55384966e-04  -3.98609384e-01   1.31774057e+03]\n",
      "[  2.30603577e-04  -3.80210930e-01   4.51085752e+02]\n",
      "[  2.55384966e-04  -3.98609384e-01   1.31774057e+03]\n"
     ]
    },
    {
     "name": "stderr",
     "output_type": "stream",
     "text": [
      " 96%|█████████▌| 1205/1261 [03:24<00:11,  4.97it/s]"
     ]
    },
    {
     "name": "stdout",
     "output_type": "stream",
     "text": [
      "[  2.30603577e-04  -3.80210930e-01   4.51085752e+02]\n",
      "[  2.55384966e-04  -3.98609384e-01   1.31774057e+03]\n"
     ]
    },
    {
     "name": "stderr",
     "output_type": "stream",
     "text": [
      "\r",
      " 96%|█████████▌| 1206/1261 [03:25<00:11,  4.82it/s]"
     ]
    },
    {
     "name": "stdout",
     "output_type": "stream",
     "text": [
      "[  2.25194350e-04  -4.10209387e-01   4.80022737e+02]\n",
      "[  1.96824860e-04  -3.28717752e-01   1.31491458e+03]\n"
     ]
    },
    {
     "name": "stderr",
     "output_type": "stream",
     "text": [
      "\r",
      " 96%|█████████▌| 1207/1261 [03:25<00:11,  4.69it/s]"
     ]
    },
    {
     "name": "stdout",
     "output_type": "stream",
     "text": [
      "[  2.03082386e-04  -4.11432236e-01   4.91916805e+02]\n",
      "[  2.16997627e-04  -3.37263965e-01   1.30815342e+03]\n",
      "[  2.03082386e-04  -4.11432236e-01   4.91916805e+02]\n",
      "[  2.16997627e-04  -3.37263965e-01   1.30815342e+03]\n"
     ]
    },
    {
     "name": "stderr",
     "output_type": "stream",
     "text": [
      " 96%|█████████▌| 1209/1261 [03:25<00:11,  4.72it/s]"
     ]
    },
    {
     "name": "stdout",
     "output_type": "stream",
     "text": [
      "[  2.20616232e-04  -4.43205113e-01   5.10119508e+02]\n",
      "[  2.64199299e-04  -3.80193379e-01   1.31311759e+03]\n"
     ]
    },
    {
     "name": "stderr",
     "output_type": "stream",
     "text": [
      " 96%|█████████▌| 1211/1261 [03:26<00:09,  5.30it/s]"
     ]
    },
    {
     "name": "stdout",
     "output_type": "stream",
     "text": [
      "[  2.09167239e-04  -4.20131378e-01   5.00332375e+02]\n",
      "[  2.44686324e-04  -3.83222167e-01   1.32098613e+03]\n",
      "[  2.22849634e-04  -4.33579478e-01   5.04234080e+02]\n",
      "[  2.93357203e-04  -4.28337976e-01   1.33144070e+03]\n"
     ]
    },
    {
     "name": "stderr",
     "output_type": "stream",
     "text": [
      "\r",
      " 96%|█████████▌| 1212/1261 [03:26<00:09,  5.08it/s]"
     ]
    },
    {
     "name": "stdout",
     "output_type": "stream",
     "text": [
      "[  2.22849634e-04  -4.33579478e-01   5.04234080e+02]\n",
      "[  2.93357203e-04  -4.28337976e-01   1.33144070e+03]\n"
     ]
    },
    {
     "name": "stderr",
     "output_type": "stream",
     "text": [
      " 96%|█████████▋| 1214/1261 [03:26<00:09,  5.14it/s]"
     ]
    },
    {
     "name": "stdout",
     "output_type": "stream",
     "text": [
      "[  2.22849634e-04  -4.33579478e-01   5.04234080e+02]\n",
      "[  2.93357203e-04  -4.28337976e-01   1.33144070e+03]\n",
      "[  2.22849634e-04  -4.33579478e-01   5.04234080e+02]\n",
      "[  2.93357203e-04  -4.28337976e-01   1.33144070e+03]\n"
     ]
    },
    {
     "name": "stderr",
     "output_type": "stream",
     "text": [
      " 96%|█████████▋| 1216/1261 [03:27<00:07,  5.75it/s]"
     ]
    },
    {
     "name": "stdout",
     "output_type": "stream",
     "text": [
      "[  2.22849634e-04  -4.33579478e-01   5.04234080e+02]\n",
      "[  2.93357203e-04  -4.28337976e-01   1.33144070e+03]\n",
      "[  2.22849634e-04  -4.33579478e-01   5.04234080e+02]\n",
      "[  2.93357203e-04  -4.28337976e-01   1.33144070e+03]\n"
     ]
    },
    {
     "name": "stderr",
     "output_type": "stream",
     "text": [
      "\r",
      " 97%|█████████▋| 1217/1261 [03:27<00:08,  5.17it/s]"
     ]
    },
    {
     "name": "stdout",
     "output_type": "stream",
     "text": [
      "[  2.22849634e-04  -4.33579478e-01   5.04234080e+02]\n",
      "[  2.93357203e-04  -4.28337976e-01   1.33144070e+03]\n"
     ]
    },
    {
     "name": "stderr",
     "output_type": "stream",
     "text": [
      " 97%|█████████▋| 1219/1261 [03:27<00:07,  5.44it/s]"
     ]
    },
    {
     "name": "stdout",
     "output_type": "stream",
     "text": [
      "[  2.22849634e-04  -4.33579478e-01   5.04234080e+02]\n",
      "[  2.93357203e-04  -4.28337976e-01   1.33144070e+03]\n",
      "[  2.22849634e-04  -4.33579478e-01   5.04234080e+02]\n",
      "[  2.93357203e-04  -4.28337976e-01   1.33144070e+03]\n"
     ]
    },
    {
     "name": "stderr",
     "output_type": "stream",
     "text": [
      "\r",
      " 97%|█████████▋| 1220/1261 [03:27<00:08,  4.83it/s]"
     ]
    },
    {
     "name": "stdout",
     "output_type": "stream",
     "text": [
      "[  2.22849634e-04  -4.33579478e-01   5.04234080e+02]\n",
      "[  2.93357203e-04  -4.28337976e-01   1.33144070e+03]\n"
     ]
    },
    {
     "name": "stderr",
     "output_type": "stream",
     "text": [
      "\r",
      " 97%|█████████▋| 1221/1261 [03:28<00:08,  4.83it/s]"
     ]
    },
    {
     "name": "stdout",
     "output_type": "stream",
     "text": [
      "[  2.22849634e-04  -4.33579478e-01   5.04234080e+02]\n",
      "[  2.93357203e-04  -4.28337976e-01   1.33144070e+03]\n",
      "[  2.22849634e-04  -4.33579478e-01   5.04234080e+02]\n",
      "[  2.93357203e-04  -4.28337976e-01   1.33144070e+03]\n"
     ]
    },
    {
     "name": "stderr",
     "output_type": "stream",
     "text": [
      " 97%|█████████▋| 1224/1261 [03:28<00:06,  5.80it/s]"
     ]
    },
    {
     "name": "stdout",
     "output_type": "stream",
     "text": [
      "[  2.22849634e-04  -4.33579478e-01   5.04234080e+02]\n",
      "[  2.93357203e-04  -4.28337976e-01   1.33144070e+03]\n",
      "[  2.22849634e-04  -4.33579478e-01   5.04234080e+02]\n",
      "[  2.93357203e-04  -4.28337976e-01   1.33144070e+03]\n"
     ]
    },
    {
     "name": "stderr",
     "output_type": "stream",
     "text": [
      "\r",
      " 97%|█████████▋| 1225/1261 [03:28<00:06,  5.25it/s]"
     ]
    },
    {
     "name": "stdout",
     "output_type": "stream",
     "text": [
      "[  2.22849634e-04  -4.33579478e-01   5.04234080e+02]\n",
      "[  2.93357203e-04  -4.28337976e-01   1.33144070e+03]\n"
     ]
    },
    {
     "name": "stderr",
     "output_type": "stream",
     "text": [
      " 97%|█████████▋| 1227/1261 [03:29<00:06,  5.17it/s]"
     ]
    },
    {
     "name": "stdout",
     "output_type": "stream",
     "text": [
      "[  2.22849634e-04  -4.33579478e-01   5.04234080e+02]\n",
      "[  2.93357203e-04  -4.28337976e-01   1.33144070e+03]\n",
      "[  2.22849634e-04  -4.33579478e-01   5.04234080e+02]\n",
      "[  2.93357203e-04  -4.28337976e-01   1.33144070e+03]\n"
     ]
    },
    {
     "name": "stderr",
     "output_type": "stream",
     "text": [
      " 97%|█████████▋| 1229/1261 [03:29<00:05,  5.64it/s]"
     ]
    },
    {
     "name": "stdout",
     "output_type": "stream",
     "text": [
      "[  2.22849634e-04  -4.33579478e-01   5.04234080e+02]\n",
      "[  2.93357203e-04  -4.28337976e-01   1.33144070e+03]\n",
      "[  2.22849634e-04  -4.33579478e-01   5.04234080e+02]\n",
      "[  2.93357203e-04  -4.28337976e-01   1.33144070e+03]\n"
     ]
    },
    {
     "name": "stderr",
     "output_type": "stream",
     "text": [
      " 98%|█████████▊| 1231/1261 [03:29<00:04,  6.05it/s]"
     ]
    },
    {
     "name": "stdout",
     "output_type": "stream",
     "text": [
      "[  2.22849634e-04  -4.33579478e-01   5.04234080e+02]\n",
      "[  2.93357203e-04  -4.28337976e-01   1.33144070e+03]\n",
      "[  2.22849634e-04  -4.33579478e-01   5.04234080e+02]\n",
      "[  2.93357203e-04  -4.28337976e-01   1.33144070e+03]\n"
     ]
    },
    {
     "name": "stderr",
     "output_type": "stream",
     "text": [
      "\r",
      " 98%|█████████▊| 1232/1261 [03:30<00:04,  6.32it/s]"
     ]
    },
    {
     "name": "stdout",
     "output_type": "stream",
     "text": [
      "[  2.22849634e-04  -4.33579478e-01   5.04234080e+02]\n",
      "[  2.93357203e-04  -4.28337976e-01   1.33144070e+03]\n",
      "[  2.22849634e-04  -4.33579478e-01   5.04234080e+02]\n",
      "[  2.93357203e-04  -4.28337976e-01   1.33144070e+03]\n"
     ]
    },
    {
     "name": "stderr",
     "output_type": "stream",
     "text": [
      " 98%|█████████▊| 1235/1261 [03:30<00:04,  6.06it/s]"
     ]
    },
    {
     "name": "stdout",
     "output_type": "stream",
     "text": [
      "[  2.22849634e-04  -4.33579478e-01   5.04234080e+02]\n",
      "[  2.93357203e-04  -4.28337976e-01   1.33144070e+03]\n",
      "[  2.22849634e-04  -4.33579478e-01   5.04234080e+02]\n",
      "[  2.93357203e-04  -4.28337976e-01   1.33144070e+03]\n"
     ]
    },
    {
     "name": "stderr",
     "output_type": "stream",
     "text": [
      "\r",
      " 98%|█████████▊| 1236/1261 [03:30<00:03,  6.30it/s]"
     ]
    },
    {
     "name": "stdout",
     "output_type": "stream",
     "text": [
      "[  2.22849634e-04  -4.33579478e-01   5.04234080e+02]\n",
      "[  2.93357203e-04  -4.28337976e-01   1.33144070e+03]\n",
      "[  2.22849634e-04  -4.33579478e-01   5.04234080e+02]\n",
      "[  2.93357203e-04  -4.28337976e-01   1.33144070e+03]\n"
     ]
    },
    {
     "name": "stderr",
     "output_type": "stream",
     "text": [
      " 98%|█████████▊| 1239/1261 [03:31<00:03,  6.36it/s]"
     ]
    },
    {
     "name": "stdout",
     "output_type": "stream",
     "text": [
      "[  2.22849634e-04  -4.33579478e-01   5.04234080e+02]\n",
      "[  2.93357203e-04  -4.28337976e-01   1.33144070e+03]\n",
      "[  2.22849634e-04  -4.33579478e-01   5.04234080e+02]\n",
      "[  2.93357203e-04  -4.28337976e-01   1.33144070e+03]\n"
     ]
    },
    {
     "name": "stderr",
     "output_type": "stream",
     "text": [
      "\r",
      " 98%|█████████▊| 1240/1261 [03:31<00:03,  6.45it/s]"
     ]
    },
    {
     "name": "stdout",
     "output_type": "stream",
     "text": [
      "[  2.22849634e-04  -4.33579478e-01   5.04234080e+02]\n",
      "[  2.93357203e-04  -4.28337976e-01   1.33144070e+03]\n",
      "[  2.22849634e-04  -4.33579478e-01   5.04234080e+02]\n",
      "[  2.93357203e-04  -4.28337976e-01   1.33144070e+03]\n"
     ]
    },
    {
     "name": "stderr",
     "output_type": "stream",
     "text": [
      " 99%|█████████▊| 1243/1261 [03:31<00:02,  6.48it/s]"
     ]
    },
    {
     "name": "stdout",
     "output_type": "stream",
     "text": [
      "[  2.22849634e-04  -4.33579478e-01   5.04234080e+02]\n",
      "[  2.93357203e-04  -4.28337976e-01   1.33144070e+03]\n",
      "[  2.22849634e-04  -4.33579478e-01   5.04234080e+02]\n",
      "[  2.93357203e-04  -4.28337976e-01   1.33144070e+03]\n"
     ]
    },
    {
     "name": "stderr",
     "output_type": "stream",
     "text": [
      " 99%|█████████▊| 1245/1261 [03:32<00:02,  6.44it/s]"
     ]
    },
    {
     "name": "stdout",
     "output_type": "stream",
     "text": [
      "[  2.22849634e-04  -4.33579478e-01   5.04234080e+02]\n",
      "[  2.93357203e-04  -4.28337976e-01   1.33144070e+03]\n",
      "[  2.22849634e-04  -4.33579478e-01   5.04234080e+02]\n",
      "[  2.93357203e-04  -4.28337976e-01   1.33144070e+03]\n"
     ]
    },
    {
     "name": "stderr",
     "output_type": "stream",
     "text": [
      " 99%|█████████▉| 1247/1261 [03:32<00:02,  6.49it/s]"
     ]
    },
    {
     "name": "stdout",
     "output_type": "stream",
     "text": [
      "[  2.22849634e-04  -4.33579478e-01   5.04234080e+02]\n",
      "[  2.93357203e-04  -4.28337976e-01   1.33144070e+03]\n",
      "[  2.22849634e-04  -4.33579478e-01   5.04234080e+02]\n",
      "[  2.93357203e-04  -4.28337976e-01   1.33144070e+03]\n"
     ]
    },
    {
     "name": "stderr",
     "output_type": "stream",
     "text": [
      " 99%|█████████▉| 1249/1261 [03:32<00:01,  6.32it/s]"
     ]
    },
    {
     "name": "stdout",
     "output_type": "stream",
     "text": [
      "[  2.22849634e-04  -4.33579478e-01   5.04234080e+02]\n",
      "[  2.93357203e-04  -4.28337976e-01   1.33144070e+03]\n",
      "[  2.22849634e-04  -4.33579478e-01   5.04234080e+02]\n",
      "[  2.93357203e-04  -4.28337976e-01   1.33144070e+03]\n"
     ]
    },
    {
     "name": "stderr",
     "output_type": "stream",
     "text": [
      " 99%|█████████▉| 1251/1261 [03:33<00:01,  6.50it/s]"
     ]
    },
    {
     "name": "stdout",
     "output_type": "stream",
     "text": [
      "[  2.22849634e-04  -4.33579478e-01   5.04234080e+02]\n",
      "[  2.93357203e-04  -4.28337976e-01   1.33144070e+03]\n",
      "[  2.22849634e-04  -4.33579478e-01   5.04234080e+02]\n",
      "[  2.93357203e-04  -4.28337976e-01   1.33144070e+03]\n"
     ]
    },
    {
     "name": "stderr",
     "output_type": "stream",
     "text": [
      " 99%|█████████▉| 1253/1261 [03:33<00:01,  6.61it/s]"
     ]
    },
    {
     "name": "stdout",
     "output_type": "stream",
     "text": [
      "[  2.22849634e-04  -4.33579478e-01   5.04234080e+02]\n",
      "[  2.93357203e-04  -4.28337976e-01   1.33144070e+03]\n",
      "[  2.22849634e-04  -4.33579478e-01   5.04234080e+02]\n",
      "[  2.93357203e-04  -4.28337976e-01   1.33144070e+03]\n"
     ]
    },
    {
     "name": "stderr",
     "output_type": "stream",
     "text": [
      "100%|█████████▉| 1255/1261 [03:33<00:00,  6.87it/s]"
     ]
    },
    {
     "name": "stdout",
     "output_type": "stream",
     "text": [
      "[  2.22849634e-04  -4.33579478e-01   5.04234080e+02]\n",
      "[  2.93357203e-04  -4.28337976e-01   1.33144070e+03]\n",
      "[  2.22849634e-04  -4.33579478e-01   5.04234080e+02]\n",
      "[  2.93357203e-04  -4.28337976e-01   1.33144070e+03]\n"
     ]
    },
    {
     "name": "stderr",
     "output_type": "stream",
     "text": [
      "100%|█████████▉| 1257/1261 [03:33<00:00,  6.42it/s]"
     ]
    },
    {
     "name": "stdout",
     "output_type": "stream",
     "text": [
      "[  2.22849634e-04  -4.33579478e-01   5.04234080e+02]\n",
      "[  2.93357203e-04  -4.28337976e-01   1.33144070e+03]\n",
      "[  2.22849634e-04  -4.33579478e-01   5.04234080e+02]\n",
      "[  2.93357203e-04  -4.28337976e-01   1.33144070e+03]\n"
     ]
    },
    {
     "name": "stderr",
     "output_type": "stream",
     "text": [
      "100%|█████████▉| 1259/1261 [03:34<00:00,  6.81it/s]"
     ]
    },
    {
     "name": "stdout",
     "output_type": "stream",
     "text": [
      "[  2.22849634e-04  -4.33579478e-01   5.04234080e+02]\n",
      "[  2.93357203e-04  -4.28337976e-01   1.33144070e+03]\n",
      "[  2.22849634e-04  -4.33579478e-01   5.04234080e+02]\n",
      "[  2.93357203e-04  -4.28337976e-01   1.33144070e+03]\n"
     ]
    },
    {
     "name": "stderr",
     "output_type": "stream",
     "text": [
      "100%|█████████▉| 1260/1261 [03:34<00:00,  6.70it/s]\n"
     ]
    },
    {
     "name": "stdout",
     "output_type": "stream",
     "text": [
      "[  2.22849634e-04  -4.33579478e-01   5.04234080e+02]\n",
      "[  2.93357203e-04  -4.28337976e-01   1.33144070e+03]\n",
      "[MoviePy] Done.\n",
      "[MoviePy] >>>> Video ready: video.mp4 \n",
      "\n",
      "CPU times: user 7min 32s, sys: 3.84 s, total: 7min 35s\n",
      "Wall time: 3min 36s\n"
     ]
    }
   ],
   "source": [
    "video_output = 'video.mp4'\n",
    "clip1 = VideoFileClip('./project_video.mp4')\n",
    "video_clip = clip1.fl_image(process) #NOTE: this function expects color images!!\n",
    "%time video_clip.write_videofile(video_output, audio=False)"
   ]
  },
  {
   "cell_type": "code",
   "execution_count": 18,
   "metadata": {},
   "outputs": [
    {
     "data": {
      "text/html": [
       "\n",
       "<video width=\"960\" height=\"540\" controls>\n",
       "  <source src=\"video.mp4\">\n",
       "</video>\n"
      ],
      "text/plain": [
       "<IPython.core.display.HTML object>"
      ]
     },
     "execution_count": 18,
     "metadata": {},
     "output_type": "execute_result"
    }
   ],
   "source": [
    "HTML(\"\"\"\n",
    "<video width=\"960\" height=\"540\" controls>\n",
    "  <source src=\"{0}\">\n",
    "</video>\n",
    "\"\"\".format(video_output))"
   ]
  },
  {
   "cell_type": "code",
   "execution_count": 19,
   "metadata": {},
   "outputs": [
    {
     "name": "stdout",
     "output_type": "stream",
     "text": [
      "0\n",
      "[  2.22849634e-04  -4.33579478e-01   5.04234080e+02]\n",
      "[  2.93357203e-04  -4.28337976e-01   1.33144070e+03]\n"
     ]
    },
    {
     "data": {
      "image/png": "[encoded data removed]",
      "text/plain": [
       "<matplotlib.figure.Figure at 0x7f0b5803fb00>"
      ]
     },
     "metadata": {},
     "output_type": "display_data"
    }
   ],
   "source": [
    "img=cv2.imread('test4.jpg')\n",
    "print (check)\n",
    "result=process(img)\n",
    "\n",
    "plt.imshow(result)\n",
    "plt.show()\n",
    "check\n",
    "plt.imsave('./test_images/final.png',cv2.cvtColor(result,cv2.COLOR_BGR2RGB))\n"
   ]
  },
  {
   "cell_type": "code",
   "execution_count": 48,
   "metadata": {},
   "outputs": [
    {
     "data": {
      "text/plain": [
       "-0.71068061235118629"
      ]
     },
     "execution_count": 48,
     "metadata": {},
     "output_type": "execute_result"
    }
   ],
   "source": [
    "offset"
   ]
  },
  {
   "cell_type": "code",
   "execution_count": 36,
   "metadata": {
    "collapsed": true
   },
   "outputs": [],
   "source": [
    "xx=np.array([  1.92390238e-01,  -7.71695704e+00,   3.09901786e+02])\n",
    "yy=np.array([  1.92390238e-01,  -7.71695704e+00,   3.09901786e+02])"
   ]
  },
  {
   "cell_type": "code",
   "execution_count": 48,
   "metadata": {},
   "outputs": [
    {
     "data": {
      "image/png": "[encoded data removed]",
      "text/plain": [
       "<matplotlib.figure.Figure at 0x7f394f6cb080>"
      ]
     },
     "metadata": {},
     "output_type": "display_data"
    }
   ],
   "source": [
    "result=getlane(img,xx,yy)\n",
    "\n",
    "plt.imshow(result)\n",
    "plt.show()"
   ]
  },
  {
   "cell_type": "code",
   "execution_count": 70,
   "metadata": {},
   "outputs": [
    {
     "ename": "NameError",
     "evalue": "name 'out' is not defined",
     "output_type": "error",
     "traceback": [
      "\u001b[0;31m---------------------------------------------------------------------------\u001b[0m",
      "\u001b[0;31mNameError\u001b[0m                                 Traceback (most recent call last)",
      "\u001b[0;32m<ipython-input-70-751dda0341a9>\u001b[0m in \u001b[0;36m<module>\u001b[0;34m()\u001b[0m\n\u001b[0;32m----> 1\u001b[0;31m \u001b[0mploty\u001b[0m \u001b[0;34m=\u001b[0m \u001b[0mnp\u001b[0m\u001b[0;34m.\u001b[0m\u001b[0mlinspace\u001b[0m\u001b[0;34m(\u001b[0m\u001b[0;36m0\u001b[0m\u001b[0;34m,\u001b[0m \u001b[0mout\u001b[0m\u001b[0;34m.\u001b[0m\u001b[0mshape\u001b[0m\u001b[0;34m[\u001b[0m\u001b[0;36m0\u001b[0m\u001b[0;34m]\u001b[0m\u001b[0;34m-\u001b[0m\u001b[0;36m1\u001b[0m\u001b[0;34m,\u001b[0m \u001b[0mnum\u001b[0m\u001b[0;34m=\u001b[0m\u001b[0mout\u001b[0m\u001b[0;34m.\u001b[0m\u001b[0mshape\u001b[0m\u001b[0;34m[\u001b[0m\u001b[0;36m0\u001b[0m\u001b[0;34m]\u001b[0m\u001b[0;34m)\u001b[0m\u001b[0;34m\u001b[0m\u001b[0m\n\u001b[0m\u001b[1;32m      2\u001b[0m \u001b[0mleft_fitx\u001b[0m \u001b[0;34m=\u001b[0m \u001b[0mleft_fit\u001b[0m\u001b[0;34m[\u001b[0m\u001b[0;36m0\u001b[0m\u001b[0;34m]\u001b[0m\u001b[0;34m*\u001b[0m\u001b[0mploty\u001b[0m\u001b[0;34m**\u001b[0m\u001b[0;36m2\u001b[0m \u001b[0;34m+\u001b[0m \u001b[0mleft_fit\u001b[0m\u001b[0;34m[\u001b[0m\u001b[0;36m1\u001b[0m\u001b[0;34m]\u001b[0m\u001b[0;34m*\u001b[0m\u001b[0mploty\u001b[0m \u001b[0;34m+\u001b[0m \u001b[0mleft_fit\u001b[0m\u001b[0;34m[\u001b[0m\u001b[0;36m2\u001b[0m\u001b[0;34m]\u001b[0m\u001b[0;34m\u001b[0m\u001b[0m\n\u001b[1;32m      3\u001b[0m \u001b[0;31m#right_fit = np.polyfit(ploty, rightx, 2)\u001b[0m\u001b[0;34m\u001b[0m\u001b[0;34m\u001b[0m\u001b[0m\n\u001b[1;32m      4\u001b[0m \u001b[0mright_fitx\u001b[0m \u001b[0;34m=\u001b[0m \u001b[0mright_fit\u001b[0m\u001b[0;34m[\u001b[0m\u001b[0;36m0\u001b[0m\u001b[0;34m]\u001b[0m\u001b[0;34m*\u001b[0m\u001b[0mploty\u001b[0m\u001b[0;34m**\u001b[0m\u001b[0;36m2\u001b[0m \u001b[0;34m+\u001b[0m \u001b[0mright_fit\u001b[0m\u001b[0;34m[\u001b[0m\u001b[0;36m1\u001b[0m\u001b[0;34m]\u001b[0m\u001b[0;34m*\u001b[0m\u001b[0mploty\u001b[0m \u001b[0;34m+\u001b[0m \u001b[0mright_fit\u001b[0m\u001b[0;34m[\u001b[0m\u001b[0;36m2\u001b[0m\u001b[0;34m]\u001b[0m\u001b[0;34m\u001b[0m\u001b[0m\n\u001b[1;32m      5\u001b[0m \u001b[0mout\u001b[0m\u001b[0;34m[\u001b[0m\u001b[0mnonzero_y\u001b[0m\u001b[0;34m[\u001b[0m\u001b[0mleft_lane_inds\u001b[0m\u001b[0;34m]\u001b[0m\u001b[0;34m,\u001b[0m \u001b[0mnonzero_x\u001b[0m\u001b[0;34m[\u001b[0m\u001b[0mleft_lane_inds\u001b[0m\u001b[0;34m]\u001b[0m\u001b[0;34m]\u001b[0m \u001b[0;34m=\u001b[0m \u001b[0;34m[\u001b[0m\u001b[0;36m255\u001b[0m\u001b[0;34m,\u001b[0m \u001b[0;36m0\u001b[0m\u001b[0;34m,\u001b[0m \u001b[0;36m0\u001b[0m\u001b[0;34m]\u001b[0m\u001b[0;34m\u001b[0m\u001b[0m\n",
      "\u001b[0;31mNameError\u001b[0m: name 'out' is not defined"
     ]
    }
   ],
   "source": [
    "ploty = np.linspace(0, out.shape[0]-1, num=out.shape[0])\n",
    "left_fitx = left_fit[0]*ploty**2 + left_fit[1]*ploty + left_fit[2]\n",
    "#right_fit = np.polyfit(ploty, rightx, 2)\n",
    "right_fitx = right_fit[0]*ploty**2 + right_fit[1]*ploty + right_fit[2]\n",
    "out[nonzero_y[left_lane_inds], nonzero_x[left_lane_inds]] = [255, 0, 0]\n",
    "out[nonzero_y[right_lane_inds], nonzero_x[right_lane_inds]] = [0, 0, 255]\n",
    "plt.imshow(out)\n",
    "plt.plot(left_fitx, ploty, color='yellow')\n",
    "plt.plot(right_fitx, ploty, color='yellow')\n",
    "plt.xlim(0, 1280)\n",
    "plt.ylim(720, 0)\n",
    "plt.show()\n"
   ]
  },
  {
   "cell_type": "code",
   "execution_count": null,
   "metadata": {
    "collapsed": true
   },
   "outputs": [],
   "source": [
    "warp_zero = np.zeros_like(out[:,:,0]).astype(np.uint8)\n",
    "color_warp = np.dstack((warp_zero, warp_zero, warp_zero))\n",
    "#ploty = np.linspace(0, wraped.shape[0]-1, num=wraped.shape[0])\n",
    "# Recast the x and y points into usable format for cv2.fillPoly()\n",
    "#left_fit = np.polyfit(ploty, leftx, 2)\n",
    "#left_fitx = left_fit[0]*ploty**2 + left_fit[1]*ploty + left_fit[2]\n",
    "#right_fit = np.polyfit(ploty, rightx, 2)\n",
    "#right_fitx = right_fit[0]*ploty**2 + right_fit[1]*ploty + right_fit[2]\n",
    "\n",
    "pts_left = np.array([np.transpose(np.vstack([left_fitx, ploty]))])\n",
    "pts_right = np.array([np.flipud(np.transpose(np.vstack([right_fitx, ploty])))])\n",
    "pts = np.hstack((pts_left, pts_right))\n",
    "\n",
    "# Draw the lane onto the warped blank image\n",
    "cv2.fillPoly(color_warp, np.int_([pts]), (0,255, 0))\n",
    "\n",
    "# Warp the blank back to original image space using inverse perspective matrix (Minv)\n",
    "newwarp = cv2.warpPerspective(color_warp, Minv, (img.shape[1], img.shape[0])) \n",
    "# Combine the result with the original image\n",
    "result = cv2.addWeighted(img, 1, newwarp, 0.3, 0)\n",
    "plt.imshow(cv2.cvtColor(result,cv2.COLOR_BGR2RGB))\n",
    "plt.show()"
   ]
  },
  {
   "cell_type": "code",
   "execution_count": null,
   "metadata": {
    "collapsed": true
   },
   "outputs": [],
   "source": [
    "warp_zero = np.zeros_like(out).astype(np.uint8)\n",
    "color_warp = np.dstack((warp_zero, warp_zero, warp_zero))\n",
    "ploty = np.linspace(0, out.shape[0]-1, num=out.shape[0])\n",
    "# Recast the x and y points into usable format for cv2.fillPoly()\n",
    "#left_fit = np.polyfit(ploty, leftx, 2)\n",
    "left_fitx = left_fit[0]*ploty**2 + left_fit[1]*ploty + left_fit[2]\n",
    "#right_fit = np.polyfit(ploty, rightx, 2)\n",
    "right_fitx = right_fit[0]*ploty**2 + right_fit[1]*ploty + right_fit[2]"
   ]
  },
  {
   "cell_type": "code",
   "execution_count": null,
   "metadata": {
    "collapsed": true
   },
   "outputs": [],
   "source": [
    "pts_left = np.array([np.transpose(np.vstack([left_fitx, ploty]))])\n",
    "pts_right = np.array([np.flipud(np.transpose(np.vstack([right_fitx, ploty])))])\n",
    "pts = np.hstack((pts_left, pts_right))"
   ]
  },
  {
   "cell_type": "code",
   "execution_count": null,
   "metadata": {
    "collapsed": true
   },
   "outputs": [],
   "source": [
    "color_warp.shape"
   ]
  },
  {
   "cell_type": "code",
   "execution_count": null,
   "metadata": {
    "collapsed": true
   },
   "outputs": [],
   "source": [
    "plt.imshow(out,cmap='gray')\n",
    "plt.show()"
   ]
  },
  {
   "cell_type": "code",
   "execution_count": null,
   "metadata": {
    "collapsed": true
   },
   "outputs": [],
   "source": [
    "plt.imshow(img)\n",
    "plt.show()"
   ]
  },
  {
   "cell_type": "code",
   "execution_count": null,
   "metadata": {
    "collapsed": true
   },
   "outputs": [],
   "source": []
  }
 ],
 "metadata": {
  "kernelspec": {
   "display_name": "Python 3",
   "language": "python",
   "name": "python3"
  },
  "language_info": {
   "codemirror_mode": {
    "name": "ipython",
    "version": 3
   },
   "file_extension": ".py",
   "mimetype": "text/x-python",
   "name": "python",
   "nbconvert_exporter": "python",
   "pygments_lexer": "ipython3",
   "version": "3.5.2"
  },
  "widgets": {
   "state": {},
   "version": "1.1.2"
  }
 },
 "nbformat": 4,
 "nbformat_minor": 2
}
